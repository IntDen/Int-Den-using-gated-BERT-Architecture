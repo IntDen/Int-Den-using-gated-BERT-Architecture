{
 "cells": [
  {
   "cell_type": "markdown",
   "metadata": {
    "papermill": {
     "duration": 0.052987,
     "end_time": "2021-02-02T12:51:55.357518",
     "exception": false,
     "start_time": "2021-02-02T12:51:55.304531",
     "status": "completed"
    },
    "tags": []
   },
   "source": [
    "### References\n",
    "\n",
    "* https://github.com/huggingface/transformers/blob/master/src/transformers/models/encoder_decoder/modeling_encoder_decoder.py\n",
    "\n",
    "* https://github.com/huggingface/transformers/blob/c4d4e8bdbd25d9463d41de6398940329c89b7fb6/src/transformers/generation_utils.py#L101\n",
    "\n",
    "* https://github.com/hiyoung123/SoftMaskedBert/blob/master/train.py\n",
    "\n",
    "* https://github.com/atulkum/pointer_summarizer/blob/master/training_ptr_gen/model.py\n",
    "\n",
    "* https://github.com/nyu-dl/bert-gen/blob/master/bert-babble.ipynb\n"
   ]
  },
  {
   "cell_type": "code",
   "execution_count": 1,
   "metadata": {
    "execution": {
     "iopub.execute_input": "2021-02-02T12:51:55.463256Z",
     "iopub.status.busy": "2021-02-02T12:51:55.462423Z",
     "iopub.status.idle": "2021-02-02T12:52:13.496913Z",
     "shell.execute_reply": "2021-02-02T12:52:13.496112Z"
    },
    "papermill": {
     "duration": 18.09017,
     "end_time": "2021-02-02T12:52:13.497169",
     "exception": false,
     "start_time": "2021-02-02T12:51:55.406999",
     "status": "completed"
    },
    "scrolled": true,
    "tags": []
   },
   "outputs": [
    {
     "name": "stdout",
     "output_type": "stream",
     "text": [
      "Requirement already satisfied: transformers==4.0.1 in /opt/conda/lib/python3.7/site-packages (4.0.1)\r\n",
      "Requirement already satisfied: tqdm>=4.27 in /opt/conda/lib/python3.7/site-packages (from transformers==4.0.1) (4.55.1)\r\n",
      "Requirement already satisfied: sacremoses in /opt/conda/lib/python3.7/site-packages (from transformers==4.0.1) (0.0.43)\r\n",
      "Requirement already satisfied: packaging in /opt/conda/lib/python3.7/site-packages (from transformers==4.0.1) (20.8)\r\n",
      "Requirement already satisfied: requests in /opt/conda/lib/python3.7/site-packages (from transformers==4.0.1) (2.25.1)\r\n",
      "Requirement already satisfied: filelock in /opt/conda/lib/python3.7/site-packages (from transformers==4.0.1) (3.0.12)\r\n",
      "Requirement already satisfied: regex!=2019.12.17 in /opt/conda/lib/python3.7/site-packages (from transformers==4.0.1) (2020.11.13)\r\n",
      "Requirement already satisfied: tokenizers==0.9.4 in /opt/conda/lib/python3.7/site-packages (from transformers==4.0.1) (0.9.4)\r\n",
      "Requirement already satisfied: numpy in /opt/conda/lib/python3.7/site-packages (from transformers==4.0.1) (1.19.5)\r\n",
      "Requirement already satisfied: pyparsing>=2.0.2 in /opt/conda/lib/python3.7/site-packages (from packaging->transformers==4.0.1) (2.4.7)\r\n",
      "Requirement already satisfied: chardet<5,>=3.0.2 in /opt/conda/lib/python3.7/site-packages (from requests->transformers==4.0.1) (3.0.4)\r\n",
      "Requirement already satisfied: certifi>=2017.4.17 in /opt/conda/lib/python3.7/site-packages (from requests->transformers==4.0.1) (2020.12.5)\r\n",
      "Requirement already satisfied: idna<3,>=2.5 in /opt/conda/lib/python3.7/site-packages (from requests->transformers==4.0.1) (2.10)\r\n",
      "Requirement already satisfied: urllib3<1.27,>=1.21.1 in /opt/conda/lib/python3.7/site-packages (from requests->transformers==4.0.1) (1.26.2)\r\n",
      "Requirement already satisfied: six in /opt/conda/lib/python3.7/site-packages (from sacremoses->transformers==4.0.1) (1.15.0)\r\n",
      "Requirement already satisfied: joblib in /opt/conda/lib/python3.7/site-packages (from sacremoses->transformers==4.0.1) (1.0.0)\r\n",
      "Requirement already satisfied: click in /opt/conda/lib/python3.7/site-packages (from sacremoses->transformers==4.0.1) (7.1.2)\r\n",
      "\u001b[33mWARNING: You are using pip version 21.0; however, version 21.0.1 is available.\r\n",
      "You should consider upgrading via the '/opt/conda/bin/python3.7 -m pip install --upgrade pip' command.\u001b[0m\r\n",
      "Collecting nlpaug\r\n",
      "  Downloading nlpaug-1.1.2-py3-none-any.whl (387 kB)\r\n",
      "\u001b[K     |████████████████████████████████| 387 kB 2.9 MB/s \r\n",
      "\u001b[?25hInstalling collected packages: nlpaug\r\n",
      "Successfully installed nlpaug-1.1.2\r\n",
      "\u001b[33mWARNING: You are using pip version 21.0; however, version 21.0.1 is available.\r\n",
      "You should consider upgrading via the '/opt/conda/bin/python3.7 -m pip install --upgrade pip' command.\u001b[0m\r\n"
     ]
    }
   ],
   "source": [
    "!pip install transformers==4.0.1\n",
    "!pip install nlpaug"
   ]
  },
  {
   "cell_type": "code",
   "execution_count": 2,
   "metadata": {
    "execution": {
     "iopub.execute_input": "2021-02-02T12:52:13.616305Z",
     "iopub.status.busy": "2021-02-02T12:52:13.615295Z",
     "iopub.status.idle": "2021-02-02T12:52:27.697716Z",
     "shell.execute_reply": "2021-02-02T12:52:27.696919Z"
    },
    "papermill": {
     "duration": 14.145817,
     "end_time": "2021-02-02T12:52:27.697874",
     "exception": false,
     "start_time": "2021-02-02T12:52:13.552057",
     "status": "completed"
    },
    "tags": []
   },
   "outputs": [],
   "source": [
    "import time\n",
    "import datetime\n",
    "\n",
    "import re\n",
    "import pandas as pd\n",
    "import numpy as np\n",
    "from sklearn.model_selection import KFold\n",
    "\n",
    "from tqdm import tqdm\n",
    "import time\n",
    "import random\n",
    "\n",
    "import nlpaug.augmenter.char as nac\n",
    "\n",
    "import torch\n",
    "import torch.nn as nn\n",
    "import torch.nn.functional as F\n",
    "from transformers import AutoModel, AutoTokenizer, AutoModelForCausalLM, AutoModelForSeq2SeqLM, \\\n",
    "                         AutoConfig, EncoderDecoderModel\n",
    "\n",
    "from typing import Optional\n",
    "\n",
    "from transformers import AdamW, get_linear_schedule_with_warmup\n",
    "\n",
    "from transformers.configuration_utils import PretrainedConfig\n",
    "from transformers.file_utils import add_start_docstrings, add_start_docstrings_to_model_forward, replace_return_docstrings\n",
    "from transformers.modeling_outputs import Seq2SeqLMOutput\n",
    "from transformers.modeling_utils import PreTrainedModel\n",
    "from transformers.utils import logging\n",
    "from transformers.models.encoder_decoder.configuration_encoder_decoder import EncoderDecoderConfig\n",
    "from transformers.models.auto.modeling_auto import AutoModel, AutoModelForCausalLM, AutoConfig"
   ]
  },
  {
   "cell_type": "code",
   "execution_count": 3,
   "metadata": {
    "execution": {
     "iopub.execute_input": "2021-02-02T12:52:27.823067Z",
     "iopub.status.busy": "2021-02-02T12:52:27.821495Z",
     "iopub.status.idle": "2021-02-02T12:52:27.824841Z",
     "shell.execute_reply": "2021-02-02T12:52:27.825559Z"
    },
    "papermill": {
     "duration": 0.069325,
     "end_time": "2021-02-02T12:52:27.825763",
     "exception": false,
     "start_time": "2021-02-02T12:52:27.756438",
     "status": "completed"
    },
    "tags": []
   },
   "outputs": [],
   "source": [
    "seed_val = 66\n",
    "MIN_LEN = 20\n",
    "MAX_LEN = 100\n",
    "batch_size = 12\n",
    "EPOCHS = 30\n",
    "early_stopping_rounds = 5\n",
    "lr = 5e-5\n",
    "\n",
    "encoder_path = 'bert-base-uncased'\n",
    "decoder_path = 'claudelkros/bert-base-french' #'bert-base-german-cased'\n",
    "\n",
    "teacher_forcing=True\n",
    "\n",
    "aug = nac.OcrAug()"
   ]
  },
  {
   "cell_type": "code",
   "execution_count": 4,
   "metadata": {
    "execution": {
     "iopub.execute_input": "2021-02-02T12:52:27.945457Z",
     "iopub.status.busy": "2021-02-02T12:52:27.944556Z",
     "iopub.status.idle": "2021-02-02T12:52:27.949121Z",
     "shell.execute_reply": "2021-02-02T12:52:27.948450Z"
    },
    "papermill": {
     "duration": 0.067598,
     "end_time": "2021-02-02T12:52:27.949266",
     "exception": false,
     "start_time": "2021-02-02T12:52:27.881668",
     "status": "completed"
    },
    "tags": []
   },
   "outputs": [],
   "source": [
    "def format_time(elapsed):\n",
    "    '''\n",
    "    Takes a time in seconds and returns a string hh:mm:ss\n",
    "    '''\n",
    "    # Round to the nearest second.\n",
    "    elapsed_rounded = int(round((elapsed)))\n",
    "    \n",
    "    # Format as hh:mm:ss\n",
    "    return str(datetime.timedelta(seconds=elapsed_rounded))"
   ]
  },
  {
   "cell_type": "code",
   "execution_count": 5,
   "metadata": {
    "execution": {
     "iopub.execute_input": "2021-02-02T12:52:28.064762Z",
     "iopub.status.busy": "2021-02-02T12:52:28.062949Z",
     "iopub.status.idle": "2021-02-02T12:52:28.065528Z",
     "shell.execute_reply": "2021-02-02T12:52:28.066068Z"
    },
    "papermill": {
     "duration": 0.063214,
     "end_time": "2021-02-02T12:52:28.066269",
     "exception": false,
     "start_time": "2021-02-02T12:52:28.003055",
     "status": "completed"
    },
    "tags": []
   },
   "outputs": [],
   "source": [
    "torch.cuda.empty_cache()"
   ]
  },
  {
   "cell_type": "code",
   "execution_count": 6,
   "metadata": {
    "execution": {
     "iopub.execute_input": "2021-02-02T12:52:28.179987Z",
     "iopub.status.busy": "2021-02-02T12:52:28.179127Z",
     "iopub.status.idle": "2021-02-02T12:52:28.183482Z",
     "shell.execute_reply": "2021-02-02T12:52:28.182822Z"
    },
    "papermill": {
     "duration": 0.062664,
     "end_time": "2021-02-02T12:52:28.183629",
     "exception": false,
     "start_time": "2021-02-02T12:52:28.120965",
     "status": "completed"
    },
    "tags": []
   },
   "outputs": [],
   "source": [
    "# !cat ../input/denoising/NMT-data/commoncrawl.fr-en.en | wc -l\n",
    "# !cat ../input/denoising/NMT-data/commoncrawl.fr-en.fr | wc -l\n"
   ]
  },
  {
   "cell_type": "code",
   "execution_count": 7,
   "metadata": {
    "execution": {
     "iopub.execute_input": "2021-02-02T12:52:28.297851Z",
     "iopub.status.busy": "2021-02-02T12:52:28.297046Z",
     "iopub.status.idle": "2021-02-02T12:52:28.301951Z",
     "shell.execute_reply": "2021-02-02T12:52:28.301405Z"
    },
    "papermill": {
     "duration": 0.064232,
     "end_time": "2021-02-02T12:52:28.302119",
     "exception": false,
     "start_time": "2021-02-02T12:52:28.237887",
     "status": "completed"
    },
    "tags": []
   },
   "outputs": [],
   "source": [
    "# train_input = open('../input/denoising/NMT-data/commoncrawl.fr-en.en', 'r').readlines()\n",
    "# train_output = open('../input/denoising/NMT-data/commoncrawl.fr-en.fr', 'r').readlines()"
   ]
  },
  {
   "cell_type": "code",
   "execution_count": 8,
   "metadata": {
    "execution": {
     "iopub.execute_input": "2021-02-02T12:52:28.416797Z",
     "iopub.status.busy": "2021-02-02T12:52:28.416043Z",
     "iopub.status.idle": "2021-02-02T12:52:28.712732Z",
     "shell.execute_reply": "2021-02-02T12:52:28.711531Z"
    },
    "papermill": {
     "duration": 0.356554,
     "end_time": "2021-02-02T12:52:28.712900",
     "exception": false,
     "start_time": "2021-02-02T12:52:28.356346",
     "status": "completed"
    },
    "tags": []
   },
   "outputs": [
    {
     "name": "stdout",
     "output_type": "stream",
     "text": [
      "/kaggle/input/nmt-eng-french/NMT_denoisedData.csv\n"
     ]
    }
   ],
   "source": [
    "import pandas as pd\n",
    "import os\n",
    "for dirname, _, filenames in os.walk('/kaggle/input'):\n",
    "    for filename in filenames:\n",
    "        print(os.path.join(dirname, filename))\n",
    "        nmt_data =  pd.read_csv(os.path.join(dirname, filename))"
   ]
  },
  {
   "cell_type": "code",
   "execution_count": 9,
   "metadata": {
    "execution": {
     "iopub.execute_input": "2021-02-02T12:52:28.827464Z",
     "iopub.status.busy": "2021-02-02T12:52:28.826596Z",
     "iopub.status.idle": "2021-02-02T12:52:28.831463Z",
     "shell.execute_reply": "2021-02-02T12:52:28.830862Z"
    },
    "papermill": {
     "duration": 0.063849,
     "end_time": "2021-02-02T12:52:28.831617",
     "exception": false,
     "start_time": "2021-02-02T12:52:28.767768",
     "status": "completed"
    },
    "tags": []
   },
   "outputs": [],
   "source": [
    "# train = pd.DataFrame()\n",
    "# train['original'] = train_input\n",
    "# train['solution'] = train_output"
   ]
  },
  {
   "cell_type": "code",
   "execution_count": 10,
   "metadata": {
    "execution": {
     "iopub.execute_input": "2021-02-02T12:52:28.956169Z",
     "iopub.status.busy": "2021-02-02T12:52:28.954232Z",
     "iopub.status.idle": "2021-02-02T12:52:28.957041Z",
     "shell.execute_reply": "2021-02-02T12:52:28.957604Z"
    },
    "papermill": {
     "duration": 0.071332,
     "end_time": "2021-02-02T12:52:28.957788",
     "exception": false,
     "start_time": "2021-02-02T12:52:28.886456",
     "status": "completed"
    },
    "tags": []
   },
   "outputs": [],
   "source": [
    "# train = train.iloc[:10000]"
   ]
  },
  {
   "cell_type": "code",
   "execution_count": 11,
   "metadata": {
    "execution": {
     "iopub.execute_input": "2021-02-02T12:52:29.080861Z",
     "iopub.status.busy": "2021-02-02T12:52:29.079218Z",
     "iopub.status.idle": "2021-02-02T12:52:29.083995Z",
     "shell.execute_reply": "2021-02-02T12:52:29.084516Z"
    },
    "papermill": {
     "duration": 0.070393,
     "end_time": "2021-02-02T12:52:29.084709",
     "exception": false,
     "start_time": "2021-02-02T12:52:29.014316",
     "status": "completed"
    },
    "tags": []
   },
   "outputs": [
    {
     "data": {
      "text/plain": [
       "Index(['Unnamed: 0', 'original', 'solution', 'char_augumented',\n",
       "       'keyborad_augumented', 'random_augumented', 'substitute_augumented',\n",
       "       'swap_augumented', 'delete_augumented', 'spell_augumented'],\n",
       "      dtype='object')"
      ]
     },
     "execution_count": 11,
     "metadata": {},
     "output_type": "execute_result"
    }
   ],
   "source": [
    "nmt_data.columns"
   ]
  },
  {
   "cell_type": "code",
   "execution_count": 12,
   "metadata": {
    "execution": {
     "iopub.execute_input": "2021-02-02T12:52:29.209283Z",
     "iopub.status.busy": "2021-02-02T12:52:29.208325Z",
     "iopub.status.idle": "2021-02-02T12:52:29.216287Z",
     "shell.execute_reply": "2021-02-02T12:52:29.215548Z"
    },
    "papermill": {
     "duration": 0.074408,
     "end_time": "2021-02-02T12:52:29.216456",
     "exception": false,
     "start_time": "2021-02-02T12:52:29.142048",
     "status": "completed"
    },
    "tags": []
   },
   "outputs": [],
   "source": [
    "train  = nmt_data[['delete_augumented','solution']]"
   ]
  },
  {
   "cell_type": "code",
   "execution_count": 13,
   "metadata": {
    "execution": {
     "iopub.execute_input": "2021-02-02T12:52:29.338157Z",
     "iopub.status.busy": "2021-02-02T12:52:29.337262Z",
     "iopub.status.idle": "2021-02-02T12:52:29.340616Z",
     "shell.execute_reply": "2021-02-02T12:52:29.340044Z"
    },
    "papermill": {
     "duration": 0.066612,
     "end_time": "2021-02-02T12:52:29.340765",
     "exception": false,
     "start_time": "2021-02-02T12:52:29.274153",
     "status": "completed"
    },
    "tags": []
   },
   "outputs": [],
   "source": [
    "train = train.rename(columns={\"solution\": \"solution\", \"delete_augumented\": \"original\"}, errors=\"raise\")"
   ]
  },
  {
   "cell_type": "code",
   "execution_count": 14,
   "metadata": {
    "execution": {
     "iopub.execute_input": "2021-02-02T12:52:29.464166Z",
     "iopub.status.busy": "2021-02-02T12:52:29.463446Z",
     "iopub.status.idle": "2021-02-02T12:52:29.472982Z",
     "shell.execute_reply": "2021-02-02T12:52:29.473546Z"
    },
    "papermill": {
     "duration": 0.076289,
     "end_time": "2021-02-02T12:52:29.473720",
     "exception": false,
     "start_time": "2021-02-02T12:52:29.397431",
     "status": "completed"
    },
    "tags": []
   },
   "outputs": [
    {
     "data": {
      "text/html": [
       "<div>\n",
       "<style scoped>\n",
       "    .dataframe tbody tr th:only-of-type {\n",
       "        vertical-align: middle;\n",
       "    }\n",
       "\n",
       "    .dataframe tbody tr th {\n",
       "        vertical-align: top;\n",
       "    }\n",
       "\n",
       "    .dataframe thead th {\n",
       "        text-align: right;\n",
       "    }\n",
       "</style>\n",
       "<table border=\"1\" class=\"dataframe\">\n",
       "  <thead>\n",
       "    <tr style=\"text-align: right;\">\n",
       "      <th></th>\n",
       "      <th>original</th>\n",
       "      <th>solution</th>\n",
       "    </tr>\n",
       "  </thead>\n",
       "  <tbody>\n",
       "    <tr>\n",
       "      <th>0</th>\n",
       "      <td>* - Main gods are maked with red colr.</td>\n",
       "      <td>* - les marchandises principales sont souligne...</td>\n",
       "    </tr>\n",
       "    <tr>\n",
       "      <th>1</th>\n",
       "      <td>* - Man srviss are marked ith red color.</td>\n",
       "      <td>* - les services principales sont soulignes pa...</td>\n",
       "    </tr>\n",
       "    <tr>\n",
       "      <th>2</th>\n",
       "      <td>ervies of laguae translation of the. ..</td>\n",
       "      <td>Services de traduction de la documentation...\\n</td>\n",
       "    </tr>\n",
       "    <tr>\n",
       "      <th>3</th>\n",
       "      <td>An announmet must be commercial charter.</td>\n",
       "      <td>Les messages doivent porter le caractère d’aff...</td>\n",
       "    </tr>\n",
       "    <tr>\n",
       "      <th>4</th>\n",
       "      <td>Good and serics avanceme throg the P. O. Box s...</td>\n",
       "      <td>L’avance de ses marchandises et de ses service...</td>\n",
       "    </tr>\n",
       "  </tbody>\n",
       "</table>\n",
       "</div>"
      ],
      "text/plain": [
       "                                            original  \\\n",
       "0             * - Main gods are maked with red colr.   \n",
       "1           * - Man srviss are marked ith red color.   \n",
       "2            ervies of laguae translation of the. ..   \n",
       "3           An announmet must be commercial charter.   \n",
       "4  Good and serics avanceme throg the P. O. Box s...   \n",
       "\n",
       "                                            solution  \n",
       "0  * - les marchandises principales sont souligne...  \n",
       "1  * - les services principales sont soulignes pa...  \n",
       "2    Services de traduction de la documentation...\\n  \n",
       "3  Les messages doivent porter le caractère d’aff...  \n",
       "4  L’avance de ses marchandises et de ses service...  "
      ]
     },
     "execution_count": 14,
     "metadata": {},
     "output_type": "execute_result"
    }
   ],
   "source": [
    "train.head()"
   ]
  },
  {
   "cell_type": "code",
   "execution_count": 15,
   "metadata": {
    "execution": {
     "iopub.execute_input": "2021-02-02T12:52:29.592340Z",
     "iopub.status.busy": "2021-02-02T12:52:29.591595Z",
     "iopub.status.idle": "2021-02-02T12:52:32.125713Z",
     "shell.execute_reply": "2021-02-02T12:52:32.125020Z"
    },
    "papermill": {
     "duration": 2.595371,
     "end_time": "2021-02-02T12:52:32.125877",
     "exception": false,
     "start_time": "2021-02-02T12:52:29.530506",
     "status": "completed"
    },
    "tags": []
   },
   "outputs": [
    {
     "data": {
      "application/vnd.jupyter.widget-view+json": {
       "model_id": "446eea7905b641aaa863f5f6fe93c8ea",
       "version_major": 2,
       "version_minor": 0
      },
      "text/plain": [
       "Downloading:   0%|          | 0.00/433 [00:00<?, ?B/s]"
      ]
     },
     "metadata": {},
     "output_type": "display_data"
    },
    {
     "data": {
      "application/vnd.jupyter.widget-view+json": {
       "model_id": "4a9e8b83cfa44fdb8e3d45151d4787bf",
       "version_major": 2,
       "version_minor": 0
      },
      "text/plain": [
       "Downloading:   0%|          | 0.00/232k [00:00<?, ?B/s]"
      ]
     },
     "metadata": {},
     "output_type": "display_data"
    },
    {
     "data": {
      "application/vnd.jupyter.widget-view+json": {
       "model_id": "b487ec06418f4cd4a7f7c4a30b956f10",
       "version_major": 2,
       "version_minor": 0
      },
      "text/plain": [
       "Downloading:   0%|          | 0.00/466k [00:00<?, ?B/s]"
      ]
     },
     "metadata": {},
     "output_type": "display_data"
    },
    {
     "data": {
      "application/vnd.jupyter.widget-view+json": {
       "model_id": "5e6c00998f794862bca6187dfbc94649",
       "version_major": 2,
       "version_minor": 0
      },
      "text/plain": [
       "Downloading:   0%|          | 0.00/313 [00:00<?, ?B/s]"
      ]
     },
     "metadata": {},
     "output_type": "display_data"
    },
    {
     "data": {
      "application/vnd.jupyter.widget-view+json": {
       "model_id": "069eefe90d2c4dfa8b5913e6551db8f2",
       "version_major": 2,
       "version_minor": 0
      },
      "text/plain": [
       "Downloading:   0%|          | 0.00/232k [00:00<?, ?B/s]"
      ]
     },
     "metadata": {},
     "output_type": "display_data"
    }
   ],
   "source": [
    "encoder_tokenizer = AutoTokenizer.from_pretrained(encoder_path)\n",
    "decoder_tokenizer = AutoTokenizer.from_pretrained(decoder_path)"
   ]
  },
  {
   "cell_type": "code",
   "execution_count": 16,
   "metadata": {
    "execution": {
     "iopub.execute_input": "2021-02-02T12:52:32.250736Z",
     "iopub.status.busy": "2021-02-02T12:52:32.249780Z",
     "iopub.status.idle": "2021-02-02T12:52:34.288552Z",
     "shell.execute_reply": "2021-02-02T12:52:34.287925Z"
    },
    "papermill": {
     "duration": 2.103538,
     "end_time": "2021-02-02T12:52:34.288714",
     "exception": false,
     "start_time": "2021-02-02T12:52:32.185176",
     "status": "completed"
    },
    "tags": []
   },
   "outputs": [
    {
     "name": "stderr",
     "output_type": "stream",
     "text": [
      "Truncation was not explicitly activated but `max_length` is provided a specific value, please use `truncation=True` to explicitly truncate examples to max length. Defaulting to 'longest_first' truncation strategy. If you encode pairs of sequences (GLUE-style) with the tokenizer you can select this strategy more precisely by providing a specific strategy to `truncation`.\n"
     ]
    }
   ],
   "source": [
    "train['text_len'] = train.original.apply(lambda x: len(encoder_tokenizer.encode(x, max_length=512, add_special_tokens=True)))"
   ]
  },
  {
   "cell_type": "code",
   "execution_count": 17,
   "metadata": {
    "execution": {
     "iopub.execute_input": "2021-02-02T12:52:34.414989Z",
     "iopub.status.busy": "2021-02-02T12:52:34.414044Z",
     "iopub.status.idle": "2021-02-02T12:52:34.426205Z",
     "shell.execute_reply": "2021-02-02T12:52:34.425593Z"
    },
    "papermill": {
     "duration": 0.077674,
     "end_time": "2021-02-02T12:52:34.426389",
     "exception": false,
     "start_time": "2021-02-02T12:52:34.348715",
     "status": "completed"
    },
    "tags": []
   },
   "outputs": [
    {
     "data": {
      "text/plain": [
       "count    10000.000000\n",
       "mean        35.847400\n",
       "std         18.567951\n",
       "min          8.000000\n",
       "25%         22.000000\n",
       "50%         32.000000\n",
       "75%         46.000000\n",
       "max        215.000000\n",
       "Name: text_len, dtype: float64"
      ]
     },
     "execution_count": 17,
     "metadata": {},
     "output_type": "execute_result"
    }
   ],
   "source": [
    "train.text_len.describe()"
   ]
  },
  {
   "cell_type": "code",
   "execution_count": 18,
   "metadata": {
    "execution": {
     "iopub.execute_input": "2021-02-02T12:52:34.559618Z",
     "iopub.status.busy": "2021-02-02T12:52:34.558791Z",
     "iopub.status.idle": "2021-02-02T12:52:34.561946Z",
     "shell.execute_reply": "2021-02-02T12:52:34.562596Z"
    },
    "papermill": {
     "duration": 0.070472,
     "end_time": "2021-02-02T12:52:34.562769",
     "exception": false,
     "start_time": "2021-02-02T12:52:34.492297",
     "status": "completed"
    },
    "tags": []
   },
   "outputs": [],
   "source": [
    "kf = KFold(n_splits=5)\n",
    "\n",
    "for train_index, val_index in kf.split(train):\n",
    "    break"
   ]
  },
  {
   "cell_type": "code",
   "execution_count": 19,
   "metadata": {
    "execution": {
     "iopub.execute_input": "2021-02-02T12:52:34.687980Z",
     "iopub.status.busy": "2021-02-02T12:52:34.687110Z",
     "iopub.status.idle": "2021-02-02T12:52:34.692769Z",
     "shell.execute_reply": "2021-02-02T12:52:34.692202Z"
    },
    "papermill": {
     "duration": 0.070297,
     "end_time": "2021-02-02T12:52:34.692896",
     "exception": false,
     "start_time": "2021-02-02T12:52:34.622599",
     "status": "completed"
    },
    "tags": []
   },
   "outputs": [],
   "source": [
    "val = train.iloc[val_index]\n",
    "train = train.iloc[train_index]"
   ]
  },
  {
   "cell_type": "code",
   "execution_count": 20,
   "metadata": {
    "execution": {
     "iopub.execute_input": "2021-02-02T12:52:34.824803Z",
     "iopub.status.busy": "2021-02-02T12:52:34.823767Z",
     "iopub.status.idle": "2021-02-02T12:52:40.458964Z",
     "shell.execute_reply": "2021-02-02T12:52:40.458356Z"
    },
    "papermill": {
     "duration": 5.706654,
     "end_time": "2021-02-02T12:52:40.459144",
     "exception": false,
     "start_time": "2021-02-02T12:52:34.752490",
     "status": "completed"
    },
    "tags": []
   },
   "outputs": [
    {
     "name": "stderr",
     "output_type": "stream",
     "text": [
      "100%|██████████| 8000/8000 [00:01<00:00, 4080.82it/s]\n",
      "100%|██████████| 8000/8000 [00:02<00:00, 3749.30it/s]\n",
      "100%|██████████| 2000/2000 [00:00<00:00, 4126.51it/s]\n",
      "100%|██████████| 2000/2000 [00:00<00:00, 3681.43it/s]\n"
     ]
    }
   ],
   "source": [
    "trainX = torch.Tensor(np.asarray([encoder_tokenizer.encode(i, max_length=MAX_LEN, truncation=True, padding='max_length', add_special_tokens=True) \\\n",
    "                                  for i in tqdm(train.original.values)]))\n",
    "trainy = torch.Tensor(np.asarray([decoder_tokenizer.encode(i, max_length=MAX_LEN, truncation=True, padding='max_length', add_special_tokens=True) \\\n",
    "                                  for i in tqdm(train.solution.values)]))\n",
    "\n",
    "valX = torch.Tensor(np.asarray([encoder_tokenizer.encode(i, max_length=MAX_LEN, truncation=True, padding='max_length', add_special_tokens=True) \\\n",
    "                                for i in tqdm(val.original.values)]))\n",
    "valy = torch.Tensor(np.asarray([decoder_tokenizer.encode(i, max_length=MAX_LEN, truncation=True, padding='max_length', add_special_tokens=True) \\\n",
    "                                for i in tqdm(val.solution.values)]))\n"
   ]
  },
  {
   "cell_type": "code",
   "execution_count": 21,
   "metadata": {
    "execution": {
     "iopub.execute_input": "2021-02-02T12:52:40.632275Z",
     "iopub.status.busy": "2021-02-02T12:52:40.631143Z",
     "iopub.status.idle": "2021-02-02T12:52:40.636336Z",
     "shell.execute_reply": "2021-02-02T12:52:40.635794Z"
    },
    "papermill": {
     "duration": 0.093366,
     "end_time": "2021-02-02T12:52:40.636484",
     "exception": false,
     "start_time": "2021-02-02T12:52:40.543118",
     "status": "completed"
    },
    "tags": []
   },
   "outputs": [
    {
     "data": {
      "text/plain": [
       "(torch.Size([8000, 100]),\n",
       " torch.Size([8000, 100]),\n",
       " torch.Size([2000, 100]),\n",
       " torch.Size([2000, 100]))"
      ]
     },
     "execution_count": 21,
     "metadata": {},
     "output_type": "execute_result"
    }
   ],
   "source": [
    "trainX.shape, trainy.shape, valX.shape, valy.shape"
   ]
  },
  {
   "cell_type": "code",
   "execution_count": 22,
   "metadata": {
    "execution": {
     "iopub.execute_input": "2021-02-02T12:52:40.811852Z",
     "iopub.status.busy": "2021-02-02T12:52:40.810782Z",
     "iopub.status.idle": "2021-02-02T12:52:40.824166Z",
     "shell.execute_reply": "2021-02-02T12:52:40.824767Z"
    },
    "papermill": {
     "duration": 0.10498,
     "end_time": "2021-02-02T12:52:40.824946",
     "exception": false,
     "start_time": "2021-02-02T12:52:40.719966",
     "status": "completed"
    },
    "tags": []
   },
   "outputs": [
    {
     "name": "stderr",
     "output_type": "stream",
     "text": [
      "/opt/conda/lib/python3.7/site-packages/ipykernel_launcher.py:1: UserWarning: To copy construct from a tensor, it is recommended to use sourceTensor.clone().detach() or sourceTensor.clone().detach().requires_grad_(True), rather than torch.tensor(sourceTensor).\n",
      "  \"\"\"Entry point for launching an IPython kernel.\n",
      "/opt/conda/lib/python3.7/site-packages/ipykernel_launcher.py:2: UserWarning: To copy construct from a tensor, it is recommended to use sourceTensor.clone().detach() or sourceTensor.clone().detach().requires_grad_(True), rather than torch.tensor(sourceTensor).\n",
      "  \n",
      "/opt/conda/lib/python3.7/site-packages/ipykernel_launcher.py:3: UserWarning: To copy construct from a tensor, it is recommended to use sourceTensor.clone().detach() or sourceTensor.clone().detach().requires_grad_(True), rather than torch.tensor(sourceTensor).\n",
      "  This is separate from the ipykernel package so we can avoid doing imports until\n",
      "/opt/conda/lib/python3.7/site-packages/ipykernel_launcher.py:4: UserWarning: To copy construct from a tensor, it is recommended to use sourceTensor.clone().detach() or sourceTensor.clone().detach().requires_grad_(True), rather than torch.tensor(sourceTensor).\n",
      "  after removing the cwd from sys.path.\n"
     ]
    }
   ],
   "source": [
    "trainX = torch.tensor(trainX, dtype=torch.long)\n",
    "trainy = torch.tensor(trainy, dtype=torch.long)\n",
    "valX = torch.tensor(valX, dtype=torch.long)\n",
    "valy = torch.tensor(valy, dtype=torch.long)\n"
   ]
  },
  {
   "cell_type": "code",
   "execution_count": 23,
   "metadata": {
    "execution": {
     "iopub.execute_input": "2021-02-02T12:52:41.040892Z",
     "iopub.status.busy": "2021-02-02T12:52:41.039306Z",
     "iopub.status.idle": "2021-02-02T12:52:41.133776Z",
     "shell.execute_reply": "2021-02-02T12:52:41.134519Z"
    },
    "papermill": {
     "duration": 0.225758,
     "end_time": "2021-02-02T12:52:41.134729",
     "exception": false,
     "start_time": "2021-02-02T12:52:40.908971",
     "status": "completed"
    },
    "tags": []
   },
   "outputs": [],
   "source": [
    "logger = logging.get_logger(__name__)\n",
    "\n",
    "_CONFIG_FOR_DOC = \"EncoderDecoderConfig\"\n",
    "\n",
    "ENCODER_DECODER_START_DOCSTRING = r\"\"\"\n",
    "    This class can be used to initialize a sequence-tsequencece model with any pretrained autoencoding model as the\n",
    "    encoder and any pretrained autoregressive model as the decoder. The encoder is loaded via\n",
    "    :meth:`~transformers.AutoModel.from_pretrained` function and the decoder is loaded via\n",
    "    :meth:`~transformers.AutoModelForCausalLM.from_pretrained` function. Cross-attention layers are automatically added\n",
    "    to the decoder and should be fine-tuned on a downstream generative task, like summarization.\n",
    "    The effectiveness of initializing sequence-to-sequence models with pretrained checkpoints for sequence generation\n",
    "    tasks was shown in `Leveraging Pre-trained Checkpoints for Sequence Generation Tasks\n",
    "    <https://arxiv.org/abs/1907.12461>`__ by Sascha Rothe, Shashi Narayan, Aliaksei Severyn. Michael Matena, Yanqi\n",
    "    Zhou, Wei Li, Peter J. Liu.\n",
    "    After such an Encoder Decoder model has been trained/fine-tuned, it can be saved/loaded just like any other models\n",
    "    (see the examples for more information).\n",
    "    This model inherits from :class:`~transformers.PreTrainedModel`. Check the superclass documentation for the generic\n",
    "    methods the library implements for all its model (such as downloading or saving, resizing the input embeddings,\n",
    "    pruning heads etc.)\n",
    "    This model is also a PyTorch `torch.nn.Module <https://pytorch.org/docs/stable/nn.html#torch.nn.Module>`__\n",
    "    subclass. Use it as a regular PyTorch Module and refer to the PyTorch documentation for all matter related to\n",
    "    general usage and behavior.\n",
    "    Parameters:\n",
    "        config (:class:`~transformers.T5Config`): Model configuration class with all the parameters of the model.\n",
    "            Initializing with a config file does not load the weights associated with the model, only the\n",
    "            configuration. Check out the :meth:`~transformers.PreTrainedModel.from_pretrained` method to load the model\n",
    "            weights.\n",
    "\"\"\"\n",
    "\n",
    "ENCODER_DECODER_INPUTS_DOCSTRING = r\"\"\"\n",
    "    Args:\n",
    "        input_ids (:obj:`torch.LongTensor` of shape :obj:`(batch_size, sequence_length)`):\n",
    "            Indices of input sequence tokens in the vocabulary.\n",
    "            Indices can be obtained using :class:`~transformers.PreTrainedTokenizer`. See\n",
    "            :meth:`transformers.PreTrainedTokenizer.encode` and :meth:`transformers.PreTrainedTokenizer.__call__` for\n",
    "            details.\n",
    "            `What are input IDs? <../glossary.html#input-ids>`__\n",
    "        attention_mask (:obj:`torch.FloatTensor` of shape :obj:`(batch_size, sequence_length)`, `optional`):\n",
    "            Mask to avoid performing attention on padding token indices. Mask values selected in ``[0, 1]``:\n",
    "            - 1 for tokens that are **not masked**,\n",
    "            - 0 for tokens that are **masked**.\n",
    "            `What are attention masks? <../glossary.html#attention-mask>`__\n",
    "        decoder_input_ids (:obj:`torch.LongTensor` of shape :obj:`(batch_size, target_sequence_length)`, `optional`):\n",
    "            Provide for sequence to sequence training to the decoder. Indices can be obtained using\n",
    "            :class:`~transformers.PretrainedTokenizer`. See :meth:`transformers.PreTrainedTokenizer.encode` and\n",
    "            :meth:`transformers.PreTrainedTokenizer.__call__` for details.\n",
    "        decoder_attention_mask (:obj:`torch.BoolTensor` of shape :obj:`(batch_size, tgt_seq_len)`, `optional`):\n",
    "            Default behavior: generate a tensor that ignores pad tokens in :obj:`decoder_input_ids`. Causal mask will\n",
    "            also be used by default.\n",
    "        encoder_outputs (:obj:`tuple(torch.FloatTensor)`, `optional`):\n",
    "            This tuple must consist of (:obj:`last_hidden_state`, `optional`: :obj:`hidden_states`, `optional`:\n",
    "            :obj:`attentions`) :obj:`last_hidden_state` (:obj:`torch.FloatTensor` of shape :obj:`(batch_size,\n",
    "            sequence_length, hidden_size)`) is a tensor of hidden-states at the output of the last layer of the\n",
    "            encoder. Used in the cross-attention of the decoder.\n",
    "        past_key_values (:obj:`tuple(tuple(torch.FloatTensor))` of length :obj:`config.n_layers` with each tuple having 4 tensors of shape :obj:`(batch_size, num_heads, sequence_length - 1, embed_size_per_head)`):\n",
    "            Contains precomputed key and value hidden states of the attention blocks. Can be used to speed up decoding.\n",
    "            If :obj:`past_key_values` are used, the user can optionally input only the last :obj:`decoder_input_ids`\n",
    "            (those that don't have their past key value states given to this model) of shape :obj:`(batch_size, 1)`\n",
    "            instead of all :obj:`decoder_input_ids` of shape :obj:`(batch_size, sequence_length)`.\n",
    "        inputs_embeds (:obj:`torch.FloatTensor` of shape :obj:`(batch_size, sequence_length, hidden_size)`, `optional`):\n",
    "            Optionally, instead of passing :obj:`input_ids` you can choose to directly pass an embedded representation.\n",
    "            This is useful if you want more control over how to convert :obj:`input_ids` indices into associated\n",
    "            vectors than the model's internal embedding lookup matrix.\n",
    "        decoder_inputs_embeds (:obj:`torch.FloatTensor` of shape :obj:`(batch_size, target_sequence_length, hidden_size)`, `optional`):\n",
    "            Optionally, instead of passing :obj:`decoder_input_ids` you can choose to directly pass an embedded\n",
    "            representation. This is useful if you want more control over how to convert :obj:`decoder_input_ids`\n",
    "            indices into associated vectors than the model's internal embedding lookup matrix.\n",
    "        labels (:obj:`torch.LongTensor` of shape :obj:`(batch_size, sequence_length)`, `optional`):\n",
    "            Labels for computing the masked language modeling loss for the decoder. Indices should be in ``[-100, 0,\n",
    "            ..., config.vocab_size]`` (see ``input_ids`` docstring) Tokens with indices set to ``-100`` are ignored\n",
    "            (masked), the loss is only computed for the tokens with labels in ``[0, ..., config.vocab_size]``\n",
    "        use_cache (:obj:`bool`, `optional`):\n",
    "            If set to :obj:`True`, :obj:`past_key_values` key value states are returned and can be used to speed up\n",
    "            decoding (see :obj:`past_key_values`).\n",
    "        output_attentions (:obj:`bool`, `optional`):\n",
    "            Whether or not to return the attentions tensors of all attention layers. See ``attentions`` under returned\n",
    "            tensors for more detail.\n",
    "        output_hidden_states (:obj:`bool`, `optional`):\n",
    "            Whether or not to return the hidden states of all layers. See ``hidden_states`` under returned tensors for\n",
    "            more detail.\n",
    "        return_dict (:obj:`bool`, `optional`):\n",
    "            If set to ``True``, the model will return a :class:`~transformers.file_utils.Seq2SeqLMOutput` instead of a\n",
    "            plain tuple.\n",
    "        kwargs: (`optional`) Remaining dictionary of keyword arguments. Keyword arguments come in two flavors:\n",
    "            - Without a prefix which will be input as ``**encoder_kwargs`` for the encoder forward function.\n",
    "            - With a `decoder_` prefix which will be input as ``**decoder_kwargs`` for the decoder forward function.\n",
    "\"\"\"\n",
    "\n",
    "@add_start_docstrings(ENCODER_DECODER_START_DOCSTRING)\n",
    "class EncoderDecoderModelWithGates(PreTrainedModel):\n",
    "    r\"\"\"\n",
    "    :class:`~transformers.EncoderDecoder` is a generic model class that will be instantiated as a transformer\n",
    "    architecture with one of the base model classes of the library as encoder and another one as decoder when created\n",
    "    with the :meth`~transformers.AutoModel.from_pretrained` class method for the encoder and\n",
    "    :meth`~transformers.AutoModelForCausalLM.from_pretrained` class method for the decoder.\n",
    "    \"\"\"\n",
    "    config_class = EncoderDecoderConfig\n",
    "    base_model_prefix = \"encoder_decoder\"\n",
    "\n",
    "    def __init__(\n",
    "        self,\n",
    "        config: Optional[PretrainedConfig] = None,\n",
    "        encoder: Optional[PreTrainedModel] = None,\n",
    "        decoder: Optional[PreTrainedModel] = None,\n",
    "    ):\n",
    "        \n",
    "        assert config is not None or (\n",
    "            encoder is not None and decoder is not None\n",
    "        ), \"Either a configuration or an Encoder and a decoder has to be provided\"\n",
    "        if config is None:\n",
    "            config = EncoderDecoderConfig.from_encoder_decoder_configs(encoder.config, decoder.config)\n",
    "        else:\n",
    "            assert isinstance(config, self.config_class), \"config: {} has to be of type {}\".format(\n",
    "                config, self.config_class\n",
    "            )\n",
    "        # initialize with config\n",
    "        super().__init__(config)\n",
    "\n",
    "        if encoder is None:\n",
    "            \n",
    "\n",
    "            encoder = AutoModel.from_config(config.encoder)\n",
    "\n",
    "        if decoder is None:\n",
    "            \n",
    "\n",
    "            decoder = AutoModelForCausalLM.from_config(config.decoder)\n",
    "\n",
    "        tokenizer = AutoTokenizer.from_pretrained(config.encoder._name_or_path)\n",
    "            \n",
    "        self.encoder = encoder\n",
    "        self.decoder = decoder\n",
    "        assert (\n",
    "            self.encoder.get_output_embeddings() is None\n",
    "        ), \"The encoder {} should not have a LM Head. Please use a model without LM Head\"\n",
    "\n",
    "        # tie encoder, decoder weights if config set accordingly\n",
    "        self.tie_weights()\n",
    "        \n",
    "        #device = torch.device(\"cuda\" if torch.cuda.is_available() else \"cpu\")\n",
    "        \n",
    "        self.embedding = self.encoder.embeddings\n",
    "        \n",
    "        self.mask_gate = nn.Linear(config.encoder.hidden_size, 1, bias=False)\n",
    "        self.copy_gate = nn.Linear(config.decoder.hidden_size, 1, bias=False)\n",
    "        self.generate_gate = nn.Linear(config.decoder.hidden_size, 1, bias=False)\n",
    "        self.skip_gate = nn.Linear(config.decoder.hidden_size, 1, bias=False)\n",
    "        \n",
    "        \n",
    "    def tie_weights(self):\n",
    "        # tie encoder & decoder if needed\n",
    "        if self.config.tie_encoder_decoder:\n",
    "            # tie encoder and decoder base model\n",
    "            decoder_base_model_prefix = self.decoder.base_model_prefix\n",
    "            self._tie_encoder_decoder_weights(\n",
    "                self.encoder, self.decoder._modules[decoder_base_model_prefix], self.decoder.base_model_prefix\n",
    "            )\n",
    "\n",
    "    def get_encoder(self):\n",
    "        return self.encoder\n",
    "\n",
    "    def get_decoder(self):\n",
    "        return self.decoder\n",
    "\n",
    "    def get_input_embeddings(self):\n",
    "        return self.encoder.get_input_embeddings()\n",
    "\n",
    "    def get_output_embeddings(self):\n",
    "        return self.decoder.get_output_embeddings()\n",
    "\n",
    "    def set_output_embeddings(self, new_embeddings):\n",
    "        return self.decoder.set_output_embeddings(new_embeddings)\n",
    "\n",
    "    @classmethod\n",
    "    def from_encoder_decoder_pretrained(\n",
    "        cls,\n",
    "        encoder_pretrained_model_name_or_path: str = None,\n",
    "        decoder_pretrained_model_name_or_path: str = None,\n",
    "        *model_args,\n",
    "        **kwargs\n",
    "    ) -> PreTrainedModel:\n",
    "        r\"\"\"\n",
    "        Instantiate an encoder and a decoder from one or two base classes of the library from pretrained model\n",
    "        checkpoints.\n",
    "        The model is set in evaluation mode by default using :obj:`model.eval()` (Dropout modules are deactivated). To\n",
    "        train the model, you need to first set it back in training mode with :obj:`model.train()`.\n",
    "        Params:\n",
    "            encoder_pretrained_model_name_or_path (:obj: `str`, `optional`):\n",
    "                Information necessary to initiate the encoder. Can be either:\n",
    "                    - A string, the `model id` of a pretrained model hosted inside a model repo on huggingface.co.\n",
    "                      Valid model ids can be located at the root-level, like ``bert-base-uncased``, or namespaced under\n",
    "                      a user or organization name, like ``dbmdz/bert-base-german-cased``.\n",
    "                    - A path to a `directory` containing model weights saved using\n",
    "                      :func:`~transformers.PreTrainedModel.save_pretrained`, e.g., ``./my_model_directory/``.\n",
    "                    - A path or url to a `tensorflow index checkpoint file` (e.g, ``./tf_model/model.ckpt.index``). In\n",
    "                      this case, ``from_tf`` should be set to :obj:`True` and a configuration object should be provided\n",
    "                      as ``config`` argument. This loading path is slower than converting the TensorFlow checkpoint in\n",
    "                      a PyTorch model using the provided conversion scripts and loading the PyTorch model afterwards.\n",
    "            decoder_pretrained_model_name_or_path (:obj: `str`, `optional`, defaults to `None`):\n",
    "                Information necessary to initiate the decoder. Can be either:\n",
    "                    - A string, the `model id` of a pretrained model hosted inside a model repo on huggingface.co.\n",
    "                      Valid model ids can be located at the root-level, like ``bert-base-uncased``, or namespaced under\n",
    "                      a user or organization name, like ``dbmdz/bert-base-german-cased``.\n",
    "                    - A path to a `directory` containing model weights saved using\n",
    "                      :func:`~transformers.PreTrainedModel.save_pretrained`, e.g., ``./my_model_directory/``.\n",
    "                    - A path or url to a `tensorflow index checkpoint file` (e.g, ``./tf_model/model.ckpt.index``). In\n",
    "                      this case, ``from_tf`` should be set to :obj:`True` and a configuration object should be provided\n",
    "                      as ``config`` argument. This loading path is slower than converting the TensorFlow checkpoint in\n",
    "                      a PyTorch model using the provided conversion scripts and loading the PyTorch model afterwards.\n",
    "            model_args (remaining positional arguments, `optional`):\n",
    "                All remaning positional arguments will be passed to the underlying model's ``__init__`` method.\n",
    "            kwargs (remaining dictionary of keyword arguments, `optional`):\n",
    "                Can be used to update the configuration object (after it being loaded) and initiate the model (e.g.,\n",
    "                :obj:`output_attentions=True`).\n",
    "                - To update the encoder configuration, use the prefix `encoder_` for each configuration parameter.\n",
    "                - To update the decoder configuration, use the prefix `decoder_` for each configuration parameter.\n",
    "                - To update the parent model configuration, do not use a prefix for each configuration parameter.\n",
    "                Behaves differently depending on whether a :obj:`config` is provided or automatically loaded.\n",
    "        Example::\n",
    "            >>> from transformers import EncoderDecoderModel\n",
    "            >>> # initialize a bert2bert from two pretrained BERT models. Note that the cross-attention layers will be randomly initialized\n",
    "            >>> model = EncoderDecoderModel.from_encoder_decoder_pretrained('bert-base-uncased', 'bert-base-uncased')\n",
    "            >>> # saving model after fine-tuning\n",
    "            >>> model.save_pretrained(\"./bert2bert\")\n",
    "            >>> # load fine-tuned model\n",
    "            >>> model = EncoderDecoderModel.from_pretrained(\"./bert2bert\")\n",
    "        \"\"\"\n",
    "\n",
    "        kwargs_encoder = {\n",
    "            argument[len(\"encoder_\") :]: value for argument, value in kwargs.items() if argument.startswith(\"encoder_\")\n",
    "        }\n",
    "\n",
    "        kwargs_decoder = {\n",
    "            argument[len(\"decoder_\") :]: value for argument, value in kwargs.items() if argument.startswith(\"decoder_\")\n",
    "        }\n",
    "\n",
    "        # remove encoder, decoder kwargs from kwargs\n",
    "        for key in kwargs_encoder.keys():\n",
    "            del kwargs[\"encoder_\" + key]\n",
    "        for key in kwargs_decoder.keys():\n",
    "            del kwargs[\"decoder_\" + key]\n",
    "\n",
    "        # Load and initialize the encoder and decoder\n",
    "        # The distinction between encoder and decoder at the model level is made\n",
    "        # by the value of the flag `is_decoder` that we need to set correctly.\n",
    "        encoder = kwargs_encoder.pop(\"model\", None)\n",
    "        if encoder is None:\n",
    "            assert (\n",
    "                encoder_pretrained_model_name_or_path is not None\n",
    "            ), \"If `model` is not defined as an argument, a `encoder_pretrained_model_name_or_path` has to be defined\"\n",
    "\n",
    "            if \"config\" not in kwargs_encoder:\n",
    "\n",
    "                encoder_config = AutoConfig.from_pretrained(encoder_pretrained_model_name_or_path)\n",
    "                if encoder_config.is_decoder is True or encoder_config.add_cross_attention is True:\n",
    "\n",
    "                    logger.info(\n",
    "                        f\"Initializing {encoder_pretrained_model_name_or_path} as a encoder model from a decoder model. Cross-attention and casual mask are disabled.\"\n",
    "                    )\n",
    "                    encoder_config.is_decoder = False\n",
    "                    encoder_config.add_cross_attention = False\n",
    "\n",
    "                kwargs_encoder[\"config\"] = encoder_config\n",
    "\n",
    "            encoder = AutoModel.from_pretrained(encoder_pretrained_model_name_or_path, *model_args, **kwargs_encoder)\n",
    "\n",
    "        decoder = kwargs_decoder.pop(\"model\", None)\n",
    "        if decoder is None:\n",
    "            assert (\n",
    "                decoder_pretrained_model_name_or_path is not None\n",
    "            ), \"If `decoder_model` is not defined as an argument, a `decoder_pretrained_model_name_or_path` has to be defined\"\n",
    "\n",
    "            if \"config\" not in kwargs_decoder:\n",
    "\n",
    "                decoder_config = AutoConfig.from_pretrained(decoder_pretrained_model_name_or_path)\n",
    "                if decoder_config.is_decoder is False or decoder_config.add_cross_attention is False:\n",
    "                    logger.info(\n",
    "                        f\"Initializing {decoder_pretrained_model_name_or_path} as a decoder model. Cross attention layers are added to {decoder_pretrained_model_name_or_path} and randomly initialized if {decoder_pretrained_model_name_or_path}'s architecture allows for cross attention layers.\"\n",
    "                    )\n",
    "                    decoder_config.is_decoder = True\n",
    "                    decoder_config.add_cross_attention = True\n",
    "\n",
    "                kwargs_decoder[\"config\"] = decoder_config\n",
    "\n",
    "            if kwargs_decoder[\"config\"].is_decoder is False or kwargs_decoder[\"config\"].add_cross_attention is False:\n",
    "                logger.warning(\n",
    "                    f\"Decoder model {decoder_pretrained_model_name_or_path} is not initialized as a decoder. In order to initialize {decoder_pretrained_model_name_or_path} as a decoder, make sure that the attributes `is_decoder` and `add_cross_attention` of `decoder_config` passed to `.from_encoder_decoder_pretrained(...)` are set to `True` or do not pass a `decoder_config` to `.from_encoder_decoder_pretrained(...)`\"\n",
    "                )\n",
    "\n",
    "            decoder = AutoModelForCausalLM.from_pretrained(decoder_pretrained_model_name_or_path, **kwargs_decoder)\n",
    "\n",
    "        # instantiate config with corresponding kwargs\n",
    "        config = EncoderDecoderConfig.from_encoder_decoder_configs(encoder.config, decoder.config, **kwargs)\n",
    "        return cls(encoder=encoder, decoder=decoder, config=config)\n",
    "\n",
    "    @add_start_docstrings_to_model_forward(ENCODER_DECODER_INPUTS_DOCSTRING)\n",
    "    @replace_return_docstrings(output_type=Seq2SeqLMOutput, config_class=_CONFIG_FOR_DOC)\n",
    "    def forward(\n",
    "        self,\n",
    "        encoder_mask_token_id,\n",
    "        decoder_mask_token_id,\n",
    "        input_ids=None,\n",
    "        attention_mask=None,\n",
    "        decoder_input_ids=None,\n",
    "        decoder_attention_mask=None,\n",
    "        encoder_outputs=None,\n",
    "        past_key_values=None,  # TODO: (PVP) implement :obj:`use_cache`\n",
    "        inputs_embeds=None,\n",
    "        decoder_inputs_embeds=None,\n",
    "        labels=None,\n",
    "        use_cache=None,  # TODO: (PVP) implement :obj:`use_cache`\n",
    "        output_attentions=None,\n",
    "        output_hidden_states=True,\n",
    "        return_dict=None,\n",
    "        **kwargs,\n",
    "    ):\n",
    "        r\"\"\"\n",
    "        Returns:\n",
    "        Examples::\n",
    "            >>> from transformers import EncoderDecoderModel, BertTokenizer\n",
    "            >>> import torch\n",
    "            >>> tokenizer = BertTokenizer.from_pretrained('bert-base-uncased')\n",
    "            >>> model = EncoderDecoderModel.from_encoder_decoder_pretrained('bert-base-uncased', 'bert-base-uncased') # initialize Bert2Bert from pre-trained checkpoints\n",
    "            >>> # forward\n",
    "            >>> input_ids = torch.tensor(tokenizer.encode(\"Hello, my dog is cute\", add_special_tokens=True)).unsqueeze(0)  # Batch size 1\n",
    "            >>> outputs = model(input_ids=input_ids, decoder_input_ids=input_ids)\n",
    "            >>> # training\n",
    "            >>> outputs = model(input_ids=input_ids, decoder_input_ids=input_ids, labels=input_ids)\n",
    "            >>> loss, logits = outputs.loss, outputs.logits\n",
    "            >>> # save and load from pretrained\n",
    "            >>> model.save_pretrained(\"bert2bert\")\n",
    "            >>> model = EncoderDecoderModel.from_pretrained(\"bert2bert\")\n",
    "            >>> # generation\n",
    "            >>> generated = model.generate(input_ids, decoder_start_token_id=model.config.decoder.pad_token_id)\n",
    "        \"\"\"\n",
    "        return_dict = return_dict if return_dict is not None else self.config.use_return_dict\n",
    "\n",
    "        kwargs_encoder = {argument: value for argument, value in kwargs.items() if not argument.startswith(\"decoder_\")}\n",
    "\n",
    "        kwargs_decoder = {\n",
    "            argument[len(\"decoder_\") :]: value for argument, value in kwargs.items() if argument.startswith(\"decoder_\")\n",
    "        }\n",
    "\n",
    "        if encoder_outputs is None:\n",
    "            encoder_outputs = self.encoder(\n",
    "                input_ids=input_ids,\n",
    "                attention_mask=attention_mask,\n",
    "                inputs_embeds=inputs_embeds,\n",
    "                output_attentions=output_attentions,\n",
    "                output_hidden_states=output_hidden_states,\n",
    "                return_dict=return_dict,\n",
    "                **kwargs_encoder,\n",
    "            )\n",
    "\n",
    "        mask_e = self.embedding(encoder_mask_token_id)\n",
    "        \n",
    "        encoder_hidden_states = encoder_outputs[0]\n",
    "        \n",
    "        masking_prob = F.sigmoid(self.mask_gate(encoder_hidden_states))\n",
    "        \n",
    "        encoder_hidden_states = masking_prob * mask_e + (1-masking_prob)*encoder_hidden_states\n",
    "        \n",
    "        \n",
    "        #encoder_hidden_states = \n",
    "        \n",
    "        # Decode\n",
    "        decoder_outputs = self.decoder(\n",
    "            input_ids=decoder_input_ids,\n",
    "            attention_mask=decoder_attention_mask,\n",
    "            encoder_hidden_states=encoder_hidden_states,\n",
    "            encoder_attention_mask=attention_mask,\n",
    "            inputs_embeds=decoder_inputs_embeds,\n",
    "            labels=labels,\n",
    "            output_attentions=output_attentions,\n",
    "            output_hidden_states=output_hidden_states,\n",
    "            return_dict=return_dict,\n",
    "            **kwargs_decoder,\n",
    "        )\n",
    "        \n",
    "        #print (decoder_outputs.logits.shape)\n",
    "        decoder_hidden_states = decoder_outputs.hidden_states[-1]\n",
    "        \n",
    "        copy_prob = F.sigmoid(self.copy_gate(decoder_hidden_states))\n",
    "        \n",
    "        generate_prob = F.sigmoid(self.generate_gate(decoder_hidden_states))\n",
    "        \n",
    "        decoder_input_one_hot = torch.nn.functional.one_hot(decoder_input_ids, num_classes=self.config.decoder.vocab_size)\n",
    "        \n",
    "        stacks = nn.Softmax(dim=0)(torch.stack([copy_prob.unsqueeze(0),generate_prob.unsqueeze(0)]))\n",
    "        copy_prob = stacks[0]\n",
    "        generate_prob = stacks[1]\n",
    "        \n",
    "        logits = generate_prob*decoder_outputs.logits + copy_prob*decoder_input_one_hot\n",
    "        #logits = decoder_outputs.logits\n",
    "        logits = nn.LogSoftmax(dim=-1)(logits)\n",
    "        \n",
    "        if labels is not None:\n",
    "            shift_logits = logits[..., :-1, :].contiguous()\n",
    "            shift_labels = labels[..., 1:].contiguous()\n",
    "            # Flatten the tokens\n",
    "            loss_fct = nn.CrossEntropyLoss()\n",
    "            loss = loss_fct(shift_logits.view(-1, shift_logits.size(-1)), shift_labels.view(-1))\n",
    "            \n",
    "            #loss_fn = nn.NLLLoss()\n",
    "            #loss = loss = loss_fn(logits.transpose(1, 2), labels)\n",
    "        else:\n",
    "            loss = None\n",
    "            \n",
    "        # TODO(PVP): currently it is not possible to use `past`\n",
    "        if not return_dict:\n",
    "            return decoder_outputs + encoder_outputs\n",
    "            #print (\"inside loop\")\n",
    "            #return (1-copy_prob)*decoder_outputs + copy_prob*encoder_outputs\n",
    "    \n",
    "        #print (decoder_outputs.hidden_states.shape)\n",
    "        #print (encoder_outputs.last_hidden_state.shape)\n",
    "        #print (encoder_outputs.hidden_states.shape)\n",
    "        \n",
    "        return Seq2SeqLMOutput(\n",
    "            loss=loss,\n",
    "            logits=logits,\n",
    "            past_key_values=None,  # TODO(PVP) - need to implement cache for BERT, etc... before this works\n",
    "            decoder_hidden_states=decoder_outputs.hidden_states,\n",
    "            decoder_attentions=decoder_outputs.attentions,\n",
    "            cross_attentions=decoder_outputs.cross_attentions,\n",
    "            encoder_last_hidden_state=encoder_outputs.last_hidden_state,\n",
    "            encoder_hidden_states=encoder_outputs.hidden_states,\n",
    "            encoder_attentions=encoder_outputs.attentions,\n",
    "        ), generate_prob, copy_prob, masking_prob\n",
    "\n",
    "    def prepare_inputs_for_generation(self, input_ids, past=None, attention_mask=None, encoder_outputs=None, **kwargs):\n",
    "        decoder_inputs = self.decoder.prepare_inputs_for_generation(input_ids)\n",
    "        decoder_attention_mask = decoder_inputs[\"attention_mask\"] if \"attention_mask\" in decoder_inputs else None\n",
    "        input_dict = {\n",
    "            \"attention_mask\": attention_mask,\n",
    "            \"decoder_attention_mask\": decoder_attention_mask,\n",
    "            \"decoder_input_ids\": decoder_inputs[\"input_ids\"],\n",
    "            \"encoder_outputs\": encoder_outputs,\n",
    "        }\n",
    "\n",
    "        # Ideally all models should have a :obj:`use_cache`\n",
    "        # leave following to ifs until all have it implemented\n",
    "        if \"use_cache\" in decoder_inputs:\n",
    "            input_dict[\"decoder_use_cache\"] = decoder_inputs[\"use_cache\"]\n",
    "\n",
    "        if \"past_key_values\" in decoder_inputs:\n",
    "            input_dict[\"past_key_values\"] = decoder_inputs[\"past_key_values\"]\n",
    "\n",
    "        return input_dict\n",
    "\n",
    "    def _reorder_cache(self, past, beam_idx):\n",
    "        # apply decoder cache reordering here\n",
    "        return self.decoder._reorder_cache(past, beam_idx)"
   ]
  },
  {
   "cell_type": "code",
   "execution_count": 24,
   "metadata": {
    "execution": {
     "iopub.execute_input": "2021-02-02T12:52:41.385400Z",
     "iopub.status.busy": "2021-02-02T12:52:41.384397Z",
     "iopub.status.idle": "2021-02-02T12:53:19.299826Z",
     "shell.execute_reply": "2021-02-02T12:53:19.299231Z"
    },
    "papermill": {
     "duration": 38.038909,
     "end_time": "2021-02-02T12:53:19.299991",
     "exception": false,
     "start_time": "2021-02-02T12:52:41.261082",
     "status": "completed"
    },
    "tags": []
   },
   "outputs": [
    {
     "data": {
      "application/vnd.jupyter.widget-view+json": {
       "model_id": "79eb678b3aa94a68bef4b492b49aad04",
       "version_major": 2,
       "version_minor": 0
      },
      "text/plain": [
       "Downloading:   0%|          | 0.00/440M [00:00<?, ?B/s]"
      ]
     },
     "metadata": {},
     "output_type": "display_data"
    },
    {
     "data": {
      "application/vnd.jupyter.widget-view+json": {
       "model_id": "7478224aee944da3a1ff90b52889981f",
       "version_major": 2,
       "version_minor": 0
      },
      "text/plain": [
       "Downloading:   0%|          | 0.00/441M [00:00<?, ?B/s]"
      ]
     },
     "metadata": {},
     "output_type": "display_data"
    },
    {
     "name": "stderr",
     "output_type": "stream",
     "text": [
      "Some weights of the model checkpoint at claudelkros/bert-base-french were not used when initializing BertLMHeadModel: ['cls.seq_relationship.weight', 'cls.seq_relationship.bias']\n",
      "- This IS expected if you are initializing BertLMHeadModel from the checkpoint of a model trained on another task or with another architecture (e.g. initializing a BertForSequenceClassification model from a BertForPreTraining model).\n",
      "- This IS NOT expected if you are initializing BertLMHeadModel from the checkpoint of a model that you expect to be exactly identical (initializing a BertForSequenceClassification model from a BertForSequenceClassification model).\n",
      "Some weights of BertLMHeadModel were not initialized from the model checkpoint at claudelkros/bert-base-french and are newly initialized: ['bert.encoder.layer.0.crossattention.self.query.weight', 'bert.encoder.layer.0.crossattention.self.query.bias', 'bert.encoder.layer.0.crossattention.self.key.weight', 'bert.encoder.layer.0.crossattention.self.key.bias', 'bert.encoder.layer.0.crossattention.self.value.weight', 'bert.encoder.layer.0.crossattention.self.value.bias', 'bert.encoder.layer.0.crossattention.output.dense.weight', 'bert.encoder.layer.0.crossattention.output.dense.bias', 'bert.encoder.layer.0.crossattention.output.LayerNorm.weight', 'bert.encoder.layer.0.crossattention.output.LayerNorm.bias', 'bert.encoder.layer.1.crossattention.self.query.weight', 'bert.encoder.layer.1.crossattention.self.query.bias', 'bert.encoder.layer.1.crossattention.self.key.weight', 'bert.encoder.layer.1.crossattention.self.key.bias', 'bert.encoder.layer.1.crossattention.self.value.weight', 'bert.encoder.layer.1.crossattention.self.value.bias', 'bert.encoder.layer.1.crossattention.output.dense.weight', 'bert.encoder.layer.1.crossattention.output.dense.bias', 'bert.encoder.layer.1.crossattention.output.LayerNorm.weight', 'bert.encoder.layer.1.crossattention.output.LayerNorm.bias', 'bert.encoder.layer.2.crossattention.self.query.weight', 'bert.encoder.layer.2.crossattention.self.query.bias', 'bert.encoder.layer.2.crossattention.self.key.weight', 'bert.encoder.layer.2.crossattention.self.key.bias', 'bert.encoder.layer.2.crossattention.self.value.weight', 'bert.encoder.layer.2.crossattention.self.value.bias', 'bert.encoder.layer.2.crossattention.output.dense.weight', 'bert.encoder.layer.2.crossattention.output.dense.bias', 'bert.encoder.layer.2.crossattention.output.LayerNorm.weight', 'bert.encoder.layer.2.crossattention.output.LayerNorm.bias', 'bert.encoder.layer.3.crossattention.self.query.weight', 'bert.encoder.layer.3.crossattention.self.query.bias', 'bert.encoder.layer.3.crossattention.self.key.weight', 'bert.encoder.layer.3.crossattention.self.key.bias', 'bert.encoder.layer.3.crossattention.self.value.weight', 'bert.encoder.layer.3.crossattention.self.value.bias', 'bert.encoder.layer.3.crossattention.output.dense.weight', 'bert.encoder.layer.3.crossattention.output.dense.bias', 'bert.encoder.layer.3.crossattention.output.LayerNorm.weight', 'bert.encoder.layer.3.crossattention.output.LayerNorm.bias', 'bert.encoder.layer.4.crossattention.self.query.weight', 'bert.encoder.layer.4.crossattention.self.query.bias', 'bert.encoder.layer.4.crossattention.self.key.weight', 'bert.encoder.layer.4.crossattention.self.key.bias', 'bert.encoder.layer.4.crossattention.self.value.weight', 'bert.encoder.layer.4.crossattention.self.value.bias', 'bert.encoder.layer.4.crossattention.output.dense.weight', 'bert.encoder.layer.4.crossattention.output.dense.bias', 'bert.encoder.layer.4.crossattention.output.LayerNorm.weight', 'bert.encoder.layer.4.crossattention.output.LayerNorm.bias', 'bert.encoder.layer.5.crossattention.self.query.weight', 'bert.encoder.layer.5.crossattention.self.query.bias', 'bert.encoder.layer.5.crossattention.self.key.weight', 'bert.encoder.layer.5.crossattention.self.key.bias', 'bert.encoder.layer.5.crossattention.self.value.weight', 'bert.encoder.layer.5.crossattention.self.value.bias', 'bert.encoder.layer.5.crossattention.output.dense.weight', 'bert.encoder.layer.5.crossattention.output.dense.bias', 'bert.encoder.layer.5.crossattention.output.LayerNorm.weight', 'bert.encoder.layer.5.crossattention.output.LayerNorm.bias', 'bert.encoder.layer.6.crossattention.self.query.weight', 'bert.encoder.layer.6.crossattention.self.query.bias', 'bert.encoder.layer.6.crossattention.self.key.weight', 'bert.encoder.layer.6.crossattention.self.key.bias', 'bert.encoder.layer.6.crossattention.self.value.weight', 'bert.encoder.layer.6.crossattention.self.value.bias', 'bert.encoder.layer.6.crossattention.output.dense.weight', 'bert.encoder.layer.6.crossattention.output.dense.bias', 'bert.encoder.layer.6.crossattention.output.LayerNorm.weight', 'bert.encoder.layer.6.crossattention.output.LayerNorm.bias', 'bert.encoder.layer.7.crossattention.self.query.weight', 'bert.encoder.layer.7.crossattention.self.query.bias', 'bert.encoder.layer.7.crossattention.self.key.weight', 'bert.encoder.layer.7.crossattention.self.key.bias', 'bert.encoder.layer.7.crossattention.self.value.weight', 'bert.encoder.layer.7.crossattention.self.value.bias', 'bert.encoder.layer.7.crossattention.output.dense.weight', 'bert.encoder.layer.7.crossattention.output.dense.bias', 'bert.encoder.layer.7.crossattention.output.LayerNorm.weight', 'bert.encoder.layer.7.crossattention.output.LayerNorm.bias', 'bert.encoder.layer.8.crossattention.self.query.weight', 'bert.encoder.layer.8.crossattention.self.query.bias', 'bert.encoder.layer.8.crossattention.self.key.weight', 'bert.encoder.layer.8.crossattention.self.key.bias', 'bert.encoder.layer.8.crossattention.self.value.weight', 'bert.encoder.layer.8.crossattention.self.value.bias', 'bert.encoder.layer.8.crossattention.output.dense.weight', 'bert.encoder.layer.8.crossattention.output.dense.bias', 'bert.encoder.layer.8.crossattention.output.LayerNorm.weight', 'bert.encoder.layer.8.crossattention.output.LayerNorm.bias', 'bert.encoder.layer.9.crossattention.self.query.weight', 'bert.encoder.layer.9.crossattention.self.query.bias', 'bert.encoder.layer.9.crossattention.self.key.weight', 'bert.encoder.layer.9.crossattention.self.key.bias', 'bert.encoder.layer.9.crossattention.self.value.weight', 'bert.encoder.layer.9.crossattention.self.value.bias', 'bert.encoder.layer.9.crossattention.output.dense.weight', 'bert.encoder.layer.9.crossattention.output.dense.bias', 'bert.encoder.layer.9.crossattention.output.LayerNorm.weight', 'bert.encoder.layer.9.crossattention.output.LayerNorm.bias', 'bert.encoder.layer.10.crossattention.self.query.weight', 'bert.encoder.layer.10.crossattention.self.query.bias', 'bert.encoder.layer.10.crossattention.self.key.weight', 'bert.encoder.layer.10.crossattention.self.key.bias', 'bert.encoder.layer.10.crossattention.self.value.weight', 'bert.encoder.layer.10.crossattention.self.value.bias', 'bert.encoder.layer.10.crossattention.output.dense.weight', 'bert.encoder.layer.10.crossattention.output.dense.bias', 'bert.encoder.layer.10.crossattention.output.LayerNorm.weight', 'bert.encoder.layer.10.crossattention.output.LayerNorm.bias', 'bert.encoder.layer.11.crossattention.self.query.weight', 'bert.encoder.layer.11.crossattention.self.query.bias', 'bert.encoder.layer.11.crossattention.self.key.weight', 'bert.encoder.layer.11.crossattention.self.key.bias', 'bert.encoder.layer.11.crossattention.self.value.weight', 'bert.encoder.layer.11.crossattention.self.value.bias', 'bert.encoder.layer.11.crossattention.output.dense.weight', 'bert.encoder.layer.11.crossattention.output.dense.bias', 'bert.encoder.layer.11.crossattention.output.LayerNorm.weight', 'bert.encoder.layer.11.crossattention.output.LayerNorm.bias']\n",
      "You should probably TRAIN this model on a down-stream task to be able to use it for predictions and inference.\n"
     ]
    }
   ],
   "source": [
    "model = EncoderDecoderModelWithGates.from_encoder_decoder_pretrained(encoder_path, decoder_path)"
   ]
  },
  {
   "cell_type": "code",
   "execution_count": 25,
   "metadata": {
    "execution": {
     "iopub.execute_input": "2021-02-02T12:53:19.478073Z",
     "iopub.status.busy": "2021-02-02T12:53:19.477265Z",
     "iopub.status.idle": "2021-02-02T12:53:19.480641Z",
     "shell.execute_reply": "2021-02-02T12:53:19.480054Z"
    },
    "papermill": {
     "duration": 0.094984,
     "end_time": "2021-02-02T12:53:19.480803",
     "exception": false,
     "start_time": "2021-02-02T12:53:19.385819",
     "status": "completed"
    },
    "tags": []
   },
   "outputs": [],
   "source": [
    "model.config.encoder.max_length = MAX_LEN\n",
    "model.config.decoder.max_length = MAX_LEN\n",
    "\n",
    "model.config.encoder.min_length = MIN_LEN\n",
    "model.config.decoder.min_length = MIN_LEN"
   ]
  },
  {
   "cell_type": "code",
   "execution_count": 26,
   "metadata": {
    "execution": {
     "iopub.execute_input": "2021-02-02T12:53:19.664008Z",
     "iopub.status.busy": "2021-02-02T12:53:19.662347Z",
     "iopub.status.idle": "2021-02-02T12:53:19.666915Z",
     "shell.execute_reply": "2021-02-02T12:53:19.666285Z"
    },
    "papermill": {
     "duration": 0.099498,
     "end_time": "2021-02-02T12:53:19.667067",
     "exception": false,
     "start_time": "2021-02-02T12:53:19.567569",
     "status": "completed"
    },
    "tags": []
   },
   "outputs": [
    {
     "name": "stdout",
     "output_type": "stream",
     "text": [
      "Train and val loader length 667 and 167\n"
     ]
    }
   ],
   "source": [
    "train_data_loader = torch.utils.data.DataLoader(\n",
    "    torch.utils.data.TensorDataset(trainX, trainy), batch_size=batch_size)\n",
    "\n",
    "val_data_loader = torch.utils.data.DataLoader(\n",
    "    torch.utils.data.TensorDataset(valX, valy), batch_size=batch_size)\n",
    "\n",
    "print (\"Train and val loader length {} and {}\".format(len(train_data_loader), len(val_data_loader)))"
   ]
  },
  {
   "cell_type": "code",
   "execution_count": 27,
   "metadata": {
    "execution": {
     "iopub.execute_input": "2021-02-02T12:53:19.856328Z",
     "iopub.status.busy": "2021-02-02T12:53:19.855461Z",
     "iopub.status.idle": "2021-02-02T12:53:27.623366Z",
     "shell.execute_reply": "2021-02-02T12:53:27.621691Z"
    },
    "papermill": {
     "duration": 7.870124,
     "end_time": "2021-02-02T12:53:27.623534",
     "exception": false,
     "start_time": "2021-02-02T12:53:19.753410",
     "status": "completed"
    },
    "tags": []
   },
   "outputs": [
    {
     "name": "stdout",
     "output_type": "stream",
     "text": [
      "Modeling\n",
      "Device: cuda\n"
     ]
    }
   ],
   "source": [
    "print (\"Modeling\")\n",
    "device = torch.device(\"cuda\" if torch.cuda.is_available() else \"cpu\")\n",
    "print (\"Device: {}\".format(device))\n",
    "\n",
    "model = model.to(device)\n",
    "\n",
    "params = list(model.named_parameters())\n",
    "\n",
    "optimizer = AdamW(model.parameters(),\n",
    "                  lr = lr, # args.learning_rate\n",
    "                  eps = 1e-8 # args.adam_epsilon  - default is 1e-8.\n",
    "                )\n",
    "\n",
    "# Total number of training steps is [number of batches] x [number of epochs]. \n",
    "# (Note that this is not the same as the number of training samples).\n",
    "total_steps = len(train_data_loader) * EPOCHS\n",
    "\n",
    "# Create the learning rate scheduler.\n",
    "scheduler = get_linear_schedule_with_warmup(optimizer, \n",
    "                                            num_warmup_steps = 0, # Default value in run_glue.py\n",
    "                                            num_training_steps = total_steps)"
   ]
  },
  {
   "cell_type": "code",
   "execution_count": 28,
   "metadata": {
    "execution": {
     "iopub.execute_input": "2021-02-02T12:53:27.849615Z",
     "iopub.status.busy": "2021-02-02T12:53:27.848743Z",
     "iopub.status.idle": "2021-02-02T13:59:25.755166Z",
     "shell.execute_reply": "2021-02-02T13:59:25.755766Z"
    },
    "papermill": {
     "duration": 3958.046069,
     "end_time": "2021-02-02T13:59:25.755964",
     "exception": false,
     "start_time": "2021-02-02T12:53:27.709895",
     "status": "completed"
    },
    "tags": []
   },
   "outputs": [
    {
     "name": "stdout",
     "output_type": "stream",
     "text": [
      "\n",
      "======== Epoch 1 / 30 ========\n",
      "Training...\n"
     ]
    },
    {
     "name": "stderr",
     "output_type": "stream",
     "text": [
      "/opt/conda/lib/python3.7/site-packages/torch/nn/functional.py:1639: UserWarning: nn.functional.sigmoid is deprecated. Use torch.sigmoid instead.\n",
      "  warnings.warn(\"nn.functional.sigmoid is deprecated. Use torch.sigmoid instead.\")\n"
     ]
    },
    {
     "name": "stdout",
     "output_type": "stream",
     "text": [
      "  Batch    60  of    667.    Elapsed: 0:00:30.  Loss: 5.347727298736572\n",
      "  Batch   120  of    667.    Elapsed: 0:00:58.  Loss: 3.0147409439086914\n",
      "  Batch   180  of    667.    Elapsed: 0:01:26.  Loss: 2.2709271907806396\n",
      "  Batch   240  of    667.    Elapsed: 0:01:53.  Loss: 2.39750337600708\n",
      "  Batch   300  of    667.    Elapsed: 0:02:21.  Loss: 1.7687190771102905\n",
      "  Batch   360  of    667.    Elapsed: 0:02:49.  Loss: 2.0296685695648193\n",
      "  Batch   420  of    667.    Elapsed: 0:03:17.  Loss: 1.3924006223678589\n",
      "  Batch   480  of    667.    Elapsed: 0:03:44.  Loss: 1.8733313083648682\n",
      "  Batch   540  of    667.    Elapsed: 0:04:12.  Loss: 1.45451819896698\n",
      "  Batch   600  of    667.    Elapsed: 0:04:40.  Loss: 1.5806761980056763\n",
      "  Batch   660  of    667.    Elapsed: 0:05:08.  Loss: 1.7150425910949707\n",
      "\n",
      "  Average training loss: 2.65\n",
      "  Training epcoh took: 0:05:11\n",
      "\n",
      "Running Validation...\n",
      "  Validation Loss: 2.43\n",
      "  Validation took: 0:00:45\n",
      "\n",
      "======== Epoch 2 / 30 ========\n",
      "Training...\n",
      "  Batch    60  of    667.    Elapsed: 0:00:28.  Loss: 3.7289538383483887\n",
      "  Batch   120  of    667.    Elapsed: 0:00:56.  Loss: 1.800281047821045\n",
      "  Batch   180  of    667.    Elapsed: 0:01:24.  Loss: 1.3238410949707031\n",
      "  Batch   240  of    667.    Elapsed: 0:01:51.  Loss: 1.9131191968917847\n",
      "  Batch   300  of    667.    Elapsed: 0:02:19.  Loss: 1.4496568441390991\n",
      "  Batch   360  of    667.    Elapsed: 0:02:47.  Loss: 1.7529126405715942\n",
      "  Batch   420  of    667.    Elapsed: 0:03:15.  Loss: 1.0936766862869263\n",
      "  Batch   480  of    667.    Elapsed: 0:03:43.  Loss: 1.579148769378662\n",
      "  Batch   540  of    667.    Elapsed: 0:04:11.  Loss: 1.1732020378112793\n",
      "  Batch   600  of    667.    Elapsed: 0:04:39.  Loss: 1.4238994121551514\n",
      "  Batch   660  of    667.    Elapsed: 0:05:07.  Loss: 1.5562615394592285\n",
      "\n",
      "  Average training loss: 1.92\n",
      "  Training epcoh took: 0:05:10\n",
      "\n",
      "Running Validation...\n",
      "  Validation Loss: 2.24\n",
      "  Validation took: 0:00:45\n",
      "\n",
      "======== Epoch 3 / 30 ========\n",
      "Training...\n",
      "  Batch    60  of    667.    Elapsed: 0:00:28.  Loss: 3.4798994064331055\n",
      "  Batch   120  of    667.    Elapsed: 0:00:56.  Loss: 1.4537193775177002\n",
      "  Batch   180  of    667.    Elapsed: 0:01:24.  Loss: 1.0387516021728516\n",
      "  Batch   240  of    667.    Elapsed: 0:01:52.  Loss: 1.7245380878448486\n",
      "  Batch   300  of    667.    Elapsed: 0:02:19.  Loss: 1.3111233711242676\n",
      "  Batch   360  of    667.    Elapsed: 0:02:48.  Loss: 1.6299693584442139\n",
      "  Batch   420  of    667.    Elapsed: 0:03:16.  Loss: 0.9734170436859131\n",
      "  Batch   480  of    667.    Elapsed: 0:03:44.  Loss: 1.4237158298492432\n",
      "  Batch   540  of    667.    Elapsed: 0:04:12.  Loss: 1.0216835737228394\n",
      "  Batch   600  of    667.    Elapsed: 0:04:40.  Loss: 1.297358512878418\n",
      "  Batch   660  of    667.    Elapsed: 0:05:08.  Loss: 1.4525389671325684\n",
      "\n",
      "  Average training loss: 1.72\n",
      "  Training epcoh took: 0:05:11\n",
      "\n",
      "Running Validation...\n",
      "  Validation Loss: 2.16\n",
      "  Validation took: 0:00:45\n",
      "\n",
      "======== Epoch 4 / 30 ========\n",
      "Training...\n",
      "  Batch    60  of    667.    Elapsed: 0:00:28.  Loss: 3.2763350009918213\n",
      "  Batch   120  of    667.    Elapsed: 0:00:57.  Loss: 1.227907419204712\n",
      "  Batch   180  of    667.    Elapsed: 0:01:24.  Loss: 0.8653420805931091\n",
      "  Batch   240  of    667.    Elapsed: 0:01:52.  Loss: 1.5943912267684937\n",
      "  Batch   300  of    667.    Elapsed: 0:02:20.  Loss: 1.2026784420013428\n",
      "  Batch   360  of    667.    Elapsed: 0:02:48.  Loss: 1.5101383924484253\n",
      "  Batch   420  of    667.    Elapsed: 0:03:16.  Loss: 0.8635334968566895\n",
      "  Batch   480  of    667.    Elapsed: 0:03:44.  Loss: 1.297513484954834\n",
      "  Batch   540  of    667.    Elapsed: 0:04:12.  Loss: 0.9044386744499207\n",
      "  Batch   600  of    667.    Elapsed: 0:04:41.  Loss: 1.1950352191925049\n",
      "  Batch   660  of    667.    Elapsed: 0:05:09.  Loss: 1.3663685321807861\n",
      "\n",
      "  Average training loss: 1.58\n",
      "  Training epcoh took: 0:05:12\n",
      "\n",
      "Running Validation...\n",
      "  Validation Loss: 2.11\n",
      "  Validation took: 0:00:45\n",
      "\n",
      "======== Epoch 5 / 30 ========\n",
      "Training...\n",
      "  Batch    60  of    667.    Elapsed: 0:00:29.  Loss: 3.076881170272827\n",
      "  Batch   120  of    667.    Elapsed: 0:00:57.  Loss: 1.0476356744766235\n",
      "  Batch   180  of    667.    Elapsed: 0:01:25.  Loss: 0.7533391714096069\n",
      "  Batch   240  of    667.    Elapsed: 0:01:52.  Loss: 1.4934089183807373\n",
      "  Batch   300  of    667.    Elapsed: 0:02:20.  Loss: 1.1089028120040894\n",
      "  Batch   360  of    667.    Elapsed: 0:02:49.  Loss: 1.402099847793579\n",
      "  Batch   420  of    667.    Elapsed: 0:03:17.  Loss: 0.7683219909667969\n",
      "  Batch   480  of    667.    Elapsed: 0:03:45.  Loss: 1.1938285827636719\n",
      "  Batch   540  of    667.    Elapsed: 0:04:13.  Loss: 0.8131373524665833\n",
      "  Batch   600  of    667.    Elapsed: 0:04:42.  Loss: 1.107922077178955\n",
      "  Batch   660  of    667.    Elapsed: 0:05:10.  Loss: 1.2795418500900269\n",
      "\n",
      "  Average training loss: 1.46\n",
      "  Training epcoh took: 0:05:13\n",
      "\n",
      "Running Validation...\n",
      "  Validation Loss: 2.08\n",
      "  Validation took: 0:00:45\n",
      "\n",
      "======== Epoch 6 / 30 ========\n",
      "Training...\n",
      "  Batch    60  of    667.    Elapsed: 0:00:28.  Loss: 2.89223051071167\n",
      "  Batch   120  of    667.    Elapsed: 0:00:56.  Loss: 0.9202942252159119\n",
      "  Batch   180  of    667.    Elapsed: 0:01:24.  Loss: 0.6715469360351562\n",
      "  Batch   240  of    667.    Elapsed: 0:01:52.  Loss: 1.4064671993255615\n",
      "  Batch   300  of    667.    Elapsed: 0:02:20.  Loss: 1.0147343873977661\n",
      "  Batch   360  of    667.    Elapsed: 0:02:49.  Loss: 1.3156046867370605\n",
      "  Batch   420  of    667.    Elapsed: 0:03:17.  Loss: 0.6675671935081482\n",
      "  Batch   480  of    667.    Elapsed: 0:03:45.  Loss: 1.1018822193145752\n",
      "  Batch   540  of    667.    Elapsed: 0:04:13.  Loss: 0.7306152582168579\n",
      "  Batch   600  of    667.    Elapsed: 0:04:41.  Loss: 1.0176115036010742\n",
      "  Batch   660  of    667.    Elapsed: 0:05:10.  Loss: 1.190539002418518\n",
      "\n",
      "  Average training loss: 1.36\n",
      "  Training epcoh took: 0:05:13\n",
      "\n",
      "Running Validation...\n",
      "  Validation Loss: 2.08\n",
      "  Validation took: 0:00:45\n",
      "\n",
      "======== Epoch 7 / 30 ========\n",
      "Training...\n",
      "  Batch    60  of    667.    Elapsed: 0:00:29.  Loss: 2.7233150005340576\n",
      "  Batch   120  of    667.    Elapsed: 0:00:57.  Loss: 0.8163253664970398\n",
      "  Batch   180  of    667.    Elapsed: 0:01:25.  Loss: 0.610597550868988\n",
      "  Batch   240  of    667.    Elapsed: 0:01:53.  Loss: 1.322988748550415\n",
      "  Batch   300  of    667.    Elapsed: 0:02:21.  Loss: 0.9439403414726257\n",
      "  Batch   360  of    667.    Elapsed: 0:02:49.  Loss: 1.2066503763198853\n",
      "  Batch   420  of    667.    Elapsed: 0:03:18.  Loss: 0.5944865345954895\n",
      "  Batch   480  of    667.    Elapsed: 0:03:46.  Loss: 1.0020074844360352\n",
      "  Batch   540  of    667.    Elapsed: 0:04:14.  Loss: 0.6510393023490906\n",
      "  Batch   600  of    667.    Elapsed: 0:04:42.  Loss: 0.9450501799583435\n",
      "  Batch   660  of    667.    Elapsed: 0:05:11.  Loss: 1.106130838394165\n",
      "\n",
      "  Average training loss: 1.27\n",
      "  Training epcoh took: 0:05:14\n",
      "\n",
      "Running Validation...\n",
      "  Validation Loss: 2.09\n",
      "  Validation took: 0:00:45\n",
      "\n",
      "======== Epoch 8 / 30 ========\n",
      "Training...\n",
      "  Batch    60  of    667.    Elapsed: 0:00:29.  Loss: 2.599106788635254\n",
      "  Batch   120  of    667.    Elapsed: 0:00:57.  Loss: 0.7330038547515869\n",
      "  Batch   180  of    667.    Elapsed: 0:01:25.  Loss: 0.5522816181182861\n",
      "  Batch   240  of    667.    Elapsed: 0:01:53.  Loss: 1.2401529550552368\n",
      "  Batch   300  of    667.    Elapsed: 0:02:21.  Loss: 0.8791509866714478\n",
      "  Batch   360  of    667.    Elapsed: 0:02:50.  Loss: 1.1294068098068237\n",
      "  Batch   420  of    667.    Elapsed: 0:03:18.  Loss: 0.5227492451667786\n",
      "  Batch   480  of    667.    Elapsed: 0:03:46.  Loss: 0.9323435425758362\n",
      "  Batch   540  of    667.    Elapsed: 0:04:14.  Loss: 0.5858029127120972\n",
      "  Batch   600  of    667.    Elapsed: 0:04:43.  Loss: 0.8591404557228088\n",
      "  Batch   660  of    667.    Elapsed: 0:05:11.  Loss: 1.0328328609466553\n",
      "\n",
      "  Average training loss: 1.18\n",
      "  Training epcoh took: 0:05:14\n",
      "\n",
      "Running Validation...\n",
      "  Validation Loss: 2.11\n",
      "  Validation took: 0:00:46\n",
      "\n",
      "======== Epoch 9 / 30 ========\n",
      "Training...\n",
      "  Batch    60  of    667.    Elapsed: 0:00:29.  Loss: 2.4618358612060547\n",
      "  Batch   120  of    667.    Elapsed: 0:00:57.  Loss: 0.6527307033538818\n",
      "  Batch   180  of    667.    Elapsed: 0:01:25.  Loss: 0.49337121844291687\n",
      "  Batch   240  of    667.    Elapsed: 0:01:53.  Loss: 1.1620407104492188\n",
      "  Batch   300  of    667.    Elapsed: 0:02:22.  Loss: 0.824950635433197\n",
      "  Batch   360  of    667.    Elapsed: 0:02:50.  Loss: 1.0421537160873413\n",
      "  Batch   420  of    667.    Elapsed: 0:03:18.  Loss: 0.4666142463684082\n",
      "  Batch   480  of    667.    Elapsed: 0:03:47.  Loss: 0.8499400019645691\n",
      "  Batch   540  of    667.    Elapsed: 0:04:15.  Loss: 0.5207483172416687\n",
      "  Batch   600  of    667.    Elapsed: 0:04:44.  Loss: 0.7982184290885925\n",
      "  Batch   660  of    667.    Elapsed: 0:05:12.  Loss: 0.9690424203872681\n",
      "\n",
      "  Average training loss: 1.10\n",
      "  Training epcoh took: 0:05:15\n",
      "\n",
      "Running Validation...\n",
      "  Validation Loss: 2.16\n",
      "  Validation took: 0:00:45\n",
      "\n",
      "======== Epoch 10 / 30 ========\n",
      "Training...\n",
      "  Batch    60  of    667.    Elapsed: 0:00:28.  Loss: 2.326462984085083\n",
      "  Batch   120  of    667.    Elapsed: 0:00:57.  Loss: 0.579101026058197\n",
      "  Batch   180  of    667.    Elapsed: 0:01:25.  Loss: 0.44097596406936646\n",
      "  Batch   240  of    667.    Elapsed: 0:01:54.  Loss: 1.0872561931610107\n",
      "  Batch   300  of    667.    Elapsed: 0:02:22.  Loss: 0.7477366924285889\n",
      "  Batch   360  of    667.    Elapsed: 0:02:50.  Loss: 0.96087247133255\n",
      "  Batch   420  of    667.    Elapsed: 0:03:19.  Loss: 0.39861276745796204\n",
      "  Batch   480  of    667.    Elapsed: 0:03:47.  Loss: 0.7982935309410095\n",
      "  Batch   540  of    667.    Elapsed: 0:04:15.  Loss: 0.43846213817596436\n",
      "  Batch   600  of    667.    Elapsed: 0:04:44.  Loss: 0.7191014885902405\n",
      "  Batch   660  of    667.    Elapsed: 0:05:12.  Loss: 0.9080774784088135\n",
      "\n",
      "  Average training loss: 1.03\n",
      "  Training epcoh took: 0:05:15\n",
      "\n",
      "Running Validation...\n",
      "  Validation Loss: 2.16\n",
      "  Validation took: 0:00:46\n",
      "\n",
      "======== Epoch 11 / 30 ========\n",
      "Training...\n",
      "  Batch    60  of    667.    Elapsed: 0:00:28.  Loss: 2.216543197631836\n",
      "  Batch   120  of    667.    Elapsed: 0:00:57.  Loss: 0.5131981372833252\n",
      "  Batch   180  of    667.    Elapsed: 0:01:25.  Loss: 0.4090707302093506\n",
      "  Batch   240  of    667.    Elapsed: 0:01:53.  Loss: 1.0253145694732666\n",
      "  Batch   300  of    667.    Elapsed: 0:02:21.  Loss: 0.6813520193099976\n",
      "  Batch   360  of    667.    Elapsed: 0:02:50.  Loss: 0.892214298248291\n",
      "  Batch   420  of    667.    Elapsed: 0:03:18.  Loss: 0.341676265001297\n",
      "  Batch   480  of    667.    Elapsed: 0:03:46.  Loss: 0.7278260588645935\n",
      "  Batch   540  of    667.    Elapsed: 0:04:15.  Loss: 0.40379032492637634\n",
      "  Batch   600  of    667.    Elapsed: 0:04:43.  Loss: 0.6613741517066956\n",
      "  Batch   660  of    667.    Elapsed: 0:05:12.  Loss: 0.8427961468696594\n",
      "\n",
      "  Average training loss: 0.95\n",
      "  Training epcoh took: 0:05:15\n",
      "\n",
      "Running Validation...\n",
      "  Validation Loss: 2.18\n",
      "  Validation took: 0:00:45\n",
      "Early stopping!!\n",
      "\n",
      "Training complete!\n",
      "Total training took 1:05:58 (h:mm:ss)\n"
     ]
    }
   ],
   "source": [
    "random.seed(seed_val)\n",
    "np.random.seed(seed_val)\n",
    "torch.manual_seed(seed_val)\n",
    "torch.cuda.manual_seed_all(seed_val)\n",
    "torch.cuda.empty_cache()\n",
    "\n",
    "# We'll store a number of quantities such as training and validation loss, \n",
    "# validation accuracy, and timings.\n",
    "training_stats = []\n",
    "\n",
    "# Measure the total training time for the whole run.\n",
    "total_t0 = time.time()\n",
    "\n",
    "bad_epochs = 0\n",
    "best_val_logits = 0\n",
    "\n",
    "# For each epoch...\n",
    "for epoch_i in range(0, EPOCHS):\n",
    "    \n",
    "    if bad_epochs < early_stopping_rounds:\n",
    "        # ========================================\n",
    "        #               Training\n",
    "        # ========================================\n",
    "\n",
    "        # Perform one full pass over the training set.\n",
    "\n",
    "        print(\"\")\n",
    "        print('======== Epoch {:} / {:} ========'.format(epoch_i + 1, EPOCHS))\n",
    "        print('Training...')\n",
    "\n",
    "        # Measure how long the training epoch takes.\n",
    "        t0 = time.time()\n",
    "\n",
    "        # Reset the total loss for this epoch.\n",
    "        total_train_loss = 0\n",
    "\n",
    "        # Put the model into training mode. Don't be mislead--the call to \n",
    "        # `train` just changes the *mode*, it doesn't *perform* the training.\n",
    "        # `dropout` and `batchnorm` layers behave differently during training\n",
    "        # vs. test (source: https://stackoverflow.com/questions/51433378/what-does-model-train-do-in-pytorch)\n",
    "        model.train()\n",
    "\n",
    "        # For each batch of training data...\n",
    "        for step, batch in enumerate(train_data_loader):\n",
    "\n",
    "            # Progress update every 40 batches.\n",
    "            if step % 60 == 0 and not step == 0:\n",
    "                # Calculate elapsed time in minutes.\n",
    "                elapsed = format_time(time.time() - t0)\n",
    "\n",
    "                # Report progress.\n",
    "                print('  Batch {:>5,}  of  {:>5,}.    Elapsed: {:}.  Loss: {}'.format(step, len(train_data_loader), elapsed, loss.item()))\n",
    "\n",
    "            # Unpack this training batch from our dataloader. \n",
    "            #\n",
    "            # As we unpack the batch, we'll also copy each tensor to the GPU using the \n",
    "            # `to` method.\n",
    "            #\n",
    "            # `batch` contains three pytorch tensors:\n",
    "            #   [0]: input ids \n",
    "            #   [1]: attention masks\n",
    "            #   [2]: labels \n",
    "            input_ids = batch[0].to(device)\n",
    "            output_ids = batch[1].to(device)\n",
    "\n",
    "            # Always clear any previously calculated gradients before performing a\n",
    "            # backward pass. PyTorch doesn't do this automatically because \n",
    "            # accumulating the gradients is \"convenient while training RNNs\". \n",
    "            # (source: https://stackoverflow.com/questions/48001598/why-do-we-need-to-call-zero-grad-in-pytorch)\n",
    "            model.zero_grad()        \n",
    "\n",
    "            # Perform a forward pass (evaluate the model on this training batch).\n",
    "            # The documentation for this `model` function is here: \n",
    "            # https://huggingface.co/transformers/v2.2.0/model_doc/bert.html#transformers.BertForSequenceClassification\n",
    "            # It returns different numbers of parameters depending on what arguments\n",
    "            # are given and what flags are set. For our usage here, it returns\n",
    "            # the loss (because we provided labels) and the \"logits\"--the model\n",
    "            # outputs prior to activation.\n",
    "            if teacher_forcing:\n",
    "                outputs, _, _, _ = model(encoder_mask_token_id = torch.tensor([[encoder_tokenizer.mask_token_id]]).to(device),\\\n",
    "                                     decoder_mask_token_id = decoder_tokenizer.mask_token_id, \\\n",
    "                            input_ids=input_ids, decoder_input_ids=output_ids, labels=output_ids, return_dict=True)\n",
    "            else:\n",
    "                outputs, _, _, _ = model(encoder_mask_token_id = torch.tensor([[encoder_tokenizer.mask_token_id]]).to(device),\\\n",
    "                                     decoder_mask_token_id = decoder_tokenizer.mask_token_id, \\\n",
    "                            input_ids=input_ids, decoder_input_ids=input_ids, labels=output_ids, return_dict=True)\n",
    "                \n",
    "            loss, logits = outputs.loss, outputs.logits\n",
    "\n",
    "            # Accumulate the training loss over all of the batches so that we can\n",
    "            # calculate the average loss at the end. `loss` is a Tensor containing a\n",
    "            # single value; the `.item()` function just returns the Python value \n",
    "            # from the tensor.\n",
    "            total_train_loss += loss.item()\n",
    "\n",
    "            # Perform a backward pass to calculate the gradients.\n",
    "            loss.backward()\n",
    "\n",
    "            # Clip the norm of the gradients to 1.0.\n",
    "            # This is to help prevent the \"exploding gradients\" problem.\n",
    "            torch.nn.utils.clip_grad_norm_(model.parameters(), 1.0)\n",
    "\n",
    "            # Update parameters and take a step using the computed gradient.\n",
    "            # The optimizer dictates the \"update rule\"--how the parameters are\n",
    "            # modified based on their gradients, the learning rate, etc.\n",
    "            optimizer.step()\n",
    "\n",
    "            # Update the learning rate.\n",
    "            scheduler.step()\n",
    "\n",
    "        # Calculate the average loss over all of the batches.\n",
    "        avg_train_loss = total_train_loss / len(train_data_loader)            \n",
    "\n",
    "        # Measure how long this epoch took.\n",
    "        training_time = format_time(time.time() - t0)\n",
    "\n",
    "        print(\"\")\n",
    "        print(\"  Average training loss: {0:.2f}\".format(avg_train_loss))\n",
    "        print(\"  Training epcoh took: {:}\".format(training_time))\n",
    "\n",
    "        # ========================================\n",
    "        #               Validation\n",
    "        # ========================================\n",
    "        # After the completion of each training epoch, measure our performance on\n",
    "        # our validation set.\n",
    "\n",
    "        print(\"\")\n",
    "        print(\"Running Validation...\")\n",
    "\n",
    "        t0 = time.time()\n",
    "\n",
    "        # Put the model in evaluation mode--the dropout layers behave differently\n",
    "        # during evaluation.\n",
    "        model.eval()\n",
    "\n",
    "        # Tracking variables \n",
    "        total_eval_loss = 0\n",
    "        nb_eval_steps = 0\n",
    "\n",
    "        all_val_logits = []\n",
    "        \n",
    "        # Evaluate data for one epoch\n",
    "        for batch in val_data_loader:\n",
    "\n",
    "            # Unpack this training batch from our dataloader. \n",
    "            #\n",
    "            # As we unpack the batch, we'll also copy each tensor to the GPU using \n",
    "            # the `to` method.\n",
    "            #\n",
    "            # `batch` contains three pytorch tensors:\n",
    "            #   [0]: input ids \n",
    "            #   [1]: attention masks\n",
    "            #   [2]: labels \n",
    "            input_ids = batch[0].to(device)\n",
    "            output_ids = batch[1].to(device)\n",
    "\n",
    "            # Tell pytorch not to bother with constructing the compute graph during\n",
    "            # the forward pass, since this is only needed for backprop (training).\n",
    "            with torch.no_grad():        \n",
    "\n",
    "                # Forward pass, calculate logit predictions.\n",
    "                # token_type_ids is the same as the \"segment ids\", which \n",
    "                # differentiates sentence 1 and 2 in 2-sentence tasks.\n",
    "                # Get the \"logits\" output by the model. The \"logits\" are the output\n",
    "                # values prior to applying an activation function like the softmax.\n",
    "                if teacher_forcing:\n",
    "                    outputs, _, _, _ = model(encoder_mask_token_id = torch.tensor([[encoder_tokenizer.mask_token_id]]).to(device),\\\n",
    "                                     decoder_mask_token_id = decoder_tokenizer.mask_token_id, \\\n",
    "                            input_ids=input_ids, decoder_input_ids=output_ids, labels=output_ids, return_dict=True)\n",
    "                else:\n",
    "                    outputs, _, _, _ = model(encoder_mask_token_id = torch.tensor([[encoder_tokenizer.mask_token_id]]).to(device),\\\n",
    "                                     decoder_mask_token_id = decoder_tokenizer.mask_token_id, \\\n",
    "                            input_ids=input_ids, decoder_input_ids=input_ids, labels=output_ids, return_dict=True)\n",
    "                \n",
    "                loss, logits = outputs.loss, outputs.logits\n",
    "\n",
    "\n",
    "            # Accumulate the validation loss.\n",
    "            total_eval_loss += loss.item()\n",
    "\n",
    "            # Move logits and labels to CPU\n",
    "            logits = logits.detach().cpu().numpy()\n",
    "\n",
    "            all_val_logits.extend(logits.argmax(-1))\n",
    "            \n",
    "        # Calculate the average loss over all of the batches.\n",
    "        avg_val_loss = total_eval_loss / len(val_data_loader)\n",
    "\n",
    "        # Measure how long the validation run took.\n",
    "        validation_time = format_time(time.time() - t0)\n",
    "\n",
    "        print(\"  Validation Loss: {0:.2f}\".format(avg_val_loss))\n",
    "        print(\"  Validation took: {:}\".format(validation_time))\n",
    "\n",
    "        if epoch_i >= 1:\n",
    "            if avg_val_loss < training_stats[-1]['Valid. Loss']:\n",
    "                #model.save_pretrained('Bert2Bert_denoise')\n",
    "                torch.save(model.state_dict(), 'gated_Bert2Bert_denoise.bin')\n",
    "                bad_epochs = 0\n",
    "                best_val_logits = all_val_logits.copy()\n",
    "            else:\n",
    "                bad_epochs += 1\n",
    "\n",
    "        # Record all statistics from this epoch.\n",
    "        training_stats.append(\n",
    "            {\n",
    "                'epoch': epoch_i + 1,\n",
    "                'Training Loss': avg_train_loss,\n",
    "                'Valid. Loss': avg_val_loss,\n",
    "                'Training Time': training_time,\n",
    "                'Validation Time': validation_time\n",
    "            }\n",
    "        )\n",
    "    \n",
    "    else:\n",
    "        print (\"Early stopping!!\")\n",
    "        break\n",
    "\n",
    "print(\"\")\n",
    "print(\"Training complete!\")\n",
    "\n",
    "print(\"Total training took {:} (h:mm:ss)\".format(format_time(time.time()-total_t0)))"
   ]
  },
  {
   "cell_type": "code",
   "execution_count": 29,
   "metadata": {
    "execution": {
     "iopub.execute_input": "2021-02-02T13:59:26.050416Z",
     "iopub.status.busy": "2021-02-02T13:59:26.048204Z",
     "iopub.status.idle": "2021-02-02T13:59:26.051176Z",
     "shell.execute_reply": "2021-02-02T13:59:26.051701Z"
    },
    "papermill": {
     "duration": 0.151513,
     "end_time": "2021-02-02T13:59:26.051881",
     "exception": false,
     "start_time": "2021-02-02T13:59:25.900368",
     "status": "completed"
    },
    "tags": []
   },
   "outputs": [],
   "source": [
    "#model.load_state_dict(torch.load('BERT_denoise.bin'))"
   ]
  },
  {
   "cell_type": "code",
   "execution_count": 30,
   "metadata": {
    "execution": {
     "iopub.execute_input": "2021-02-02T13:59:26.345794Z",
     "iopub.status.busy": "2021-02-02T13:59:26.343524Z",
     "iopub.status.idle": "2021-02-02T13:59:26.346692Z",
     "shell.execute_reply": "2021-02-02T13:59:26.347346Z"
    },
    "papermill": {
     "duration": 0.152699,
     "end_time": "2021-02-02T13:59:26.347520",
     "exception": false,
     "start_time": "2021-02-02T13:59:26.194821",
     "status": "completed"
    },
    "tags": []
   },
   "outputs": [],
   "source": [
    "with open('training_stats.txt','w') as f:\n",
    "    for l in training_stats:\n",
    "        f.write(str(l))\n",
    "        f.write('\\n')"
   ]
  },
  {
   "cell_type": "code",
   "execution_count": 31,
   "metadata": {
    "execution": {
     "iopub.execute_input": "2021-02-02T13:59:26.639327Z",
     "iopub.status.busy": "2021-02-02T13:59:26.638134Z",
     "iopub.status.idle": "2021-02-02T13:59:26.760946Z",
     "shell.execute_reply": "2021-02-02T13:59:26.760336Z"
    },
    "papermill": {
     "duration": 0.271197,
     "end_time": "2021-02-02T13:59:26.761128",
     "exception": false,
     "start_time": "2021-02-02T13:59:26.489931",
     "status": "completed"
    },
    "tags": []
   },
   "outputs": [],
   "source": [
    "for batch in val_data_loader:\n",
    "    input_ids = batch[0].to(device)\n",
    "    output_ids = batch[1].to(device)\n",
    "    break\n",
    "\n",
    "with torch.no_grad():        \n",
    "    outputs, generate_prob, copy_prob, masking_prob = model(encoder_mask_token_id = torch.tensor([[encoder_tokenizer.mask_token_id]]).to(device), \\\n",
    "                                                            decoder_mask_token_id = decoder_tokenizer.mask_token_id, \\\n",
    "                    input_ids=input_ids, decoder_input_ids=input_ids, labels=output_ids, return_dict=True)\n",
    "    loss, logits = outputs.loss, outputs.logits"
   ]
  },
  {
   "cell_type": "code",
   "execution_count": 32,
   "metadata": {
    "execution": {
     "iopub.execute_input": "2021-02-02T13:59:27.052755Z",
     "iopub.status.busy": "2021-02-02T13:59:27.051997Z",
     "iopub.status.idle": "2021-02-02T13:59:27.212319Z",
     "shell.execute_reply": "2021-02-02T13:59:27.212906Z"
    },
    "papermill": {
     "duration": 0.308952,
     "end_time": "2021-02-02T13:59:27.213092",
     "exception": false,
     "start_time": "2021-02-02T13:59:26.904140",
     "status": "completed"
    },
    "tags": []
   },
   "outputs": [],
   "source": [
    "original_texts = [decoder_tokenizer.decode(i) for i in output_ids.detach().cpu().numpy()]\n",
    "predicted_texts = [decoder_tokenizer.decode(i) for i in logits.detach().cpu().numpy().argmax(axis=-1)[0]]"
   ]
  },
  {
   "cell_type": "code",
   "execution_count": 33,
   "metadata": {
    "execution": {
     "iopub.execute_input": "2021-02-02T13:59:27.505745Z",
     "iopub.status.busy": "2021-02-02T13:59:27.504773Z",
     "iopub.status.idle": "2021-02-02T13:59:27.508781Z",
     "shell.execute_reply": "2021-02-02T13:59:27.509369Z"
    },
    "papermill": {
     "duration": 0.152317,
     "end_time": "2021-02-02T13:59:27.509548",
     "exception": false,
     "start_time": "2021-02-02T13:59:27.357231",
     "status": "completed"
    },
    "tags": []
   },
   "outputs": [
    {
     "name": "stdout",
     "output_type": "stream",
     "text": [
      "original text  [CLS] * - les marchandises principales sont soulignes par la couleur rouge. [SEP] [PAD] [PAD] [PAD] [PAD] [PAD] [PAD] [PAD] [PAD] [PAD] [PAD] [PAD] [PAD] [PAD] [PAD] [PAD] [PAD] [PAD] [PAD] [PAD] [PAD] [PAD] [PAD] [PAD] [PAD] [PAD] [PAD] [PAD] [PAD] [PAD] [PAD] [PAD] [PAD] [PAD] [PAD] [PAD] [PAD] [PAD] [PAD] [PAD] [PAD] [PAD] [PAD] [PAD] [PAD] [PAD] [PAD] [PAD] [PAD] [PAD] [PAD] [PAD] [PAD] [PAD] [PAD] [PAD] [PAD] [PAD] [PAD] [PAD] [PAD] [PAD] [PAD] [PAD] [PAD] [PAD] [PAD] [PAD] [PAD] [PAD] [PAD] [PAD] [PAD] [PAD] [PAD] [PAD] [PAD] [PAD] [PAD]\n",
      "predicted text  il les futen dansina,, auitlation a [SEP] [PAD] [PAD] [PAD] [PAD] [PAD] [PAD] [PAD] [PAD] [PAD] [PAD] [PAD] [PAD] [PAD] [PAD] [PAD] [PAD] [PAD] [PAD] [PAD] [PAD] [PAD] [PAD] [PAD] [PAD] [PAD] [PAD] [PAD] [PAD] [PAD] [PAD] [PAD] [PAD] [PAD] [PAD] [PAD] [PAD] [PAD] [PAD] [PAD] [PAD] [PAD] [PAD] [PAD] [PAD] [PAD] [PAD] [PAD] [PAD] [PAD] [PAD] [PAD] [PAD] [PAD] [PAD] [PAD] [PAD] [PAD] [PAD] [PAD] [PAD] [PAD] [PAD] [PAD] [PAD] [PAD] [PAD] [PAD] [PAD] [PAD] [PAD] [PAD] [PAD] [PAD] [PAD] [PAD] [PAD] [PAD] [PAD] [PAD] [PAD] [PAD] [PAD] [PAD] [PAD] [PAD] [PAD] [PAD]\n"
     ]
    }
   ],
   "source": [
    "print (\"original text \", original_texts[0])\n",
    "print (\"predicted text \", predicted_texts[0])"
   ]
  },
  {
   "cell_type": "code",
   "execution_count": 34,
   "metadata": {
    "execution": {
     "iopub.execute_input": "2021-02-02T13:59:27.833712Z",
     "iopub.status.busy": "2021-02-02T13:59:27.818243Z",
     "iopub.status.idle": "2021-02-02T13:59:27.938550Z",
     "shell.execute_reply": "2021-02-02T13:59:27.937936Z"
    },
    "papermill": {
     "duration": 0.287285,
     "end_time": "2021-02-02T13:59:27.938711",
     "exception": false,
     "start_time": "2021-02-02T13:59:27.651426",
     "status": "completed"
    },
    "tags": []
   },
   "outputs": [],
   "source": [
    "predicted_texts = []\n",
    "\n",
    "for i in best_val_logits:\n",
    "    for j in i:\n",
    "        text = decoder_tokenizer.decode(j).split()\n",
    "        text = [k for k in text if k not in ['[CLS]','[SEP]','[PAD]']]\n",
    "        predicted_texts.append(\" \".join(text).strip())"
   ]
  },
  {
   "cell_type": "code",
   "execution_count": 35,
   "metadata": {
    "execution": {
     "iopub.execute_input": "2021-02-02T13:59:28.232230Z",
     "iopub.status.busy": "2021-02-02T13:59:28.231079Z",
     "iopub.status.idle": "2021-02-02T13:59:28.234376Z",
     "shell.execute_reply": "2021-02-02T13:59:28.233801Z"
    },
    "papermill": {
     "duration": 0.153218,
     "end_time": "2021-02-02T13:59:28.234531",
     "exception": false,
     "start_time": "2021-02-02T13:59:28.081313",
     "status": "completed"
    },
    "tags": []
   },
   "outputs": [],
   "source": [
    "val['predicted_text'] = predicted_texts"
   ]
  },
  {
   "cell_type": "code",
   "execution_count": 36,
   "metadata": {
    "execution": {
     "iopub.execute_input": "2021-02-02T13:59:28.527075Z",
     "iopub.status.busy": "2021-02-02T13:59:28.526381Z",
     "iopub.status.idle": "2021-02-02T13:59:29.041302Z",
     "shell.execute_reply": "2021-02-02T13:59:29.039704Z"
    },
    "papermill": {
     "duration": 0.663255,
     "end_time": "2021-02-02T13:59:29.041468",
     "exception": false,
     "start_time": "2021-02-02T13:59:28.378213",
     "status": "completed"
    },
    "tags": []
   },
   "outputs": [],
   "source": [
    "import numpy as np\n",
    "import  nltk.translate.bleu_score as bleu"
   ]
  },
  {
   "cell_type": "code",
   "execution_count": 37,
   "metadata": {
    "execution": {
     "iopub.execute_input": "2021-02-02T13:59:29.347546Z",
     "iopub.status.busy": "2021-02-02T13:59:29.346551Z",
     "iopub.status.idle": "2021-02-02T13:59:29.349363Z",
     "shell.execute_reply": "2021-02-02T13:59:29.350042Z"
    },
    "papermill": {
     "duration": 0.164172,
     "end_time": "2021-02-02T13:59:29.350235",
     "exception": false,
     "start_time": "2021-02-02T13:59:29.186063",
     "status": "completed"
    },
    "tags": []
   },
   "outputs": [],
   "source": [
    "def WRR(text1,text2):\n",
    "    a = set(text1.lower().split())\n",
    "    b = set(text2.lower().split())\n",
    "    \n",
    "    if (len(a) == 0) and (len(b) == 0):\n",
    "        return .5\n",
    "    \n",
    "    c = a.intersection(b)\n",
    "    return float(len(c))/(len(a) + len(b) - len(c))\n",
    "\n",
    "def levenshtein(seq1, seq2):\n",
    "    seq1 = seq1.lower()\n",
    "    seq2 = seq2.lower()\n",
    "    \n",
    "    size_x = len(seq1) + 1\n",
    "    size_y = len(seq2) + 1\n",
    "    matrix = np.zeros ((size_x, size_y))\n",
    "    for x in range(size_x):\n",
    "        matrix [x, 0] = x\n",
    "    for y in range(size_y):\n",
    "        matrix [0, y] = y\n",
    "\n",
    "    for x in range(1, size_x):\n",
    "        for y in range(1, size_y):\n",
    "            if seq1[x-1] == seq2[y-1]:\n",
    "                matrix [x,y] = min(\n",
    "                    matrix[x-1, y] + 1,\n",
    "                    matrix[x-1, y-1],\n",
    "                    matrix[x, y-1] + 1\n",
    "                )\n",
    "            else:\n",
    "                matrix [x,y] = min(\n",
    "                    matrix[x-1,y] + 1,\n",
    "                    matrix[x-1,y-1] + 1,\n",
    "                    matrix[x,y-1] + 1\n",
    "                )\n",
    "    #print (matrix)\n",
    "    return (matrix[size_x - 1, size_y - 1])\n",
    "\n",
    "def CRR(text1, text2):\n",
    "    try:\n",
    "        return 1 - float(levenshtein(text1,text2))/max(len(text1),len(text2))\n",
    "    except:\n",
    "        return 0\n",
    "\n",
    "def bleu_score(text1,text2):\n",
    "    return bleu.sentence_bleu([text1.lower().split()],text2.lower().split())"
   ]
  },
  {
   "cell_type": "code",
   "execution_count": 38,
   "metadata": {
    "execution": {
     "iopub.execute_input": "2021-02-02T13:59:29.651829Z",
     "iopub.status.busy": "2021-02-02T13:59:29.650829Z",
     "iopub.status.idle": "2021-02-02T13:59:30.092026Z",
     "shell.execute_reply": "2021-02-02T13:59:30.091419Z"
    },
    "papermill": {
     "duration": 0.591216,
     "end_time": "2021-02-02T13:59:30.092227",
     "exception": false,
     "start_time": "2021-02-02T13:59:29.501011",
     "status": "completed"
    },
    "tags": []
   },
   "outputs": [],
   "source": [
    "val['text_len'] = val.original.apply(lambda x: len(encoder_tokenizer.encode(x, max_length=512, add_special_tokens=True)))\n",
    "val = val[val.text_len < MAX_LEN].reset_index(drop=True)"
   ]
  },
  {
   "cell_type": "code",
   "execution_count": 39,
   "metadata": {
    "execution": {
     "iopub.execute_input": "2021-02-02T13:59:30.389831Z",
     "iopub.status.busy": "2021-02-02T13:59:30.389114Z",
     "iopub.status.idle": "2021-02-02T13:59:31.111180Z",
     "shell.execute_reply": "2021-02-02T13:59:31.110527Z"
    },
    "papermill": {
     "duration": 0.872526,
     "end_time": "2021-02-02T13:59:31.111338",
     "exception": false,
     "start_time": "2021-02-02T13:59:30.238812",
     "status": "completed"
    },
    "tags": []
   },
   "outputs": [
    {
     "name": "stderr",
     "output_type": "stream",
     "text": [
      "/opt/conda/lib/python3.7/site-packages/nltk/translate/bleu_score.py:490: UserWarning: \n",
      "Corpus/Sentence contains 0 counts of 2-gram overlaps.\n",
      "BLEU scores might be undesirable; use SmoothingFunction().\n",
      "  warnings.warn(_msg)\n",
      "/opt/conda/lib/python3.7/site-packages/nltk/translate/bleu_score.py:490: UserWarning: \n",
      "Corpus/Sentence contains 0 counts of 3-gram overlaps.\n",
      "BLEU scores might be undesirable; use SmoothingFunction().\n",
      "  warnings.warn(_msg)\n",
      "/opt/conda/lib/python3.7/site-packages/nltk/translate/bleu_score.py:490: UserWarning: \n",
      "Corpus/Sentence contains 0 counts of 4-gram overlaps.\n",
      "BLEU scores might be undesirable; use SmoothingFunction().\n",
      "  warnings.warn(_msg)\n"
     ]
    }
   ],
   "source": [
    "val['BLEU'] = val.apply(lambda x: bleu_score(x.predicted_text, x.solution), axis=1)"
   ]
  },
  {
   "cell_type": "code",
   "execution_count": 40,
   "metadata": {
    "execution": {
     "iopub.execute_input": "2021-02-02T13:59:31.410008Z",
     "iopub.status.busy": "2021-02-02T13:59:31.408849Z",
     "iopub.status.idle": "2021-02-02T13:59:31.417944Z",
     "shell.execute_reply": "2021-02-02T13:59:31.417331Z"
    },
    "papermill": {
     "duration": 0.161009,
     "end_time": "2021-02-02T13:59:31.418136",
     "exception": false,
     "start_time": "2021-02-02T13:59:31.257127",
     "status": "completed"
    },
    "tags": []
   },
   "outputs": [
    {
     "data": {
      "text/plain": [
       "count    1994.000000\n",
       "mean        0.459260\n",
       "std         0.216429\n",
       "min         0.000000\n",
       "25%         0.427287\n",
       "50%         0.537285\n",
       "75%         0.604275\n",
       "max         0.759836\n",
       "Name: BLEU, dtype: float64"
      ]
     },
     "execution_count": 40,
     "metadata": {},
     "output_type": "execute_result"
    }
   ],
   "source": [
    "val.BLEU.describe()"
   ]
  },
  {
   "cell_type": "code",
   "execution_count": null,
   "metadata": {
    "papermill": {
     "duration": 0.144662,
     "end_time": "2021-02-02T13:59:31.721005",
     "exception": false,
     "start_time": "2021-02-02T13:59:31.576343",
     "status": "completed"
    },
    "tags": []
   },
   "outputs": [],
   "source": []
  },
  {
   "cell_type": "code",
   "execution_count": 41,
   "metadata": {
    "execution": {
     "iopub.execute_input": "2021-02-02T13:59:32.014206Z",
     "iopub.status.busy": "2021-02-02T13:59:32.013175Z",
     "iopub.status.idle": "2021-02-02T13:59:32.015828Z",
     "shell.execute_reply": "2021-02-02T13:59:32.016379Z"
    },
    "papermill": {
     "duration": 0.150778,
     "end_time": "2021-02-02T13:59:32.016553",
     "exception": false,
     "start_time": "2021-02-02T13:59:31.865775",
     "status": "completed"
    },
    "tags": []
   },
   "outputs": [],
   "source": [
    "#val.to_csv('outputs.csv',index=False,sep='\\t')"
   ]
  },
  {
   "cell_type": "code",
   "execution_count": 42,
   "metadata": {
    "execution": {
     "iopub.execute_input": "2021-02-02T13:59:32.317823Z",
     "iopub.status.busy": "2021-02-02T13:59:32.316756Z",
     "iopub.status.idle": "2021-02-02T13:59:52.509028Z",
     "shell.execute_reply": "2021-02-02T13:59:52.508300Z"
    },
    "papermill": {
     "duration": 20.348443,
     "end_time": "2021-02-02T13:59:52.509225",
     "exception": false,
     "start_time": "2021-02-02T13:59:32.160782",
     "status": "completed"
    },
    "tags": []
   },
   "outputs": [
    {
     "name": "stderr",
     "output_type": "stream",
     "text": [
      "  0%|          | 0/167 [00:00<?, ?it/s]/opt/conda/lib/python3.7/site-packages/torch/nn/functional.py:1639: UserWarning: nn.functional.sigmoid is deprecated. Use torch.sigmoid instead.\n",
      "  warnings.warn(\"nn.functional.sigmoid is deprecated. Use torch.sigmoid instead.\")\n",
      "100%|██████████| 167/167 [00:20<00:00,  8.27it/s]\n"
     ]
    }
   ],
   "source": [
    "#device = torch.device('cpu')\n",
    "\n",
    "all_generate_probs = []\n",
    "all_copy_probs = []\n",
    "all_masking_probs = []\n",
    "\n",
    "for batch in tqdm(val_data_loader):\n",
    "    input_ids = batch[0].to(device)\n",
    "    output_ids = batch[1].to(device)\n",
    "\n",
    "    with torch.no_grad():        \n",
    "        outputs, generate_prob, copy_prob, masking_prob = model(encoder_mask_token_id = torch.tensor([[encoder_tokenizer.mask_token_id]]).to(device), \\\n",
    "                                                                decoder_mask_token_id = decoder_tokenizer.mask_token_id, \\\n",
    "                        input_ids=input_ids, decoder_input_ids=input_ids, labels=output_ids, return_dict=True)\n",
    "        loss, logits = outputs.loss, outputs.logits\n",
    "        \n",
    "    all_generate_probs.append(generate_prob[0,:,:,0].cpu().numpy())\n",
    "    all_copy_probs.append(copy_prob[0,:,:,0].cpu().numpy())\n",
    "    all_masking_probs.append(masking_prob[:,:,0].cpu().numpy())\n",
    "    \n",
    "    "
   ]
  },
  {
   "cell_type": "code",
   "execution_count": 43,
   "metadata": {
    "execution": {
     "iopub.execute_input": "2021-02-02T13:59:52.932347Z",
     "iopub.status.busy": "2021-02-02T13:59:52.931296Z",
     "iopub.status.idle": "2021-02-02T13:59:52.936536Z",
     "shell.execute_reply": "2021-02-02T13:59:52.935856Z"
    },
    "papermill": {
     "duration": 0.218854,
     "end_time": "2021-02-02T13:59:52.936676",
     "exception": false,
     "start_time": "2021-02-02T13:59:52.717822",
     "status": "completed"
    },
    "tags": []
   },
   "outputs": [],
   "source": [
    "all_generate_probs = np.concatenate(all_generate_probs, axis=0)\n",
    "all_copy_probs = np.concatenate(all_copy_probs, axis=0)\n",
    "all_masking_probs = np.concatenate(all_masking_probs, axis=0)\n"
   ]
  },
  {
   "cell_type": "code",
   "execution_count": 44,
   "metadata": {
    "execution": {
     "iopub.execute_input": "2021-02-02T13:59:53.362080Z",
     "iopub.status.busy": "2021-02-02T13:59:53.361021Z",
     "iopub.status.idle": "2021-02-02T13:59:53.364311Z",
     "shell.execute_reply": "2021-02-02T13:59:53.363746Z"
    },
    "papermill": {
     "duration": 0.218915,
     "end_time": "2021-02-02T13:59:53.364461",
     "exception": false,
     "start_time": "2021-02-02T13:59:53.145546",
     "status": "completed"
    },
    "tags": []
   },
   "outputs": [],
   "source": [
    "# val['text_len'] = val.original.apply(lambda x: len(encoder_tokenizer.encode(x, max_length=512, add_special_tokens=True)))\n",
    "indices = val[val.text_len < MAX_LEN].index"
   ]
  },
  {
   "cell_type": "code",
   "execution_count": 45,
   "metadata": {
    "execution": {
     "iopub.execute_input": "2021-02-02T13:59:53.787066Z",
     "iopub.status.busy": "2021-02-02T13:59:53.785928Z",
     "iopub.status.idle": "2021-02-02T13:59:53.792770Z",
     "shell.execute_reply": "2021-02-02T13:59:53.792156Z"
    },
    "papermill": {
     "duration": 0.220316,
     "end_time": "2021-02-02T13:59:53.792932",
     "exception": false,
     "start_time": "2021-02-02T13:59:53.572616",
     "status": "completed"
    },
    "tags": []
   },
   "outputs": [
    {
     "data": {
      "text/plain": [
       "array([0.73086226, 0.7308846 , 0.73086095, ..., 0.7308932 , 0.7308421 ,\n",
       "       0.7308895 ], dtype=float32)"
      ]
     },
     "execution_count": 45,
     "metadata": {},
     "output_type": "execute_result"
    }
   ],
   "source": [
    "all_generate_probs[indices].mean(1)"
   ]
  },
  {
   "cell_type": "code",
   "execution_count": 46,
   "metadata": {
    "execution": {
     "iopub.execute_input": "2021-02-02T13:59:54.242728Z",
     "iopub.status.busy": "2021-02-02T13:59:54.241660Z",
     "iopub.status.idle": "2021-02-02T13:59:54.244938Z",
     "shell.execute_reply": "2021-02-02T13:59:54.244367Z"
    },
    "papermill": {
     "duration": 0.219931,
     "end_time": "2021-02-02T13:59:54.245106",
     "exception": false,
     "start_time": "2021-02-02T13:59:54.025175",
     "status": "completed"
    },
    "tags": []
   },
   "outputs": [],
   "source": [
    "# outputs['mean_generate_prob'] = all_generate_probs[indices].mean(1)\n",
    "# outputs['mean_copy_prob'] = all_copy_probs[indices].mean(1)\n",
    "# outputs['mean_mask_prob'] = all_masking_probs[indices].mean(1)\n",
    "# outputs['max_mask_prob'] = all_masking_probs[indices].max(1)\n"
   ]
  },
  {
   "cell_type": "code",
   "execution_count": 47,
   "metadata": {
    "execution": {
     "iopub.execute_input": "2021-02-02T13:59:54.671396Z",
     "iopub.status.busy": "2021-02-02T13:59:54.670206Z",
     "iopub.status.idle": "2021-02-02T13:59:54.676953Z",
     "shell.execute_reply": "2021-02-02T13:59:54.677692Z"
    },
    "papermill": {
     "duration": 0.222653,
     "end_time": "2021-02-02T13:59:54.677859",
     "exception": false,
     "start_time": "2021-02-02T13:59:54.455206",
     "status": "completed"
    },
    "tags": []
   },
   "outputs": [],
   "source": [
    "val['mean_generate_prob'] = all_generate_probs[indices].mean(1)\n",
    "val['mean_copy_prob'] = all_copy_probs[indices].mean(1)\n",
    "val['mean_mask_prob'] = all_masking_probs[indices].mean(1)\n",
    "val['max_mask_prob'] = all_masking_probs[indices].max(1)\n"
   ]
  },
  {
   "cell_type": "code",
   "execution_count": 48,
   "metadata": {
    "execution": {
     "iopub.execute_input": "2021-02-02T13:59:55.110450Z",
     "iopub.status.busy": "2021-02-02T13:59:55.109719Z",
     "iopub.status.idle": "2021-02-02T13:59:55.297520Z",
     "shell.execute_reply": "2021-02-02T13:59:55.296842Z"
    },
    "papermill": {
     "duration": 0.409933,
     "end_time": "2021-02-02T13:59:55.297682",
     "exception": false,
     "start_time": "2021-02-02T13:59:54.887749",
     "status": "completed"
    },
    "tags": []
   },
   "outputs": [],
   "source": [
    "val.to_csv('nmt_german_gated_BERT_probs_delete_augumented.csv',index=False)"
   ]
  },
  {
   "cell_type": "code",
   "execution_count": 49,
   "metadata": {
    "execution": {
     "iopub.execute_input": "2021-02-02T13:59:55.722025Z",
     "iopub.status.busy": "2021-02-02T13:59:55.721045Z",
     "iopub.status.idle": "2021-02-02T13:59:55.723785Z",
     "shell.execute_reply": "2021-02-02T13:59:55.724405Z"
    },
    "papermill": {
     "duration": 0.217971,
     "end_time": "2021-02-02T13:59:55.724579",
     "exception": false,
     "start_time": "2021-02-02T13:59:55.506608",
     "status": "completed"
    },
    "tags": []
   },
   "outputs": [],
   "source": [
    "#outputs[['WRR_1','BLEU_1','mean_mask_prob','max_mask_prob']].corr()"
   ]
  },
  {
   "cell_type": "code",
   "execution_count": 50,
   "metadata": {
    "execution": {
     "iopub.execute_input": "2021-02-02T13:59:56.154182Z",
     "iopub.status.busy": "2021-02-02T13:59:56.153448Z",
     "iopub.status.idle": "2021-02-02T13:59:56.171945Z",
     "shell.execute_reply": "2021-02-02T13:59:56.171292Z"
    },
    "papermill": {
     "duration": 0.237118,
     "end_time": "2021-02-02T13:59:56.172123",
     "exception": false,
     "start_time": "2021-02-02T13:59:55.935005",
     "status": "completed"
    },
    "tags": []
   },
   "outputs": [
    {
     "data": {
      "text/html": [
       "<div>\n",
       "<style scoped>\n",
       "    .dataframe tbody tr th:only-of-type {\n",
       "        vertical-align: middle;\n",
       "    }\n",
       "\n",
       "    .dataframe tbody tr th {\n",
       "        vertical-align: top;\n",
       "    }\n",
       "\n",
       "    .dataframe thead th {\n",
       "        text-align: right;\n",
       "    }\n",
       "</style>\n",
       "<table border=\"1\" class=\"dataframe\">\n",
       "  <thead>\n",
       "    <tr style=\"text-align: right;\">\n",
       "      <th></th>\n",
       "      <th>BLEU</th>\n",
       "      <th>mean_mask_prob</th>\n",
       "      <th>max_mask_prob</th>\n",
       "    </tr>\n",
       "  </thead>\n",
       "  <tbody>\n",
       "    <tr>\n",
       "      <th>BLEU</th>\n",
       "      <td>1.000000</td>\n",
       "      <td>-0.021836</td>\n",
       "      <td>-0.022322</td>\n",
       "    </tr>\n",
       "    <tr>\n",
       "      <th>mean_mask_prob</th>\n",
       "      <td>-0.021836</td>\n",
       "      <td>1.000000</td>\n",
       "      <td>0.550090</td>\n",
       "    </tr>\n",
       "    <tr>\n",
       "      <th>max_mask_prob</th>\n",
       "      <td>-0.022322</td>\n",
       "      <td>0.550090</td>\n",
       "      <td>1.000000</td>\n",
       "    </tr>\n",
       "  </tbody>\n",
       "</table>\n",
       "</div>"
      ],
      "text/plain": [
       "                    BLEU  mean_mask_prob  max_mask_prob\n",
       "BLEU            1.000000       -0.021836      -0.022322\n",
       "mean_mask_prob -0.021836        1.000000       0.550090\n",
       "max_mask_prob  -0.022322        0.550090       1.000000"
      ]
     },
     "execution_count": 50,
     "metadata": {},
     "output_type": "execute_result"
    }
   ],
   "source": [
    "val[['BLEU','mean_mask_prob','max_mask_prob']].corr()"
   ]
  },
  {
   "cell_type": "code",
   "execution_count": 51,
   "metadata": {
    "execution": {
     "iopub.execute_input": "2021-02-02T13:59:56.607351Z",
     "iopub.status.busy": "2021-02-02T13:59:56.606353Z",
     "iopub.status.idle": "2021-02-02T13:59:56.609072Z",
     "shell.execute_reply": "2021-02-02T13:59:56.609572Z"
    },
    "papermill": {
     "duration": 0.218087,
     "end_time": "2021-02-02T13:59:56.609762",
     "exception": false,
     "start_time": "2021-02-02T13:59:56.391675",
     "status": "completed"
    },
    "tags": []
   },
   "outputs": [],
   "source": [
    "#val[['BLEU','mean_mask_prob','max_mask_prob']].corr()"
   ]
  },
  {
   "cell_type": "code",
   "execution_count": 52,
   "metadata": {
    "execution": {
     "iopub.execute_input": "2021-02-02T13:59:57.051814Z",
     "iopub.status.busy": "2021-02-02T13:59:57.050505Z",
     "iopub.status.idle": "2021-02-02T13:59:57.055071Z",
     "shell.execute_reply": "2021-02-02T13:59:57.056075Z"
    },
    "papermill": {
     "duration": 0.236931,
     "end_time": "2021-02-02T13:59:57.056298",
     "exception": false,
     "start_time": "2021-02-02T13:59:56.819367",
     "status": "completed"
    },
    "tags": []
   },
   "outputs": [
    {
     "data": {
      "text/html": [
       "<div>\n",
       "<style scoped>\n",
       "    .dataframe tbody tr th:only-of-type {\n",
       "        vertical-align: middle;\n",
       "    }\n",
       "\n",
       "    .dataframe tbody tr th {\n",
       "        vertical-align: top;\n",
       "    }\n",
       "\n",
       "    .dataframe thead th {\n",
       "        text-align: right;\n",
       "    }\n",
       "</style>\n",
       "<table border=\"1\" class=\"dataframe\">\n",
       "  <thead>\n",
       "    <tr style=\"text-align: right;\">\n",
       "      <th></th>\n",
       "      <th>original</th>\n",
       "      <th>solution</th>\n",
       "      <th>text_len</th>\n",
       "      <th>predicted_text</th>\n",
       "      <th>BLEU</th>\n",
       "      <th>mean_generate_prob</th>\n",
       "      <th>mean_copy_prob</th>\n",
       "      <th>mean_mask_prob</th>\n",
       "      <th>max_mask_prob</th>\n",
       "    </tr>\n",
       "  </thead>\n",
       "  <tbody>\n",
       "    <tr>\n",
       "      <th>0</th>\n",
       "      <td>* - Main gods are maked with red colr.</td>\n",
       "      <td>* - les marchandises principales sont souligne...</td>\n",
       "      <td>14</td>\n",
       "      <td>le le il commentauxes dees sont conigne de le ...</td>\n",
       "      <td>0.501384</td>\n",
       "      <td>0.730862</td>\n",
       "      <td>0.269138</td>\n",
       "      <td>0.526952</td>\n",
       "      <td>0.739248</td>\n",
       "    </tr>\n",
       "    <tr>\n",
       "      <th>1</th>\n",
       "      <td>* - Man srviss are marked ith red color.</td>\n",
       "      <td>* - les services principales sont soulignes pa...</td>\n",
       "      <td>15</td>\n",
       "      <td>le le il comment dees det conignent par le car...</td>\n",
       "      <td>0.501384</td>\n",
       "      <td>0.730885</td>\n",
       "      <td>0.269115</td>\n",
       "      <td>0.549434</td>\n",
       "      <td>0.793300</td>\n",
       "    </tr>\n",
       "    <tr>\n",
       "      <th>2</th>\n",
       "      <td>ervies of laguae translation of the. ..</td>\n",
       "      <td>Services de traduction de la documentation...\\n</td>\n",
       "      <td>14</td>\n",
       "      <td>le de lavauci de l cart,</td>\n",
       "      <td>0.759836</td>\n",
       "      <td>0.730861</td>\n",
       "      <td>0.269139</td>\n",
       "      <td>0.514360</td>\n",
       "      <td>0.604807</td>\n",
       "    </tr>\n",
       "    <tr>\n",
       "      <th>3</th>\n",
       "      <td>An announmet must be commercial charter.</td>\n",
       "      <td>Les messages doivent porter le caractère d’aff...</td>\n",
       "      <td>11</td>\n",
       "      <td>le pro devent un unurctere d'appes, de</td>\n",
       "      <td>0.594604</td>\n",
       "      <td>0.730850</td>\n",
       "      <td>0.269150</td>\n",
       "      <td>0.514300</td>\n",
       "      <td>0.652102</td>\n",
       "    </tr>\n",
       "    <tr>\n",
       "      <th>4</th>\n",
       "      <td>Good and serics avanceme throg the P. O. Box s...</td>\n",
       "      <td>L’avance de ses marchandises et de ses service...</td>\n",
       "      <td>23</td>\n",
       "      <td>le'hotelit de ls enauxes, de las en en leure d...</td>\n",
       "      <td>0.707107</td>\n",
       "      <td>0.730838</td>\n",
       "      <td>0.269162</td>\n",
       "      <td>0.584878</td>\n",
       "      <td>0.670433</td>\n",
       "    </tr>\n",
       "  </tbody>\n",
       "</table>\n",
       "</div>"
      ],
      "text/plain": [
       "                                            original  \\\n",
       "0             * - Main gods are maked with red colr.   \n",
       "1           * - Man srviss are marked ith red color.   \n",
       "2            ervies of laguae translation of the. ..   \n",
       "3           An announmet must be commercial charter.   \n",
       "4  Good and serics avanceme throg the P. O. Box s...   \n",
       "\n",
       "                                            solution  text_len  \\\n",
       "0  * - les marchandises principales sont souligne...        14   \n",
       "1  * - les services principales sont soulignes pa...        15   \n",
       "2    Services de traduction de la documentation...\\n        14   \n",
       "3  Les messages doivent porter le caractère d’aff...        11   \n",
       "4  L’avance de ses marchandises et de ses service...        23   \n",
       "\n",
       "                                      predicted_text      BLEU  \\\n",
       "0  le le il commentauxes dees sont conigne de le ...  0.501384   \n",
       "1  le le il comment dees det conignent par le car...  0.501384   \n",
       "2                           le de lavauci de l cart,  0.759836   \n",
       "3             le pro devent un unurctere d'appes, de  0.594604   \n",
       "4  le'hotelit de ls enauxes, de las en en leure d...  0.707107   \n",
       "\n",
       "   mean_generate_prob  mean_copy_prob  mean_mask_prob  max_mask_prob  \n",
       "0            0.730862        0.269138        0.526952       0.739248  \n",
       "1            0.730885        0.269115        0.549434       0.793300  \n",
       "2            0.730861        0.269139        0.514360       0.604807  \n",
       "3            0.730850        0.269150        0.514300       0.652102  \n",
       "4            0.730838        0.269162        0.584878       0.670433  "
      ]
     },
     "execution_count": 52,
     "metadata": {},
     "output_type": "execute_result"
    }
   ],
   "source": [
    "val.head()"
   ]
  },
  {
   "cell_type": "code",
   "execution_count": 53,
   "metadata": {
    "execution": {
     "iopub.execute_input": "2021-02-02T13:59:57.489264Z",
     "iopub.status.busy": "2021-02-02T13:59:57.488510Z",
     "iopub.status.idle": "2021-02-02T13:59:57.584936Z",
     "shell.execute_reply": "2021-02-02T13:59:57.584316Z"
    },
    "papermill": {
     "duration": 0.312327,
     "end_time": "2021-02-02T13:59:57.585107",
     "exception": false,
     "start_time": "2021-02-02T13:59:57.272780",
     "status": "completed"
    },
    "tags": []
   },
   "outputs": [],
   "source": [
    "import seaborn as sns\n",
    "import matplotlib.pyplot as plt\n"
   ]
  },
  {
   "cell_type": "code",
   "execution_count": 54,
   "metadata": {
    "execution": {
     "iopub.execute_input": "2021-02-02T13:59:58.057342Z",
     "iopub.status.busy": "2021-02-02T13:59:58.056144Z",
     "iopub.status.idle": "2021-02-02T13:59:58.059323Z",
     "shell.execute_reply": "2021-02-02T13:59:58.058438Z"
    },
    "papermill": {
     "duration": 0.262905,
     "end_time": "2021-02-02T13:59:58.059528",
     "exception": false,
     "start_time": "2021-02-02T13:59:57.796623",
     "status": "completed"
    },
    "tags": []
   },
   "outputs": [],
   "source": [
    "# sns.regplot(outputs.WRR_1, outputs.mean_mask_prob)\n",
    "# plt.show()"
   ]
  },
  {
   "cell_type": "code",
   "execution_count": 55,
   "metadata": {
    "execution": {
     "iopub.execute_input": "2021-02-02T13:59:58.665837Z",
     "iopub.status.busy": "2021-02-02T13:59:58.664820Z",
     "iopub.status.idle": "2021-02-02T13:59:59.137597Z",
     "shell.execute_reply": "2021-02-02T13:59:59.138140Z"
    },
    "papermill": {
     "duration": 0.772446,
     "end_time": "2021-02-02T13:59:59.138362",
     "exception": false,
     "start_time": "2021-02-02T13:59:58.365916",
     "status": "completed"
    },
    "tags": []
   },
   "outputs": [
    {
     "name": "stderr",
     "output_type": "stream",
     "text": [
      "/opt/conda/lib/python3.7/site-packages/seaborn/_decorators.py:43: FutureWarning: Pass the following variables as keyword args: x, y. From version 0.12, the only valid positional argument will be `data`, and passing other arguments without an explicit keyword will result in an error or misinterpretation.\n",
      "  FutureWarning\n"
     ]
    },
    {
     "data": {
      "image/png": "[encoded data removed]",
      "text/plain": [
       "<Figure size 432x288 with 1 Axes>"
      ]
     },
     "metadata": {
      "needs_background": "light"
     },
     "output_type": "display_data"
    }
   ],
   "source": [
    "sns.regplot(val.BLEU, val.mean_mask_prob)\n",
    "plt.show()"
   ]
  },
  {
   "cell_type": "code",
   "execution_count": 56,
   "metadata": {
    "execution": {
     "iopub.execute_input": "2021-02-02T13:59:59.573432Z",
     "iopub.status.busy": "2021-02-02T13:59:59.572381Z",
     "iopub.status.idle": "2021-02-02T13:59:59.987646Z",
     "shell.execute_reply": "2021-02-02T13:59:59.988197Z"
    },
    "papermill": {
     "duration": 0.635212,
     "end_time": "2021-02-02T13:59:59.988378",
     "exception": false,
     "start_time": "2021-02-02T13:59:59.353166",
     "status": "completed"
    },
    "tags": []
   },
   "outputs": [
    {
     "name": "stderr",
     "output_type": "stream",
     "text": [
      "/opt/conda/lib/python3.7/site-packages/seaborn/_decorators.py:43: FutureWarning: Pass the following variables as keyword args: x, y. From version 0.12, the only valid positional argument will be `data`, and passing other arguments without an explicit keyword will result in an error or misinterpretation.\n",
      "  FutureWarning\n"
     ]
    },
    {
     "data": {
      "image/png": "[encoded data removed]",
      "text/plain": [
       "<Figure size 432x288 with 1 Axes>"
      ]
     },
     "metadata": {
      "needs_background": "light"
     },
     "output_type": "display_data"
    }
   ],
   "source": [
    "sns.regplot(val.BLEU, val.max_mask_prob)\n",
    "plt.show()"
   ]
  },
  {
   "cell_type": "code",
   "execution_count": null,
   "metadata": {
    "papermill": {
     "duration": 0.218826,
     "end_time": "2021-02-02T14:00:00.423624",
     "exception": false,
     "start_time": "2021-02-02T14:00:00.204798",
     "status": "completed"
    },
    "tags": []
   },
   "outputs": [],
   "source": []
  }
 ],
 "metadata": {
  "kernelspec": {
   "display_name": "Python 3",
   "language": "python",
   "name": "python3"
  },
  "language_info": {
   "codemirror_mode": {
    "name": "ipython",
    "version": 3
   },
   "file_extension": ".py",
   "mimetype": "text/x-python",
   "name": "python",
   "nbconvert_exporter": "python",
   "pygments_lexer": "ipython3",
   "version": "3.7.9"
  },
  "papermill": {
   "default_parameters": {},
   "duration": 4095.289454,
   "end_time": "2021-02-02T14:00:03.881390",
   "environment_variables": {},
   "exception": null,
   "input_path": "__notebook__.ipynb",
   "output_path": "__notebook__.ipynb",
   "parameters": {},
   "start_time": "2021-02-02T12:51:48.591936",
   "version": "2.2.2"
  },
  "widgets": {
   "application/vnd.jupyter.widget-state+json": {
    "state": {
     "069eefe90d2c4dfa8b5913e6551db8f2": {
      "model_module": "@jupyter-widgets/controls",
      "model_module_version": "1.5.0",
      "model_name": "HBoxModel",
      "state": {
       "_dom_classes": [],
       "_model_module": "@jupyter-widgets/controls",
       "_model_module_version": "1.5.0",
       "_model_name": "HBoxModel",
       "_view_count": null,
       "_view_module": "@jupyter-widgets/controls",
       "_view_module_version": "1.5.0",
       "_view_name": "HBoxView",
       "box_style": "",
       "children": [
        "IPY_MODEL_5e5d9a03f8504f528745608ba3115616",
        "IPY_MODEL_c193314652554456be6d7dd92c66e18e",
        "IPY_MODEL_0a538b590dc54ee0aa188cf177bdbdeb"
       ],
       "layout": "IPY_MODEL_c3f1ab73d2894986a5276a7ba3092a6d"
      }
     },
     "0a538b590dc54ee0aa188cf177bdbdeb": {
      "model_module": "@jupyter-widgets/controls",
      "model_module_version": "1.5.0",
      "model_name": "HTMLModel",
      "state": {
       "_dom_classes": [],
       "_model_module": "@jupyter-widgets/controls",
       "_model_module_version": "1.5.0",
       "_model_name": "HTMLModel",
       "_view_count": null,
       "_view_module": "@jupyter-widgets/controls",
       "_view_module_version": "1.5.0",
       "_view_name": "HTMLView",
       "description": "",
       "description_tooltip": null,
       "layout": "IPY_MODEL_2636e744d2cb471cb7f6e8112de34dc4",
       "placeholder": "​",
       "style": "IPY_MODEL_c39c56face504d82988ad36731a0aa3b",
       "value": " 232k/232k [00:00&lt;00:00, 1.46MB/s]"
      }
     },
     "0de48ddf899f40b4a0fc9ede5358534d": {
      "model_module": "@jupyter-widgets/base",
      "model_module_version": "1.2.0",
      "model_name": "LayoutModel",
      "state": {
       "_model_module": "@jupyter-widgets/base",
       "_model_module_version": "1.2.0",
       "_model_name": "LayoutModel",
       "_view_count": null,
       "_view_module": "@jupyter-widgets/base",
       "_view_module_version": "1.2.0",
       "_view_name": "LayoutView",
       "align_content": null,
       "align_items": null,
       "align_self": null,
       "border": null,
       "bottom": null,
       "display": null,
       "flex": null,
       "flex_flow": null,
       "grid_area": null,
       "grid_auto_columns": null,
       "grid_auto_flow": null,
       "grid_auto_rows": null,
       "grid_column": null,
       "grid_gap": null,
       "grid_row": null,
       "grid_template_areas": null,
       "grid_template_columns": null,
       "grid_template_rows": null,
       "height": null,
       "justify_content": null,
       "justify_items": null,
       "left": null,
       "margin": null,
       "max_height": null,
       "max_width": null,
       "min_height": null,
       "min_width": null,
       "object_fit": null,
       "object_position": null,
       "order": null,
       "overflow": null,
       "overflow_x": null,
       "overflow_y": null,
       "padding": null,
       "right": null,
       "top": null,
       "visibility": null,
       "width": null
      }
     },
     "10ea34f290b840c5b5cc501c956e52b5": {
      "model_module": "@jupyter-widgets/base",
      "model_module_version": "1.2.0",
      "model_name": "LayoutModel",
      "state": {
       "_model_module": "@jupyter-widgets/base",
       "_model_module_version": "1.2.0",
       "_model_name": "LayoutModel",
       "_view_count": null,
       "_view_module": "@jupyter-widgets/base",
       "_view_module_version": "1.2.0",
       "_view_name": "LayoutView",
       "align_content": null,
       "align_items": null,
       "align_self": null,
       "border": null,
       "bottom": null,
       "display": null,
       "flex": null,
       "flex_flow": null,
       "grid_area": null,
       "grid_auto_columns": null,
       "grid_auto_flow": null,
       "grid_auto_rows": null,
       "grid_column": null,
       "grid_gap": null,
       "grid_row": null,
       "grid_template_areas": null,
       "grid_template_columns": null,
       "grid_template_rows": null,
       "height": null,
       "justify_content": null,
       "justify_items": null,
       "left": null,
       "margin": null,
       "max_height": null,
       "max_width": null,
       "min_height": null,
       "min_width": null,
       "object_fit": null,
       "object_position": null,
       "order": null,
       "overflow": null,
       "overflow_x": null,
       "overflow_y": null,
       "padding": null,
       "right": null,
       "top": null,
       "visibility": null,
       "width": null
      }
     },
     "1287ac66993d4969ad5090467c278cc7": {
      "model_module": "@jupyter-widgets/controls",
      "model_module_version": "1.5.0",
      "model_name": "ProgressStyleModel",
      "state": {
       "_model_module": "@jupyter-widgets/controls",
       "_model_module_version": "1.5.0",
       "_model_name": "ProgressStyleModel",
       "_view_count": null,
       "_view_module": "@jupyter-widgets/base",
       "_view_module_version": "1.2.0",
       "_view_name": "StyleView",
       "bar_color": null,
       "description_width": ""
      }
     },
     "135219f5d7dc48c1819c855d26a8abfd": {
      "model_module": "@jupyter-widgets/controls",
      "model_module_version": "1.5.0",
      "model_name": "HTMLModel",
      "state": {
       "_dom_classes": [],
       "_model_module": "@jupyter-widgets/controls",
       "_model_module_version": "1.5.0",
       "_model_name": "HTMLModel",
       "_view_count": null,
       "_view_module": "@jupyter-widgets/controls",
       "_view_module_version": "1.5.0",
       "_view_name": "HTMLView",
       "description": "",
       "description_tooltip": null,
       "layout": "IPY_MODEL_ccf4383f96764992b3f6151d1f43c38a",
       "placeholder": "​",
       "style": "IPY_MODEL_30df69131c0546e3acb031727c4a6f12",
       "value": "Downloading: 100%"
      }
     },
     "159ad84becc547b58e0c0f9a49227703": {
      "model_module": "@jupyter-widgets/controls",
      "model_module_version": "1.5.0",
      "model_name": "HTMLModel",
      "state": {
       "_dom_classes": [],
       "_model_module": "@jupyter-widgets/controls",
       "_model_module_version": "1.5.0",
       "_model_name": "HTMLModel",
       "_view_count": null,
       "_view_module": "@jupyter-widgets/controls",
       "_view_module_version": "1.5.0",
       "_view_name": "HTMLView",
       "description": "",
       "description_tooltip": null,
       "layout": "IPY_MODEL_dc5847983e404e2996cd58f7dda81bf8",
       "placeholder": "​",
       "style": "IPY_MODEL_c676de30cead4c5fb98e29517fa463b6",
       "value": " 441M/441M [00:13&lt;00:00, 33.7MB/s]"
      }
     },
     "1c5200708611400dad2f2a80c83035f3": {
      "model_module": "@jupyter-widgets/base",
      "model_module_version": "1.2.0",
      "model_name": "LayoutModel",
      "state": {
       "_model_module": "@jupyter-widgets/base",
       "_model_module_version": "1.2.0",
       "_model_name": "LayoutModel",
       "_view_count": null,
       "_view_module": "@jupyter-widgets/base",
       "_view_module_version": "1.2.0",
       "_view_name": "LayoutView",
       "align_content": null,
       "align_items": null,
       "align_self": null,
       "border": null,
       "bottom": null,
       "display": null,
       "flex": null,
       "flex_flow": null,
       "grid_area": null,
       "grid_auto_columns": null,
       "grid_auto_flow": null,
       "grid_auto_rows": null,
       "grid_column": null,
       "grid_gap": null,
       "grid_row": null,
       "grid_template_areas": null,
       "grid_template_columns": null,
       "grid_template_rows": null,
       "height": null,
       "justify_content": null,
       "justify_items": null,
       "left": null,
       "margin": null,
       "max_height": null,
       "max_width": null,
       "min_height": null,
       "min_width": null,
       "object_fit": null,
       "object_position": null,
       "order": null,
       "overflow": null,
       "overflow_x": null,
       "overflow_y": null,
       "padding": null,
       "right": null,
       "top": null,
       "visibility": null,
       "width": null
      }
     },
     "20287609728e47bb933334b8e1375e6d": {
      "model_module": "@jupyter-widgets/controls",
      "model_module_version": "1.5.0",
      "model_name": "DescriptionStyleModel",
      "state": {
       "_model_module": "@jupyter-widgets/controls",
       "_model_module_version": "1.5.0",
       "_model_name": "DescriptionStyleModel",
       "_view_count": null,
       "_view_module": "@jupyter-widgets/base",
       "_view_module_version": "1.2.0",
       "_view_name": "StyleView",
       "description_width": ""
      }
     },
     "230b371ed6764806ad6c043395d59e93": {
      "model_module": "@jupyter-widgets/controls",
      "model_module_version": "1.5.0",
      "model_name": "DescriptionStyleModel",
      "state": {
       "_model_module": "@jupyter-widgets/controls",
       "_model_module_version": "1.5.0",
       "_model_name": "DescriptionStyleModel",
       "_view_count": null,
       "_view_module": "@jupyter-widgets/base",
       "_view_module_version": "1.2.0",
       "_view_name": "StyleView",
       "description_width": ""
      }
     },
     "2636e744d2cb471cb7f6e8112de34dc4": {
      "model_module": "@jupyter-widgets/base",
      "model_module_version": "1.2.0",
      "model_name": "LayoutModel",
      "state": {
       "_model_module": "@jupyter-widgets/base",
       "_model_module_version": "1.2.0",
       "_model_name": "LayoutModel",
       "_view_count": null,
       "_view_module": "@jupyter-widgets/base",
       "_view_module_version": "1.2.0",
       "_view_name": "LayoutView",
       "align_content": null,
       "align_items": null,
       "align_self": null,
       "border": null,
       "bottom": null,
       "display": null,
       "flex": null,
       "flex_flow": null,
       "grid_area": null,
       "grid_auto_columns": null,
       "grid_auto_flow": null,
       "grid_auto_rows": null,
       "grid_column": null,
       "grid_gap": null,
       "grid_row": null,
       "grid_template_areas": null,
       "grid_template_columns": null,
       "grid_template_rows": null,
       "height": null,
       "justify_content": null,
       "justify_items": null,
       "left": null,
       "margin": null,
       "max_height": null,
       "max_width": null,
       "min_height": null,
       "min_width": null,
       "object_fit": null,
       "object_position": null,
       "order": null,
       "overflow": null,
       "overflow_x": null,
       "overflow_y": null,
       "padding": null,
       "right": null,
       "top": null,
       "visibility": null,
       "width": null
      }
     },
     "27714ec5650648b2b0bf838eb471c37d": {
      "model_module": "@jupyter-widgets/controls",
      "model_module_version": "1.5.0",
      "model_name": "DescriptionStyleModel",
      "state": {
       "_model_module": "@jupyter-widgets/controls",
       "_model_module_version": "1.5.0",
       "_model_name": "DescriptionStyleModel",
       "_view_count": null,
       "_view_module": "@jupyter-widgets/base",
       "_view_module_version": "1.2.0",
       "_view_name": "StyleView",
       "description_width": ""
      }
     },
     "27c80aa57b534b52a0c53ea415c34418": {
      "model_module": "@jupyter-widgets/base",
      "model_module_version": "1.2.0",
      "model_name": "LayoutModel",
      "state": {
       "_model_module": "@jupyter-widgets/base",
       "_model_module_version": "1.2.0",
       "_model_name": "LayoutModel",
       "_view_count": null,
       "_view_module": "@jupyter-widgets/base",
       "_view_module_version": "1.2.0",
       "_view_name": "LayoutView",
       "align_content": null,
       "align_items": null,
       "align_self": null,
       "border": null,
       "bottom": null,
       "display": null,
       "flex": null,
       "flex_flow": null,
       "grid_area": null,
       "grid_auto_columns": null,
       "grid_auto_flow": null,
       "grid_auto_rows": null,
       "grid_column": null,
       "grid_gap": null,
       "grid_row": null,
       "grid_template_areas": null,
       "grid_template_columns": null,
       "grid_template_rows": null,
       "height": null,
       "justify_content": null,
       "justify_items": null,
       "left": null,
       "margin": null,
       "max_height": null,
       "max_width": null,
       "min_height": null,
       "min_width": null,
       "object_fit": null,
       "object_position": null,
       "order": null,
       "overflow": null,
       "overflow_x": null,
       "overflow_y": null,
       "padding": null,
       "right": null,
       "top": null,
       "visibility": null,
       "width": null
      }
     },
     "30df69131c0546e3acb031727c4a6f12": {
      "model_module": "@jupyter-widgets/controls",
      "model_module_version": "1.5.0",
      "model_name": "DescriptionStyleModel",
      "state": {
       "_model_module": "@jupyter-widgets/controls",
       "_model_module_version": "1.5.0",
       "_model_name": "DescriptionStyleModel",
       "_view_count": null,
       "_view_module": "@jupyter-widgets/base",
       "_view_module_version": "1.2.0",
       "_view_name": "StyleView",
       "description_width": ""
      }
     },
     "350486e6c9314f07b1482073b773aa09": {
      "model_module": "@jupyter-widgets/controls",
      "model_module_version": "1.5.0",
      "model_name": "FloatProgressModel",
      "state": {
       "_dom_classes": [],
       "_model_module": "@jupyter-widgets/controls",
       "_model_module_version": "1.5.0",
       "_model_name": "FloatProgressModel",
       "_view_count": null,
       "_view_module": "@jupyter-widgets/controls",
       "_view_module_version": "1.5.0",
       "_view_name": "ProgressView",
       "bar_style": "success",
       "description": "",
       "description_tooltip": null,
       "layout": "IPY_MODEL_8ded88eba28c43a785950ec448272ff5",
       "max": 231508.0,
       "min": 0.0,
       "orientation": "horizontal",
       "style": "IPY_MODEL_9ca0818a8d0d436e9797a881221a2bbd",
       "value": 231508.0
      }
     },
     "446eea7905b641aaa863f5f6fe93c8ea": {
      "model_module": "@jupyter-widgets/controls",
      "model_module_version": "1.5.0",
      "model_name": "HBoxModel",
      "state": {
       "_dom_classes": [],
       "_model_module": "@jupyter-widgets/controls",
       "_model_module_version": "1.5.0",
       "_model_name": "HBoxModel",
       "_view_count": null,
       "_view_module": "@jupyter-widgets/controls",
       "_view_module_version": "1.5.0",
       "_view_name": "HBoxView",
       "box_style": "",
       "children": [
        "IPY_MODEL_58a3d2ae3d504cda8d276f0e108cc283",
        "IPY_MODEL_b527b1f6dbb443a4a391c67558d63c9b",
        "IPY_MODEL_a5e6db908bd24f87b312edc0c52a383d"
       ],
       "layout": "IPY_MODEL_8f8c24c057d04df4917538215e3d138e"
      }
     },
     "4a9e8b83cfa44fdb8e3d45151d4787bf": {
      "model_module": "@jupyter-widgets/controls",
      "model_module_version": "1.5.0",
      "model_name": "HBoxModel",
      "state": {
       "_dom_classes": [],
       "_model_module": "@jupyter-widgets/controls",
       "_model_module_version": "1.5.0",
       "_model_name": "HBoxModel",
       "_view_count": null,
       "_view_module": "@jupyter-widgets/controls",
       "_view_module_version": "1.5.0",
       "_view_name": "HBoxView",
       "box_style": "",
       "children": [
        "IPY_MODEL_dae874fe2c28496a840ffe75f197f291",
        "IPY_MODEL_350486e6c9314f07b1482073b773aa09",
        "IPY_MODEL_d1040ae4406e4bcabf21cccaddfd1063"
       ],
       "layout": "IPY_MODEL_1c5200708611400dad2f2a80c83035f3"
      }
     },
     "58a3d2ae3d504cda8d276f0e108cc283": {
      "model_module": "@jupyter-widgets/controls",
      "model_module_version": "1.5.0",
      "model_name": "HTMLModel",
      "state": {
       "_dom_classes": [],
       "_model_module": "@jupyter-widgets/controls",
       "_model_module_version": "1.5.0",
       "_model_name": "HTMLModel",
       "_view_count": null,
       "_view_module": "@jupyter-widgets/controls",
       "_view_module_version": "1.5.0",
       "_view_name": "HTMLView",
       "description": "",
       "description_tooltip": null,
       "layout": "IPY_MODEL_950b3b2bda6646819d7f810e277c247f",
       "placeholder": "​",
       "style": "IPY_MODEL_df4efe36c16d4e4590d6d268cf71cac6",
       "value": "Downloading: 100%"
      }
     },
     "5c386af31b7b42a59c723ffe2bd041e5": {
      "model_module": "@jupyter-widgets/controls",
      "model_module_version": "1.5.0",
      "model_name": "ProgressStyleModel",
      "state": {
       "_model_module": "@jupyter-widgets/controls",
       "_model_module_version": "1.5.0",
       "_model_name": "ProgressStyleModel",
       "_view_count": null,
       "_view_module": "@jupyter-widgets/base",
       "_view_module_version": "1.2.0",
       "_view_name": "StyleView",
       "bar_color": null,
       "description_width": ""
      }
     },
     "5e5d9a03f8504f528745608ba3115616": {
      "model_module": "@jupyter-widgets/controls",
      "model_module_version": "1.5.0",
      "model_name": "HTMLModel",
      "state": {
       "_dom_classes": [],
       "_model_module": "@jupyter-widgets/controls",
       "_model_module_version": "1.5.0",
       "_model_name": "HTMLModel",
       "_view_count": null,
       "_view_module": "@jupyter-widgets/controls",
       "_view_module_version": "1.5.0",
       "_view_name": "HTMLView",
       "description": "",
       "description_tooltip": null,
       "layout": "IPY_MODEL_998867efba3b40539e545dc6a3e1a8b9",
       "placeholder": "​",
       "style": "IPY_MODEL_dc652232d11844b1ad19913edd8b84bb",
       "value": "Downloading: 100%"
      }
     },
     "5e6c00998f794862bca6187dfbc94649": {
      "model_module": "@jupyter-widgets/controls",
      "model_module_version": "1.5.0",
      "model_name": "HBoxModel",
      "state": {
       "_dom_classes": [],
       "_model_module": "@jupyter-widgets/controls",
       "_model_module_version": "1.5.0",
       "_model_name": "HBoxModel",
       "_view_count": null,
       "_view_module": "@jupyter-widgets/controls",
       "_view_module_version": "1.5.0",
       "_view_name": "HBoxView",
       "box_style": "",
       "children": [
        "IPY_MODEL_86f5bb4c360a46659a299b1b2f934425",
        "IPY_MODEL_807a795fa8334525a15f8d3efb6e1bc9",
        "IPY_MODEL_9495f4cdea014f2e924d410fc9808c09"
       ],
       "layout": "IPY_MODEL_d648392e56044e28a0d132d0ec6218bc"
      }
     },
     "5f2b3ae96fd8402cafc496023cdb14a2": {
      "model_module": "@jupyter-widgets/controls",
      "model_module_version": "1.5.0",
      "model_name": "DescriptionStyleModel",
      "state": {
       "_model_module": "@jupyter-widgets/controls",
       "_model_module_version": "1.5.0",
       "_model_name": "DescriptionStyleModel",
       "_view_count": null,
       "_view_module": "@jupyter-widgets/base",
       "_view_module_version": "1.2.0",
       "_view_name": "StyleView",
       "description_width": ""
      }
     },
     "5fae353495474f808ffe0756f2455ea3": {
      "model_module": "@jupyter-widgets/controls",
      "model_module_version": "1.5.0",
      "model_name": "FloatProgressModel",
      "state": {
       "_dom_classes": [],
       "_model_module": "@jupyter-widgets/controls",
       "_model_module_version": "1.5.0",
       "_model_name": "FloatProgressModel",
       "_view_count": null,
       "_view_module": "@jupyter-widgets/controls",
       "_view_module_version": "1.5.0",
       "_view_name": "ProgressView",
       "bar_style": "success",
       "description": "",
       "description_tooltip": null,
       "layout": "IPY_MODEL_0de48ddf899f40b4a0fc9ede5358534d",
       "max": 440512299.0,
       "min": 0.0,
       "orientation": "horizontal",
       "style": "IPY_MODEL_1287ac66993d4969ad5090467c278cc7",
       "value": 440512299.0
      }
     },
     "67ecd0ea12084a169d1ac7a5f586a957": {
      "model_module": "@jupyter-widgets/base",
      "model_module_version": "1.2.0",
      "model_name": "LayoutModel",
      "state": {
       "_model_module": "@jupyter-widgets/base",
       "_model_module_version": "1.2.0",
       "_model_name": "LayoutModel",
       "_view_count": null,
       "_view_module": "@jupyter-widgets/base",
       "_view_module_version": "1.2.0",
       "_view_name": "LayoutView",
       "align_content": null,
       "align_items": null,
       "align_self": null,
       "border": null,
       "bottom": null,
       "display": null,
       "flex": null,
       "flex_flow": null,
       "grid_area": null,
       "grid_auto_columns": null,
       "grid_auto_flow": null,
       "grid_auto_rows": null,
       "grid_column": null,
       "grid_gap": null,
       "grid_row": null,
       "grid_template_areas": null,
       "grid_template_columns": null,
       "grid_template_rows": null,
       "height": null,
       "justify_content": null,
       "justify_items": null,
       "left": null,
       "margin": null,
       "max_height": null,
       "max_width": null,
       "min_height": null,
       "min_width": null,
       "object_fit": null,
       "object_position": null,
       "order": null,
       "overflow": null,
       "overflow_x": null,
       "overflow_y": null,
       "padding": null,
       "right": null,
       "top": null,
       "visibility": null,
       "width": null
      }
     },
     "7478224aee944da3a1ff90b52889981f": {
      "model_module": "@jupyter-widgets/controls",
      "model_module_version": "1.5.0",
      "model_name": "HBoxModel",
      "state": {
       "_dom_classes": [],
       "_model_module": "@jupyter-widgets/controls",
       "_model_module_version": "1.5.0",
       "_model_name": "HBoxModel",
       "_view_count": null,
       "_view_module": "@jupyter-widgets/controls",
       "_view_module_version": "1.5.0",
       "_view_name": "HBoxView",
       "box_style": "",
       "children": [
        "IPY_MODEL_daff7ba788be4473b313a1cad82b17b1",
        "IPY_MODEL_5fae353495474f808ffe0756f2455ea3",
        "IPY_MODEL_159ad84becc547b58e0c0f9a49227703"
       ],
       "layout": "IPY_MODEL_88d05cd40da641a28e2ad6b7286770bc"
      }
     },
     "79eb678b3aa94a68bef4b492b49aad04": {
      "model_module": "@jupyter-widgets/controls",
      "model_module_version": "1.5.0",
      "model_name": "HBoxModel",
      "state": {
       "_dom_classes": [],
       "_model_module": "@jupyter-widgets/controls",
       "_model_module_version": "1.5.0",
       "_model_name": "HBoxModel",
       "_view_count": null,
       "_view_module": "@jupyter-widgets/controls",
       "_view_module_version": "1.5.0",
       "_view_name": "HBoxView",
       "box_style": "",
       "children": [
        "IPY_MODEL_135219f5d7dc48c1819c855d26a8abfd",
        "IPY_MODEL_7f05701a8842481b9134cff6c50aa7fb",
        "IPY_MODEL_853a11d707a140d5931013bf3f5f153f"
       ],
       "layout": "IPY_MODEL_896e488a32554066b5f686df93c1cbdb"
      }
     },
     "7bd54cdac1bb4d6f9fd465fd627c3d4f": {
      "model_module": "@jupyter-widgets/controls",
      "model_module_version": "1.5.0",
      "model_name": "DescriptionStyleModel",
      "state": {
       "_model_module": "@jupyter-widgets/controls",
       "_model_module_version": "1.5.0",
       "_model_name": "DescriptionStyleModel",
       "_view_count": null,
       "_view_module": "@jupyter-widgets/base",
       "_view_module_version": "1.2.0",
       "_view_name": "StyleView",
       "description_width": ""
      }
     },
     "7f05701a8842481b9134cff6c50aa7fb": {
      "model_module": "@jupyter-widgets/controls",
      "model_module_version": "1.5.0",
      "model_name": "FloatProgressModel",
      "state": {
       "_dom_classes": [],
       "_model_module": "@jupyter-widgets/controls",
       "_model_module_version": "1.5.0",
       "_model_name": "FloatProgressModel",
       "_view_count": null,
       "_view_module": "@jupyter-widgets/controls",
       "_view_module_version": "1.5.0",
       "_view_name": "ProgressView",
       "bar_style": "success",
       "description": "",
       "description_tooltip": null,
       "layout": "IPY_MODEL_8bdc06b15ba74e31a2f28677defedc8a",
       "max": 440473133.0,
       "min": 0.0,
       "orientation": "horizontal",
       "style": "IPY_MODEL_5c386af31b7b42a59c723ffe2bd041e5",
       "value": 440473133.0
      }
     },
     "807a795fa8334525a15f8d3efb6e1bc9": {
      "model_module": "@jupyter-widgets/controls",
      "model_module_version": "1.5.0",
      "model_name": "FloatProgressModel",
      "state": {
       "_dom_classes": [],
       "_model_module": "@jupyter-widgets/controls",
       "_model_module_version": "1.5.0",
       "_model_name": "FloatProgressModel",
       "_view_count": null,
       "_view_module": "@jupyter-widgets/controls",
       "_view_module_version": "1.5.0",
       "_view_name": "ProgressView",
       "bar_style": "success",
       "description": "",
       "description_tooltip": null,
       "layout": "IPY_MODEL_fc3b0551456d4653bf5a088f9cc91aba",
       "max": 313.0,
       "min": 0.0,
       "orientation": "horizontal",
       "style": "IPY_MODEL_94066d43031f4c659a90832f543d1e17",
       "value": 313.0
      }
     },
     "81350305eaa4468cac15a903df23d6f9": {
      "model_module": "@jupyter-widgets/controls",
      "model_module_version": "1.5.0",
      "model_name": "HTMLModel",
      "state": {
       "_dom_classes": [],
       "_model_module": "@jupyter-widgets/controls",
       "_model_module_version": "1.5.0",
       "_model_name": "HTMLModel",
       "_view_count": null,
       "_view_module": "@jupyter-widgets/controls",
       "_view_module_version": "1.5.0",
       "_view_name": "HTMLView",
       "description": "",
       "description_tooltip": null,
       "layout": "IPY_MODEL_d72559358bab4c03899b69aaa29a82f8",
       "placeholder": "​",
       "style": "IPY_MODEL_20287609728e47bb933334b8e1375e6d",
       "value": " 466k/466k [00:00&lt;00:00, 1.51MB/s]"
      }
     },
     "853a11d707a140d5931013bf3f5f153f": {
      "model_module": "@jupyter-widgets/controls",
      "model_module_version": "1.5.0",
      "model_name": "HTMLModel",
      "state": {
       "_dom_classes": [],
       "_model_module": "@jupyter-widgets/controls",
       "_model_module_version": "1.5.0",
       "_model_name": "HTMLModel",
       "_view_count": null,
       "_view_module": "@jupyter-widgets/controls",
       "_view_module_version": "1.5.0",
       "_view_name": "HTMLView",
       "description": "",
       "description_tooltip": null,
       "layout": "IPY_MODEL_27c80aa57b534b52a0c53ea415c34418",
       "placeholder": "​",
       "style": "IPY_MODEL_7bd54cdac1bb4d6f9fd465fd627c3d4f",
       "value": " 440M/440M [00:13&lt;00:00, 31.3MB/s]"
      }
     },
     "86f5bb4c360a46659a299b1b2f934425": {
      "model_module": "@jupyter-widgets/controls",
      "model_module_version": "1.5.0",
      "model_name": "HTMLModel",
      "state": {
       "_dom_classes": [],
       "_model_module": "@jupyter-widgets/controls",
       "_model_module_version": "1.5.0",
       "_model_name": "HTMLModel",
       "_view_count": null,
       "_view_module": "@jupyter-widgets/controls",
       "_view_module_version": "1.5.0",
       "_view_name": "HTMLView",
       "description": "",
       "description_tooltip": null,
       "layout": "IPY_MODEL_f6262d50e6504a2aade86882d7fefcc5",
       "placeholder": "​",
       "style": "IPY_MODEL_b68a601125ac436f86ed092566e44719",
       "value": "Downloading: 100%"
      }
     },
     "88d05cd40da641a28e2ad6b7286770bc": {
      "model_module": "@jupyter-widgets/base",
      "model_module_version": "1.2.0",
      "model_name": "LayoutModel",
      "state": {
       "_model_module": "@jupyter-widgets/base",
       "_model_module_version": "1.2.0",
       "_model_name": "LayoutModel",
       "_view_count": null,
       "_view_module": "@jupyter-widgets/base",
       "_view_module_version": "1.2.0",
       "_view_name": "LayoutView",
       "align_content": null,
       "align_items": null,
       "align_self": null,
       "border": null,
       "bottom": null,
       "display": null,
       "flex": null,
       "flex_flow": null,
       "grid_area": null,
       "grid_auto_columns": null,
       "grid_auto_flow": null,
       "grid_auto_rows": null,
       "grid_column": null,
       "grid_gap": null,
       "grid_row": null,
       "grid_template_areas": null,
       "grid_template_columns": null,
       "grid_template_rows": null,
       "height": null,
       "justify_content": null,
       "justify_items": null,
       "left": null,
       "margin": null,
       "max_height": null,
       "max_width": null,
       "min_height": null,
       "min_width": null,
       "object_fit": null,
       "object_position": null,
       "order": null,
       "overflow": null,
       "overflow_x": null,
       "overflow_y": null,
       "padding": null,
       "right": null,
       "top": null,
       "visibility": null,
       "width": null
      }
     },
     "896e488a32554066b5f686df93c1cbdb": {
      "model_module": "@jupyter-widgets/base",
      "model_module_version": "1.2.0",
      "model_name": "LayoutModel",
      "state": {
       "_model_module": "@jupyter-widgets/base",
       "_model_module_version": "1.2.0",
       "_model_name": "LayoutModel",
       "_view_count": null,
       "_view_module": "@jupyter-widgets/base",
       "_view_module_version": "1.2.0",
       "_view_name": "LayoutView",
       "align_content": null,
       "align_items": null,
       "align_self": null,
       "border": null,
       "bottom": null,
       "display": null,
       "flex": null,
       "flex_flow": null,
       "grid_area": null,
       "grid_auto_columns": null,
       "grid_auto_flow": null,
       "grid_auto_rows": null,
       "grid_column": null,
       "grid_gap": null,
       "grid_row": null,
       "grid_template_areas": null,
       "grid_template_columns": null,
       "grid_template_rows": null,
       "height": null,
       "justify_content": null,
       "justify_items": null,
       "left": null,
       "margin": null,
       "max_height": null,
       "max_width": null,
       "min_height": null,
       "min_width": null,
       "object_fit": null,
       "object_position": null,
       "order": null,
       "overflow": null,
       "overflow_x": null,
       "overflow_y": null,
       "padding": null,
       "right": null,
       "top": null,
       "visibility": null,
       "width": null
      }
     },
     "8bdc06b15ba74e31a2f28677defedc8a": {
      "model_module": "@jupyter-widgets/base",
      "model_module_version": "1.2.0",
      "model_name": "LayoutModel",
      "state": {
       "_model_module": "@jupyter-widgets/base",
       "_model_module_version": "1.2.0",
       "_model_name": "LayoutModel",
       "_view_count": null,
       "_view_module": "@jupyter-widgets/base",
       "_view_module_version": "1.2.0",
       "_view_name": "LayoutView",
       "align_content": null,
       "align_items": null,
       "align_self": null,
       "border": null,
       "bottom": null,
       "display": null,
       "flex": null,
       "flex_flow": null,
       "grid_area": null,
       "grid_auto_columns": null,
       "grid_auto_flow": null,
       "grid_auto_rows": null,
       "grid_column": null,
       "grid_gap": null,
       "grid_row": null,
       "grid_template_areas": null,
       "grid_template_columns": null,
       "grid_template_rows": null,
       "height": null,
       "justify_content": null,
       "justify_items": null,
       "left": null,
       "margin": null,
       "max_height": null,
       "max_width": null,
       "min_height": null,
       "min_width": null,
       "object_fit": null,
       "object_position": null,
       "order": null,
       "overflow": null,
       "overflow_x": null,
       "overflow_y": null,
       "padding": null,
       "right": null,
       "top": null,
       "visibility": null,
       "width": null
      }
     },
     "8ded88eba28c43a785950ec448272ff5": {
      "model_module": "@jupyter-widgets/base",
      "model_module_version": "1.2.0",
      "model_name": "LayoutModel",
      "state": {
       "_model_module": "@jupyter-widgets/base",
       "_model_module_version": "1.2.0",
       "_model_name": "LayoutModel",
       "_view_count": null,
       "_view_module": "@jupyter-widgets/base",
       "_view_module_version": "1.2.0",
       "_view_name": "LayoutView",
       "align_content": null,
       "align_items": null,
       "align_self": null,
       "border": null,
       "bottom": null,
       "display": null,
       "flex": null,
       "flex_flow": null,
       "grid_area": null,
       "grid_auto_columns": null,
       "grid_auto_flow": null,
       "grid_auto_rows": null,
       "grid_column": null,
       "grid_gap": null,
       "grid_row": null,
       "grid_template_areas": null,
       "grid_template_columns": null,
       "grid_template_rows": null,
       "height": null,
       "justify_content": null,
       "justify_items": null,
       "left": null,
       "margin": null,
       "max_height": null,
       "max_width": null,
       "min_height": null,
       "min_width": null,
       "object_fit": null,
       "object_position": null,
       "order": null,
       "overflow": null,
       "overflow_x": null,
       "overflow_y": null,
       "padding": null,
       "right": null,
       "top": null,
       "visibility": null,
       "width": null
      }
     },
     "8f0f373827df43d7bafbde0c50bc19f3": {
      "model_module": "@jupyter-widgets/base",
      "model_module_version": "1.2.0",
      "model_name": "LayoutModel",
      "state": {
       "_model_module": "@jupyter-widgets/base",
       "_model_module_version": "1.2.0",
       "_model_name": "LayoutModel",
       "_view_count": null,
       "_view_module": "@jupyter-widgets/base",
       "_view_module_version": "1.2.0",
       "_view_name": "LayoutView",
       "align_content": null,
       "align_items": null,
       "align_self": null,
       "border": null,
       "bottom": null,
       "display": null,
       "flex": null,
       "flex_flow": null,
       "grid_area": null,
       "grid_auto_columns": null,
       "grid_auto_flow": null,
       "grid_auto_rows": null,
       "grid_column": null,
       "grid_gap": null,
       "grid_row": null,
       "grid_template_areas": null,
       "grid_template_columns": null,
       "grid_template_rows": null,
       "height": null,
       "justify_content": null,
       "justify_items": null,
       "left": null,
       "margin": null,
       "max_height": null,
       "max_width": null,
       "min_height": null,
       "min_width": null,
       "object_fit": null,
       "object_position": null,
       "order": null,
       "overflow": null,
       "overflow_x": null,
       "overflow_y": null,
       "padding": null,
       "right": null,
       "top": null,
       "visibility": null,
       "width": null
      }
     },
     "8f8c24c057d04df4917538215e3d138e": {
      "model_module": "@jupyter-widgets/base",
      "model_module_version": "1.2.0",
      "model_name": "LayoutModel",
      "state": {
       "_model_module": "@jupyter-widgets/base",
       "_model_module_version": "1.2.0",
       "_model_name": "LayoutModel",
       "_view_count": null,
       "_view_module": "@jupyter-widgets/base",
       "_view_module_version": "1.2.0",
       "_view_name": "LayoutView",
       "align_content": null,
       "align_items": null,
       "align_self": null,
       "border": null,
       "bottom": null,
       "display": null,
       "flex": null,
       "flex_flow": null,
       "grid_area": null,
       "grid_auto_columns": null,
       "grid_auto_flow": null,
       "grid_auto_rows": null,
       "grid_column": null,
       "grid_gap": null,
       "grid_row": null,
       "grid_template_areas": null,
       "grid_template_columns": null,
       "grid_template_rows": null,
       "height": null,
       "justify_content": null,
       "justify_items": null,
       "left": null,
       "margin": null,
       "max_height": null,
       "max_width": null,
       "min_height": null,
       "min_width": null,
       "object_fit": null,
       "object_position": null,
       "order": null,
       "overflow": null,
       "overflow_x": null,
       "overflow_y": null,
       "padding": null,
       "right": null,
       "top": null,
       "visibility": null,
       "width": null
      }
     },
     "8fb3c5f5e5be487293a5d363f8e579ea": {
      "model_module": "@jupyter-widgets/base",
      "model_module_version": "1.2.0",
      "model_name": "LayoutModel",
      "state": {
       "_model_module": "@jupyter-widgets/base",
       "_model_module_version": "1.2.0",
       "_model_name": "LayoutModel",
       "_view_count": null,
       "_view_module": "@jupyter-widgets/base",
       "_view_module_version": "1.2.0",
       "_view_name": "LayoutView",
       "align_content": null,
       "align_items": null,
       "align_self": null,
       "border": null,
       "bottom": null,
       "display": null,
       "flex": null,
       "flex_flow": null,
       "grid_area": null,
       "grid_auto_columns": null,
       "grid_auto_flow": null,
       "grid_auto_rows": null,
       "grid_column": null,
       "grid_gap": null,
       "grid_row": null,
       "grid_template_areas": null,
       "grid_template_columns": null,
       "grid_template_rows": null,
       "height": null,
       "justify_content": null,
       "justify_items": null,
       "left": null,
       "margin": null,
       "max_height": null,
       "max_width": null,
       "min_height": null,
       "min_width": null,
       "object_fit": null,
       "object_position": null,
       "order": null,
       "overflow": null,
       "overflow_x": null,
       "overflow_y": null,
       "padding": null,
       "right": null,
       "top": null,
       "visibility": null,
       "width": null
      }
     },
     "94066d43031f4c659a90832f543d1e17": {
      "model_module": "@jupyter-widgets/controls",
      "model_module_version": "1.5.0",
      "model_name": "ProgressStyleModel",
      "state": {
       "_model_module": "@jupyter-widgets/controls",
       "_model_module_version": "1.5.0",
       "_model_name": "ProgressStyleModel",
       "_view_count": null,
       "_view_module": "@jupyter-widgets/base",
       "_view_module_version": "1.2.0",
       "_view_name": "StyleView",
       "bar_color": null,
       "description_width": ""
      }
     },
     "9495f4cdea014f2e924d410fc9808c09": {
      "model_module": "@jupyter-widgets/controls",
      "model_module_version": "1.5.0",
      "model_name": "HTMLModel",
      "state": {
       "_dom_classes": [],
       "_model_module": "@jupyter-widgets/controls",
       "_model_module_version": "1.5.0",
       "_model_name": "HTMLModel",
       "_view_count": null,
       "_view_module": "@jupyter-widgets/controls",
       "_view_module_version": "1.5.0",
       "_view_name": "HTMLView",
       "description": "",
       "description_tooltip": null,
       "layout": "IPY_MODEL_8fb3c5f5e5be487293a5d363f8e579ea",
       "placeholder": "​",
       "style": "IPY_MODEL_230b371ed6764806ad6c043395d59e93",
       "value": " 313/313 [00:00&lt;00:00, 8.40kB/s]"
      }
     },
     "950b3b2bda6646819d7f810e277c247f": {
      "model_module": "@jupyter-widgets/base",
      "model_module_version": "1.2.0",
      "model_name": "LayoutModel",
      "state": {
       "_model_module": "@jupyter-widgets/base",
       "_model_module_version": "1.2.0",
       "_model_name": "LayoutModel",
       "_view_count": null,
       "_view_module": "@jupyter-widgets/base",
       "_view_module_version": "1.2.0",
       "_view_name": "LayoutView",
       "align_content": null,
       "align_items": null,
       "align_self": null,
       "border": null,
       "bottom": null,
       "display": null,
       "flex": null,
       "flex_flow": null,
       "grid_area": null,
       "grid_auto_columns": null,
       "grid_auto_flow": null,
       "grid_auto_rows": null,
       "grid_column": null,
       "grid_gap": null,
       "grid_row": null,
       "grid_template_areas": null,
       "grid_template_columns": null,
       "grid_template_rows": null,
       "height": null,
       "justify_content": null,
       "justify_items": null,
       "left": null,
       "margin": null,
       "max_height": null,
       "max_width": null,
       "min_height": null,
       "min_width": null,
       "object_fit": null,
       "object_position": null,
       "order": null,
       "overflow": null,
       "overflow_x": null,
       "overflow_y": null,
       "padding": null,
       "right": null,
       "top": null,
       "visibility": null,
       "width": null
      }
     },
     "998867efba3b40539e545dc6a3e1a8b9": {
      "model_module": "@jupyter-widgets/base",
      "model_module_version": "1.2.0",
      "model_name": "LayoutModel",
      "state": {
       "_model_module": "@jupyter-widgets/base",
       "_model_module_version": "1.2.0",
       "_model_name": "LayoutModel",
       "_view_count": null,
       "_view_module": "@jupyter-widgets/base",
       "_view_module_version": "1.2.0",
       "_view_name": "LayoutView",
       "align_content": null,
       "align_items": null,
       "align_self": null,
       "border": null,
       "bottom": null,
       "display": null,
       "flex": null,
       "flex_flow": null,
       "grid_area": null,
       "grid_auto_columns": null,
       "grid_auto_flow": null,
       "grid_auto_rows": null,
       "grid_column": null,
       "grid_gap": null,
       "grid_row": null,
       "grid_template_areas": null,
       "grid_template_columns": null,
       "grid_template_rows": null,
       "height": null,
       "justify_content": null,
       "justify_items": null,
       "left": null,
       "margin": null,
       "max_height": null,
       "max_width": null,
       "min_height": null,
       "min_width": null,
       "object_fit": null,
       "object_position": null,
       "order": null,
       "overflow": null,
       "overflow_x": null,
       "overflow_y": null,
       "padding": null,
       "right": null,
       "top": null,
       "visibility": null,
       "width": null
      }
     },
     "9ca0818a8d0d436e9797a881221a2bbd": {
      "model_module": "@jupyter-widgets/controls",
      "model_module_version": "1.5.0",
      "model_name": "ProgressStyleModel",
      "state": {
       "_model_module": "@jupyter-widgets/controls",
       "_model_module_version": "1.5.0",
       "_model_name": "ProgressStyleModel",
       "_view_count": null,
       "_view_module": "@jupyter-widgets/base",
       "_view_module_version": "1.2.0",
       "_view_name": "StyleView",
       "bar_color": null,
       "description_width": ""
      }
     },
     "a5e6db908bd24f87b312edc0c52a383d": {
      "model_module": "@jupyter-widgets/controls",
      "model_module_version": "1.5.0",
      "model_name": "HTMLModel",
      "state": {
       "_dom_classes": [],
       "_model_module": "@jupyter-widgets/controls",
       "_model_module_version": "1.5.0",
       "_model_name": "HTMLModel",
       "_view_count": null,
       "_view_module": "@jupyter-widgets/controls",
       "_view_module_version": "1.5.0",
       "_view_name": "HTMLView",
       "description": "",
       "description_tooltip": null,
       "layout": "IPY_MODEL_c7a12f55f56b42809f3ec10350cae75d",
       "placeholder": "​",
       "style": "IPY_MODEL_fbe6cda77796469eb9dcba0138e66bf3",
       "value": " 433/433 [00:00&lt;00:00, 11.6kB/s]"
      }
     },
     "ad078db2aafc42868bdbda7885d5a909": {
      "model_module": "@jupyter-widgets/base",
      "model_module_version": "1.2.0",
      "model_name": "LayoutModel",
      "state": {
       "_model_module": "@jupyter-widgets/base",
       "_model_module_version": "1.2.0",
       "_model_name": "LayoutModel",
       "_view_count": null,
       "_view_module": "@jupyter-widgets/base",
       "_view_module_version": "1.2.0",
       "_view_name": "LayoutView",
       "align_content": null,
       "align_items": null,
       "align_self": null,
       "border": null,
       "bottom": null,
       "display": null,
       "flex": null,
       "flex_flow": null,
       "grid_area": null,
       "grid_auto_columns": null,
       "grid_auto_flow": null,
       "grid_auto_rows": null,
       "grid_column": null,
       "grid_gap": null,
       "grid_row": null,
       "grid_template_areas": null,
       "grid_template_columns": null,
       "grid_template_rows": null,
       "height": null,
       "justify_content": null,
       "justify_items": null,
       "left": null,
       "margin": null,
       "max_height": null,
       "max_width": null,
       "min_height": null,
       "min_width": null,
       "object_fit": null,
       "object_position": null,
       "order": null,
       "overflow": null,
       "overflow_x": null,
       "overflow_y": null,
       "padding": null,
       "right": null,
       "top": null,
       "visibility": null,
       "width": null
      }
     },
     "b487ec06418f4cd4a7f7c4a30b956f10": {
      "model_module": "@jupyter-widgets/controls",
      "model_module_version": "1.5.0",
      "model_name": "HBoxModel",
      "state": {
       "_dom_classes": [],
       "_model_module": "@jupyter-widgets/controls",
       "_model_module_version": "1.5.0",
       "_model_name": "HBoxModel",
       "_view_count": null,
       "_view_module": "@jupyter-widgets/controls",
       "_view_module_version": "1.5.0",
       "_view_name": "HBoxView",
       "box_style": "",
       "children": [
        "IPY_MODEL_c4e3b556610849eba941fafa9951dec4",
        "IPY_MODEL_c0c993abbc2c4e72b7d2bb7c9141a43a",
        "IPY_MODEL_81350305eaa4468cac15a903df23d6f9"
       ],
       "layout": "IPY_MODEL_10ea34f290b840c5b5cc501c956e52b5"
      }
     },
     "b527b1f6dbb443a4a391c67558d63c9b": {
      "model_module": "@jupyter-widgets/controls",
      "model_module_version": "1.5.0",
      "model_name": "FloatProgressModel",
      "state": {
       "_dom_classes": [],
       "_model_module": "@jupyter-widgets/controls",
       "_model_module_version": "1.5.0",
       "_model_name": "FloatProgressModel",
       "_view_count": null,
       "_view_module": "@jupyter-widgets/controls",
       "_view_module_version": "1.5.0",
       "_view_name": "ProgressView",
       "bar_style": "success",
       "description": "",
       "description_tooltip": null,
       "layout": "IPY_MODEL_d56bc8b666204189b89e50cdbfced6e1",
       "max": 433.0,
       "min": 0.0,
       "orientation": "horizontal",
       "style": "IPY_MODEL_c5979caddd1d4cffb394f9a49b4b6f32",
       "value": 433.0
      }
     },
     "b68a601125ac436f86ed092566e44719": {
      "model_module": "@jupyter-widgets/controls",
      "model_module_version": "1.5.0",
      "model_name": "DescriptionStyleModel",
      "state": {
       "_model_module": "@jupyter-widgets/controls",
       "_model_module_version": "1.5.0",
       "_model_name": "DescriptionStyleModel",
       "_view_count": null,
       "_view_module": "@jupyter-widgets/base",
       "_view_module_version": "1.2.0",
       "_view_name": "StyleView",
       "description_width": ""
      }
     },
     "bbc5f271c5b0490cadf519f891e636c8": {
      "model_module": "@jupyter-widgets/controls",
      "model_module_version": "1.5.0",
      "model_name": "DescriptionStyleModel",
      "state": {
       "_model_module": "@jupyter-widgets/controls",
       "_model_module_version": "1.5.0",
       "_model_name": "DescriptionStyleModel",
       "_view_count": null,
       "_view_module": "@jupyter-widgets/base",
       "_view_module_version": "1.2.0",
       "_view_name": "StyleView",
       "description_width": ""
      }
     },
     "c0c993abbc2c4e72b7d2bb7c9141a43a": {
      "model_module": "@jupyter-widgets/controls",
      "model_module_version": "1.5.0",
      "model_name": "FloatProgressModel",
      "state": {
       "_dom_classes": [],
       "_model_module": "@jupyter-widgets/controls",
       "_model_module_version": "1.5.0",
       "_model_name": "FloatProgressModel",
       "_view_count": null,
       "_view_module": "@jupyter-widgets/controls",
       "_view_module_version": "1.5.0",
       "_view_name": "ProgressView",
       "bar_style": "success",
       "description": "",
       "description_tooltip": null,
       "layout": "IPY_MODEL_67ecd0ea12084a169d1ac7a5f586a957",
       "max": 466062.0,
       "min": 0.0,
       "orientation": "horizontal",
       "style": "IPY_MODEL_c648903d444b4b53b0b40d4c037d9705",
       "value": 466062.0
      }
     },
     "c193314652554456be6d7dd92c66e18e": {
      "model_module": "@jupyter-widgets/controls",
      "model_module_version": "1.5.0",
      "model_name": "FloatProgressModel",
      "state": {
       "_dom_classes": [],
       "_model_module": "@jupyter-widgets/controls",
       "_model_module_version": "1.5.0",
       "_model_name": "FloatProgressModel",
       "_view_count": null,
       "_view_module": "@jupyter-widgets/controls",
       "_view_module_version": "1.5.0",
       "_view_name": "ProgressView",
       "bar_style": "success",
       "description": "",
       "description_tooltip": null,
       "layout": "IPY_MODEL_ebf1ae3a742d416187cdd2f7de35f09f",
       "max": 231508.0,
       "min": 0.0,
       "orientation": "horizontal",
       "style": "IPY_MODEL_e2c53687d7f14d9ebf4569d13e2aab2e",
       "value": 231508.0
      }
     },
     "c39c56face504d82988ad36731a0aa3b": {
      "model_module": "@jupyter-widgets/controls",
      "model_module_version": "1.5.0",
      "model_name": "DescriptionStyleModel",
      "state": {
       "_model_module": "@jupyter-widgets/controls",
       "_model_module_version": "1.5.0",
       "_model_name": "DescriptionStyleModel",
       "_view_count": null,
       "_view_module": "@jupyter-widgets/base",
       "_view_module_version": "1.2.0",
       "_view_name": "StyleView",
       "description_width": ""
      }
     },
     "c3f1ab73d2894986a5276a7ba3092a6d": {
      "model_module": "@jupyter-widgets/base",
      "model_module_version": "1.2.0",
      "model_name": "LayoutModel",
      "state": {
       "_model_module": "@jupyter-widgets/base",
       "_model_module_version": "1.2.0",
       "_model_name": "LayoutModel",
       "_view_count": null,
       "_view_module": "@jupyter-widgets/base",
       "_view_module_version": "1.2.0",
       "_view_name": "LayoutView",
       "align_content": null,
       "align_items": null,
       "align_self": null,
       "border": null,
       "bottom": null,
       "display": null,
       "flex": null,
       "flex_flow": null,
       "grid_area": null,
       "grid_auto_columns": null,
       "grid_auto_flow": null,
       "grid_auto_rows": null,
       "grid_column": null,
       "grid_gap": null,
       "grid_row": null,
       "grid_template_areas": null,
       "grid_template_columns": null,
       "grid_template_rows": null,
       "height": null,
       "justify_content": null,
       "justify_items": null,
       "left": null,
       "margin": null,
       "max_height": null,
       "max_width": null,
       "min_height": null,
       "min_width": null,
       "object_fit": null,
       "object_position": null,
       "order": null,
       "overflow": null,
       "overflow_x": null,
       "overflow_y": null,
       "padding": null,
       "right": null,
       "top": null,
       "visibility": null,
       "width": null
      }
     },
     "c4e3b556610849eba941fafa9951dec4": {
      "model_module": "@jupyter-widgets/controls",
      "model_module_version": "1.5.0",
      "model_name": "HTMLModel",
      "state": {
       "_dom_classes": [],
       "_model_module": "@jupyter-widgets/controls",
       "_model_module_version": "1.5.0",
       "_model_name": "HTMLModel",
       "_view_count": null,
       "_view_module": "@jupyter-widgets/controls",
       "_view_module_version": "1.5.0",
       "_view_name": "HTMLView",
       "description": "",
       "description_tooltip": null,
       "layout": "IPY_MODEL_cc2b9116e46144b0ac59026a524544b1",
       "placeholder": "​",
       "style": "IPY_MODEL_bbc5f271c5b0490cadf519f891e636c8",
       "value": "Downloading: 100%"
      }
     },
     "c5979caddd1d4cffb394f9a49b4b6f32": {
      "model_module": "@jupyter-widgets/controls",
      "model_module_version": "1.5.0",
      "model_name": "ProgressStyleModel",
      "state": {
       "_model_module": "@jupyter-widgets/controls",
       "_model_module_version": "1.5.0",
       "_model_name": "ProgressStyleModel",
       "_view_count": null,
       "_view_module": "@jupyter-widgets/base",
       "_view_module_version": "1.2.0",
       "_view_name": "StyleView",
       "bar_color": null,
       "description_width": ""
      }
     },
     "c648903d444b4b53b0b40d4c037d9705": {
      "model_module": "@jupyter-widgets/controls",
      "model_module_version": "1.5.0",
      "model_name": "ProgressStyleModel",
      "state": {
       "_model_module": "@jupyter-widgets/controls",
       "_model_module_version": "1.5.0",
       "_model_name": "ProgressStyleModel",
       "_view_count": null,
       "_view_module": "@jupyter-widgets/base",
       "_view_module_version": "1.2.0",
       "_view_name": "StyleView",
       "bar_color": null,
       "description_width": ""
      }
     },
     "c676de30cead4c5fb98e29517fa463b6": {
      "model_module": "@jupyter-widgets/controls",
      "model_module_version": "1.5.0",
      "model_name": "DescriptionStyleModel",
      "state": {
       "_model_module": "@jupyter-widgets/controls",
       "_model_module_version": "1.5.0",
       "_model_name": "DescriptionStyleModel",
       "_view_count": null,
       "_view_module": "@jupyter-widgets/base",
       "_view_module_version": "1.2.0",
       "_view_name": "StyleView",
       "description_width": ""
      }
     },
     "c7a12f55f56b42809f3ec10350cae75d": {
      "model_module": "@jupyter-widgets/base",
      "model_module_version": "1.2.0",
      "model_name": "LayoutModel",
      "state": {
       "_model_module": "@jupyter-widgets/base",
       "_model_module_version": "1.2.0",
       "_model_name": "LayoutModel",
       "_view_count": null,
       "_view_module": "@jupyter-widgets/base",
       "_view_module_version": "1.2.0",
       "_view_name": "LayoutView",
       "align_content": null,
       "align_items": null,
       "align_self": null,
       "border": null,
       "bottom": null,
       "display": null,
       "flex": null,
       "flex_flow": null,
       "grid_area": null,
       "grid_auto_columns": null,
       "grid_auto_flow": null,
       "grid_auto_rows": null,
       "grid_column": null,
       "grid_gap": null,
       "grid_row": null,
       "grid_template_areas": null,
       "grid_template_columns": null,
       "grid_template_rows": null,
       "height": null,
       "justify_content": null,
       "justify_items": null,
       "left": null,
       "margin": null,
       "max_height": null,
       "max_width": null,
       "min_height": null,
       "min_width": null,
       "object_fit": null,
       "object_position": null,
       "order": null,
       "overflow": null,
       "overflow_x": null,
       "overflow_y": null,
       "padding": null,
       "right": null,
       "top": null,
       "visibility": null,
       "width": null
      }
     },
     "cc2b9116e46144b0ac59026a524544b1": {
      "model_module": "@jupyter-widgets/base",
      "model_module_version": "1.2.0",
      "model_name": "LayoutModel",
      "state": {
       "_model_module": "@jupyter-widgets/base",
       "_model_module_version": "1.2.0",
       "_model_name": "LayoutModel",
       "_view_count": null,
       "_view_module": "@jupyter-widgets/base",
       "_view_module_version": "1.2.0",
       "_view_name": "LayoutView",
       "align_content": null,
       "align_items": null,
       "align_self": null,
       "border": null,
       "bottom": null,
       "display": null,
       "flex": null,
       "flex_flow": null,
       "grid_area": null,
       "grid_auto_columns": null,
       "grid_auto_flow": null,
       "grid_auto_rows": null,
       "grid_column": null,
       "grid_gap": null,
       "grid_row": null,
       "grid_template_areas": null,
       "grid_template_columns": null,
       "grid_template_rows": null,
       "height": null,
       "justify_content": null,
       "justify_items": null,
       "left": null,
       "margin": null,
       "max_height": null,
       "max_width": null,
       "min_height": null,
       "min_width": null,
       "object_fit": null,
       "object_position": null,
       "order": null,
       "overflow": null,
       "overflow_x": null,
       "overflow_y": null,
       "padding": null,
       "right": null,
       "top": null,
       "visibility": null,
       "width": null
      }
     },
     "ccf4383f96764992b3f6151d1f43c38a": {
      "model_module": "@jupyter-widgets/base",
      "model_module_version": "1.2.0",
      "model_name": "LayoutModel",
      "state": {
       "_model_module": "@jupyter-widgets/base",
       "_model_module_version": "1.2.0",
       "_model_name": "LayoutModel",
       "_view_count": null,
       "_view_module": "@jupyter-widgets/base",
       "_view_module_version": "1.2.0",
       "_view_name": "LayoutView",
       "align_content": null,
       "align_items": null,
       "align_self": null,
       "border": null,
       "bottom": null,
       "display": null,
       "flex": null,
       "flex_flow": null,
       "grid_area": null,
       "grid_auto_columns": null,
       "grid_auto_flow": null,
       "grid_auto_rows": null,
       "grid_column": null,
       "grid_gap": null,
       "grid_row": null,
       "grid_template_areas": null,
       "grid_template_columns": null,
       "grid_template_rows": null,
       "height": null,
       "justify_content": null,
       "justify_items": null,
       "left": null,
       "margin": null,
       "max_height": null,
       "max_width": null,
       "min_height": null,
       "min_width": null,
       "object_fit": null,
       "object_position": null,
       "order": null,
       "overflow": null,
       "overflow_x": null,
       "overflow_y": null,
       "padding": null,
       "right": null,
       "top": null,
       "visibility": null,
       "width": null
      }
     },
     "d1040ae4406e4bcabf21cccaddfd1063": {
      "model_module": "@jupyter-widgets/controls",
      "model_module_version": "1.5.0",
      "model_name": "HTMLModel",
      "state": {
       "_dom_classes": [],
       "_model_module": "@jupyter-widgets/controls",
       "_model_module_version": "1.5.0",
       "_model_name": "HTMLModel",
       "_view_count": null,
       "_view_module": "@jupyter-widgets/controls",
       "_view_module_version": "1.5.0",
       "_view_name": "HTMLView",
       "description": "",
       "description_tooltip": null,
       "layout": "IPY_MODEL_ad078db2aafc42868bdbda7885d5a909",
       "placeholder": "​",
       "style": "IPY_MODEL_27714ec5650648b2b0bf838eb471c37d",
       "value": " 232k/232k [00:00&lt;00:00, 664kB/s]"
      }
     },
     "d56bc8b666204189b89e50cdbfced6e1": {
      "model_module": "@jupyter-widgets/base",
      "model_module_version": "1.2.0",
      "model_name": "LayoutModel",
      "state": {
       "_model_module": "@jupyter-widgets/base",
       "_model_module_version": "1.2.0",
       "_model_name": "LayoutModel",
       "_view_count": null,
       "_view_module": "@jupyter-widgets/base",
       "_view_module_version": "1.2.0",
       "_view_name": "LayoutView",
       "align_content": null,
       "align_items": null,
       "align_self": null,
       "border": null,
       "bottom": null,
       "display": null,
       "flex": null,
       "flex_flow": null,
       "grid_area": null,
       "grid_auto_columns": null,
       "grid_auto_flow": null,
       "grid_auto_rows": null,
       "grid_column": null,
       "grid_gap": null,
       "grid_row": null,
       "grid_template_areas": null,
       "grid_template_columns": null,
       "grid_template_rows": null,
       "height": null,
       "justify_content": null,
       "justify_items": null,
       "left": null,
       "margin": null,
       "max_height": null,
       "max_width": null,
       "min_height": null,
       "min_width": null,
       "object_fit": null,
       "object_position": null,
       "order": null,
       "overflow": null,
       "overflow_x": null,
       "overflow_y": null,
       "padding": null,
       "right": null,
       "top": null,
       "visibility": null,
       "width": null
      }
     },
     "d648392e56044e28a0d132d0ec6218bc": {
      "model_module": "@jupyter-widgets/base",
      "model_module_version": "1.2.0",
      "model_name": "LayoutModel",
      "state": {
       "_model_module": "@jupyter-widgets/base",
       "_model_module_version": "1.2.0",
       "_model_name": "LayoutModel",
       "_view_count": null,
       "_view_module": "@jupyter-widgets/base",
       "_view_module_version": "1.2.0",
       "_view_name": "LayoutView",
       "align_content": null,
       "align_items": null,
       "align_self": null,
       "border": null,
       "bottom": null,
       "display": null,
       "flex": null,
       "flex_flow": null,
       "grid_area": null,
       "grid_auto_columns": null,
       "grid_auto_flow": null,
       "grid_auto_rows": null,
       "grid_column": null,
       "grid_gap": null,
       "grid_row": null,
       "grid_template_areas": null,
       "grid_template_columns": null,
       "grid_template_rows": null,
       "height": null,
       "justify_content": null,
       "justify_items": null,
       "left": null,
       "margin": null,
       "max_height": null,
       "max_width": null,
       "min_height": null,
       "min_width": null,
       "object_fit": null,
       "object_position": null,
       "order": null,
       "overflow": null,
       "overflow_x": null,
       "overflow_y": null,
       "padding": null,
       "right": null,
       "top": null,
       "visibility": null,
       "width": null
      }
     },
     "d72559358bab4c03899b69aaa29a82f8": {
      "model_module": "@jupyter-widgets/base",
      "model_module_version": "1.2.0",
      "model_name": "LayoutModel",
      "state": {
       "_model_module": "@jupyter-widgets/base",
       "_model_module_version": "1.2.0",
       "_model_name": "LayoutModel",
       "_view_count": null,
       "_view_module": "@jupyter-widgets/base",
       "_view_module_version": "1.2.0",
       "_view_name": "LayoutView",
       "align_content": null,
       "align_items": null,
       "align_self": null,
       "border": null,
       "bottom": null,
       "display": null,
       "flex": null,
       "flex_flow": null,
       "grid_area": null,
       "grid_auto_columns": null,
       "grid_auto_flow": null,
       "grid_auto_rows": null,
       "grid_column": null,
       "grid_gap": null,
       "grid_row": null,
       "grid_template_areas": null,
       "grid_template_columns": null,
       "grid_template_rows": null,
       "height": null,
       "justify_content": null,
       "justify_items": null,
       "left": null,
       "margin": null,
       "max_height": null,
       "max_width": null,
       "min_height": null,
       "min_width": null,
       "object_fit": null,
       "object_position": null,
       "order": null,
       "overflow": null,
       "overflow_x": null,
       "overflow_y": null,
       "padding": null,
       "right": null,
       "top": null,
       "visibility": null,
       "width": null
      }
     },
     "dae874fe2c28496a840ffe75f197f291": {
      "model_module": "@jupyter-widgets/controls",
      "model_module_version": "1.5.0",
      "model_name": "HTMLModel",
      "state": {
       "_dom_classes": [],
       "_model_module": "@jupyter-widgets/controls",
       "_model_module_version": "1.5.0",
       "_model_name": "HTMLModel",
       "_view_count": null,
       "_view_module": "@jupyter-widgets/controls",
       "_view_module_version": "1.5.0",
       "_view_name": "HTMLView",
       "description": "",
       "description_tooltip": null,
       "layout": "IPY_MODEL_ffd8f560184843999e3349cf4f9baa0d",
       "placeholder": "​",
       "style": "IPY_MODEL_fab59ca8e7ea420da734c2d963e30bea",
       "value": "Downloading: 100%"
      }
     },
     "daff7ba788be4473b313a1cad82b17b1": {
      "model_module": "@jupyter-widgets/controls",
      "model_module_version": "1.5.0",
      "model_name": "HTMLModel",
      "state": {
       "_dom_classes": [],
       "_model_module": "@jupyter-widgets/controls",
       "_model_module_version": "1.5.0",
       "_model_name": "HTMLModel",
       "_view_count": null,
       "_view_module": "@jupyter-widgets/controls",
       "_view_module_version": "1.5.0",
       "_view_name": "HTMLView",
       "description": "",
       "description_tooltip": null,
       "layout": "IPY_MODEL_8f0f373827df43d7bafbde0c50bc19f3",
       "placeholder": "​",
       "style": "IPY_MODEL_5f2b3ae96fd8402cafc496023cdb14a2",
       "value": "Downloading: 100%"
      }
     },
     "dc5847983e404e2996cd58f7dda81bf8": {
      "model_module": "@jupyter-widgets/base",
      "model_module_version": "1.2.0",
      "model_name": "LayoutModel",
      "state": {
       "_model_module": "@jupyter-widgets/base",
       "_model_module_version": "1.2.0",
       "_model_name": "LayoutModel",
       "_view_count": null,
       "_view_module": "@jupyter-widgets/base",
       "_view_module_version": "1.2.0",
       "_view_name": "LayoutView",
       "align_content": null,
       "align_items": null,
       "align_self": null,
       "border": null,
       "bottom": null,
       "display": null,
       "flex": null,
       "flex_flow": null,
       "grid_area": null,
       "grid_auto_columns": null,
       "grid_auto_flow": null,
       "grid_auto_rows": null,
       "grid_column": null,
       "grid_gap": null,
       "grid_row": null,
       "grid_template_areas": null,
       "grid_template_columns": null,
       "grid_template_rows": null,
       "height": null,
       "justify_content": null,
       "justify_items": null,
       "left": null,
       "margin": null,
       "max_height": null,
       "max_width": null,
       "min_height": null,
       "min_width": null,
       "object_fit": null,
       "object_position": null,
       "order": null,
       "overflow": null,
       "overflow_x": null,
       "overflow_y": null,
       "padding": null,
       "right": null,
       "top": null,
       "visibility": null,
       "width": null
      }
     },
     "dc652232d11844b1ad19913edd8b84bb": {
      "model_module": "@jupyter-widgets/controls",
      "model_module_version": "1.5.0",
      "model_name": "DescriptionStyleModel",
      "state": {
       "_model_module": "@jupyter-widgets/controls",
       "_model_module_version": "1.5.0",
       "_model_name": "DescriptionStyleModel",
       "_view_count": null,
       "_view_module": "@jupyter-widgets/base",
       "_view_module_version": "1.2.0",
       "_view_name": "StyleView",
       "description_width": ""
      }
     },
     "df4efe36c16d4e4590d6d268cf71cac6": {
      "model_module": "@jupyter-widgets/controls",
      "model_module_version": "1.5.0",
      "model_name": "DescriptionStyleModel",
      "state": {
       "_model_module": "@jupyter-widgets/controls",
       "_model_module_version": "1.5.0",
       "_model_name": "DescriptionStyleModel",
       "_view_count": null,
       "_view_module": "@jupyter-widgets/base",
       "_view_module_version": "1.2.0",
       "_view_name": "StyleView",
       "description_width": ""
      }
     },
     "e2c53687d7f14d9ebf4569d13e2aab2e": {
      "model_module": "@jupyter-widgets/controls",
      "model_module_version": "1.5.0",
      "model_name": "ProgressStyleModel",
      "state": {
       "_model_module": "@jupyter-widgets/controls",
       "_model_module_version": "1.5.0",
       "_model_name": "ProgressStyleModel",
       "_view_count": null,
       "_view_module": "@jupyter-widgets/base",
       "_view_module_version": "1.2.0",
       "_view_name": "StyleView",
       "bar_color": null,
       "description_width": ""
      }
     },
     "ebf1ae3a742d416187cdd2f7de35f09f": {
      "model_module": "@jupyter-widgets/base",
      "model_module_version": "1.2.0",
      "model_name": "LayoutModel",
      "state": {
       "_model_module": "@jupyter-widgets/base",
       "_model_module_version": "1.2.0",
       "_model_name": "LayoutModel",
       "_view_count": null,
       "_view_module": "@jupyter-widgets/base",
       "_view_module_version": "1.2.0",
       "_view_name": "LayoutView",
       "align_content": null,
       "align_items": null,
       "align_self": null,
       "border": null,
       "bottom": null,
       "display": null,
       "flex": null,
       "flex_flow": null,
       "grid_area": null,
       "grid_auto_columns": null,
       "grid_auto_flow": null,
       "grid_auto_rows": null,
       "grid_column": null,
       "grid_gap": null,
       "grid_row": null,
       "grid_template_areas": null,
       "grid_template_columns": null,
       "grid_template_rows": null,
       "height": null,
       "justify_content": null,
       "justify_items": null,
       "left": null,
       "margin": null,
       "max_height": null,
       "max_width": null,
       "min_height": null,
       "min_width": null,
       "object_fit": null,
       "object_position": null,
       "order": null,
       "overflow": null,
       "overflow_x": null,
       "overflow_y": null,
       "padding": null,
       "right": null,
       "top": null,
       "visibility": null,
       "width": null
      }
     },
     "f6262d50e6504a2aade86882d7fefcc5": {
      "model_module": "@jupyter-widgets/base",
      "model_module_version": "1.2.0",
      "model_name": "LayoutModel",
      "state": {
       "_model_module": "@jupyter-widgets/base",
       "_model_module_version": "1.2.0",
       "_model_name": "LayoutModel",
       "_view_count": null,
       "_view_module": "@jupyter-widgets/base",
       "_view_module_version": "1.2.0",
       "_view_name": "LayoutView",
       "align_content": null,
       "align_items": null,
       "align_self": null,
       "border": null,
       "bottom": null,
       "display": null,
       "flex": null,
       "flex_flow": null,
       "grid_area": null,
       "grid_auto_columns": null,
       "grid_auto_flow": null,
       "grid_auto_rows": null,
       "grid_column": null,
       "grid_gap": null,
       "grid_row": null,
       "grid_template_areas": null,
       "grid_template_columns": null,
       "grid_template_rows": null,
       "height": null,
       "justify_content": null,
       "justify_items": null,
       "left": null,
       "margin": null,
       "max_height": null,
       "max_width": null,
       "min_height": null,
       "min_width": null,
       "object_fit": null,
       "object_position": null,
       "order": null,
       "overflow": null,
       "overflow_x": null,
       "overflow_y": null,
       "padding": null,
       "right": null,
       "top": null,
       "visibility": null,
       "width": null
      }
     },
     "fab59ca8e7ea420da734c2d963e30bea": {
      "model_module": "@jupyter-widgets/controls",
      "model_module_version": "1.5.0",
      "model_name": "DescriptionStyleModel",
      "state": {
       "_model_module": "@jupyter-widgets/controls",
       "_model_module_version": "1.5.0",
       "_model_name": "DescriptionStyleModel",
       "_view_count": null,
       "_view_module": "@jupyter-widgets/base",
       "_view_module_version": "1.2.0",
       "_view_name": "StyleView",
       "description_width": ""
      }
     },
     "fbe6cda77796469eb9dcba0138e66bf3": {
      "model_module": "@jupyter-widgets/controls",
      "model_module_version": "1.5.0",
      "model_name": "DescriptionStyleModel",
      "state": {
       "_model_module": "@jupyter-widgets/controls",
       "_model_module_version": "1.5.0",
       "_model_name": "DescriptionStyleModel",
       "_view_count": null,
       "_view_module": "@jupyter-widgets/base",
       "_view_module_version": "1.2.0",
       "_view_name": "StyleView",
       "description_width": ""
      }
     },
     "fc3b0551456d4653bf5a088f9cc91aba": {
      "model_module": "@jupyter-widgets/base",
      "model_module_version": "1.2.0",
      "model_name": "LayoutModel",
      "state": {
       "_model_module": "@jupyter-widgets/base",
       "_model_module_version": "1.2.0",
       "_model_name": "LayoutModel",
       "_view_count": null,
       "_view_module": "@jupyter-widgets/base",
       "_view_module_version": "1.2.0",
       "_view_name": "LayoutView",
       "align_content": null,
       "align_items": null,
       "align_self": null,
       "border": null,
       "bottom": null,
       "display": null,
       "flex": null,
       "flex_flow": null,
       "grid_area": null,
       "grid_auto_columns": null,
       "grid_auto_flow": null,
       "grid_auto_rows": null,
       "grid_column": null,
       "grid_gap": null,
       "grid_row": null,
       "grid_template_areas": null,
       "grid_template_columns": null,
       "grid_template_rows": null,
       "height": null,
       "justify_content": null,
       "justify_items": null,
       "left": null,
       "margin": null,
       "max_height": null,
       "max_width": null,
       "min_height": null,
       "min_width": null,
       "object_fit": null,
       "object_position": null,
       "order": null,
       "overflow": null,
       "overflow_x": null,
       "overflow_y": null,
       "padding": null,
       "right": null,
       "top": null,
       "visibility": null,
       "width": null
      }
     },
     "ffd8f560184843999e3349cf4f9baa0d": {
      "model_module": "@jupyter-widgets/base",
      "model_module_version": "1.2.0",
      "model_name": "LayoutModel",
      "state": {
       "_model_module": "@jupyter-widgets/base",
       "_model_module_version": "1.2.0",
       "_model_name": "LayoutModel",
       "_view_count": null,
       "_view_module": "@jupyter-widgets/base",
       "_view_module_version": "1.2.0",
       "_view_name": "LayoutView",
       "align_content": null,
       "align_items": null,
       "align_self": null,
       "border": null,
       "bottom": null,
       "display": null,
       "flex": null,
       "flex_flow": null,
       "grid_area": null,
       "grid_auto_columns": null,
       "grid_auto_flow": null,
       "grid_auto_rows": null,
       "grid_column": null,
       "grid_gap": null,
       "grid_row": null,
       "grid_template_areas": null,
       "grid_template_columns": null,
       "grid_template_rows": null,
       "height": null,
       "justify_content": null,
       "justify_items": null,
       "left": null,
       "margin": null,
       "max_height": null,
       "max_width": null,
       "min_height": null,
       "min_width": null,
       "object_fit": null,
       "object_position": null,
       "order": null,
       "overflow": null,
       "overflow_x": null,
       "overflow_y": null,
       "padding": null,
       "right": null,
       "top": null,
       "visibility": null,
       "width": null
      }
     }
    },
    "version_major": 2,
    "version_minor": 0
   }
  }
 },
 "nbformat": 4,
 "nbformat_minor": 4
}
