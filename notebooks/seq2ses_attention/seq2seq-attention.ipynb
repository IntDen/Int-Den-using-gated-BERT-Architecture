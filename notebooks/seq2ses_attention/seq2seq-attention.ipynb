{
 "cells": [
  {
   "cell_type": "code",
   "execution_count": 113,
   "metadata": {
    "_cell_guid": "b1076dfc-b9ad-4769-8c92-a6c4dae69d19",
    "_uuid": "8f2839f25d086af736a60e9eeb907d3b93b6e0e5"
   },
   "outputs": [
    {
     "name": "stdout",
     "output_type": "stream",
     "text": [
      "/kaggle/input/myscript-py/train_model.png\n",
      "/kaggle/input/myscript-py/NMT_Mtokenizer_wordwise.pkl\n",
      "/kaggle/input/myscript-py/NMT_model_weight.h5\n",
      "/kaggle/input/myscript-py/NMT_model.json\n",
      "/kaggle/input/myscript-py/__results__.html\n",
      "/kaggle/input/myscript-py/__notebook__.ipynb\n",
      "/kaggle/input/myscript-py/NMT_data_wordwise.pkl\n",
      "/kaggle/input/myscript-py/__output__.json\n",
      "/kaggle/input/myscript-py/NMT_Etokenizer_wordwise.pkl\n",
      "/kaggle/input/myscript-py/custom.css\n",
      "/kaggle/input/myscript-py/__results___files/__results___54_0.png\n",
      "/kaggle/input/myscript-py/__results___files/__results___49_0.png\n",
      "/kaggle/input/imdb-noiseddata/IMDB_denoisedData.csv\n"
     ]
    }
   ],
   "source": [
    "# This Python 3 environment comes with many helpful analytics libraries installed\n",
    "# It is defined by the kaggle/python Docker image: https://github.com/kaggle/docker-python\n",
    "# For example, here's several helpful packages to load\n",
    "\n",
    "import numpy as np # linear algebra\n",
    "import pandas as pd # data processing, CSV file I/O (e.g. pd.read_csv)\n",
    "\n",
    "# Input data files are available in the read-only \"../input/\" directory\n",
    "# For example, running this (by clicking run or pressing Shift+Enter) will list all files under the input directory\n",
    "\n",
    "import os\n",
    "for dirname, _, filenames in os.walk('/kaggle/input'):\n",
    "    for filename in filenames:\n",
    "        print(os.path.join(dirname, filename))\n",
    "        if('.csv' in (os.path.join(dirname, filename))):\n",
    "            imdb_data =  pd.read_csv(os.path.join(dirname, filename))\n",
    "\n",
    "# You can write up to 5GB to the current directory (/kaggle/working/) that gets preserved as output when you create a version using \"Save & Run All\" \n",
    "# You can also write temporary files to /kaggle/temp/, but they won't be saved outside of the current session"
   ]
  },
  {
   "cell_type": "code",
   "execution_count": 114,
   "metadata": {},
   "outputs": [
    {
     "data": {
      "text/plain": [
       "Index(['Unnamed: 0', 'review', 'char_augumented', 'keyborad_augumented', 'random_augumented', 'substitute_augumented', 'swap_augumented', 'delete_augumented', 'spell_augumented', 'Synonym_augumented', 'swapWord_augumented'], dtype='object')"
      ]
     },
     "execution_count": 114,
     "metadata": {},
     "output_type": "execute_result"
    }
   ],
   "source": [
    "imdb_data.columns"
   ]
  },
  {
   "cell_type": "code",
   "execution_count": 115,
   "metadata": {},
   "outputs": [
    {
     "name": "stdout",
     "output_type": "stream",
     "text": [
      "count    10000.000000\n",
      "mean     248.403600  \n",
      "std      184.318643  \n",
      "min      14.000000   \n",
      "25%      135.000000  \n",
      "50%      185.000000  \n",
      "75%      303.000000  \n",
      "max      1959.000000 \n",
      "Name: original, dtype: float64\n"
     ]
    }
   ],
   "source": [
    "imdb_dataset_v1 = imdb_data[['random_augumented','review']]\n",
    "imdb_dataset_v1 = imdb_dataset_v1.rename(columns={\"review\": \"solution\", \"random_augumented\": \"original\"}, errors=\"raise\")\n",
    "imdb_dataset_v1['original'] = imdb_dataset_v1['original'].map(lambda x: x.replace('<br /> <br />',\"\"))\n",
    "imdb_dataset_v1['solution'] = imdb_dataset_v1['solution'].map(lambda x: x.replace('<br /><br />',\"\"))\n",
    "train_df = imdb_dataset_v1[:10000]\n",
    "print (train_df.original.apply(lambda x: len(x.split())).describe())"
   ]
  },
  {
   "cell_type": "code",
   "execution_count": 116,
   "metadata": {
    "_cell_guid": "79c7e3d0-c299-4dcb-8224-4455121ee9b0",
    "_uuid": "d629ff2d2480ee46fbb7e2d37f6b5fab8052498a"
   },
   "outputs": [],
   "source": [
    "import pandas as pd\n",
    "from sklearn.model_selection import train_test_split\n",
    "import string\n",
    "from string import digits\n",
    "import re\n",
    "from sklearn.utils import shuffle\n",
    "from tensorflow.keras.preprocessing.sequence import pad_sequences\n",
    "from tensorflow.keras.layers import LSTM, Input, Dense,Embedding, Concatenate, TimeDistributed\n",
    "from tensorflow.keras.models import Model,load_model, model_from_json\n",
    "from tensorflow.keras.utils import plot_model\n",
    "from tensorflow.keras.preprocessing.text import one_hot, Tokenizer\n",
    "from tensorflow.keras.callbacks import EarlyStopping\n",
    "import pickle as pkl\n",
    "import numpy as np"
   ]
  },
  {
   "cell_type": "code",
   "execution_count": 117,
   "metadata": {},
   "outputs": [
    {
     "name": "stdout",
     "output_type": "stream",
     "text": [
      "Requirement already satisfied: bpemb in /opt/conda/lib/python3.7/site-packages (0.3.2)\n",
      "Requirement already satisfied: gensim in /opt/conda/lib/python3.7/site-packages (from bpemb) (3.8.3)\n",
      "Requirement already satisfied: sentencepiece in /opt/conda/lib/python3.7/site-packages (from bpemb) (0.1.91)\n",
      "Requirement already satisfied: numpy in /opt/conda/lib/python3.7/site-packages (from bpemb) (1.18.5)\n",
      "Requirement already satisfied: requests in /opt/conda/lib/python3.7/site-packages (from bpemb) (2.23.0)\n",
      "Requirement already satisfied: tqdm in /opt/conda/lib/python3.7/site-packages (from bpemb) (4.45.0)\n",
      "Requirement already satisfied: six>=1.5.0 in /opt/conda/lib/python3.7/site-packages (from gensim->bpemb) (1.14.0)\n",
      "Requirement already satisfied: scipy>=0.18.1 in /opt/conda/lib/python3.7/site-packages (from gensim->bpemb) (1.4.1)\n",
      "Requirement already satisfied: smart-open>=1.8.1 in /opt/conda/lib/python3.7/site-packages (from gensim->bpemb) (2.2.1)\n",
      "Requirement already satisfied: chardet<4,>=3.0.2 in /opt/conda/lib/python3.7/site-packages (from requests->bpemb) (3.0.4)\n",
      "Requirement already satisfied: idna<3,>=2.5 in /opt/conda/lib/python3.7/site-packages (from requests->bpemb) (2.9)\n",
      "Requirement already satisfied: urllib3!=1.25.0,!=1.25.1,<1.26,>=1.21.1 in /opt/conda/lib/python3.7/site-packages (from requests->bpemb) (1.24.3)\n",
      "Requirement already satisfied: certifi>=2017.4.17 in /opt/conda/lib/python3.7/site-packages (from requests->bpemb) (2020.6.20)\n",
      "Requirement already satisfied: boto3 in /opt/conda/lib/python3.7/site-packages (from smart-open>=1.8.1->gensim->bpemb) (1.15.13)\n",
      "Requirement already satisfied: jmespath<1.0.0,>=0.7.1 in /opt/conda/lib/python3.7/site-packages (from boto3->smart-open>=1.8.1->gensim->bpemb) (0.10.0)\n",
      "Requirement already satisfied: botocore<1.19.0,>=1.18.13 in /opt/conda/lib/python3.7/site-packages (from boto3->smart-open>=1.8.1->gensim->bpemb) (1.18.13)\n",
      "Requirement already satisfied: s3transfer<0.4.0,>=0.3.0 in /opt/conda/lib/python3.7/site-packages (from boto3->smart-open>=1.8.1->gensim->bpemb) (0.3.3)\n",
      "Requirement already satisfied: python-dateutil<3.0.0,>=2.1 in /opt/conda/lib/python3.7/site-packages (from botocore<1.19.0,>=1.18.13->boto3->smart-open>=1.8.1->gensim->bpemb) (2.8.1)\n",
      "\u001b[33mWARNING: You are using pip version 20.2.3; however, version 21.0.1 is available.\n",
      "You should consider upgrading via the '/opt/conda/bin/python3.7 -m pip install --upgrade pip' command.\u001b[0m\n"
     ]
    }
   ],
   "source": [
    "!pip install bpemb\n",
    "import bpemb\n",
    "from bpemb import BPEmb\n",
    "import random\n",
    "import os\n",
    "SEED = 123\n",
    "random.seed(SEED)\n",
    "np.random.seed(SEED)\n",
    "bpemb_en = BPEmb(lang=\"en\", dim=50)"
   ]
  },
  {
   "cell_type": "code",
   "execution_count": 118,
   "metadata": {},
   "outputs": [
    {
     "name": "stderr",
     "output_type": "stream",
     "text": [
      "/opt/conda/lib/python3.7/site-packages/ipykernel_launcher.py:4: FutureWarning: Passing a negative integer is deprecated in version 1.0 and will not be supported in future version. Instead, use None to not limit the column width.\n",
      "  after removing the cwd from sys.path.\n"
     ]
    }
   ],
   "source": [
    "pd.set_option('display.max_rows', 500)\n",
    "pd.set_option('display.max_columns', 500)\n",
    "pd.set_option('display.width', 1000)\n",
    "pd.set_option('display.max_colwidth', -1)"
   ]
  },
  {
   "cell_type": "code",
   "execution_count": 119,
   "metadata": {},
   "outputs": [],
   "source": [
    "# train_input = pd.read_csv('../input/correct-ocr-errors/train_input.csv',encoding='utf-8')\n",
    "# train_output = pd.read_csv('../input/correct-ocr-errors/train_output.csv', encoding = 'utf-8')"
   ]
  },
  {
   "cell_type": "code",
   "execution_count": 120,
   "metadata": {},
   "outputs": [],
   "source": [
    "# print (train_input.shape, train_output.shape)\n",
    "# print (train_input.columns, train_output.columns)"
   ]
  },
  {
   "cell_type": "code",
   "execution_count": 121,
   "metadata": {},
   "outputs": [],
   "source": [
    "# if(train_input.shape == train_output.shape):\n",
    "#     train_df = train_input.merge(train_output, left_on='id', right_on='id')\n",
    "# pd.isnull(train_df).sum()"
   ]
  },
  {
   "cell_type": "code",
   "execution_count": 122,
   "metadata": {},
   "outputs": [
    {
     "name": "stdout",
     "output_type": "stream",
     "text": [
      "(10000, 2)\n",
      "Index(['original', 'solution'], dtype='object')\n"
     ]
    }
   ],
   "source": [
    "train_df = train_df[~pd.isnull(train_df['original'])]\n",
    "train_df.drop_duplicates(inplace=True)\n",
    "print (train_df.shape)\n",
    "print (train_df.columns)"
   ]
  },
  {
   "cell_type": "code",
   "execution_count": 123,
   "metadata": {},
   "outputs": [],
   "source": [
    "#Lowercase all the character\n",
    "train_df['original']=train_df['original'].apply(lambda x: x.lower())\n",
    "train_df['solution']=train_df['solution'].apply(lambda x: x.lower())"
   ]
  },
  {
   "cell_type": "code",
   "execution_count": 124,
   "metadata": {},
   "outputs": [],
   "source": [
    "#Remove all the quotes\n",
    "train_df['original']=train_df['original'].apply(lambda x: re.sub(\"'\", '', x))\n",
    "train_df['solution']=train_df['solution'].apply(lambda x: re.sub(\"'\", '', x))"
   ]
  },
  {
   "cell_type": "code",
   "execution_count": 125,
   "metadata": {},
   "outputs": [],
   "source": [
    "#Remove all the special character \n",
    "exclude = set(string.punctuation) # Set of all special characters\n",
    "train_df['original']=train_df['original'].apply(lambda x: ''.join(ch for ch in x if ch not in exclude))\n",
    "train_df['solution']=train_df['solution'].apply(lambda x: ''.join(ch for ch in x if ch not in exclude))"
   ]
  },
  {
   "cell_type": "code",
   "execution_count": 126,
   "metadata": {},
   "outputs": [],
   "source": [
    "#Remove all numbers from the text \n",
    "remove_digits = str.maketrans('', '', digits)\n",
    "train_df['original']=train_df['original'].apply(lambda x:  x.translate(remove_digits))\n",
    "train_df['solution']=train_df['solution'].apply(lambda x:  x.translate(remove_digits))\n",
    "train_df['solution']=train_df['solution'].apply(lambda x:  re.sub(\"[२३०८१५७९४६]\", \"\", x))"
   ]
  },
  {
   "cell_type": "code",
   "execution_count": 127,
   "metadata": {},
   "outputs": [],
   "source": [
    "#Remove extra spaces \n",
    "train_df['original']=train_df['original'].apply(lambda x: x.strip())\n",
    "train_df['solution']=train_df['solution'].apply(lambda x:  x.strip())\n",
    "train_df['original']=train_df['original'].apply(lambda x: re.sub(\" +\", \" \", x))\n",
    "train_df['solution']=train_df['solution'].apply(lambda x:  re.sub(\" +\", \" \", x))"
   ]
  },
  {
   "cell_type": "code",
   "execution_count": 128,
   "metadata": {},
   "outputs": [],
   "source": [
    "# #Use bpemb tokenization \n",
    "# train_df['original']=train_df['original'].apply(lambda x: ' '.join(bpemb_en.encode(x)))\n",
    "# train_df['solution']=train_df['solution'].apply(lambda x:  ' '.join(bpemb_en.encode(x)))"
   ]
  },
  {
   "cell_type": "code",
   "execution_count": 129,
   "metadata": {},
   "outputs": [],
   "source": [
    "# Add start and end tokens to target sequences\n",
    "train_df['solution']=train_df['solution'].apply(lambda x:  'START_ '+ x + ' _END')"
   ]
  },
  {
   "cell_type": "code",
   "execution_count": 130,
   "metadata": {},
   "outputs": [
    {
     "name": "stdout",
     "output_type": "stream",
     "text": [
      "                                                                                                                                                                                                                                                                                                                                                                                                                                                                                                                                                                                                                                                                                                                                                                                                                                                                                                                                                                                                                                                                                                                                                                                                                                                                                                                                                                                                                                                                                                                                                                                                                                                                                                                                             original  \\\n",
      "0  one of the other reviewers has mentioned that after watching just oz episode you ll be hooked they are right as this is exactly what happened with me the first thing that struck me about oz was its brutality and unflinching scenes of violence which set in right from the word go trust me this is not a show for the faint hearted or timid this show pulls no punches with regards to drugs sex or violence its is hardcore in the classic use of the word it is called oz as tihat is the nickname cgiven to the oswald maximum security state penitentary it focuses mainly on emerald city an experimental section of the prison where all the cells have glass fronts and face inwards so privacy is not high on the agenda em city is home to many aryans muslims gangstas latinos christians italians irish and more so scuffles death stares dodgy adealingks and shady agreements are never far away i would say the main appeal of the show is due to the fact that it goes where other shows wouldn t dvare forget pretty pictures painted for mainstream audiences forget charm forget romance oz doesn t mess around the first episode i ever saw struck me as so nasty it was surreal i couldn t say i was ready for it but as i watched more i developed a taste for oz and got accustomed to the high levels of graphic violence not just violence but injustice croogked guards who ll be sold out for a nickel inmates who ll kill on order and get away with it well mannered middle class inmates being turned into prison bitches due to their lack of street skills or prison experience watching oz you may become comfortable with what is uncomfortable viewing thats if you can get in touch with your darker side   \n",
      "\n",
      "                                                                                                                                                                                                                                                                                                                                                                                                                                                                                                                                                                                                                                                                                                                                                                                                                                                                                                                                                                                                                                                                                                                                                                                                                                                                                                                                                                                                                                                                                                                                                                                                                                                                                                                                      solution  \n",
      "0  START_ one of the other reviewers has mentioned that after watching just oz episode youll be hooked they are right as this is exactly what happened with methe first thing that struck me about oz was its brutality and unflinching scenes of violence which set in right from the word go trust me this is not a show for the faint hearted or timid this show pulls no punches with regards to drugs sex or violence its is hardcore in the classic use of the wordit is called oz as that is the nickname given to the oswald maximum security state penitentary it focuses mainly on emerald city an experimental section of the prison where all the cells have glass fronts and face inwards so privacy is not high on the agenda em city is home to manyaryans muslims gangstas latinos christians italians irish and moreso scuffles death stares dodgy dealings and shady agreements are never far awayi would say the main appeal of the show is due to the fact that it goes where other shows wouldnt dare forget pretty pictures painted for mainstream audiences forget charm forget romanceoz doesnt mess around the first episode i ever saw struck me as so nasty it was surreal i couldnt say i was ready for it but as i watched more i developed a taste for oz and got accustomed to the high levels of graphic violence not just violence but injustice crooked guards wholl be sold out for a nickel inmates wholl kill on order and get away with it well mannered middle class inmates being turned into prison bitches due to their lack of street skills or prison experience watching oz you may become comfortable with what is uncomfortable viewingthats if you can get in touch with your darker side _END  \n",
      "<class 'pandas.core.series.Series'>\n"
     ]
    }
   ],
   "source": [
    "print (train_df.head(1))\n",
    "print (type(train_df['original']))"
   ]
  },
  {
   "cell_type": "code",
   "execution_count": 131,
   "metadata": {},
   "outputs": [],
   "source": [
    "train_df['length_of_original_sent']=train_df['original'].apply(lambda x: len(x.split(\" \")))\n",
    "train_df['length_of_solution_sent']=train_df['solution'].apply(lambda x: len(x.split(\" \")))"
   ]
  },
  {
   "cell_type": "code",
   "execution_count": 132,
   "metadata": {},
   "outputs": [
    {
     "data": {
      "text/plain": [
       "(9171, 4)"
      ]
     },
     "execution_count": 132,
     "metadata": {},
     "output_type": "execute_result"
    }
   ],
   "source": [
    "train_df = train_df[train_df['length_of_original_sent']<500]\n",
    "train_df = train_df[train_df['length_of_solution_sent']<500]\n",
    "train_df.shape"
   ]
  },
  {
   "cell_type": "code",
   "execution_count": 133,
   "metadata": {},
   "outputs": [],
   "source": [
    "X = train_df['original']\n",
    "Y = train_df['solution']"
   ]
  },
  {
   "cell_type": "code",
   "execution_count": 134,
   "metadata": {},
   "outputs": [
    {
     "name": "stdout",
     "output_type": "stream",
     "text": [
      "(9171,)\n",
      "<class 'pandas.core.series.Series'>\n"
     ]
    }
   ],
   "source": [
    "print(X.shape)\n",
    "print (type(X))"
   ]
  },
  {
   "cell_type": "code",
   "execution_count": 135,
   "metadata": {},
   "outputs": [
    {
     "data": {
      "text/plain": [
       "(124030, collections.Counter)"
      ]
     },
     "execution_count": 135,
     "metadata": {},
     "output_type": "execute_result"
    }
   ],
   "source": [
    "import collections\n",
    "from collections import Counter\n",
    "vocab = Counter()\n",
    "for doc in X:\n",
    "    vocab.update(doc.split()) \n",
    "for doc in Y:\n",
    "    vocab.update(doc.split())\n",
    "len(vocab),type(vocab)"
   ]
  },
  {
   "cell_type": "code",
   "execution_count": 136,
   "metadata": {},
   "outputs": [
    {
     "name": "stdout",
     "output_type": "stream",
     "text": [
      "52414\n"
     ]
    }
   ],
   "source": [
    "min_occurane = 2\n",
    "tokens = [k for k,c in vocab.items() if c >= min_occurane]\n",
    "print(len(tokens))"
   ]
  },
  {
   "cell_type": "code",
   "execution_count": 137,
   "metadata": {},
   "outputs": [],
   "source": [
    "word2index = {}\n",
    "index2word = {}\n",
    "word2index['unknown'] = 0\n",
    "len(index2word),len(word2index)\n",
    "for token in tokens:\n",
    "    word2index[token] = len(word2index)"
   ]
  },
  {
   "cell_type": "code",
   "execution_count": 138,
   "metadata": {},
   "outputs": [
    {
     "name": "stdout",
     "output_type": "stream",
     "text": [
      "52414\n"
     ]
    }
   ],
   "source": [
    "print (len(word2index))\n",
    "for word,index in word2index.items():\n",
    "    index2word[int(index)] = word"
   ]
  },
  {
   "cell_type": "code",
   "execution_count": 139,
   "metadata": {},
   "outputs": [
    {
     "data": {
      "text/plain": [
       "52413"
      ]
     },
     "execution_count": 139,
     "metadata": {},
     "output_type": "execute_result"
    }
   ],
   "source": [
    "len(index2word)"
   ]
  },
  {
   "cell_type": "code",
   "execution_count": 140,
   "metadata": {},
   "outputs": [],
   "source": [
    "def ConvertWord2Index(series):\n",
    "    for ind, val in series.items():\n",
    "        val = val.split()\n",
    "        toke=[]\n",
    "        for valtok in val:\n",
    "            if valtok in word2index.keys():\n",
    "                toke.append(word2index[valtok])\n",
    "            else:\n",
    "                toke.append(word2index['unknown'])\n",
    "        series[ind] = toke\n",
    "    return series"
   ]
  },
  {
   "cell_type": "code",
   "execution_count": null,
   "metadata": {},
   "outputs": [],
   "source": []
  },
  {
   "cell_type": "code",
   "execution_count": 141,
   "metadata": {},
   "outputs": [
    {
     "data": {
      "text/plain": [
       "((7336,), (1835,), (7336,), (1835,))"
      ]
     },
     "execution_count": 141,
     "metadata": {},
     "output_type": "execute_result"
    }
   ],
   "source": [
    "X_train, X_test, y_train, y_test=train_test_split(X,Y,test_size=0.2)\n",
    "X_train.shape, X_test.shape, y_train.shape, y_test.shape"
   ]
  },
  {
   "cell_type": "code",
   "execution_count": 142,
   "metadata": {},
   "outputs": [
    {
     "name": "stdout",
     "output_type": "stream",
     "text": [
      "<class 'pandas.core.series.Series'>\n"
     ]
    },
    {
     "data": {
      "text/plain": [
       "'START_ one of the other reviewers has mentioned that after watching just oz episode youll be hooked they are right as this is exactly what happened with methe first thing that struck me about oz was its brutality and unflinching scenes of violence which set in right from the word go trust me this is not a show for the faint hearted or timid this show pulls no punches with regards to drugs sex or violence its is hardcore in the classic use of the wordit is called oz as that is the nickname given to the oswald maximum security state penitentary it focuses mainly on emerald city an experimental section of the prison where all the cells have glass fronts and face inwards so privacy is not high on the agenda em city is home to manyaryans muslims gangstas latinos christians italians irish and moreso scuffles death stares dodgy dealings and shady agreements are never far awayi would say the main appeal of the show is due to the fact that it goes where other shows wouldnt dare forget pretty pictures painted for mainstream audiences forget charm forget romanceoz doesnt mess around the first episode i ever saw struck me as so nasty it was surreal i couldnt say i was ready for it but as i watched more i developed a taste for oz and got accustomed to the high levels of graphic violence not just violence but injustice crooked guards wholl be sold out for a nickel inmates wholl kill on order and get away with it well mannered middle class inmates being turned into prison bitches due to their lack of street skills or prison experience watching oz you may become comfortable with what is uncomfortable viewingthats if you can get in touch with your darker side _END'"
      ]
     },
     "execution_count": 142,
     "metadata": {},
     "output_type": "execute_result"
    }
   ],
   "source": [
    "print (type(X_train))\n",
    "y_train[0]"
   ]
  },
  {
   "cell_type": "code",
   "execution_count": 143,
   "metadata": {},
   "outputs": [
    {
     "data": {
      "text/plain": [
       "(499, 497)"
      ]
     },
     "execution_count": 143,
     "metadata": {},
     "output_type": "execute_result"
    }
   ],
   "source": [
    "def Max_length(data):\n",
    "  max_length_ = max([len(x.split(' ')) for x in data])\n",
    "  return max_length_\n",
    "#Training data\n",
    "max_length_solution = (Max_length(X_train))\n",
    "max_length_original = Max_length(y_train)+1\n",
    "#Test data\n",
    "max_length_solution_test = Max_length(X_test)\n",
    "max_length_original_test = Max_length(y_test)\n",
    "max_length_solution, max_length_original"
   ]
  },
  {
   "cell_type": "code",
   "execution_count": 144,
   "metadata": {},
   "outputs": [
    {
     "data": {
      "text/plain": [
       "(499, 499)"
      ]
     },
     "execution_count": 144,
     "metadata": {},
     "output_type": "execute_result"
    }
   ],
   "source": [
    "max_length_solution = max(max_length_solution, max_length_original)\n",
    "max_length_original = max_length_solution\n",
    "max_length_solution, max_length_original"
   ]
  },
  {
   "cell_type": "code",
   "execution_count": 145,
   "metadata": {},
   "outputs": [],
   "source": [
    "X_train = ConvertWord2Index(X_train)\n",
    "X_test = ConvertWord2Index(X_test)\n",
    "y_train = ConvertWord2Index(y_train)\n",
    "y_test = ConvertWord2Index(y_test)"
   ]
  },
  {
   "cell_type": "code",
   "execution_count": 146,
   "metadata": {},
   "outputs": [
    {
     "name": "stdout",
     "output_type": "stream",
     "text": [
      "<class 'pandas.core.series.Series'>\n"
     ]
    },
    {
     "data": {
      "text/plain": [
       "[1,\n",
       " 2,\n",
       " 3,\n",
       " 4,\n",
       " 5,\n",
       " 6,\n",
       " 7,\n",
       " 8,\n",
       " 9,\n",
       " 10,\n",
       " 11,\n",
       " 12,\n",
       " 13,\n",
       " 14,\n",
       " 15,\n",
       " 16,\n",
       " 17,\n",
       " 18,\n",
       " 19,\n",
       " 20,\n",
       " 21,\n",
       " 22,\n",
       " 23,\n",
       " 24,\n",
       " 25,\n",
       " 26,\n",
       " 27,\n",
       " 28,\n",
       " 3,\n",
       " 29,\n",
       " 30,\n",
       " 8,\n",
       " 31,\n",
       " 28,\n",
       " 32,\n",
       " 12,\n",
       " 33,\n",
       " 34,\n",
       " 35,\n",
       " 36,\n",
       " 37,\n",
       " 38,\n",
       " 2,\n",
       " 39,\n",
       " 40,\n",
       " 41,\n",
       " 42,\n",
       " 20,\n",
       " 43,\n",
       " 3,\n",
       " 44,\n",
       " 45,\n",
       " 46,\n",
       " 28,\n",
       " 22,\n",
       " 23,\n",
       " 47,\n",
       " 48,\n",
       " 49,\n",
       " 50,\n",
       " 3,\n",
       " 51,\n",
       " 52,\n",
       " 53,\n",
       " 54,\n",
       " 22,\n",
       " 49,\n",
       " 55,\n",
       " 56,\n",
       " 57,\n",
       " 27,\n",
       " 58,\n",
       " 59,\n",
       " 60,\n",
       " 61,\n",
       " 53,\n",
       " 39,\n",
       " 34,\n",
       " 23,\n",
       " 62,\n",
       " 42,\n",
       " 3,\n",
       " 63,\n",
       " 64,\n",
       " 2,\n",
       " 3,\n",
       " 44,\n",
       " 65,\n",
       " 23,\n",
       " 66,\n",
       " 12,\n",
       " 21,\n",
       " 67,\n",
       " 23,\n",
       " 3,\n",
       " 68,\n",
       " 6354,\n",
       " 59,\n",
       " 3,\n",
       " 69,\n",
       " 70,\n",
       " 71,\n",
       " 72,\n",
       " 73,\n",
       " 65,\n",
       " 74,\n",
       " 75,\n",
       " 76,\n",
       " 77,\n",
       " 78,\n",
       " 79,\n",
       " 80,\n",
       " 81,\n",
       " 2,\n",
       " 3,\n",
       " 82,\n",
       " 83,\n",
       " 84,\n",
       " 3,\n",
       " 85,\n",
       " 86,\n",
       " 87,\n",
       " 88,\n",
       " 36,\n",
       " 89,\n",
       " 90,\n",
       " 91,\n",
       " 92,\n",
       " 23,\n",
       " 47,\n",
       " 93,\n",
       " 76,\n",
       " 3,\n",
       " 94,\n",
       " 95,\n",
       " 78,\n",
       " 23,\n",
       " 96,\n",
       " 59,\n",
       " 97,\n",
       " 98,\n",
       " 99,\n",
       " 100,\n",
       " 101,\n",
       " 102,\n",
       " 103,\n",
       " 104,\n",
       " 36,\n",
       " 105,\n",
       " 91,\n",
       " 106,\n",
       " 107,\n",
       " 108,\n",
       " 109,\n",
       " 6354,\n",
       " 36,\n",
       " 110,\n",
       " 111,\n",
       " 19,\n",
       " 112,\n",
       " 113,\n",
       " 114,\n",
       " 115,\n",
       " 116,\n",
       " 117,\n",
       " 3,\n",
       " 118,\n",
       " 119,\n",
       " 2,\n",
       " 3,\n",
       " 49,\n",
       " 23,\n",
       " 120,\n",
       " 59,\n",
       " 3,\n",
       " 121,\n",
       " 8,\n",
       " 65,\n",
       " 122,\n",
       " 83,\n",
       " 4,\n",
       " 123,\n",
       " 124,\n",
       " 125,\n",
       " 6354,\n",
       " 126,\n",
       " 127,\n",
       " 128,\n",
       " 129,\n",
       " 50,\n",
       " 130,\n",
       " 131,\n",
       " 126,\n",
       " 132,\n",
       " 126,\n",
       " 133,\n",
       " 12,\n",
       " 134,\n",
       " 125,\n",
       " 135,\n",
       " 136,\n",
       " 3,\n",
       " 29,\n",
       " 13,\n",
       " 115,\n",
       " 137,\n",
       " 138,\n",
       " 31,\n",
       " 28,\n",
       " 21,\n",
       " 91,\n",
       " 139,\n",
       " 65,\n",
       " 33,\n",
       " 140,\n",
       " 115,\n",
       " 141,\n",
       " 125,\n",
       " 117,\n",
       " 115,\n",
       " 33,\n",
       " 142,\n",
       " 50,\n",
       " 65,\n",
       " 143,\n",
       " 21,\n",
       " 115,\n",
       " 144,\n",
       " 105,\n",
       " 115,\n",
       " 145,\n",
       " 48,\n",
       " 146,\n",
       " 50,\n",
       " 12,\n",
       " 36,\n",
       " 147,\n",
       " 148,\n",
       " 59,\n",
       " 3,\n",
       " 93,\n",
       " 149,\n",
       " 2,\n",
       " 150,\n",
       " 39,\n",
       " 47,\n",
       " 11,\n",
       " 39,\n",
       " 143,\n",
       " 151,\n",
       " 6354,\n",
       " 152,\n",
       " 153,\n",
       " 15,\n",
       " 16,\n",
       " 154,\n",
       " 155,\n",
       " 50,\n",
       " 48,\n",
       " 156,\n",
       " 157,\n",
       " 153,\n",
       " 15,\n",
       " 158,\n",
       " 76,\n",
       " 159,\n",
       " 36,\n",
       " 160,\n",
       " 114,\n",
       " 27,\n",
       " 65,\n",
       " 161,\n",
       " 162,\n",
       " 163,\n",
       " 164,\n",
       " 157,\n",
       " 165,\n",
       " 166,\n",
       " 167,\n",
       " 82,\n",
       " 168,\n",
       " 120,\n",
       " 59,\n",
       " 169,\n",
       " 170,\n",
       " 2,\n",
       " 171,\n",
       " 172,\n",
       " 53,\n",
       " 82,\n",
       " 173,\n",
       " 10,\n",
       " 12,\n",
       " 14,\n",
       " 174,\n",
       " 175,\n",
       " 176,\n",
       " 27,\n",
       " 25,\n",
       " 23,\n",
       " 177,\n",
       " 178,\n",
       " 179,\n",
       " 180,\n",
       " 14,\n",
       " 181,\n",
       " 160,\n",
       " 42,\n",
       " 182,\n",
       " 27,\n",
       " 183,\n",
       " 184,\n",
       " 185]"
      ]
     },
     "execution_count": 146,
     "metadata": {},
     "output_type": "execute_result"
    }
   ],
   "source": [
    "print (type(X_train))\n",
    "X_train[0]"
   ]
  },
  {
   "cell_type": "code",
   "execution_count": 147,
   "metadata": {},
   "outputs": [],
   "source": [
    "X_train = pad_sequences(X_train, maxlen = max_length_solution, padding='post')\n",
    "X_test = pad_sequences(X_test, maxlen = max_length_solution, padding='post')\n",
    "y_train = pad_sequences(y_train, maxlen = max_length_solution, padding='post')\n",
    "y_test = pad_sequences(y_test, maxlen = max_length_solution, padding='post')"
   ]
  },
  {
   "cell_type": "code",
   "execution_count": 148,
   "metadata": {},
   "outputs": [
    {
     "name": "stdout",
     "output_type": "stream",
     "text": [
      "<class 'numpy.ndarray'>\n"
     ]
    },
    {
     "data": {
      "text/plain": [
       "array([  115,  1412,    22,   346,    91, 37019,   115,  6354,    65,\n",
       "        1274,    65,    23,    47, 31294,   574,   546,   346, 15135,\n",
       "        7621,    76,  8026,    61,   677,    36,  7323,   725,   895,\n",
       "          47,  2484,     3,   384,    65,  6755,    59,   357,    65,\n",
       "          42,     3,    29,  1737,  2193,  3884,  3885,  5821,    48,\n",
       "       38560,     2, 27195,  7980,    84,   115,   955,  6354,    33,\n",
       "         211,  4952,    65,    50,  6354,   603,    48,   583,   346,\n",
       "         808,   125, 31988,   183,   195,    53,   384,    76,    22,\n",
       "           1,     0,     0,     0,     0,     0,     0,     0,     0,\n",
       "           0,     0,     0,     0,     0,     0,     0,     0,     0,\n",
       "           0,     0,     0,     0,     0,     0,     0,     0,     0,\n",
       "           0,     0,     0,     0,     0,     0,     0,     0,     0,\n",
       "           0,     0,     0,     0,     0,     0,     0,     0,     0,\n",
       "           0,     0,     0,     0,     0,     0,     0,     0,     0,\n",
       "           0,     0,     0,     0,     0,     0,     0,     0,     0,\n",
       "           0,     0,     0,     0,     0,     0,     0,     0,     0,\n",
       "           0,     0,     0,     0,     0,     0,     0,     0,     0,\n",
       "           0,     0,     0,     0,     0,     0,     0,     0,     0,\n",
       "           0,     0,     0,     0,     0,     0,     0,     0,     0,\n",
       "           0,     0,     0,     0,     0,     0,     0,     0,     0,\n",
       "           0,     0,     0,     0,     0,     0,     0,     0,     0,\n",
       "           0,     0,     0,     0,     0,     0,     0,     0,     0,\n",
       "           0,     0,     0,     0,     0,     0,     0,     0,     0,\n",
       "           0,     0,     0,     0,     0,     0,     0,     0,     0,\n",
       "           0,     0,     0,     0,     0,     0,     0,     0,     0,\n",
       "           0,     0,     0,     0,     0,     0,     0,     0,     0,\n",
       "           0,     0,     0,     0,     0,     0,     0,     0,     0,\n",
       "           0,     0,     0,     0,     0,     0,     0,     0,     0,\n",
       "           0,     0,     0,     0,     0,     0,     0,     0,     0,\n",
       "           0,     0,     0,     0,     0,     0,     0,     0,     0,\n",
       "           0,     0,     0,     0,     0,     0,     0,     0,     0,\n",
       "           0,     0,     0,     0,     0,     0,     0,     0,     0,\n",
       "           0,     0,     0,     0,     0,     0,     0,     0,     0,\n",
       "           0,     0,     0,     0,     0,     0,     0,     0,     0,\n",
       "           0,     0,     0,     0,     0,     0,     0,     0,     0,\n",
       "           0,     0,     0,     0,     0,     0,     0,     0,     0,\n",
       "           0,     0,     0,     0,     0,     0,     0,     0,     0,\n",
       "           0,     0,     0,     0,     0,     0,     0,     0,     0,\n",
       "           0,     0,     0,     0,     0,     0,     0,     0,     0,\n",
       "           0,     0,     0,     0,     0,     0,     0,     0,     0,\n",
       "           0,     0,     0,     0,     0,     0,     0,     0,     0,\n",
       "           0,     0,     0,     0,     0,     0,     0,     0,     0,\n",
       "           0,     0,     0,     0,     0,     0,     0,     0,     0,\n",
       "           0,     0,     0,     0,     0,     0,     0,     0,     0,\n",
       "           0,     0,     0,     0,     0,     0,     0,     0,     0,\n",
       "           0,     0,     0,     0,     0,     0,     0,     0,     0,\n",
       "           0,     0,     0,     0,     0,     0,     0,     0,     0,\n",
       "           0,     0,     0,     0,     0,     0,     0,     0,     0,\n",
       "           0,     0,     0,     0,     0,     0,     0,     0,     0,\n",
       "           0,     0,     0,     0,     0,     0,     0,     0,     0,\n",
       "           0,     0,     0,     0,     0,     0,     0,     0,     0,\n",
       "           0,     0,     0,     0,     0,     0,     0,     0,     0,\n",
       "           0,     0,     0,     0,     0,     0,     0,     0,     0,\n",
       "           0,     0,     0,     0,     0,     0,     0,     0,     0,\n",
       "           0,     0,     0,     0,     0,     0,     0,     0,     0,\n",
       "           0,     0,     0,     0], dtype=int32)"
      ]
     },
     "execution_count": 148,
     "metadata": {},
     "output_type": "execute_result"
    }
   ],
   "source": [
    "print (type(X_train))\n",
    "X_train[0]"
   ]
  },
  {
   "cell_type": "code",
   "execution_count": 149,
   "metadata": {},
   "outputs": [
    {
     "data": {
      "text/plain": [
       "(7336, 499)"
      ]
     },
     "execution_count": 149,
     "metadata": {},
     "output_type": "execute_result"
    }
   ],
   "source": [
    "X_train.shape"
   ]
  },
  {
   "cell_type": "code",
   "execution_count": 150,
   "metadata": {},
   "outputs": [],
   "source": [
    "vocab_size_source = len(word2index)\n",
    "vocab_size_target = len(word2index)"
   ]
  },
  {
   "cell_type": "code",
   "execution_count": 151,
   "metadata": {},
   "outputs": [
    {
     "data": {
      "text/plain": [
       "52414"
      ]
     },
     "execution_count": 151,
     "metadata": {},
     "output_type": "execute_result"
    }
   ],
   "source": [
    "vocab_size_target"
   ]
  },
  {
   "cell_type": "code",
   "execution_count": 152,
   "metadata": {},
   "outputs": [
    {
     "data": {
      "text/plain": [
       "\"originalTokenizer = Tokenizer()\\nprint (originalTokenizer)\\noriginalTokenizer.fit_on_texts(X_train)\\nprint ('\\n',originalTokenizer,'\\nhere we have',type(originalTokenizer))\\nOword2index = originalTokenizer.word_index\\nprint(len(Oword2index))\\nvocab_size_source = len(Oword2index) + 1\\nX_train[0]\\nX_train = originalTokenizer.texts_to_sequences(X_train)\\nprint (type(X_train[0]),'\\n',X_train[0])\\nX_train = pad_sequences(X_train, maxlen=max_length_original, padding='post')\\nX_test = originalTokenizer.texts_to_sequences(X_test)\\nX_test = pad_sequences(X_test, maxlen = max_length_original, padding='post')\\nsolutionTokenizer = Tokenizer()\\nsolutionTokenizer.fit_on_texts(y_train)\\nSword2index = solutionTokenizer.word_index\\nvocab_size_target = len(Sword2index) + 1\\ny_train = solutionTokenizer.texts_to_sequences(y_train)\\ny_train = pad_sequences(y_train, maxlen=max_length_solution, padding='post')\\ny_test = solutionTokenizer.texts_to_sequences(y_test)\\ny_test = pad_sequences(y_test, maxlen = max_length_solution, padding='post')\\nvocab_size_source, vocab_size_target\""
      ]
     },
     "execution_count": 152,
     "metadata": {},
     "output_type": "execute_result"
    }
   ],
   "source": [
    "'''originalTokenizer = Tokenizer()\n",
    "print (originalTokenizer)\n",
    "originalTokenizer.fit_on_texts(X_train)\n",
    "print ('\\n',originalTokenizer,'\\nhere we have',type(originalTokenizer))\n",
    "Oword2index = originalTokenizer.word_index\n",
    "print(len(Oword2index))\n",
    "vocab_size_source = len(Oword2index) + 1\n",
    "X_train[0]\n",
    "X_train = originalTokenizer.texts_to_sequences(X_train)\n",
    "print (type(X_train[0]),'\\n',X_train[0])\n",
    "X_train = pad_sequences(X_train, maxlen=max_length_original, padding='post')\n",
    "X_test = originalTokenizer.texts_to_sequences(X_test)\n",
    "X_test = pad_sequences(X_test, maxlen = max_length_original, padding='post')\n",
    "solutionTokenizer = Tokenizer()\n",
    "solutionTokenizer.fit_on_texts(y_train)\n",
    "Sword2index = solutionTokenizer.word_index\n",
    "vocab_size_target = len(Sword2index) + 1\n",
    "y_train = solutionTokenizer.texts_to_sequences(y_train)\n",
    "y_train = pad_sequences(y_train, maxlen=max_length_solution, padding='post')\n",
    "y_test = solutionTokenizer.texts_to_sequences(y_test)\n",
    "y_test = pad_sequences(y_test, maxlen = max_length_solution, padding='post')\n",
    "vocab_size_source, vocab_size_target'''"
   ]
  },
  {
   "cell_type": "code",
   "execution_count": 153,
   "metadata": {},
   "outputs": [
    {
     "name": "stdout",
     "output_type": "stream",
     "text": [
      "<class 'numpy.ndarray'>\n"
     ]
    }
   ],
   "source": [
    "print (type(X_train))"
   ]
  },
  {
   "cell_type": "code",
   "execution_count": 154,
   "metadata": {},
   "outputs": [
    {
     "data": {
      "text/plain": [
       "(7336, 499)"
      ]
     },
     "execution_count": 154,
     "metadata": {},
     "output_type": "execute_result"
    }
   ],
   "source": [
    "X_train.shape"
   ]
  },
  {
   "cell_type": "code",
   "execution_count": 155,
   "metadata": {},
   "outputs": [],
   "source": [
    "with open('NMT_data_wordwise.pkl','wb') as f:\n",
    "  pkl.dump([X_train, y_train, X_test, y_test],f,protocol=pkl.HIGHEST_PROTOCOL)\n",
    "with open('NMT_Etokenizer_wordwise.pkl','wb') as f:\n",
    "  pkl.dump([vocab_size_source, word2index], f, protocol=pkl.HIGHEST_PROTOCOL)\n",
    "with open('NMT_Mtokenizer_wordwise.pkl', 'wb') as f:\n",
    "  pkl.dump([vocab_size_target, index2word], f,protocol=pkl.HIGHEST_PROTOCOL)\n",
    "filename = os.path.join('./utility_data','NMT_Etokenizer.pkl')\n",
    "#with open(filename, 'rb') as f:\n",
    "    #data_solution = pkl.load(f)\n",
    "    #solutionTokenizer = Tokenizer()\n",
    "    #vocab_size_source, Sword2index, solutionTokenizer  = data_solution\n",
    "X_train = np.array(X_train)\n",
    "y_train = np.array(y_train)\n",
    "X_test = np.array(X_test)\n",
    "y_test = np.array(y_test)"
   ]
  },
  {
   "cell_type": "code",
   "execution_count": 156,
   "metadata": {},
   "outputs": [],
   "source": [
    "# import pickle as pkl\n",
    "# filename ='../input/nmtdata/NMT_data.pkl'\n",
    "# with open(filename, 'rb') as f:\n",
    "#     data = pkl.load(f)\n",
    "#     X_train, y_train, X_test, y_test = data\n",
    "#     print (X_train.shape, y_train.shape, X_test.shape, y_test.shape)\n",
    "# X_train = np.array(X_train)\n",
    "# y_train = np.array(y_train)\n",
    "# X_test = np.array(X_test)\n",
    "# y_test = np.array(y_test)\n",
    "# print (X_train.shape, y_train.shape, X_test.shape,type(X_test))\n",
    "# Tok_filename ='../input/nmtdata/NMT_Etokenizer.pkl'\n",
    "# with open(Tok_filename, 'rb') as f:\n",
    "#     data = pkl.load(f)\n",
    "#     vocab_size_source, word2index = data\n",
    "# print ((vocab_size_source),len(word2index))\n",
    "# Tok_filename ='../input/nmtdata/NMT_Mtokenizer.pkl'\n",
    "# with open(Tok_filename, 'rb') as f:\n",
    "#     data = pkl.load(f)\n",
    "#     vocab_size_target, index2word = data\n",
    "# print ((vocab_size_target),(index2word[0]))"
   ]
  },
  {
   "cell_type": "code",
   "execution_count": 46,
   "metadata": {},
   "outputs": [],
   "source": [
    "import attention\n",
    "from attention import AttentionLayer\n",
    "from keras import backend as K \n",
    "K.clear_session() \n",
    "latent_dim = 200\n",
    "# Encoder \n",
    "encoder_inputs = Input(shape=(max_length_original,)) \n",
    "enc_emb = Embedding(vocab_size_source, latent_dim,trainable=True)(encoder_inputs)\n",
    "#LSTM 1 \n",
    "encoder_lstm1 = LSTM(latent_dim,return_sequences=True,return_state=True) \n",
    "encoder_output1, state_h1, state_c1 = encoder_lstm1(enc_emb)\n",
    "#LSTM 2 \n",
    "encoder_lstm2 = LSTM(latent_dim,return_sequences=True,return_state=True) \n",
    "encoder_output2, state_h2, state_c2 = encoder_lstm2(encoder_output1)\n",
    "#LSTM 3 \n",
    "encoder_lstm3=LSTM(latent_dim, return_state=True, return_sequences=True) \n",
    "encoder_outputs, state_h, state_c= encoder_lstm3(encoder_output2)"
   ]
  },
  {
   "cell_type": "code",
   "execution_count": 47,
   "metadata": {},
   "outputs": [],
   "source": [
    "# Set up the decoder. \n",
    "decoder_inputs = Input(shape=(None,)) \n",
    "dec_emb_layer = Embedding(vocab_size_target, latent_dim,trainable=True) \n",
    "dec_emb = dec_emb_layer(decoder_inputs)\n",
    "#LSTM using encoder_states as initial state\n",
    "decoder_lstm = LSTM(latent_dim, return_sequences=True, return_state=True) \n",
    "decoder_outputs,decoder_fwd_state, decoder_back_state = decoder_lstm(dec_emb,initial_state=[state_h, state_c])"
   ]
  },
  {
   "cell_type": "code",
   "execution_count": 48,
   "metadata": {},
   "outputs": [],
   "source": [
    "attn_layer = AttentionLayer(name='attention_layer') \n",
    "attn_out, attn_states = attn_layer([encoder_outputs, decoder_outputs])"
   ]
  },
  {
   "cell_type": "code",
   "execution_count": 49,
   "metadata": {},
   "outputs": [],
   "source": [
    "# Concat attention output and decoder LSTM output \n",
    "decoder_concat_input = Concatenate(axis=-1, name='concat_layer')([decoder_outputs, attn_out])\n",
    "#Dense layer\n",
    "decoder_dense = TimeDistributed(Dense(vocab_size_target, activation='softmax')) \n",
    "decoder_outputs = decoder_dense(decoder_concat_input)"
   ]
  },
  {
   "cell_type": "code",
   "execution_count": 50,
   "metadata": {},
   "outputs": [
    {
     "data": {
      "image/png": "[encoded data removed]",
      "text/plain": [
       "<IPython.core.display.Image object>"
      ]
     },
     "execution_count": 50,
     "metadata": {},
     "output_type": "execute_result"
    }
   ],
   "source": [
    "# Define the model\n",
    "model = Model([encoder_inputs, decoder_inputs], decoder_outputs) \n",
    "plot_model(model, to_file='train_model.png', show_shapes=True)"
   ]
  },
  {
   "cell_type": "code",
   "execution_count": 51,
   "metadata": {},
   "outputs": [],
   "source": [
    "model.compile(optimizer='rmsprop',\n",
    "              loss='sparse_categorical_crossentropy', \n",
    "              metrics=['accuracy'])"
   ]
  },
  {
   "cell_type": "code",
   "execution_count": 52,
   "metadata": {},
   "outputs": [
    {
     "name": "stdout",
     "output_type": "stream",
     "text": [
      "Model: \"functional_1\"\n",
      "__________________________________________________________________________________________________\n",
      "Layer (type)                    Output Shape         Param #     Connected to                     \n",
      "==================================================================================================\n",
      "input_1 (InputLayer)            [(None, 499)]        0                                            \n",
      "__________________________________________________________________________________________________\n",
      "embedding (Embedding)           (None, 499, 200)     10482800    input_1[0][0]                    \n",
      "__________________________________________________________________________________________________\n",
      "lstm (LSTM)                     [(None, 499, 200), ( 320800      embedding[0][0]                  \n",
      "__________________________________________________________________________________________________\n",
      "input_2 (InputLayer)            [(None, None)]       0                                            \n",
      "__________________________________________________________________________________________________\n",
      "lstm_1 (LSTM)                   [(None, 499, 200), ( 320800      lstm[0][0]                       \n",
      "__________________________________________________________________________________________________\n",
      "embedding_1 (Embedding)         (None, None, 200)    10482800    input_2[0][0]                    \n",
      "__________________________________________________________________________________________________\n",
      "lstm_2 (LSTM)                   [(None, 499, 200), ( 320800      lstm_1[0][0]                     \n",
      "__________________________________________________________________________________________________\n",
      "lstm_3 (LSTM)                   [(None, None, 200),  320800      embedding_1[0][0]                \n",
      "                                                                 lstm_2[0][1]                     \n",
      "                                                                 lstm_2[0][2]                     \n",
      "__________________________________________________________________________________________________\n",
      "attention_layer (AttentionLayer ((None, None, 200),  80200       lstm_2[0][0]                     \n",
      "                                                                 lstm_3[0][0]                     \n",
      "__________________________________________________________________________________________________\n",
      "concat_layer (Concatenate)      (None, None, 400)    0           lstm_3[0][0]                     \n",
      "                                                                 attention_layer[0][0]            \n",
      "__________________________________________________________________________________________________\n",
      "time_distributed (TimeDistribut (None, None, 52414)  21018014    concat_layer[0][0]               \n",
      "==================================================================================================\n",
      "Total params: 43,347,014\n",
      "Trainable params: 43,347,014\n",
      "Non-trainable params: 0\n",
      "__________________________________________________________________________________________________\n"
     ]
    }
   ],
   "source": [
    "model.summary()"
   ]
  },
  {
   "cell_type": "code",
   "execution_count": 53,
   "metadata": {},
   "outputs": [],
   "source": [
    "es = EarlyStopping(monitor='val_loss', mode='min', verbose=1)"
   ]
  },
  {
   "cell_type": "code",
   "execution_count": null,
   "metadata": {},
   "outputs": [],
   "source": [
    "history = model.fit([X_train, y_train[:,:-1]], y_train.reshape(y_train.shape[0], y_train.shape[1],1)[:,1:], \n",
    "                    epochs=10, \n",
    "                    callbacks=[es],\n",
    "                    batch_size=20,\n",
    "                    validation_data = ([X_test, y_test[:,:-1]],           y_test.reshape(y_test.shape[0], y_test.shape[1], 1)[:,1:]))"
   ]
  },
  {
   "cell_type": "code",
   "execution_count": null,
   "metadata": {},
   "outputs": [],
   "source": [
    "from matplotlib import pyplot\n",
    "pyplot.plot(history.history['loss'], label='train') \n",
    "pyplot.plot(history.history['val_loss'], label='test') \n",
    "pyplot.legend()\n",
    "pyplot.show()"
   ]
  },
  {
   "cell_type": "code",
   "execution_count": null,
   "metadata": {},
   "outputs": [],
   "source": [
    "#Model saving and loadin \n",
    "model_json = model.to_json()\n",
    "with open(\"NMT_model.json\", \"w\") as json_file:\n",
    "    json_file.write(model_json)\n",
    "# serialize weights to HDF5\n",
    "model.save_weights(\"NMT_model_weight.h5\")\n",
    "print(\"Saved model to disk\")"
   ]
  },
  {
   "cell_type": "code",
   "execution_count": 157,
   "metadata": {},
   "outputs": [],
   "source": [
    "# loading the model architecture and asigning the weights\n",
    "#json_file = open('NMT_model.json', 'r')\n",
    "json_file = open('/kaggle/input/myscript-py/NMT_model.json', 'r')\n",
    "loaded_model_json = json_file.read()\n",
    "json_file.close()\n",
    "model_loaded = model_from_json(loaded_model_json, custom_objects={'AttentionLayer': AttentionLayer})\n",
    "# load weights into new model\n",
    "#model_loaded.load_weights(\"NMT_model_weight.h5\")\n",
    "model_loaded.load_weights('/kaggle/input/myscript-py/NMT_model_weight.h5')"
   ]
  },
  {
   "cell_type": "code",
   "execution_count": 158,
   "metadata": {},
   "outputs": [],
   "source": [
    "# latent_dim=200\n",
    "# # encoder inference\n",
    "# encoder_inputs = model_loaded.input[0]  #loading encoder_inputs\n",
    "# encoder_outputs, state_h, state_c = model.layers[6].output #loading encoder_outputs\n",
    "# #print(encoder_outputs.shape)\n",
    "# encoder_model = Model(inputs=encoder_inputs,outputs=[encoder_outputs, state_h, state_c])\n",
    "# # decoder inference\n",
    "# # Below tensors will hold the states of the previous time step\n",
    "# decoder_state_input_h = Input(shape=(latent_dim,))\n",
    "# decoder_state_input_c = Input(shape=(latent_dim,))\n",
    "# decoder_hidden_state_input = Input(shape=(32,latent_dim))\n",
    "# # Get the embeddings of the decoder sequence\n",
    "# decoder_inputs = model_loaded.layers[3].output\n",
    "# #print(decoder_inputs.shape)\n",
    "# dec_emb_layer = model_loaded.layers[5]\n",
    "# dec_emb2= dec_emb_layer(decoder_inputs)\n",
    "# # To predict the next word in the sequence, set the initial states to the states from the previous time step\n",
    "# decoder_lstm = model_loaded.layers[7]\n",
    "# decoder_outputs2, state_h2, state_c2 = decoder_lstm(dec_emb2, initial_state=[decoder_state_input_h, decoder_state_input_c])\n",
    "# #attention inference\n",
    "# attn_layer = model_loaded.layers[8]\n",
    "# attn_out_inf, attn_states_inf = attn_layer([decoder_hidden_state_input, decoder_outputs2])\n",
    "# concate = model_loaded.layers[9]\n",
    "# decoder_inf_concat = concate([decoder_outputs2, attn_out_inf])\n",
    "# # A dense softmax layer to generate prob dist. over the target vocabulary\n",
    "# decoder_dense = model_loaded.layers[10]\n",
    "# decoder_outputs2 = decoder_dense(decoder_inf_concat)\n",
    "# # Final decoder model\n",
    "# decoder_model = Model(\n",
    "# [decoder_inputs] + [decoder_hidden_state_input,decoder_state_input_h, decoder_state_input_c],\n",
    "# [decoder_outputs2] + [state_h2, state_c2])"
   ]
  },
  {
   "cell_type": "code",
   "execution_count": 159,
   "metadata": {},
   "outputs": [],
   "source": [
    "latent_dim=200\n",
    "# encoder inference\n",
    "encoder_inputs = model_loaded.input[0]  #loading encoder_inputs\n",
    "encoder_outputs, state_h, state_c = model_loaded.layers[6].output #loading encoder_outputs\n",
    "#print(encoder_outputs.shape)\n",
    "encoder_model = Model(inputs=encoder_inputs,outputs=[encoder_outputs, state_h, state_c])\n",
    "# decoder inference\n",
    "# Below tensors will hold the states of the previous time step\n",
    "decoder_state_input_h = Input(shape=(latent_dim,))\n",
    "decoder_state_input_c = Input(shape=(latent_dim,))\n",
    "decoder_hidden_state_input = Input(shape=(32,latent_dim))\n",
    "# Get the embeddings of the decoder sequence\n",
    "decoder_inputs = model_loaded.layers[3].output\n",
    "#print(decoder_inputs.shape)\n",
    "dec_emb_layer = model_loaded.layers[5]\n",
    "dec_emb2= dec_emb_layer(decoder_inputs)\n",
    "# To predict the next word in the sequence, set the initial states to the states from the previous time step\n",
    "decoder_lstm = model_loaded.layers[7]\n",
    "decoder_outputs2, state_h2, state_c2 = decoder_lstm(dec_emb2, initial_state=[decoder_state_input_h, decoder_state_input_c])\n",
    "#attention inference\n",
    "attn_layer = model_loaded.layers[8]\n",
    "attn_out_inf, attn_states_inf = attn_layer([decoder_hidden_state_input, decoder_outputs2])\n",
    "concate = model_loaded.layers[9]\n",
    "decoder_inf_concat = concate([decoder_outputs2, attn_out_inf])\n",
    "# A dense softmax layer to generate prob dist. over the target vocabulary\n",
    "decoder_dense = model_loaded.layers[10]\n",
    "decoder_outputs2 = decoder_dense(decoder_inf_concat)\n",
    "# Final decoder model\n",
    "decoder_model = Model(\n",
    "[decoder_inputs] + [decoder_hidden_state_input,decoder_state_input_h, decoder_state_input_c],\n",
    "[decoder_outputs2] + [state_h2, state_c2])"
   ]
  },
  {
   "cell_type": "code",
   "execution_count": 160,
   "metadata": {},
   "outputs": [],
   "source": [
    "def decode_sequence(input_seq):\n",
    "    # Encode the input as state vectors.\n",
    "    e_out, e_h, e_c = encoder_model.predict(input_seq)\n",
    "# Generate empty target sequence of length 1.\n",
    "    target_seq = np.zeros((1,1))\n",
    "# Chose the 'start' word as the first word of the target sequence\n",
    "    target_seq[0, 0] = word2index['START_']\n",
    "    stop_condition = False\n",
    "    decoded_sentence = ''\n",
    "    while not stop_condition:\n",
    "        output_tokens, h, c = decoder_model.predict([target_seq] + [e_out, e_h, e_c])\n",
    "# Sample a token\n",
    "        sampled_token_index = np.argmax(output_tokens[0, -1, :])\n",
    "        if sampled_token_index == 0:\n",
    "            break\n",
    "        else:\n",
    "            sampled_token = index2word[sampled_token_index]\n",
    "        if(sampled_token!='end'):\n",
    "            decoded_sentence += ' '+sampled_token\n",
    "# Exit condition: either hit max length or find stop word.\n",
    "        if (sampled_token == 'end' or len(decoded_sentence.split()) >= (600-1)):\n",
    "            stop_condition = True\n",
    "# Update the target sequence (of length 1).\n",
    "        target_seq = np.zeros((1,1))\n",
    "        target_seq[0, 0] = sampled_token_index\n",
    "# Update internal states\n",
    "        e_h, e_c = h, c\n",
    "    return decoded_sentence"
   ]
  },
  {
   "cell_type": "code",
   "execution_count": 161,
   "metadata": {},
   "outputs": [],
   "source": [
    "#Sindex2word = solutionTokenizer.index_word\n",
    "#Oindex2word = originalTokenizer.index_word"
   ]
  },
  {
   "cell_type": "code",
   "execution_count": 162,
   "metadata": {},
   "outputs": [],
   "source": [
    "def seq2summary(input_seq):\n",
    "    newString=''\n",
    "    for i in input_seq:\n",
    "      if((i!=0 and i!=word2index['START_']) and i!=word2index['_END']):\n",
    "        newString=newString+index2word[i]+' '\n",
    "    return newString\n",
    "def seq2text(input_seq):\n",
    "    newString=''\n",
    "    for i in input_seq:\n",
    "      if(i!=0):\n",
    "        newString=newString+index2word[i]+' '\n",
    "    return newString"
   ]
  },
  {
   "cell_type": "code",
   "execution_count": 163,
   "metadata": {},
   "outputs": [
    {
     "data": {
      "text/plain": [
       "Index(['original', 'solution', 'length_of_original_sent', 'length_of_solution_sent'], dtype='object')"
      ]
     },
     "execution_count": 163,
     "metadata": {},
     "output_type": "execute_result"
    }
   ],
   "source": [
    "train_df.columns"
   ]
  },
  {
   "cell_type": "code",
   "execution_count": 167,
   "metadata": {},
   "outputs": [
    {
     "name": "stdout",
     "output_type": "stream",
     "text": [
      "0\n",
      "1\n",
      "2\n",
      "3\n",
      "4\n",
      "5\n",
      "6\n",
      "7\n",
      "8\n",
      "9\n",
      "10\n",
      "11\n",
      "12\n",
      "13\n",
      "14\n",
      "15\n",
      "16\n",
      "17\n",
      "18\n",
      "19\n",
      "20\n",
      "21\n",
      "22\n",
      "23\n",
      "24\n",
      "25\n",
      "26\n",
      "27\n",
      "28\n",
      "29\n",
      "30\n",
      "31\n",
      "32\n",
      "33\n",
      "34\n",
      "35\n",
      "36\n",
      "37\n",
      "38\n",
      "39\n",
      "40\n",
      "41\n",
      "42\n",
      "43\n",
      "44\n",
      "45\n",
      "46\n",
      "47\n",
      "48\n",
      "49\n",
      "50\n",
      "51\n",
      "52\n",
      "53\n",
      "54\n",
      "55\n",
      "56\n",
      "57\n",
      "58\n",
      "59\n",
      "60\n",
      "61\n",
      "62\n",
      "63\n",
      "64\n",
      "65\n",
      "66\n",
      "67\n",
      "68\n",
      "69\n",
      "70\n",
      "71\n",
      "72\n",
      "73\n",
      "74\n",
      "75\n",
      "76\n",
      "77\n",
      "78\n",
      "79\n",
      "80\n",
      "81\n",
      "82\n",
      "83\n",
      "84\n",
      "85\n",
      "86\n",
      "87\n",
      "88\n",
      "89\n",
      "90\n",
      "91\n",
      "92\n",
      "93\n",
      "94\n",
      "95\n",
      "96\n",
      "97\n",
      "98\n",
      "99\n",
      "100\n",
      "101\n",
      "102\n",
      "103\n",
      "104\n",
      "105\n",
      "106\n",
      "107\n",
      "108\n",
      "109\n",
      "110\n",
      "111\n",
      "112\n",
      "113\n",
      "114\n",
      "115\n",
      "116\n",
      "117\n",
      "118\n",
      "119\n",
      "120\n",
      "121\n",
      "122\n",
      "123\n",
      "124\n",
      "125\n",
      "126\n",
      "127\n",
      "128\n",
      "129\n",
      "130\n",
      "131\n",
      "132\n",
      "133\n",
      "134\n",
      "135\n",
      "136\n",
      "137\n",
      "138\n",
      "139\n",
      "140\n",
      "141\n",
      "142\n",
      "143\n",
      "144\n",
      "145\n",
      "146\n",
      "147\n",
      "148\n",
      "149\n",
      "150\n",
      "151\n",
      "152\n",
      "153\n",
      "154\n",
      "155\n",
      "156\n",
      "157\n",
      "158\n",
      "159\n",
      "160\n",
      "161\n",
      "162\n",
      "163\n",
      "164\n",
      "165\n",
      "166\n",
      "167\n",
      "168\n",
      "169\n",
      "170\n",
      "171\n",
      "172\n",
      "173\n",
      "174\n",
      "175\n",
      "176\n",
      "177\n",
      "178\n",
      "179\n",
      "180\n",
      "181\n",
      "182\n",
      "183\n",
      "184\n",
      "185\n",
      "186\n",
      "187\n",
      "188\n",
      "189\n",
      "190\n",
      "191\n",
      "192\n",
      "193\n",
      "194\n",
      "195\n",
      "196\n",
      "197\n",
      "198\n",
      "199\n",
      "200\n",
      "201\n",
      "202\n",
      "203\n",
      "204\n",
      "205\n",
      "206\n",
      "207\n",
      "208\n",
      "209\n",
      "210\n",
      "211\n",
      "212\n",
      "213\n",
      "214\n",
      "215\n",
      "216\n",
      "217\n",
      "218\n",
      "219\n",
      "220\n",
      "221\n",
      "222\n",
      "223\n",
      "224\n",
      "225\n",
      "226\n",
      "227\n",
      "228\n",
      "229\n",
      "230\n",
      "231\n",
      "232\n",
      "233\n",
      "234\n",
      "235\n",
      "236\n",
      "237\n",
      "238\n",
      "239\n",
      "240\n",
      "241\n",
      "242\n",
      "243\n",
      "244\n",
      "245\n",
      "246\n",
      "247\n",
      "248\n",
      "249\n",
      "250\n",
      "251\n",
      "252\n",
      "253\n",
      "254\n",
      "255\n",
      "256\n",
      "257\n",
      "258\n",
      "259\n",
      "260\n",
      "261\n",
      "262\n",
      "263\n",
      "264\n",
      "265\n",
      "266\n",
      "267\n",
      "268\n",
      "269\n",
      "270\n",
      "271\n",
      "272\n",
      "273\n",
      "274\n",
      "275\n",
      "276\n",
      "277\n",
      "278\n",
      "279\n",
      "280\n",
      "281\n",
      "282\n",
      "283\n",
      "284\n",
      "285\n",
      "286\n",
      "287\n",
      "288\n",
      "289\n",
      "290\n",
      "291\n",
      "292\n",
      "293\n",
      "294\n",
      "295\n",
      "296\n",
      "297\n",
      "298\n",
      "299\n",
      "300\n",
      "301\n",
      "302\n",
      "303\n",
      "304\n",
      "305\n",
      "306\n",
      "307\n",
      "308\n",
      "309\n",
      "310\n",
      "311\n",
      "312\n",
      "313\n",
      "314\n",
      "315\n",
      "316\n",
      "317\n",
      "318\n",
      "319\n",
      "320\n",
      "321\n",
      "322\n",
      "323\n",
      "324\n",
      "325\n",
      "326\n",
      "327\n",
      "328\n",
      "329\n",
      "330\n",
      "331\n",
      "332\n",
      "333\n",
      "334\n",
      "335\n",
      "336\n",
      "337\n",
      "338\n",
      "339\n",
      "340\n",
      "341\n",
      "342\n",
      "343\n",
      "344\n",
      "345\n",
      "346\n",
      "347\n",
      "348\n",
      "349\n",
      "350\n",
      "351\n",
      "352\n",
      "353\n",
      "354\n",
      "355\n",
      "356\n",
      "357\n",
      "358\n",
      "359\n",
      "360\n",
      "361\n",
      "362\n",
      "363\n",
      "364\n",
      "365\n",
      "366\n",
      "367\n",
      "368\n",
      "369\n",
      "370\n",
      "371\n",
      "372\n",
      "373\n",
      "374\n",
      "375\n",
      "376\n",
      "377\n",
      "378\n",
      "379\n",
      "380\n",
      "381\n",
      "382\n",
      "383\n",
      "384\n",
      "385\n",
      "386\n",
      "387\n",
      "388\n",
      "389\n",
      "390\n",
      "391\n",
      "392\n",
      "393\n",
      "394\n",
      "395\n",
      "396\n",
      "397\n",
      "398\n",
      "399\n"
     ]
    }
   ],
   "source": [
    "textfile ={}\n",
    "textfile['original'] =[]\n",
    "textfile['solution'] =[]\n",
    "textfile['predicted_text'] =[]\n",
    "for i in range(400):\n",
    "    print (i)\n",
    "    textfile['original'].append(seq2text(X_test[i]))\n",
    "    textfile['solution'].append(seq2text(y_test[i]))\n",
    "    textfile['predicted_text'].append(decode_sequence(X_test[i].reshape(1,max_length_solution)))\n",
    "    "
   ]
  },
  {
   "cell_type": "code",
   "execution_count": 168,
   "metadata": {},
   "outputs": [
    {
     "name": "stdout",
     "output_type": "stream",
     "text": [
      "dict_keys(['original', 'solution', 'predicted_text'])\n"
     ]
    }
   ],
   "source": [
    "print(textfile.keys())"
   ]
  },
  {
   "cell_type": "code",
   "execution_count": 169,
   "metadata": {},
   "outputs": [],
   "source": [
    "import numpy as np\n",
    "import  nltk.translate.bleu_score as bleu"
   ]
  },
  {
   "cell_type": "code",
   "execution_count": 170,
   "metadata": {},
   "outputs": [],
   "source": [
    "def WRR(text1,text2):\n",
    "    a = set(text1.lower().split())\n",
    "    b = set(text2.lower().split())\n",
    "    \n",
    "    if (len(a) == 0) and (len(b) == 0):\n",
    "        return .5\n",
    "    \n",
    "    c = a.intersection(b)\n",
    "    return float(len(c))/(len(a) + len(b) - len(c))\n",
    "\n",
    "def levenshtein(seq1, seq2):\n",
    "    seq1 = seq1.lower()\n",
    "    seq2 = seq2.lower()\n",
    "    \n",
    "    size_x = len(seq1) + 1\n",
    "    size_y = len(seq2) + 1\n",
    "    matrix = np.zeros ((size_x, size_y))\n",
    "    for x in range(size_x):\n",
    "        matrix [x, 0] = x\n",
    "    for y in range(size_y):\n",
    "        matrix [0, y] = y\n",
    "\n",
    "    for x in range(1, size_x):\n",
    "        for y in range(1, size_y):\n",
    "            if seq1[x-1] == seq2[y-1]:\n",
    "                matrix [x,y] = min(\n",
    "                    matrix[x-1, y] + 1,\n",
    "                    matrix[x-1, y-1],\n",
    "                    matrix[x, y-1] + 1\n",
    "                )\n",
    "            else:\n",
    "                matrix [x,y] = min(\n",
    "                    matrix[x-1,y] + 1,\n",
    "                    matrix[x-1,y-1] + 1,\n",
    "                    matrix[x,y-1] + 1\n",
    "                )\n",
    "    #print (matrix)\n",
    "    return (matrix[size_x - 1, size_y - 1])\n",
    "\n",
    "def CRR(text1, text2):\n",
    "    try:\n",
    "        return 1 - float(levenshtein(text1,text2))/max(len(text1),len(text2))\n",
    "    except:\n",
    "        return 0\n",
    "\n",
    "def bleu_score(text1,text2):\n",
    "    return bleu.sentence_bleu([text1.lower().split()],text2.lower().split())"
   ]
  },
  {
   "cell_type": "code",
   "execution_count": 171,
   "metadata": {},
   "outputs": [],
   "source": [
    "df = pd.DataFrame.from_dict(textfile)"
   ]
  },
  {
   "cell_type": "code",
   "execution_count": 173,
   "metadata": {},
   "outputs": [
    {
     "data": {
      "text/html": [
       "<div>\n",
       "<style scoped>\n",
       "    .dataframe tbody tr th:only-of-type {\n",
       "        vertical-align: middle;\n",
       "    }\n",
       "\n",
       "    .dataframe tbody tr th {\n",
       "        vertical-align: top;\n",
       "    }\n",
       "\n",
       "    .dataframe thead th {\n",
       "        text-align: right;\n",
       "    }\n",
       "</style>\n",
       "<table border=\"1\" class=\"dataframe\">\n",
       "  <thead>\n",
       "    <tr style=\"text-align: right;\">\n",
       "      <th></th>\n",
       "      <th>original</th>\n",
       "      <th>solution</th>\n",
       "      <th>predicted_text</th>\n",
       "    </tr>\n",
       "  </thead>\n",
       "  <tbody>\n",
       "    <tr>\n",
       "      <th>0</th>\n",
       "      <td>the outsiders is undoubtedly a solidified solidified tv series well defined characters tight scripts varied and interesting solidified great guest solidified and a filmic ambiance all combined to make this vseries a special one sadly andrew keir has passed on sascha hehn from germany does not appear unfortunately to have enjoyed small solidified success in his native country the abc has repeated the series many times yet a dvd release is yet to happen the series is one which is timeless it is as likely to strike a solidified solidified witoh viewers today as it did in its own day come on abc solidified the outsiders on dvd</td>\n",
       "      <td>START_ the outsiders is undoubtedly a classic australian tv series well defined characters tight scripts varied and interesting locales great guest stars and a filmic ambiance all combined to make this series a special solidified andrew keir has passed on sascha hehn from germany does not appear unfortunately to have enjoyed small screen success in his native country the abc has repeated the series many times yet a dvd release is yet to happenthe series is one which is timeless it is as likely to strike a resonant chord with viewers today as it did in its own day come on solidified the outsiders on dvd _END</td>\n",
       "      <td>the most is an interesting idea for one episode well with all kinds of humor from solidified not even close to have seen in his solidified from one of his early s the time has the best time and a must have seen his first of solidified in his early s solidified in his early s solidified in his early s solidified in his early s the time has the best time yet a documentary which is as to solidified the series is one is great it as to anyone to a solidified or solidified for it and on tv on tv solidified the tv on dvd _END</td>\n",
       "    </tr>\n",
       "    <tr>\n",
       "      <th>1</th>\n",
       "      <td>first of all i solidified the casting and acting were excellent the problem is the story there is solidified no story here worth telling and thus basically no movice here larry mcmurtry has done lonesome dove and i can t fault the original though it solidified didn t need sequels he did hud with paul newman which is one of my favorite movies mellencamp is supposed to be a country singer but the only song i hear him sing is an old buck owens song the movie makes a big deal out of chicken farming mellencamp s character has a good wife and it s utterly stupid of him to stray from her the solidified wipth riding in the sliding cage is utterly stupid maybe people do that for fun in some parts of the country but i never heard of it</td>\n",
       "      <td>START_ first of all i think the casting and acting were excellent the problem is the story there is basically no story here worth telling and thus basically no movie here larry mcmurtry has done lonesome dove and i cant fault the original though it probably didnt need sequels he did hud with paul newman which is one of my favorite movies mellencamp is supposed to be a country singer but the only song i hear him sing is an old buck owens song the movie makes a big deal out of chicken farming solidified character has a good wife and its utterly stupid of him to stray from her the incident with riding in the sliding cage is utterly stupid maybe people do that for fun in some parts of the country but i never heard of it _END</td>\n",
       "      <td>first of all i thought the other actors and acting was the story there is no real story to do and no no matter its hard to be a real solidified but what can be the best one ever solidified that would expect him he did he did with his job as well be the greatest thing that i liked him is an old man with that the movie is a big fun out of solidified solidified are not a good example of solidified solidified are being a good and solidified of them to help their the solidified solidified of the solidified is just plain stupid how can for for the action movies of the other things i would like of it _END</td>\n",
       "    </tr>\n",
       "    <tr>\n",
       "      <th>2</th>\n",
       "      <td>why do the powers that be continue to cast jennifer lopez in unbelievable roles she was excellent in selena and pretty good in money train which both cast her in roles cwhere she could basically be herself however roles like this just draw the line i could never see lopez as an fbi agent see out of sight for that unremarkable performance but as a psychotherapist give me a break basically lopez plays the aforementioned psychotherapist who is solidified in virtual reality experiments in which she enters the minds of her patients in solidified to help them sort out their issues when she enters the mind of a comatose serial killer to help save one of his victims she breaks all the rules to try and crack the insanity of his inner mind solidified s acting here is typically below average i can t get over that high pitched squeak of a voice she has she s no julia roberts but yet she comes across on screen as though she believes herself to be on the same playing field well she s not even in the same stadium sure she is a very sexy lady however that isn t going to carry a film and it certainly doesn t carry this one with solidified else cast in her role for this film it would have been excellent especially if it was cast with someone who could lend more credibility to the character having said all that this film is visually stunning the colors are fabulous and the story line isn t half bad in a b moevie kind of way the audio here is solidified as welnl this movie gains some points for the fairly original storyline and major points for how it looks and sounds unfortunately the acting and poor casting bring it down a few notches my rating</td>\n",
       "      <td>START_ why do the powers that be continue to cast jennifer lopez in unbelievable roles she was excellent in selena and pretty good in money train which both cast her in roles where she could basically be herself however roles like this just draw the line i could never see lopez as an fbi agent see out of sight for that unremarkable performance but as a psychotherapist give me a solidified lopez plays the aforementioned psychotherapist who is involved in virtual reality experiments in which she enters the minds of her patients in order to help them sort out their issues when she enters the mind of a comatose serial killer to help save one of his victims she breaks all the rules to try and crack the insanity of his inner solidified acting here is typically below average i cant get over that highpitched squeak of a voice she has shes no julia roberts but yet she comes across on screen as though she believes herself to be on the same playing field well shes not even in the same stadium sure she is a very sexy lady however that isnt going to carry a film and it certainly doesnt carry this one with anybody else cast in her role for this film it would have been excellent especially if it was cast with someone who could lend more credibility to the solidified said all that this film is visually stunning the colors are fabulous and the story line isnt half bad in a bmovie kind of way the audio here is superb as well this movie gains some points for the fairly original storyline and major points for how it looks and sounds unfortunately the acting and poor casting bring it down a few solidified rating _END</td>\n",
       "      <td>what did the producers have to find more because of this flick the only reason could have worked well as an solidified movie and good for your top of solidified solidified have done such a solidified if this just goes the story i would have to find much as an actor from solidified solidified in fact most interesting in other than in fact of course in fact most interesting little short of time ever made by solidified of course in fact most interesting little short of time ever made by solidified of course in fact most interesting little short of time in which can the viewer would have worked as well by an solidified you can get back to be on the other side side of a solidified solidified to one of his solidified in fact she did the job of his solidified solidified to watch out of the time he does not even get to a film and its not worth this one with no other than the original solidified solidified is a very solidified that isnt going to be on a film and its not worth this one with no other than the original solidified solidified is a very solidified that isnt going to be on a film and its not worth this one with no other than the original solidified solidified is a very solidified that isnt going to be in the same side its a solidified solidified of her role she can be able to be on the other side side of a solidified solidified this film would have been more interesting with the solidified for the original solidified so is a very solidified that isnt going to be in the same side its the kind of original action and by todays standards of all the solidified is as bad bad in a solidified of solidified the solidified is as bad bad in a solidified of solidified the cast had all that this film is more of the characters are all and the story line isnt bad bad in a solidified of solidified the cast had all that this film is more of the characters are all and the story line isnt bad bad in a solidified of solidified the cast had all that this film is more of the characters are all and the story line isnt bad bad in a solidified of solidified the cast had all that this film is more of the characters are all and the story line isnt bad bad in a solidified of solidified the cast had all that this film is more of the characters are all and the story line isnt bad bad in a solidified of solidified the cast had all that this film is more of the characters are all and the story line isnt bad bad in a solidified of solidified the cast had all that this film is more of the characters are all and the story line isnt bad bad in a solidified of solidified the cast had all that this film is more of the characters are all and the story line isnt bad bad in a solidified of solidified the cast had all that this film is more of the characters are all and the story line isnt bad bad in a solidified of solidified the cast had all that this film is more of the characters are all and the story line isnt bad bad in a solidified of solidified the cast had all that this film is more of the characters are all and the story line</td>\n",
       "    </tr>\n",
       "    <tr>\n",
       "      <th>3</th>\n",
       "      <td>kate is a jaded young woman who has trouble meeting and dating guys throughout the movie you get to meet several of her loser boyfriends and throughout the movie you are subjected to kate s cynical negative outlook on love and relationships this negative viewpoint is continued throughout and presented as ultimate truth i had a real solidified with this why would anyone want to be taught about love luife and dating from someone who is obviously so messed up it would work if that was the joke but it is not for the jokes in the movie which are neither funny nor original to work at all you have to believe what kate is saying that all relationships solidified end up with bad or no sex hthat the highest level a relationship can evolve to is when you are able to fart in front of your partner you get the idea there is no movie in recent memory that comes close to upsetting the stomach as mucdh as love sex why did the filmmakers waste their time on such trash every joke in love sex is something that i hawve experienced in another movie or in my own life there is nothing original or creative about the story the production or the style it is cynical dumb and pointless mind numbing</td>\n",
       "      <td>START_ kate is a jaded young woman who has trouble meeting and dating guys throughout the movie you get to meet several of her loser boyfriends and throughout the movie you are subjected to kates cynical negative outlook on love and relationships this negative viewpoint is continued throughout and presented as ultimate truth i had a real problem with this why would anyone want to be taught about love life and dating from someone who is obviously so messed up it would work if that was the joke but it is not for the jokes in the movie which are neither funny nor original to work at all you have to believe what kate is saying that all relationships inevitably end up with bad or no sex that the highest level a relationship can evolve to is when you are able to fart in front of your partner you get the solidified is no movie in recent memory that comes close to upsetting the stomach as much as love sex why did the filmmakers waste their time on such trash every joke in love sex is something that i have experienced in another movie or in my own life there is nothing original or creative about the story the production or the style it is cynical dumb and pointless mind numbing _END</td>\n",
       "      <td>there is a young woman who has to deal with her friends in her mind and this gives us solidified and then then the movie you get to know of these people and see them on and love to the movie you can get to see what was the only thing but it is not for the first time in the movie which are really solidified solidified solidified solidified solidified solidified solidified solidified solidified solidified solidified solidified solidified solidified solidified solidified solidified solidified solidified solidified solidified solidified solidified solidified solidified solidified solidified solidified solidified solidified solidified solidified solidified solidified solidified solidified solidified solidified solidified solidified solidified solidified solidified solidified solidified solidified solidified solidified solidified solidified solidified my solidified the entire point of this solidified in my opinion of course is just that i am glad of this movie or in my opinion of course that everyone will the point my family on this or solidified in the movie has the same solidified the solidified is solidified and no matter _END</td>\n",
       "    </tr>\n",
       "    <tr>\n",
       "      <th>4</th>\n",
       "      <td>i m not going to waste my time writing an essay and waste your time i would like to say however that all those who are uptight about this movie even being made are being totally ridiculous johnnymacbest you can t play that card and i mean the nationalism patriotic card to make people not watch thvis movie this is a rmovie that solidified its free will in this country oh yea i played that card even though the director is german and deserves a slap on the wrist every time he reaches for a camera but the world is full of controversy and its the same thing you ve herard before like the gta controversy it s a comedy laugh and be disgusted not disgusted all together its dark humor and obviously you don t have the solidified to take it the past is past yes solidified remember those who were lost but its time to movie on tghat was years ago you can still watch this movie and have good moral values besides i m insane and who needs a soul</td>\n",
       "      <td>START_ im not going to waste my time writing an essay and waste your time i would like to say however that all those who are uptight about this movie even being made are being totally ridiculous johnnymacbest you cant play that card and i mean the nationalism patriotic card to make people not watch this movie this is a movie that expresses its free will in this country oh yea i played that solidified though the director is german and deserves a slap on the wrist every time he reaches for a camera but the world is full of controversy and its the same thing youve heard before like the gta controversy its a comedy laugh and be disgusted not disgusted all together its dark humor and obviously you dont have the heart to take it the past is past yes people remember those who were lost but its time to move on that was years ago you can still watch this movie and have good moral values besides im insane and who needs a soul _END</td>\n",
       "      <td>im not sure to waste my my time is all those who are about this movie even though there is no plot whatsoever or maybe what happens the characters of solidified to make you feel that that everyone the characters arent involved in this case there isnt any sex or solidified you cant believe that are the same solidified solidified for a solidified on the other years solidified for a solidified solidified in this case where i liked that solidified even the director is played by and a solidified on the other years he has made a solidified solidified and no you dont have the same to watch it the same is about how many years later they are still it will watch for tv solidified was years ago when the solidified its all over over and who cares a _END</td>\n",
       "    </tr>\n",
       "  </tbody>\n",
       "</table>\n",
       "</div>"
      ],
      "text/plain": [
       "                                                                                                                                                                                                                                                                                                                                                                                                                                                                                                                                                                                                                                                                                                                                                                                                                                                                                                                                                                                                                                                                                                                                                                                                                                                                                                                                                                                                                                                                                                                                                                                                                                                                                                                  original  \\\n",
       "0  the outsiders is undoubtedly a solidified solidified tv series well defined characters tight scripts varied and interesting solidified great guest solidified and a filmic ambiance all combined to make this vseries a special one sadly andrew keir has passed on sascha hehn from germany does not appear unfortunately to have enjoyed small solidified success in his native country the abc has repeated the series many times yet a dvd release is yet to happen the series is one which is timeless it is as likely to strike a solidified solidified witoh viewers today as it did in its own day come on abc solidified the outsiders on dvd                                                                                                                                                                                                                                                                                                                                                                                                                                                                                                                                                                                                                                                                                                                                                                                                                                                                                                                                                                                                                                                                    \n",
       "1  first of all i solidified the casting and acting were excellent the problem is the story there is solidified no story here worth telling and thus basically no movice here larry mcmurtry has done lonesome dove and i can t fault the original though it solidified didn t need sequels he did hud with paul newman which is one of my favorite movies mellencamp is supposed to be a country singer but the only song i hear him sing is an old buck owens song the movie makes a big deal out of chicken farming mellencamp s character has a good wife and it s utterly stupid of him to stray from her the solidified wipth riding in the sliding cage is utterly stupid maybe people do that for fun in some parts of the country but i never heard of it                                                                                                                                                                                                                                                                                                                                                                                                                                                                                                                                                                                                                                                                                                                                                                                                                                                                                                                                                           \n",
       "2  why do the powers that be continue to cast jennifer lopez in unbelievable roles she was excellent in selena and pretty good in money train which both cast her in roles cwhere she could basically be herself however roles like this just draw the line i could never see lopez as an fbi agent see out of sight for that unremarkable performance but as a psychotherapist give me a break basically lopez plays the aforementioned psychotherapist who is solidified in virtual reality experiments in which she enters the minds of her patients in solidified to help them sort out their issues when she enters the mind of a comatose serial killer to help save one of his victims she breaks all the rules to try and crack the insanity of his inner mind solidified s acting here is typically below average i can t get over that high pitched squeak of a voice she has she s no julia roberts but yet she comes across on screen as though she believes herself to be on the same playing field well she s not even in the same stadium sure she is a very sexy lady however that isn t going to carry a film and it certainly doesn t carry this one with solidified else cast in her role for this film it would have been excellent especially if it was cast with someone who could lend more credibility to the character having said all that this film is visually stunning the colors are fabulous and the story line isn t half bad in a b moevie kind of way the audio here is solidified as welnl this movie gains some points for the fairly original storyline and major points for how it looks and sounds unfortunately the acting and poor casting bring it down a few notches my rating    \n",
       "3  kate is a jaded young woman who has trouble meeting and dating guys throughout the movie you get to meet several of her loser boyfriends and throughout the movie you are subjected to kate s cynical negative outlook on love and relationships this negative viewpoint is continued throughout and presented as ultimate truth i had a real solidified with this why would anyone want to be taught about love luife and dating from someone who is obviously so messed up it would work if that was the joke but it is not for the jokes in the movie which are neither funny nor original to work at all you have to believe what kate is saying that all relationships solidified end up with bad or no sex hthat the highest level a relationship can evolve to is when you are able to fart in front of your partner you get the idea there is no movie in recent memory that comes close to upsetting the stomach as mucdh as love sex why did the filmmakers waste their time on such trash every joke in love sex is something that i hawve experienced in another movie or in my own life there is nothing original or creative about the story the production or the style it is cynical dumb and pointless mind numbing                                                                                                                                                                                                                                                                                                                                                                                                                                                                                      \n",
       "4  i m not going to waste my time writing an essay and waste your time i would like to say however that all those who are uptight about this movie even being made are being totally ridiculous johnnymacbest you can t play that card and i mean the nationalism patriotic card to make people not watch thvis movie this is a rmovie that solidified its free will in this country oh yea i played that card even though the director is german and deserves a slap on the wrist every time he reaches for a camera but the world is full of controversy and its the same thing you ve herard before like the gta controversy it s a comedy laugh and be disgusted not disgusted all together its dark humor and obviously you don t have the solidified to take it the past is past yes solidified remember those who were lost but its time to movie on tghat was years ago you can still watch this movie and have good moral values besides i m insane and who needs a soul                                                                                                                                                                                                                                                                                                                                                                                                                                                                                                                                                                                                                                                                                                                                            \n",
       "\n",
       "                                                                                                                                                                                                                                                                                                                                                                                                                                                                                                                                                                                                                                                                                                                                                                                                                                                                                                                                                                                                                                                                                                                                                                                                                                                                                                                                                                                                                                                                                                                                                                                                                                                                                   solution  \\\n",
       "0  START_ the outsiders is undoubtedly a classic australian tv series well defined characters tight scripts varied and interesting locales great guest stars and a filmic ambiance all combined to make this series a special solidified andrew keir has passed on sascha hehn from germany does not appear unfortunately to have enjoyed small screen success in his native country the abc has repeated the series many times yet a dvd release is yet to happenthe series is one which is timeless it is as likely to strike a resonant chord with viewers today as it did in its own day come on solidified the outsiders on dvd _END                                                                                                                                                                                                                                                                                                                                                                                                                                                                                                                                                                                                                                                                                                                                                                                                                                                                                                                                                                                                                                                     \n",
       "1  START_ first of all i think the casting and acting were excellent the problem is the story there is basically no story here worth telling and thus basically no movie here larry mcmurtry has done lonesome dove and i cant fault the original though it probably didnt need sequels he did hud with paul newman which is one of my favorite movies mellencamp is supposed to be a country singer but the only song i hear him sing is an old buck owens song the movie makes a big deal out of chicken farming solidified character has a good wife and its utterly stupid of him to stray from her the incident with riding in the sliding cage is utterly stupid maybe people do that for fun in some parts of the country but i never heard of it _END                                                                                                                                                                                                                                                                                                                                                                                                                                                                                                                                                                                                                                                                                                                                                                                                                                                                                                                                 \n",
       "2  START_ why do the powers that be continue to cast jennifer lopez in unbelievable roles she was excellent in selena and pretty good in money train which both cast her in roles where she could basically be herself however roles like this just draw the line i could never see lopez as an fbi agent see out of sight for that unremarkable performance but as a psychotherapist give me a solidified lopez plays the aforementioned psychotherapist who is involved in virtual reality experiments in which she enters the minds of her patients in order to help them sort out their issues when she enters the mind of a comatose serial killer to help save one of his victims she breaks all the rules to try and crack the insanity of his inner solidified acting here is typically below average i cant get over that highpitched squeak of a voice she has shes no julia roberts but yet she comes across on screen as though she believes herself to be on the same playing field well shes not even in the same stadium sure she is a very sexy lady however that isnt going to carry a film and it certainly doesnt carry this one with anybody else cast in her role for this film it would have been excellent especially if it was cast with someone who could lend more credibility to the solidified said all that this film is visually stunning the colors are fabulous and the story line isnt half bad in a bmovie kind of way the audio here is superb as well this movie gains some points for the fairly original storyline and major points for how it looks and sounds unfortunately the acting and poor casting bring it down a few solidified rating _END    \n",
       "3  START_ kate is a jaded young woman who has trouble meeting and dating guys throughout the movie you get to meet several of her loser boyfriends and throughout the movie you are subjected to kates cynical negative outlook on love and relationships this negative viewpoint is continued throughout and presented as ultimate truth i had a real problem with this why would anyone want to be taught about love life and dating from someone who is obviously so messed up it would work if that was the joke but it is not for the jokes in the movie which are neither funny nor original to work at all you have to believe what kate is saying that all relationships inevitably end up with bad or no sex that the highest level a relationship can evolve to is when you are able to fart in front of your partner you get the solidified is no movie in recent memory that comes close to upsetting the stomach as much as love sex why did the filmmakers waste their time on such trash every joke in love sex is something that i have experienced in another movie or in my own life there is nothing original or creative about the story the production or the style it is cynical dumb and pointless mind numbing _END                                                                                                                                                                                                                                                                                                                                                                                                                                                   \n",
       "4  START_ im not going to waste my time writing an essay and waste your time i would like to say however that all those who are uptight about this movie even being made are being totally ridiculous johnnymacbest you cant play that card and i mean the nationalism patriotic card to make people not watch this movie this is a movie that expresses its free will in this country oh yea i played that solidified though the director is german and deserves a slap on the wrist every time he reaches for a camera but the world is full of controversy and its the same thing youve heard before like the gta controversy its a comedy laugh and be disgusted not disgusted all together its dark humor and obviously you dont have the heart to take it the past is past yes people remember those who were lost but its time to move on that was years ago you can still watch this movie and have good moral values besides im insane and who needs a soul _END                                                                                                                                                                                                                                                                                                                                                                                                                                                                                                                                                                                                                                                                                                                     \n",
       "\n",
       "                                                                                                                                                                                                                                                                                                                                                                                                                                                                                                                                                                                                                                                                                                                                                                                                                                                                                                                                                                                                                                                                                                                                                                                                                                                                                                                                                                                                                                                                                                                                                                                                                                                                                                                                                                                                                                                                                                                                                                                                                                                                                                                                                                                                                                                                                                                                                                                                                                                                                                                                                                                                                                                                                                                                                                                                                                                                                                                                                                                                                                                                                                                                                                predicted_text  \n",
       "0   the most is an interesting idea for one episode well with all kinds of humor from solidified not even close to have seen in his solidified from one of his early s the time has the best time and a must have seen his first of solidified in his early s solidified in his early s solidified in his early s solidified in his early s the time has the best time yet a documentary which is as to solidified the series is one is great it as to anyone to a solidified or solidified for it and on tv on tv solidified the tv on dvd _END                                                                                                                                                                                                                                                                                                                                                                                                                                                                                                                                                                                                                                                                                                                                                                                                                                                                                                                                                                                                                                                                                                                                                                                                                                                                                                                                                                                                                                                                                                                                                                                                                                                                                                                                                                                                                                                                                                                                                                                                                                                                                                                                                                                                                                                                                                                                                                                                                                                                                                                                                                                                                                \n",
       "1   first of all i thought the other actors and acting was the story there is no real story to do and no no matter its hard to be a real solidified but what can be the best one ever solidified that would expect him he did he did with his job as well be the greatest thing that i liked him is an old man with that the movie is a big fun out of solidified solidified are not a good example of solidified solidified are being a good and solidified of them to help their the solidified solidified of the solidified is just plain stupid how can for for the action movies of the other things i would like of it _END                                                                                                                                                                                                                                                                                                                                                                                                                                                                                                                                                                                                                                                                                                                                                                                                                                                                                                                                                                                                                                                                                                                                                                                                                                                                                                                                                                                                                                                                                                                                                                                                                                                                                                                                                                                                                                                                                                                                                                                                                                                                                                                                                                                                                                                                                                                                                                                                                                                                                                                                               \n",
       "2   what did the producers have to find more because of this flick the only reason could have worked well as an solidified movie and good for your top of solidified solidified have done such a solidified if this just goes the story i would have to find much as an actor from solidified solidified in fact most interesting in other than in fact of course in fact most interesting little short of time ever made by solidified of course in fact most interesting little short of time ever made by solidified of course in fact most interesting little short of time in which can the viewer would have worked as well by an solidified you can get back to be on the other side side of a solidified solidified to one of his solidified in fact she did the job of his solidified solidified to watch out of the time he does not even get to a film and its not worth this one with no other than the original solidified solidified is a very solidified that isnt going to be on a film and its not worth this one with no other than the original solidified solidified is a very solidified that isnt going to be on a film and its not worth this one with no other than the original solidified solidified is a very solidified that isnt going to be in the same side its a solidified solidified of her role she can be able to be on the other side side of a solidified solidified this film would have been more interesting with the solidified for the original solidified so is a very solidified that isnt going to be in the same side its the kind of original action and by todays standards of all the solidified is as bad bad in a solidified of solidified the solidified is as bad bad in a solidified of solidified the cast had all that this film is more of the characters are all and the story line isnt bad bad in a solidified of solidified the cast had all that this film is more of the characters are all and the story line isnt bad bad in a solidified of solidified the cast had all that this film is more of the characters are all and the story line isnt bad bad in a solidified of solidified the cast had all that this film is more of the characters are all and the story line isnt bad bad in a solidified of solidified the cast had all that this film is more of the characters are all and the story line isnt bad bad in a solidified of solidified the cast had all that this film is more of the characters are all and the story line isnt bad bad in a solidified of solidified the cast had all that this film is more of the characters are all and the story line isnt bad bad in a solidified of solidified the cast had all that this film is more of the characters are all and the story line isnt bad bad in a solidified of solidified the cast had all that this film is more of the characters are all and the story line isnt bad bad in a solidified of solidified the cast had all that this film is more of the characters are all and the story line isnt bad bad in a solidified of solidified the cast had all that this film is more of the characters are all and the story line  \n",
       "3   there is a young woman who has to deal with her friends in her mind and this gives us solidified and then then the movie you get to know of these people and see them on and love to the movie you can get to see what was the only thing but it is not for the first time in the movie which are really solidified solidified solidified solidified solidified solidified solidified solidified solidified solidified solidified solidified solidified solidified solidified solidified solidified solidified solidified solidified solidified solidified solidified solidified solidified solidified solidified solidified solidified solidified solidified solidified solidified solidified solidified solidified solidified solidified solidified solidified solidified solidified solidified solidified solidified solidified solidified solidified solidified solidified solidified my solidified the entire point of this solidified in my opinion of course is just that i am glad of this movie or in my opinion of course that everyone will the point my family on this or solidified in the movie has the same solidified the solidified is solidified and no matter _END                                                                                                                                                                                                                                                                                                                                                                                                                                                                                                                                                                                                                                                                                                                                                                                                                                                                                                                                                                                                                                                                                                                                                                                                                                                                                                                                                                                                                                                                                                                                                                                                                                                                                                                                                                                                                                                                                                                                                                                       \n",
       "4   im not sure to waste my my time is all those who are about this movie even though there is no plot whatsoever or maybe what happens the characters of solidified to make you feel that that everyone the characters arent involved in this case there isnt any sex or solidified you cant believe that are the same solidified solidified for a solidified on the other years solidified for a solidified solidified in this case where i liked that solidified even the director is played by and a solidified on the other years he has made a solidified solidified and no you dont have the same to watch it the same is about how many years later they are still it will watch for tv solidified was years ago when the solidified its all over over and who cares a _END                                                                                                                                                                                                                                                                                                                                                                                                                                                                                                                                                                                                                                                                                                                                                                                                                                                                                                                                                                                                                                                                                                                                                                                                                                                                                                                                                                                                                                                                                                                                                                                                                                                                                                                                                                                                                                                                                                                                                                                                                                                                                                                                                                                                                                                                                                                                                                                             "
      ]
     },
     "execution_count": 173,
     "metadata": {},
     "output_type": "execute_result"
    }
   ],
   "source": [
    "df.head()"
   ]
  },
  {
   "cell_type": "code",
   "execution_count": 178,
   "metadata": {},
   "outputs": [
    {
     "data": {
      "text/plain": [
       "Index(['original', 'solution', 'predicted_text'], dtype='object')"
      ]
     },
     "execution_count": 178,
     "metadata": {},
     "output_type": "execute_result"
    }
   ],
   "source": [
    "df.columns"
   ]
  },
  {
   "cell_type": "code",
   "execution_count": 174,
   "metadata": {},
   "outputs": [],
   "source": [
    "df.solution = df.solution.str.replace('START_','')\n",
    "df.solution = df.solution.str.replace('_END','')\n",
    "df.predicted_text = df.predicted_text.str.replace('START_','')\n",
    "df.predicted_text = df.predicted_text.str.replace('_END','')\n"
   ]
  },
  {
   "cell_type": "code",
   "execution_count": 188,
   "metadata": {},
   "outputs": [],
   "source": [
    "# result={1:[],2:[],3:[],4:[]}\n",
    "# for row, data in df.iterrows():\n",
    "#     originaltxt = data['original']\n",
    "#     soltxt = data['solution']\n",
    "#     predtxt = data['predicted_text']\n",
    "#     #print(len(originaltxt))\n",
    "#     result[1].append(WRR(originaltxt, soltxt))\n",
    "#     result[2].append(WRR(predtxt, soltxt))\n",
    "#     result[3].append(bleu_score(originaltxt, soltxt))\n",
    "#     result[4].append(bleu_score(predtxt, soltxt))\n",
    "    \n",
    "    "
   ]
  },
  {
   "cell_type": "code",
   "execution_count": 189,
   "metadata": {},
   "outputs": [
    {
     "data": {
      "text/plain": [
       "400"
      ]
     },
     "execution_count": 189,
     "metadata": {},
     "output_type": "execute_result"
    }
   ],
   "source": [
    "len(result[1])"
   ]
  },
  {
   "cell_type": "code",
   "execution_count": null,
   "metadata": {},
   "outputs": [],
   "source": [
    "df['WRR_1'] = df.apply(lambda x: WRR((x.original, x.solution), axis=1))\n",
    "df['WRR_2'] = df.apply(lambda x: WRR((x.predicted_text, x.solution), axis=1))\n",
    "                     "
   ]
  },
  {
   "cell_type": "code",
   "execution_count": null,
   "metadata": {},
   "outputs": [],
   "source": [
    "df['BLEU_1'] = df.apply(lambda x: bleu_score((x.original, x.solution), axis=1))\n",
    "df['BLEU_2'] = df.apply(lambda x: bleu_score((x.predicted_text, x.solution), axis=1))"
   ]
  },
  {
   "cell_type": "code",
   "execution_count": null,
   "metadata": {},
   "outputs": [],
   "source": [
    "df[['WRR_1', 'WRR_2', 'BLEU_1', 'BLEU_2']].describe()"
   ]
  },
  {
   "cell_type": "code",
   "execution_count": null,
   "metadata": {},
   "outputs": [],
   "source": [
    "\n",
    "\n",
    "# with open('outputfile_token.txt','w') as w:\n",
    "#     for i in range(50):\n",
    "#         print (\"\\nProcessing file\", i)\n",
    "#         w.write('%s\\t%s\\t%s'%(seq2text(X_test[i]),seq2text(y_test[i]),decode_sequence(X_test[i].reshape(1,600))))\n",
    "#         w.write('\\n')\n",
    "#         #print (X_test[i],\"\\n\",y_test[i])\n",
    "#   #print(\"Review:\",seq2text(X_test[i]))\n",
    "#   #print(\"Original summary:\",seq2text(y_test[i]))\n",
    "#   #print(\"Predicted summary:\",decode_sequence(X_test[i].reshape(1,600)))\n",
    "#   #print(\"\\n\")"
   ]
  },
  {
   "cell_type": "code",
   "execution_count": null,
   "metadata": {},
   "outputs": [],
   "source": [
    "# for i in range(50):    \n",
    "#   print(\"Review:\",seq2text(X_test[i]))\n",
    "#   print(\"Original summary:\",seq2text(y_test[i]))\n",
    "#   print(\"Predicted summary:\",decode_sequence(X_test[i].reshape(1,600)))\n",
    "#   print(\"\\n\")"
   ]
  },
  {
   "cell_type": "code",
   "execution_count": null,
   "metadata": {},
   "outputs": [],
   "source": [
    "# test_input_data = pd.read_csv('../input/correct-ocr-errors/test_input.csv',encoding='utf-8')"
   ]
  },
  {
   "cell_type": "code",
   "execution_count": null,
   "metadata": {},
   "outputs": [],
   "source": [
    "# test_input_data.shape, test_input_data.columns"
   ]
  },
  {
   "cell_type": "code",
   "execution_count": null,
   "metadata": {},
   "outputs": [],
   "source": [
    "#test_input.size, test_input.columns"
   ]
  },
  {
   "cell_type": "code",
   "execution_count": null,
   "metadata": {},
   "outputs": [],
   "source": [
    "# pd.isnull(test_input_data).sum()\n",
    "# test_input_data = test_input_data[~pd.isnull(test_input_data['original'])]\n",
    "# test_input_data.drop_duplicates(inplace=True)"
   ]
  },
  {
   "cell_type": "code",
   "execution_count": null,
   "metadata": {},
   "outputs": [],
   "source": [
    "# test_input_data['original']=test_input_data['original'].apply(lambda x: x.lower())\n",
    "# #Remove all the quotes\n",
    "# test_input_data['original']=test_input_data['original'].apply(lambda x: re.sub(\"'\", '', x))\n",
    "# #Remove all the special character \n",
    "# exclude = set(string.punctuation) # Set of all special characters\n",
    "# test_input_data['original']=test_input_data['original'].apply(lambda x: ''.join(ch for ch in x if ch not in exclude))\n",
    "# #Remove all numbers from the text \n",
    "# remove_digits = str.maketrans('', '', digits)\n",
    "# test_input_data['original']=test_input_data['original'].apply(lambda x:  x.translate(remove_digits))\n",
    "# #Remove extra spaces \n",
    "# test_input_data['original']=test_input_data['original'].apply(lambda x: x.strip())\n",
    "# test_input_data['original']=test_input_data['original'].apply(lambda x: re.sub(\" +\", \" \", x))"
   ]
  },
  {
   "cell_type": "code",
   "execution_count": null,
   "metadata": {},
   "outputs": [],
   "source": [
    "# #Use bpemb tokenization \n",
    "# test_input_data['original']=test_input_data['original'].apply(lambda x: ' '.join(bpemb_en.encode(x)))"
   ]
  },
  {
   "cell_type": "code",
   "execution_count": null,
   "metadata": {},
   "outputs": [],
   "source": [
    "# test_input_data.head(1)"
   ]
  },
  {
   "cell_type": "code",
   "execution_count": null,
   "metadata": {},
   "outputs": [],
   "source": [
    "# test_input_data.columns"
   ]
  },
  {
   "cell_type": "code",
   "execution_count": null,
   "metadata": {},
   "outputs": [],
   "source": [
    "# X_test_val = test_input_data['original']"
   ]
  },
  {
   "cell_type": "code",
   "execution_count": null,
   "metadata": {},
   "outputs": [],
   "source": [
    "# print (type(X_test_val),type(test_input_data))"
   ]
  },
  {
   "cell_type": "code",
   "execution_count": null,
   "metadata": {},
   "outputs": [],
   "source": [
    "# X_test_val.shape"
   ]
  },
  {
   "cell_type": "code",
   "execution_count": null,
   "metadata": {},
   "outputs": [],
   "source": [
    "# type(X_test_val[0])"
   ]
  },
  {
   "cell_type": "code",
   "execution_count": null,
   "metadata": {},
   "outputs": [],
   "source": [
    "# Max_length(X_test_val)"
   ]
  },
  {
   "cell_type": "code",
   "execution_count": null,
   "metadata": {},
   "outputs": [],
   "source": [
    "# X_test_val = ConvertWord2Index(X_test_val)"
   ]
  },
  {
   "cell_type": "code",
   "execution_count": null,
   "metadata": {},
   "outputs": [],
   "source": [
    "# X_test_val = pad_sequences(X_test_val, maxlen = max_length_solution, padding='post')"
   ]
  },
  {
   "cell_type": "code",
   "execution_count": null,
   "metadata": {},
   "outputs": [],
   "source": [
    "# X_test_val.shape[0]"
   ]
  },
  {
   "cell_type": "code",
   "execution_count": null,
   "metadata": {},
   "outputs": [],
   "source": [
    "# actual_txt = []\n",
    "# predicted_txt = []"
   ]
  },
  {
   "cell_type": "code",
   "execution_count": null,
   "metadata": {},
   "outputs": [],
   "source": []
  },
  {
   "cell_type": "code",
   "execution_count": null,
   "metadata": {},
   "outputs": [],
   "source": [
    "# for i in range(X_test_val.shape[0]):  \n",
    "#     print (\"\\nProcessing doc number \",i)\n",
    "#   #print(\"Review:\",seq2text(X_test_val[i]))\n",
    "#     actual_txt.append(seq2text(X_test_val[i]))\n",
    "#   #print(\"Original summary:\",seq2summary(y_test[i]))\n",
    "#   #print(\"Predicted summary:\",decode_sequence(X_test_val[i].reshape(1,600)))\n",
    "#     predicted_txt.append(decode_sequence(X_test_val[i].reshape(1,600)))\n",
    "#     print(\"\\n\")"
   ]
  },
  {
   "cell_type": "code",
   "execution_count": null,
   "metadata": {},
   "outputs": [],
   "source": [
    "# input_text = []\n",
    "# actual_text = []\n",
    "# predicted_text = []\n",
    "# for i in range(50):\n",
    "#     print (\"\\nProcessing doc number \",i)\n",
    "#     #print(\"Review:\",seq2text(X_test[i]))\n",
    "#     input_text.append(seq2text(X_test[i]))\n",
    "#     actual_text.append(seq2text(y_test[i]))\n",
    "#     predicted_text.append(decode_sequence(X_test[i].reshape(1,600)))\n",
    "  "
   ]
  },
  {
   "cell_type": "code",
   "execution_count": null,
   "metadata": {},
   "outputs": [],
   "source": [
    "# dict = {'Input Text': input_text, 'Correct Text': actual_text, 'Predicted Text': predicted_text} "
   ]
  },
  {
   "cell_type": "code",
   "execution_count": null,
   "metadata": {},
   "outputs": [],
   "source": [
    "# df = pd.DataFrame(dict)"
   ]
  },
  {
   "cell_type": "code",
   "execution_count": 192,
   "metadata": {},
   "outputs": [],
   "source": [
    "df_new.to_csv('predicted_file_result.csv')"
   ]
  },
  {
   "cell_type": "code",
   "execution_count": 194,
   "metadata": {},
   "outputs": [],
   "source": [
    "df_new.to_csv('predicted_file1_result.csv',sep='\\t')"
   ]
  },
  {
   "cell_type": "code",
   "execution_count": null,
   "metadata": {},
   "outputs": [],
   "source": []
  }
 ],
 "metadata": {
  "kernelspec": {
   "display_name": "Python 3",
   "language": "python",
   "name": "python3"
  },
  "language_info": {
   "codemirror_mode": {
    "name": "ipython",
    "version": 3
   },
   "file_extension": ".py",
   "mimetype": "text/x-python",
   "name": "python",
   "nbconvert_exporter": "python",
   "pygments_lexer": "ipython3",
   "version": "3.6.10"
  }
 },
 "nbformat": 4,
 "nbformat_minor": 4
}
