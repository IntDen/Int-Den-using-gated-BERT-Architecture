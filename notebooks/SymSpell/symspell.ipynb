{
 "cells": [
  {
   "cell_type": "code",
   "execution_count": 1,
   "metadata": {
    "execution": {
     "iopub.execute_input": "2020-11-12T05:27:56.604537Z",
     "iopub.status.busy": "2020-11-12T05:27:56.603622Z",
     "iopub.status.idle": "2020-11-12T05:28:07.142738Z",
     "shell.execute_reply": "2020-11-12T05:28:07.141115Z"
    },
    "papermill": {
     "duration": 10.585748,
     "end_time": "2020-11-12T05:28:07.142884",
     "exception": false,
     "start_time": "2020-11-12T05:27:56.557136",
     "status": "completed"
    },
    "tags": []
   },
   "outputs": [],
   "source": [
    "import sys\n",
    "\n",
    "sys.path.append('../')\n",
    "\n",
    "import re\n",
    "import pandas as pd\n",
    "import numpy as np\n",
    "from sklearn.model_selection import KFold\n",
    "\n",
    "from tqdm import tqdm\n",
    "import time\n",
    "import random\n"
   ]
  },
  {
   "cell_type": "code",
   "execution_count": 2,
   "metadata": {},
   "outputs": [],
   "source": [
    "from src.symspellpy import SymSpell"
   ]
  },
  {
   "cell_type": "code",
   "execution_count": 3,
   "metadata": {
    "execution": {
     "iopub.execute_input": "2020-11-12T05:28:07.197234Z",
     "iopub.status.busy": "2020-11-12T05:28:07.195568Z",
     "iopub.status.idle": "2020-11-12T05:28:07.197929Z",
     "shell.execute_reply": "2020-11-12T05:28:07.198389Z"
    },
    "papermill": {
     "duration": 0.030375,
     "end_time": "2020-11-12T05:28:07.198523",
     "exception": false,
     "start_time": "2020-11-12T05:28:07.168148",
     "status": "completed"
    },
    "tags": []
   },
   "outputs": [],
   "source": [
    "MIN_LEN = 20\n",
    "MAX_LEN = 400"
   ]
  },
  {
   "cell_type": "code",
   "execution_count": 4,
   "metadata": {
    "execution": {
     "iopub.execute_input": "2020-11-12T05:28:07.318845Z",
     "iopub.status.busy": "2020-11-12T05:28:07.317922Z",
     "iopub.status.idle": "2020-11-12T05:28:07.709034Z",
     "shell.execute_reply": "2020-11-12T05:28:07.708241Z"
    },
    "papermill": {
     "duration": 0.422908,
     "end_time": "2020-11-12T05:28:07.709163",
     "exception": false,
     "start_time": "2020-11-12T05:28:07.286255",
     "status": "completed"
    },
    "tags": []
   },
   "outputs": [],
   "source": [
    "train_input = pd.read_csv('../data/ALTA_2017/train_input.csv')\n",
    "train_output = pd.read_csv('../data/ALTA_2017/train_output.csv')"
   ]
  },
  {
   "cell_type": "code",
   "execution_count": 5,
   "metadata": {
    "execution": {
     "iopub.execute_input": "2020-11-12T05:28:07.761793Z",
     "iopub.status.busy": "2020-11-12T05:28:07.760911Z",
     "iopub.status.idle": "2020-11-12T05:28:07.790914Z",
     "shell.execute_reply": "2020-11-12T05:28:07.791376Z"
    },
    "papermill": {
     "duration": 0.059878,
     "end_time": "2020-11-12T05:28:07.791536",
     "exception": false,
     "start_time": "2020-11-12T05:28:07.731658",
     "status": "completed"
    },
    "tags": []
   },
   "outputs": [
    {
     "data": {
      "text/html": [
       "<div>\n",
       "<style scoped>\n",
       "    .dataframe tbody tr th:only-of-type {\n",
       "        vertical-align: middle;\n",
       "    }\n",
       "\n",
       "    .dataframe tbody tr th {\n",
       "        vertical-align: top;\n",
       "    }\n",
       "\n",
       "    .dataframe thead th {\n",
       "        text-align: right;\n",
       "    }\n",
       "</style>\n",
       "<table border=\"1\" class=\"dataframe\">\n",
       "  <thead>\n",
       "    <tr style=\"text-align: right;\">\n",
       "      <th></th>\n",
       "      <th>id</th>\n",
       "      <th>original</th>\n",
       "    </tr>\n",
       "  </thead>\n",
       "  <tbody>\n",
       "    <tr>\n",
       "      <th>0</th>\n",
       "      <td>0</td>\n",
       "      <td>'Gondoliers' By Teachers Colleae The Adelaide ...</td>\n",
       "    </tr>\n",
       "    <tr>\n",
       "      <th>1</th>\n",
       "      <td>1</td>\n",
       "      <td>Man Cufc Spoilt Bmbti Of Cimw  Hertm BrielloE,...</td>\n",
       "    </tr>\n",
       "    <tr>\n",
       "      <th>2</th>\n",
       "      <td>2</td>\n",
       "      <td>OFFENSIVE NOISE WITH HOOTER Woman Motorist Fin...</td>\n",
       "    </tr>\n",
       "    <tr>\n",
       "      <th>3</th>\n",
       "      <td>3</td>\n",
       "      <td>PARIS TALKS BEFORE ROME MEETING Mr. Chamberlai...</td>\n",
       "    </tr>\n",
       "    <tr>\n",
       "      <th>4</th>\n",
       "      <td>4</td>\n",
       "      <td>REPORTS FROM RURAL CENTRES AVON An evening was...</td>\n",
       "    </tr>\n",
       "  </tbody>\n",
       "</table>\n",
       "</div>"
      ],
      "text/plain": [
       "   id                                           original\n",
       "0   0  'Gondoliers' By Teachers Colleae The Adelaide ...\n",
       "1   1  Man Cufc Spoilt Bmbti Of Cimw  Hertm BrielloE,...\n",
       "2   2  OFFENSIVE NOISE WITH HOOTER Woman Motorist Fin...\n",
       "3   3  PARIS TALKS BEFORE ROME MEETING Mr. Chamberlai...\n",
       "4   4  REPORTS FROM RURAL CENTRES AVON An evening was..."
      ]
     },
     "execution_count": 5,
     "metadata": {},
     "output_type": "execute_result"
    }
   ],
   "source": [
    "train_input.head()"
   ]
  },
  {
   "cell_type": "code",
   "execution_count": 6,
   "metadata": {
    "execution": {
     "iopub.execute_input": "2020-11-12T05:28:07.842813Z",
     "iopub.status.busy": "2020-11-12T05:28:07.842091Z",
     "iopub.status.idle": "2020-11-12T05:28:07.847598Z",
     "shell.execute_reply": "2020-11-12T05:28:07.847066Z"
    },
    "papermill": {
     "duration": 0.032955,
     "end_time": "2020-11-12T05:28:07.847696",
     "exception": false,
     "start_time": "2020-11-12T05:28:07.814741",
     "status": "completed"
    },
    "tags": []
   },
   "outputs": [
    {
     "data": {
      "text/plain": [
       "\"'Gondoliers' By Teachers Colleae The Adelaide . Teachers' College will present its annual Gilbert and Sullivan onera season in the Unley Town ORix irom April £i to 30.- ??-..?;.. Under the direction of Mr. Alva Penrose, who will again conduct, the students will perform 'The Gondoliers' which was given in the Tivoli Theatre two years ago. There will be nine principals and a chorus of 48. Bookings will open at Cawthorne's on April 13.\""
      ]
     },
     "execution_count": 6,
     "metadata": {},
     "output_type": "execute_result"
    }
   ],
   "source": [
    "train_input.original.iloc[0]"
   ]
  },
  {
   "cell_type": "code",
   "execution_count": 7,
   "metadata": {
    "execution": {
     "iopub.execute_input": "2020-11-12T05:28:07.902240Z",
     "iopub.status.busy": "2020-11-12T05:28:07.901323Z",
     "iopub.status.idle": "2020-11-12T05:28:07.906610Z",
     "shell.execute_reply": "2020-11-12T05:28:07.906049Z"
    },
    "papermill": {
     "duration": 0.035955,
     "end_time": "2020-11-12T05:28:07.906711",
     "exception": false,
     "start_time": "2020-11-12T05:28:07.870756",
     "status": "completed"
    },
    "tags": []
   },
   "outputs": [
    {
     "data": {
      "text/html": [
       "<div>\n",
       "<style scoped>\n",
       "    .dataframe tbody tr th:only-of-type {\n",
       "        vertical-align: middle;\n",
       "    }\n",
       "\n",
       "    .dataframe tbody tr th {\n",
       "        vertical-align: top;\n",
       "    }\n",
       "\n",
       "    .dataframe thead th {\n",
       "        text-align: right;\n",
       "    }\n",
       "</style>\n",
       "<table border=\"1\" class=\"dataframe\">\n",
       "  <thead>\n",
       "    <tr style=\"text-align: right;\">\n",
       "      <th></th>\n",
       "      <th>id</th>\n",
       "      <th>solution</th>\n",
       "    </tr>\n",
       "  </thead>\n",
       "  <tbody>\n",
       "    <tr>\n",
       "      <th>0</th>\n",
       "      <td>0</td>\n",
       "      <td>\"Gondoliers\" By Teachers College The Adelaide ...</td>\n",
       "    </tr>\n",
       "    <tr>\n",
       "      <th>1</th>\n",
       "      <td>1</td>\n",
       "      <td>Lion Cub Spoilt Baby of Circus Herts Briellos,...</td>\n",
       "    </tr>\n",
       "    <tr>\n",
       "      <th>2</th>\n",
       "      <td>2</td>\n",
       "      <td>OFFENSIVE NOISE WITH HOOTER Woman Motorist Fin...</td>\n",
       "    </tr>\n",
       "    <tr>\n",
       "      <th>3</th>\n",
       "      <td>3</td>\n",
       "      <td>PARIS TALKS BEFORE ROME MEETING Mr. Chamberlai...</td>\n",
       "    </tr>\n",
       "    <tr>\n",
       "      <th>4</th>\n",
       "      <td>4</td>\n",
       "      <td>REPORTS FROM RURAL CENTRES AVON An evening was...</td>\n",
       "    </tr>\n",
       "  </tbody>\n",
       "</table>\n",
       "</div>"
      ],
      "text/plain": [
       "   id                                           solution\n",
       "0   0  \"Gondoliers\" By Teachers College The Adelaide ...\n",
       "1   1  Lion Cub Spoilt Baby of Circus Herts Briellos,...\n",
       "2   2  OFFENSIVE NOISE WITH HOOTER Woman Motorist Fin...\n",
       "3   3  PARIS TALKS BEFORE ROME MEETING Mr. Chamberlai...\n",
       "4   4  REPORTS FROM RURAL CENTRES AVON An evening was..."
      ]
     },
     "execution_count": 7,
     "metadata": {},
     "output_type": "execute_result"
    }
   ],
   "source": [
    "train_output.head()"
   ]
  },
  {
   "cell_type": "code",
   "execution_count": 8,
   "metadata": {
    "execution": {
     "iopub.execute_input": "2020-11-12T05:28:07.959246Z",
     "iopub.status.busy": "2020-11-12T05:28:07.958607Z",
     "iopub.status.idle": "2020-11-12T05:28:07.964247Z",
     "shell.execute_reply": "2020-11-12T05:28:07.964889Z"
    },
    "papermill": {
     "duration": 0.034238,
     "end_time": "2020-11-12T05:28:07.965022",
     "exception": false,
     "start_time": "2020-11-12T05:28:07.930784",
     "status": "completed"
    },
    "tags": []
   },
   "outputs": [
    {
     "data": {
      "text/plain": [
       "((6000, 2), (6000, 2))"
      ]
     },
     "execution_count": 8,
     "metadata": {},
     "output_type": "execute_result"
    }
   ],
   "source": [
    "train_input.shape, train_output.shape"
   ]
  },
  {
   "cell_type": "code",
   "execution_count": 9,
   "metadata": {
    "execution": {
     "iopub.execute_input": "2020-11-12T05:28:08.025996Z",
     "iopub.status.busy": "2020-11-12T05:28:08.023910Z",
     "iopub.status.idle": "2020-11-12T05:28:09.525611Z",
     "shell.execute_reply": "2020-11-12T05:28:09.525027Z"
    },
    "papermill": {
     "duration": 1.536264,
     "end_time": "2020-11-12T05:28:09.525739",
     "exception": false,
     "start_time": "2020-11-12T05:28:07.989475",
     "status": "completed"
    },
    "tags": []
   },
   "outputs": [],
   "source": [
    "train = pd.merge(train_input, train_output, how='inner')\n",
    "train['solution'] = train.solution.apply(lambda x: re.sub('[^a-z0-9 ]', '', x.strip().lower()))\n",
    "train['original'] = train.original.apply(lambda x: re.sub(r'[^a-z0-9 ]', '', x.strip().lower()))"
   ]
  },
  {
   "cell_type": "code",
   "execution_count": 10,
   "metadata": {
    "execution": {
     "iopub.execute_input": "2020-11-12T05:28:14.274750Z",
     "iopub.status.busy": "2020-11-12T05:28:14.273801Z",
     "iopub.status.idle": "2020-11-12T05:28:14.277026Z",
     "shell.execute_reply": "2020-11-12T05:28:14.276477Z"
    },
    "papermill": {
     "duration": 0.038074,
     "end_time": "2020-11-12T05:28:14.277160",
     "exception": false,
     "start_time": "2020-11-12T05:28:14.239086",
     "status": "completed"
    },
    "tags": []
   },
   "outputs": [],
   "source": [
    "kf = KFold(n_splits=5)\n",
    "\n",
    "for train_index, val_index in kf.split(train):\n",
    "    break"
   ]
  },
  {
   "cell_type": "code",
   "execution_count": 11,
   "metadata": {
    "execution": {
     "iopub.execute_input": "2020-11-12T05:28:14.340401Z",
     "iopub.status.busy": "2020-11-12T05:28:14.339469Z",
     "iopub.status.idle": "2020-11-12T05:28:14.344181Z",
     "shell.execute_reply": "2020-11-12T05:28:14.343494Z"
    },
    "papermill": {
     "duration": 0.038331,
     "end_time": "2020-11-12T05:28:14.344278",
     "exception": false,
     "start_time": "2020-11-12T05:28:14.305947",
     "status": "completed"
    },
    "tags": []
   },
   "outputs": [],
   "source": [
    "val = train.iloc[val_index]\n",
    "train = train.iloc[train_index]"
   ]
  },
  {
   "cell_type": "code",
   "execution_count": 12,
   "metadata": {
    "execution": {
     "iopub.execute_input": "2020-11-12T05:28:14.410053Z",
     "iopub.status.busy": "2020-11-12T05:28:14.409169Z",
     "iopub.status.idle": "2020-11-12T05:30:10.480899Z",
     "shell.execute_reply": "2020-11-12T05:30:10.479793Z"
    },
    "papermill": {
     "duration": 116.108415,
     "end_time": "2020-11-12T05:30:10.481045",
     "exception": false,
     "start_time": "2020-11-12T05:28:14.372630",
     "status": "completed"
    },
    "tags": []
   },
   "outputs": [],
   "source": [
    "train['text_len'] = train.original.apply(lambda x: len(x.split()))\n",
    "val['text_len'] = val.original.apply(lambda x: len(x.split()))"
   ]
  },
  {
   "cell_type": "code",
   "execution_count": 13,
   "metadata": {
    "execution": {
     "iopub.execute_input": "2020-11-12T05:30:10.547036Z",
     "iopub.status.busy": "2020-11-12T05:30:10.545926Z",
     "iopub.status.idle": "2020-11-12T05:30:10.559003Z",
     "shell.execute_reply": "2020-11-12T05:30:10.559941Z"
    },
    "papermill": {
     "duration": 0.04976,
     "end_time": "2020-11-12T05:30:10.560131",
     "exception": false,
     "start_time": "2020-11-12T05:30:10.510371",
     "status": "completed"
    },
    "tags": []
   },
   "outputs": [
    {
     "name": "stdout",
     "output_type": "stream",
     "text": [
      "count    4800.000000\n",
      "mean      468.942083\n",
      "std       636.235791\n",
      "min        17.000000\n",
      "25%       113.000000\n",
      "50%       241.000000\n",
      "75%       574.000000\n",
      "max      9261.000000\n",
      "Name: text_len, dtype: float64 count    1200.000000\n",
      "mean      439.170833\n",
      "std       608.238687\n",
      "min        20.000000\n",
      "25%       110.000000\n",
      "50%       215.000000\n",
      "75%       536.500000\n",
      "max      7808.000000\n",
      "Name: text_len, dtype: float64\n"
     ]
    }
   ],
   "source": [
    "print (train.text_len.describe(), val.text_len.describe())"
   ]
  },
  {
   "cell_type": "code",
   "execution_count": 14,
   "metadata": {
    "execution": {
     "iopub.execute_input": "2020-11-12T05:30:10.662802Z",
     "iopub.status.busy": "2020-11-12T05:30:10.661673Z",
     "iopub.status.idle": "2020-11-12T05:30:10.697142Z",
     "shell.execute_reply": "2020-11-12T05:30:10.696106Z"
    },
    "papermill": {
     "duration": 0.090265,
     "end_time": "2020-11-12T05:30:10.697299",
     "exception": false,
     "start_time": "2020-11-12T05:30:10.607034",
     "status": "completed"
    },
    "tags": []
   },
   "outputs": [
    {
     "name": "stdout",
     "output_type": "stream",
     "text": [
      "(825, 4)\n"
     ]
    }
   ],
   "source": [
    "val = val[val.text_len < MAX_LEN].reset_index(drop=True)\n",
    "print (val.shape)"
   ]
  },
  {
   "cell_type": "code",
   "execution_count": 15,
   "metadata": {},
   "outputs": [
    {
     "name": "stdout",
     "output_type": "stream",
     "text": [
      "../src/symspellpy/frequency_dictionary_en_82_765.txt\n"
     ]
    },
    {
     "data": {
      "text/plain": [
       "True"
      ]
     },
     "execution_count": 15,
     "metadata": {},
     "output_type": "execute_result"
    }
   ],
   "source": [
    "sym_spell = SymSpell()\n",
    "\n",
    "#sym_spell.load_dictionary(\"../src/symspellpy/frequency_dictionary_en_82_765.txt\",0,1,\" \")\n",
    "sym_spell.create_dictionary(\"../src/symspellpy/frequency_dictionary_en_82_765.txt\")       "
   ]
  },
  {
   "cell_type": "code",
   "execution_count": 16,
   "metadata": {},
   "outputs": [],
   "source": [
    "text = val.original.iloc[1]\n",
    "\n",
    "result = sym_spell.word_segmentation(text)"
   ]
  },
  {
   "cell_type": "code",
   "execution_count": 17,
   "metadata": {},
   "outputs": [
    {
     "data": {
      "text/plain": [
       "'man cuff spoilt bambi of crime herm brillo us member of silvered cd rent with a lion cob born three weeks ago at karina photo was taken in a circus caravan at levels yesterday a lion cub which is being reared on a bottle by a woman member of silvers circus will be on show in adelaide soon the cub whose mother has neglected it since it was bomb at karina three weeks ago travels in its foster mothers lap when the circus moves from town to town and sleeps in her caravan the circus was formed in sydney only three years ago and is done south australia for the first time it has just completed a successful two month tour of say country districts the unit will be in marie lathi from april of to april of at the morpheus street bridge site and will be open nightly at a pin with matinees on saturdays wednesdays and holidays a feature of the programme will be gwen keillor down act in which she performs balancing acts on ropes left above the ground and with no nets there will be both overseas and australian acts with the usual performing lions trapeze acts and high pole and perch balancing feats another youngster in the circus animal population is a thigh elephant'"
      ]
     },
     "execution_count": 17,
     "metadata": {},
     "output_type": "execute_result"
    }
   ],
   "source": [
    "result.corrected_string"
   ]
  },
  {
   "cell_type": "code",
   "execution_count": 18,
   "metadata": {},
   "outputs": [
    {
     "data": {
      "text/plain": [
       "'man cufc spoilt bmbti of cimw  hertm brielloe u member of silvere cjrcnt witb a lion cob born three weeks ago at kadina photo was taken in a circus caravan at clenels yesterday a lion cub which is being reared on a bottle by a woman member of silvers circus will be on show in adelaide soon the cub whose mother has neglected it since it was bom at kadina three weeks ago travels in its foster mothers lap when the circus moves from town to town and sleeps in her caravan the circus was formed in sydney only three years ago and is vidone south australia for the first time it has just completed a successful twomonth tour of sa country districts the unit will be in arielatrhi from april 12 to april 23 at the morphett street bridge site and will be open nightly at 8 pin with matinees on saturdays wednesdays and holidays a feature of the programme will be gwen kiellors down act in which she performs balancing acts on ropes 40 ft above the ground and with no nets there will be both overseas and australian acts with the usual performing lions trapeze acts and high pole and perch balancing feats another youngster in the circuss animal population is a 3fthigh elephant'"
      ]
     },
     "execution_count": 18,
     "metadata": {},
     "output_type": "execute_result"
    }
   ],
   "source": [
    "text"
   ]
  },
  {
   "cell_type": "code",
   "execution_count": 19,
   "metadata": {
    "execution": {
     "iopub.execute_input": "2020-11-12T05:30:53.752226Z",
     "iopub.status.busy": "2020-11-12T05:30:53.751206Z",
     "iopub.status.idle": "2020-11-12T07:12:12.413130Z",
     "shell.execute_reply": "2020-11-12T07:12:12.412038Z"
    },
    "papermill": {
     "duration": 6078.731566,
     "end_time": "2020-11-12T07:12:12.413272",
     "exception": false,
     "start_time": "2020-11-12T05:30:53.681706",
     "status": "completed"
    },
    "tags": []
   },
   "outputs": [
    {
     "name": "stderr",
     "output_type": "stream",
     "text": [
      "100%|██████████████████████████████████████████████████████████████████████████████| 825/825 [4:44:31<00:00, 20.69s/it]\n"
     ]
    }
   ],
   "source": [
    "output = []\n",
    "\n",
    "for i in tqdm(range(len(val))):\n",
    "    output.append(sym_spell.word_segmentation(val.original.iloc[i]).corrected_string)"
   ]
  },
  {
   "cell_type": "code",
   "execution_count": 20,
   "metadata": {
    "execution": {
     "iopub.execute_input": "2020-11-12T07:12:12.997112Z",
     "iopub.status.busy": "2020-11-12T07:12:12.996334Z",
     "iopub.status.idle": "2020-11-12T07:12:13.000337Z",
     "shell.execute_reply": "2020-11-12T07:12:12.999843Z"
    },
    "papermill": {
     "duration": 0.298235,
     "end_time": "2020-11-12T07:12:13.000434",
     "exception": false,
     "start_time": "2020-11-12T07:12:12.702199",
     "status": "completed"
    },
    "tags": []
   },
   "outputs": [],
   "source": [
    "val['predicted_text'] = output"
   ]
  },
  {
   "cell_type": "code",
   "execution_count": 21,
   "metadata": {
    "execution": {
     "iopub.execute_input": "2020-11-12T07:12:13.586593Z",
     "iopub.status.busy": "2020-11-12T07:12:13.585889Z",
     "iopub.status.idle": "2020-11-12T07:12:13.986708Z",
     "shell.execute_reply": "2020-11-12T07:12:13.985288Z"
    },
    "papermill": {
     "duration": 0.696131,
     "end_time": "2020-11-12T07:12:13.986870",
     "exception": false,
     "start_time": "2020-11-12T07:12:13.290739",
     "status": "completed"
    },
    "tags": []
   },
   "outputs": [],
   "source": [
    "import numpy as np\n",
    "import  nltk.translate.bleu_score as bleu"
   ]
  },
  {
   "cell_type": "code",
   "execution_count": 22,
   "metadata": {
    "execution": {
     "iopub.execute_input": "2020-11-12T07:12:14.584091Z",
     "iopub.status.busy": "2020-11-12T07:12:14.583322Z",
     "iopub.status.idle": "2020-11-12T07:12:14.586003Z",
     "shell.execute_reply": "2020-11-12T07:12:14.586530Z"
    },
    "papermill": {
     "duration": 0.308713,
     "end_time": "2020-11-12T07:12:14.586654",
     "exception": false,
     "start_time": "2020-11-12T07:12:14.277941",
     "status": "completed"
    },
    "tags": []
   },
   "outputs": [],
   "source": [
    "def WRR(text1,text2):\n",
    "    a = set(text1.lower().split())\n",
    "    b = set(text2.lower().split())\n",
    "    \n",
    "    if (len(a) == 0) and (len(b) == 0):\n",
    "        return .5\n",
    "    \n",
    "    c = a.intersection(b)\n",
    "    return float(len(c))/(len(a) + len(b) - len(c))\n",
    "\n",
    "def levenshtein(seq1, seq2):\n",
    "    seq1 = seq1.lower()\n",
    "    seq2 = seq2.lower()\n",
    "    \n",
    "    size_x = len(seq1) + 1\n",
    "    size_y = len(seq2) + 1\n",
    "    matrix = np.zeros ((size_x, size_y))\n",
    "    for x in range(size_x):\n",
    "        matrix [x, 0] = x\n",
    "    for y in range(size_y):\n",
    "        matrix [0, y] = y\n",
    "\n",
    "    for x in range(1, size_x):\n",
    "        for y in range(1, size_y):\n",
    "            if seq1[x-1] == seq2[y-1]:\n",
    "                matrix [x,y] = min(\n",
    "                    matrix[x-1, y] + 1,\n",
    "                    matrix[x-1, y-1],\n",
    "                    matrix[x, y-1] + 1\n",
    "                )\n",
    "            else:\n",
    "                matrix [x,y] = min(\n",
    "                    matrix[x-1,y] + 1,\n",
    "                    matrix[x-1,y-1] + 1,\n",
    "                    matrix[x,y-1] + 1\n",
    "                )\n",
    "    #print (matrix)\n",
    "    return (matrix[size_x - 1, size_y - 1])\n",
    "\n",
    "def CRR(text1, text2):\n",
    "    try:\n",
    "        return 1 - float(levenshtein(text1,text2))/max(len(text1),len(text2))\n",
    "    except:\n",
    "        return 0\n",
    "\n",
    "def bleu_score(text1,text2):\n",
    "    return bleu.sentence_bleu([text1.lower().split()],text2.lower().split())"
   ]
  },
  {
   "cell_type": "code",
   "execution_count": 23,
   "metadata": {
    "execution": {
     "iopub.execute_input": "2020-11-12T07:12:15.171951Z",
     "iopub.status.busy": "2020-11-12T07:12:15.171142Z",
     "iopub.status.idle": "2020-11-12T07:12:17.097287Z",
     "shell.execute_reply": "2020-11-12T07:12:17.095983Z"
    },
    "papermill": {
     "duration": 2.223765,
     "end_time": "2020-11-12T07:12:17.097445",
     "exception": false,
     "start_time": "2020-11-12T07:12:14.873680",
     "status": "completed"
    },
    "tags": []
   },
   "outputs": [
    {
     "name": "stderr",
     "output_type": "stream",
     "text": [
      "c:\\users\\asengup6\\softwares\\anaconda\\lib\\site-packages\\nltk\\translate\\bleu_score.py:523: UserWarning: \n",
      "The hypothesis contains 0 counts of 2-gram overlaps.\n",
      "Therefore the BLEU score evaluates to 0, independently of\n",
      "how many N-gram overlaps of lower order it contains.\n",
      "Consider using lower n-gram order or use SmoothingFunction()\n",
      "  warnings.warn(_msg)\n",
      "c:\\users\\asengup6\\softwares\\anaconda\\lib\\site-packages\\nltk\\translate\\bleu_score.py:523: UserWarning: \n",
      "The hypothesis contains 0 counts of 3-gram overlaps.\n",
      "Therefore the BLEU score evaluates to 0, independently of\n",
      "how many N-gram overlaps of lower order it contains.\n",
      "Consider using lower n-gram order or use SmoothingFunction()\n",
      "  warnings.warn(_msg)\n",
      "c:\\users\\asengup6\\softwares\\anaconda\\lib\\site-packages\\nltk\\translate\\bleu_score.py:523: UserWarning: \n",
      "The hypothesis contains 0 counts of 4-gram overlaps.\n",
      "Therefore the BLEU score evaluates to 0, independently of\n",
      "how many N-gram overlaps of lower order it contains.\n",
      "Consider using lower n-gram order or use SmoothingFunction()\n",
      "  warnings.warn(_msg)\n"
     ]
    }
   ],
   "source": [
    "val['WRR_1'] = val.apply(lambda x: WRR(x.original, x.solution), axis=1)\n",
    "val['WRR_2'] = val.apply(lambda x: WRR(x.predicted_text, x.solution), axis=1)\n",
    "\n",
    "#val['CRR_1'] = val.apply(lambda x: CRR(x.original, x.solution), axis=1)\n",
    "#val['CRR_2'] = val.apply(lambda x: CRR(x.predicted_text, x.solution), axis=1)\n",
    "\n",
    "val['BLEU_1'] = val.apply(lambda x: bleu_score(x.original, x.solution), axis=1)\n",
    "val['BLEU_2'] = val.apply(lambda x: bleu_score(x.predicted_text, x.solution), axis=1)"
   ]
  },
  {
   "cell_type": "code",
   "execution_count": 24,
   "metadata": {
    "execution": {
     "iopub.execute_input": "2020-11-12T07:12:17.687812Z",
     "iopub.status.busy": "2020-11-12T07:12:17.683262Z",
     "iopub.status.idle": "2020-11-12T07:12:17.705311Z",
     "shell.execute_reply": "2020-11-12T07:12:17.705802Z"
    },
    "papermill": {
     "duration": 0.317082,
     "end_time": "2020-11-12T07:12:17.705925",
     "exception": false,
     "start_time": "2020-11-12T07:12:17.388843",
     "status": "completed"
    },
    "tags": []
   },
   "outputs": [
    {
     "data": {
      "text/html": [
       "<div>\n",
       "<style scoped>\n",
       "    .dataframe tbody tr th:only-of-type {\n",
       "        vertical-align: middle;\n",
       "    }\n",
       "\n",
       "    .dataframe tbody tr th {\n",
       "        vertical-align: top;\n",
       "    }\n",
       "\n",
       "    .dataframe thead th {\n",
       "        text-align: right;\n",
       "    }\n",
       "</style>\n",
       "<table border=\"1\" class=\"dataframe\">\n",
       "  <thead>\n",
       "    <tr style=\"text-align: right;\">\n",
       "      <th></th>\n",
       "      <th>WRR_1</th>\n",
       "      <th>WRR_2</th>\n",
       "      <th>BLEU_1</th>\n",
       "      <th>BLEU_2</th>\n",
       "    </tr>\n",
       "  </thead>\n",
       "  <tbody>\n",
       "    <tr>\n",
       "      <th>count</th>\n",
       "      <td>825.000000</td>\n",
       "      <td>825.000000</td>\n",
       "      <td>8.250000e+02</td>\n",
       "      <td>8.250000e+02</td>\n",
       "    </tr>\n",
       "    <tr>\n",
       "      <th>mean</th>\n",
       "      <td>0.831961</td>\n",
       "      <td>0.636713</td>\n",
       "      <td>8.160750e-01</td>\n",
       "      <td>5.931994e-01</td>\n",
       "    </tr>\n",
       "    <tr>\n",
       "      <th>std</th>\n",
       "      <td>0.123283</td>\n",
       "      <td>0.153985</td>\n",
       "      <td>1.443029e-01</td>\n",
       "      <td>1.828865e-01</td>\n",
       "    </tr>\n",
       "    <tr>\n",
       "      <th>min</th>\n",
       "      <td>0.040323</td>\n",
       "      <td>0.008333</td>\n",
       "      <td>9.016669e-232</td>\n",
       "      <td>5.761139e-232</td>\n",
       "    </tr>\n",
       "    <tr>\n",
       "      <th>25%</th>\n",
       "      <td>0.791667</td>\n",
       "      <td>0.545455</td>\n",
       "      <td>7.695525e-01</td>\n",
       "      <td>5.001174e-01</td>\n",
       "    </tr>\n",
       "    <tr>\n",
       "      <th>50%</th>\n",
       "      <td>0.861111</td>\n",
       "      <td>0.653846</td>\n",
       "      <td>8.504415e-01</td>\n",
       "      <td>6.263214e-01</td>\n",
       "    </tr>\n",
       "    <tr>\n",
       "      <th>75%</th>\n",
       "      <td>0.911392</td>\n",
       "      <td>0.750000</td>\n",
       "      <td>9.090551e-01</td>\n",
       "      <td>7.281174e-01</td>\n",
       "    </tr>\n",
       "    <tr>\n",
       "      <th>max</th>\n",
       "      <td>1.000000</td>\n",
       "      <td>1.000000</td>\n",
       "      <td>1.000000e+00</td>\n",
       "      <td>1.000000e+00</td>\n",
       "    </tr>\n",
       "  </tbody>\n",
       "</table>\n",
       "</div>"
      ],
      "text/plain": [
       "            WRR_1       WRR_2         BLEU_1         BLEU_2\n",
       "count  825.000000  825.000000   8.250000e+02   8.250000e+02\n",
       "mean     0.831961    0.636713   8.160750e-01   5.931994e-01\n",
       "std      0.123283    0.153985   1.443029e-01   1.828865e-01\n",
       "min      0.040323    0.008333  9.016669e-232  5.761139e-232\n",
       "25%      0.791667    0.545455   7.695525e-01   5.001174e-01\n",
       "50%      0.861111    0.653846   8.504415e-01   6.263214e-01\n",
       "75%      0.911392    0.750000   9.090551e-01   7.281174e-01\n",
       "max      1.000000    1.000000   1.000000e+00   1.000000e+00"
      ]
     },
     "execution_count": 24,
     "metadata": {},
     "output_type": "execute_result"
    }
   ],
   "source": [
    "val[['WRR_1', 'WRR_2', 'BLEU_1', 'BLEU_2']].describe()"
   ]
  },
  {
   "cell_type": "code",
   "execution_count": 25,
   "metadata": {
    "execution": {
     "iopub.execute_input": "2020-11-12T07:12:18.301981Z",
     "iopub.status.busy": "2020-11-12T07:12:18.301140Z",
     "iopub.status.idle": "2020-11-12T07:12:18.304892Z",
     "shell.execute_reply": "2020-11-12T07:12:18.305361Z"
    },
    "papermill": {
     "duration": 0.305452,
     "end_time": "2020-11-12T07:12:18.305480",
     "exception": false,
     "start_time": "2020-11-12T07:12:18.000028",
     "status": "completed"
    },
    "tags": []
   },
   "outputs": [
    {
     "name": "stdout",
     "output_type": "stream",
     "text": [
      "(24, 9) (27, 9)\n"
     ]
    }
   ],
   "source": [
    "print (val[val.WRR_1 < val.WRR_2].shape, val[val.BLEU_1 < val.BLEU_2].shape)"
   ]
  },
  {
   "cell_type": "code",
   "execution_count": 26,
   "metadata": {
    "execution": {
     "iopub.execute_input": "2020-11-12T07:12:18.887336Z",
     "iopub.status.busy": "2020-11-12T07:12:18.886645Z",
     "iopub.status.idle": "2020-11-12T07:12:19.128254Z",
     "shell.execute_reply": "2020-11-12T07:12:19.127222Z"
    },
    "papermill": {
     "duration": 0.533754,
     "end_time": "2020-11-12T07:12:19.128375",
     "exception": false,
     "start_time": "2020-11-12T07:12:18.594621",
     "status": "completed"
    },
    "tags": []
   },
   "outputs": [],
   "source": [
    "val.to_csv('../results/ALTA_2017/symspell_validation_output.csv',index=False)"
   ]
  },
  {
   "cell_type": "code",
   "execution_count": null,
   "metadata": {},
   "outputs": [],
   "source": []
  }
 ],
 "metadata": {
  "kernelspec": {
   "display_name": "Python 3",
   "language": "python",
   "name": "python3"
  },
  "language_info": {
   "codemirror_mode": {
    "name": "ipython",
    "version": 3
   },
   "file_extension": ".py",
   "mimetype": "text/x-python",
   "name": "python",
   "nbconvert_exporter": "python",
   "pygments_lexer": "ipython3",
   "version": "3.6.10"
  },
  "papermill": {
   "duration": 6267.845635,
   "end_time": "2020-11-12T07:12:20.037044",
   "environment_variables": {},
   "exception": null,
   "input_path": "__notebook__.ipynb",
   "output_path": "__notebook__.ipynb",
   "parameters": {},
   "start_time": "2020-11-12T05:27:52.191409",
   "version": "2.1.0"
  },
  "widgets": {
   "application/vnd.jupyter.widget-state+json": {
    "state": {
     "03363998c45349acb7d6ae52045eaba3": {
      "model_module": "@jupyter-widgets/controls",
      "model_module_version": "1.5.0",
      "model_name": "FloatProgressModel",
      "state": {
       "_dom_classes": [],
       "_model_module": "@jupyter-widgets/controls",
       "_model_module_version": "1.5.0",
       "_model_name": "FloatProgressModel",
       "_view_count": null,
       "_view_module": "@jupyter-widgets/controls",
       "_view_module_version": "1.5.0",
       "_view_name": "ProgressView",
       "bar_style": "success",
       "description": "Downloading: 100%",
       "description_tooltip": null,
       "layout": "IPY_MODEL_3626a070b46c46088cd875905fa98513",
       "max": 433,
       "min": 0,
       "orientation": "horizontal",
       "style": "IPY_MODEL_f302f303c66d4bbbb8d29e57553eee2a",
       "value": 433
      }
     },
     "0da2815573d14fdcb0e4ef794b7ece7a": {
      "model_module": "@jupyter-widgets/base",
      "model_module_version": "1.2.0",
      "model_name": "LayoutModel",
      "state": {
       "_model_module": "@jupyter-widgets/base",
       "_model_module_version": "1.2.0",
       "_model_name": "LayoutModel",
       "_view_count": null,
       "_view_module": "@jupyter-widgets/base",
       "_view_module_version": "1.2.0",
       "_view_name": "LayoutView",
       "align_content": null,
       "align_items": null,
       "align_self": null,
       "border": null,
       "bottom": null,
       "display": null,
       "flex": null,
       "flex_flow": null,
       "grid_area": null,
       "grid_auto_columns": null,
       "grid_auto_flow": null,
       "grid_auto_rows": null,
       "grid_column": null,
       "grid_gap": null,
       "grid_row": null,
       "grid_template_areas": null,
       "grid_template_columns": null,
       "grid_template_rows": null,
       "height": null,
       "justify_content": null,
       "justify_items": null,
       "left": null,
       "margin": null,
       "max_height": null,
       "max_width": null,
       "min_height": null,
       "min_width": null,
       "object_fit": null,
       "object_position": null,
       "order": null,
       "overflow": null,
       "overflow_x": null,
       "overflow_y": null,
       "padding": null,
       "right": null,
       "top": null,
       "visibility": null,
       "width": null
      }
     },
     "2bb8277e32b144c28793acd042e38a1c": {
      "model_module": "@jupyter-widgets/controls",
      "model_module_version": "1.5.0",
      "model_name": "HBoxModel",
      "state": {
       "_dom_classes": [],
       "_model_module": "@jupyter-widgets/controls",
       "_model_module_version": "1.5.0",
       "_model_name": "HBoxModel",
       "_view_count": null,
       "_view_module": "@jupyter-widgets/controls",
       "_view_module_version": "1.5.0",
       "_view_name": "HBoxView",
       "box_style": "",
       "children": [
        "IPY_MODEL_f322d2f920eb43b9bc473587ebd73f61",
        "IPY_MODEL_e3f5e72d53f743f787e6e2c2dfbe1146"
       ],
       "layout": "IPY_MODEL_a26603e68b1a415b937b5ed988410dd8"
      }
     },
     "3626a070b46c46088cd875905fa98513": {
      "model_module": "@jupyter-widgets/base",
      "model_module_version": "1.2.0",
      "model_name": "LayoutModel",
      "state": {
       "_model_module": "@jupyter-widgets/base",
       "_model_module_version": "1.2.0",
       "_model_name": "LayoutModel",
       "_view_count": null,
       "_view_module": "@jupyter-widgets/base",
       "_view_module_version": "1.2.0",
       "_view_name": "LayoutView",
       "align_content": null,
       "align_items": null,
       "align_self": null,
       "border": null,
       "bottom": null,
       "display": null,
       "flex": null,
       "flex_flow": null,
       "grid_area": null,
       "grid_auto_columns": null,
       "grid_auto_flow": null,
       "grid_auto_rows": null,
       "grid_column": null,
       "grid_gap": null,
       "grid_row": null,
       "grid_template_areas": null,
       "grid_template_columns": null,
       "grid_template_rows": null,
       "height": null,
       "justify_content": null,
       "justify_items": null,
       "left": null,
       "margin": null,
       "max_height": null,
       "max_width": null,
       "min_height": null,
       "min_width": null,
       "object_fit": null,
       "object_position": null,
       "order": null,
       "overflow": null,
       "overflow_x": null,
       "overflow_y": null,
       "padding": null,
       "right": null,
       "top": null,
       "visibility": null,
       "width": null
      }
     },
     "3b5ea3550f16415b9c2d88a6e4046ac8": {
      "model_module": "@jupyter-widgets/controls",
      "model_module_version": "1.5.0",
      "model_name": "DescriptionStyleModel",
      "state": {
       "_model_module": "@jupyter-widgets/controls",
       "_model_module_version": "1.5.0",
       "_model_name": "DescriptionStyleModel",
       "_view_count": null,
       "_view_module": "@jupyter-widgets/base",
       "_view_module_version": "1.2.0",
       "_view_name": "StyleView",
       "description_width": ""
      }
     },
     "a26603e68b1a415b937b5ed988410dd8": {
      "model_module": "@jupyter-widgets/base",
      "model_module_version": "1.2.0",
      "model_name": "LayoutModel",
      "state": {
       "_model_module": "@jupyter-widgets/base",
       "_model_module_version": "1.2.0",
       "_model_name": "LayoutModel",
       "_view_count": null,
       "_view_module": "@jupyter-widgets/base",
       "_view_module_version": "1.2.0",
       "_view_name": "LayoutView",
       "align_content": null,
       "align_items": null,
       "align_self": null,
       "border": null,
       "bottom": null,
       "display": null,
       "flex": null,
       "flex_flow": null,
       "grid_area": null,
       "grid_auto_columns": null,
       "grid_auto_flow": null,
       "grid_auto_rows": null,
       "grid_column": null,
       "grid_gap": null,
       "grid_row": null,
       "grid_template_areas": null,
       "grid_template_columns": null,
       "grid_template_rows": null,
       "height": null,
       "justify_content": null,
       "justify_items": null,
       "left": null,
       "margin": null,
       "max_height": null,
       "max_width": null,
       "min_height": null,
       "min_width": null,
       "object_fit": null,
       "object_position": null,
       "order": null,
       "overflow": null,
       "overflow_x": null,
       "overflow_y": null,
       "padding": null,
       "right": null,
       "top": null,
       "visibility": null,
       "width": null
      }
     },
     "ab06fa25f35244388921f988966776f2": {
      "model_module": "@jupyter-widgets/controls",
      "model_module_version": "1.5.0",
      "model_name": "ProgressStyleModel",
      "state": {
       "_model_module": "@jupyter-widgets/controls",
       "_model_module_version": "1.5.0",
       "_model_name": "ProgressStyleModel",
       "_view_count": null,
       "_view_module": "@jupyter-widgets/base",
       "_view_module_version": "1.2.0",
       "_view_name": "StyleView",
       "bar_color": null,
       "description_width": "initial"
      }
     },
     "b20cc630363c4408bc0c78e1e84905cf": {
      "model_module": "@jupyter-widgets/base",
      "model_module_version": "1.2.0",
      "model_name": "LayoutModel",
      "state": {
       "_model_module": "@jupyter-widgets/base",
       "_model_module_version": "1.2.0",
       "_model_name": "LayoutModel",
       "_view_count": null,
       "_view_module": "@jupyter-widgets/base",
       "_view_module_version": "1.2.0",
       "_view_name": "LayoutView",
       "align_content": null,
       "align_items": null,
       "align_self": null,
       "border": null,
       "bottom": null,
       "display": null,
       "flex": null,
       "flex_flow": null,
       "grid_area": null,
       "grid_auto_columns": null,
       "grid_auto_flow": null,
       "grid_auto_rows": null,
       "grid_column": null,
       "grid_gap": null,
       "grid_row": null,
       "grid_template_areas": null,
       "grid_template_columns": null,
       "grid_template_rows": null,
       "height": null,
       "justify_content": null,
       "justify_items": null,
       "left": null,
       "margin": null,
       "max_height": null,
       "max_width": null,
       "min_height": null,
       "min_width": null,
       "object_fit": null,
       "object_position": null,
       "order": null,
       "overflow": null,
       "overflow_x": null,
       "overflow_y": null,
       "padding": null,
       "right": null,
       "top": null,
       "visibility": null,
       "width": null
      }
     },
     "bc98b76d7ab846ecb0a19e36d077a08b": {
      "model_module": "@jupyter-widgets/controls",
      "model_module_version": "1.5.0",
      "model_name": "HBoxModel",
      "state": {
       "_dom_classes": [],
       "_model_module": "@jupyter-widgets/controls",
       "_model_module_version": "1.5.0",
       "_model_name": "HBoxModel",
       "_view_count": null,
       "_view_module": "@jupyter-widgets/controls",
       "_view_module_version": "1.5.0",
       "_view_name": "HBoxView",
       "box_style": "",
       "children": [
        "IPY_MODEL_03363998c45349acb7d6ae52045eaba3",
        "IPY_MODEL_d74f1201561b4ac9b25f100f8b738f24"
       ],
       "layout": "IPY_MODEL_c519103220c6437b955b7769571f84e5"
      }
     },
     "c519103220c6437b955b7769571f84e5": {
      "model_module": "@jupyter-widgets/base",
      "model_module_version": "1.2.0",
      "model_name": "LayoutModel",
      "state": {
       "_model_module": "@jupyter-widgets/base",
       "_model_module_version": "1.2.0",
       "_model_name": "LayoutModel",
       "_view_count": null,
       "_view_module": "@jupyter-widgets/base",
       "_view_module_version": "1.2.0",
       "_view_name": "LayoutView",
       "align_content": null,
       "align_items": null,
       "align_self": null,
       "border": null,
       "bottom": null,
       "display": null,
       "flex": null,
       "flex_flow": null,
       "grid_area": null,
       "grid_auto_columns": null,
       "grid_auto_flow": null,
       "grid_auto_rows": null,
       "grid_column": null,
       "grid_gap": null,
       "grid_row": null,
       "grid_template_areas": null,
       "grid_template_columns": null,
       "grid_template_rows": null,
       "height": null,
       "justify_content": null,
       "justify_items": null,
       "left": null,
       "margin": null,
       "max_height": null,
       "max_width": null,
       "min_height": null,
       "min_width": null,
       "object_fit": null,
       "object_position": null,
       "order": null,
       "overflow": null,
       "overflow_x": null,
       "overflow_y": null,
       "padding": null,
       "right": null,
       "top": null,
       "visibility": null,
       "width": null
      }
     },
     "d74f1201561b4ac9b25f100f8b738f24": {
      "model_module": "@jupyter-widgets/controls",
      "model_module_version": "1.5.0",
      "model_name": "HTMLModel",
      "state": {
       "_dom_classes": [],
       "_model_module": "@jupyter-widgets/controls",
       "_model_module_version": "1.5.0",
       "_model_name": "HTMLModel",
       "_view_count": null,
       "_view_module": "@jupyter-widgets/controls",
       "_view_module_version": "1.5.0",
       "_view_name": "HTMLView",
       "description": "",
       "description_tooltip": null,
       "layout": "IPY_MODEL_b20cc630363c4408bc0c78e1e84905cf",
       "placeholder": "​",
       "style": "IPY_MODEL_3b5ea3550f16415b9c2d88a6e4046ac8",
       "value": " 433/433 [00:00&lt;00:00, 556B/s]"
      }
     },
     "e3f5e72d53f743f787e6e2c2dfbe1146": {
      "model_module": "@jupyter-widgets/controls",
      "model_module_version": "1.5.0",
      "model_name": "HTMLModel",
      "state": {
       "_dom_classes": [],
       "_model_module": "@jupyter-widgets/controls",
       "_model_module_version": "1.5.0",
       "_model_name": "HTMLModel",
       "_view_count": null,
       "_view_module": "@jupyter-widgets/controls",
       "_view_module_version": "1.5.0",
       "_view_name": "HTMLView",
       "description": "",
       "description_tooltip": null,
       "layout": "IPY_MODEL_0da2815573d14fdcb0e4ef794b7ece7a",
       "placeholder": "​",
       "style": "IPY_MODEL_e61f2d960e3846cf953838665e371d61",
       "value": " 213k/213k [00:00&lt;00:00, 280kB/s]"
      }
     },
     "e61f2d960e3846cf953838665e371d61": {
      "model_module": "@jupyter-widgets/controls",
      "model_module_version": "1.5.0",
      "model_name": "DescriptionStyleModel",
      "state": {
       "_model_module": "@jupyter-widgets/controls",
       "_model_module_version": "1.5.0",
       "_model_name": "DescriptionStyleModel",
       "_view_count": null,
       "_view_module": "@jupyter-widgets/base",
       "_view_module_version": "1.2.0",
       "_view_name": "StyleView",
       "description_width": ""
      }
     },
     "f302f303c66d4bbbb8d29e57553eee2a": {
      "model_module": "@jupyter-widgets/controls",
      "model_module_version": "1.5.0",
      "model_name": "ProgressStyleModel",
      "state": {
       "_model_module": "@jupyter-widgets/controls",
       "_model_module_version": "1.5.0",
       "_model_name": "ProgressStyleModel",
       "_view_count": null,
       "_view_module": "@jupyter-widgets/base",
       "_view_module_version": "1.2.0",
       "_view_name": "StyleView",
       "bar_color": null,
       "description_width": "initial"
      }
     },
     "f322d2f920eb43b9bc473587ebd73f61": {
      "model_module": "@jupyter-widgets/controls",
      "model_module_version": "1.5.0",
      "model_name": "FloatProgressModel",
      "state": {
       "_dom_classes": [],
       "_model_module": "@jupyter-widgets/controls",
       "_model_module_version": "1.5.0",
       "_model_name": "FloatProgressModel",
       "_view_count": null,
       "_view_module": "@jupyter-widgets/controls",
       "_view_module_version": "1.5.0",
       "_view_name": "ProgressView",
       "bar_style": "success",
       "description": "Downloading: 100%",
       "description_tooltip": null,
       "layout": "IPY_MODEL_ff8c696e402042d99b207824d3798cd1",
       "max": 213450,
       "min": 0,
       "orientation": "horizontal",
       "style": "IPY_MODEL_ab06fa25f35244388921f988966776f2",
       "value": 213450
      }
     },
     "ff8c696e402042d99b207824d3798cd1": {
      "model_module": "@jupyter-widgets/base",
      "model_module_version": "1.2.0",
      "model_name": "LayoutModel",
      "state": {
       "_model_module": "@jupyter-widgets/base",
       "_model_module_version": "1.2.0",
       "_model_name": "LayoutModel",
       "_view_count": null,
       "_view_module": "@jupyter-widgets/base",
       "_view_module_version": "1.2.0",
       "_view_name": "LayoutView",
       "align_content": null,
       "align_items": null,
       "align_self": null,
       "border": null,
       "bottom": null,
       "display": null,
       "flex": null,
       "flex_flow": null,
       "grid_area": null,
       "grid_auto_columns": null,
       "grid_auto_flow": null,
       "grid_auto_rows": null,
       "grid_column": null,
       "grid_gap": null,
       "grid_row": null,
       "grid_template_areas": null,
       "grid_template_columns": null,
       "grid_template_rows": null,
       "height": null,
       "justify_content": null,
       "justify_items": null,
       "left": null,
       "margin": null,
       "max_height": null,
       "max_width": null,
       "min_height": null,
       "min_width": null,
       "object_fit": null,
       "object_position": null,
       "order": null,
       "overflow": null,
       "overflow_x": null,
       "overflow_y": null,
       "padding": null,
       "right": null,
       "top": null,
       "visibility": null,
       "width": null
      }
     }
    },
    "version_major": 2,
    "version_minor": 0
   }
  }
 },
 "nbformat": 4,
 "nbformat_minor": 4
}
