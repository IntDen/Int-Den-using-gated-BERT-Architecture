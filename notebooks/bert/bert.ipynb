{
 "cells": [
  {
   "cell_type": "markdown",
   "metadata": {
    "papermill": {
     "duration": 0.047667,
     "end_time": "2021-02-01T10:56:38.155837",
     "exception": false,
     "start_time": "2021-02-01T10:56:38.108170",
     "status": "completed"
    },
    "tags": []
   },
   "source": [
    "### References\n",
    "\n",
    "* https://github.com/huggingface/transformers/blob/master/src/transformers/models/encoder_decoder/modeling_encoder_decoder.py\n",
    "\n",
    "* https://github.com/huggingface/transformers/blob/c4d4e8bdbd25d9463d41de6398940329c89b7fb6/src/transformers/generation_utils.py#L101\n",
    "\n",
    "* https://github.com/hiyoung123/SoftMaskedBert/blob/master/train.py\n",
    "\n",
    "* https://github.com/atulkum/pointer_summarizer/blob/master/training_ptr_gen/model.py\n",
    "\n",
    "* https://github.com/nyu-dl/bert-gen/blob/master/bert-babble.ipynb\n"
   ]
  },
  {
   "cell_type": "code",
   "execution_count": 1,
   "metadata": {
    "execution": {
     "iopub.execute_input": "2021-02-01T10:56:38.239720Z",
     "iopub.status.busy": "2021-02-01T10:56:38.228713Z",
     "iopub.status.idle": "2021-02-01T10:56:54.076227Z",
     "shell.execute_reply": "2021-02-01T10:56:54.074690Z"
    },
    "papermill": {
     "duration": 15.884103,
     "end_time": "2021-02-01T10:56:54.076442",
     "exception": false,
     "start_time": "2021-02-01T10:56:38.192339",
     "status": "completed"
    },
    "tags": []
   },
   "outputs": [
    {
     "name": "stdout",
     "output_type": "stream",
     "text": [
      "Requirement already satisfied: transformers==4.0.1 in /opt/conda/lib/python3.7/site-packages (4.0.1)\r\n",
      "Requirement already satisfied: requests in /opt/conda/lib/python3.7/site-packages (from transformers==4.0.1) (2.25.1)\r\n",
      "Requirement already satisfied: regex!=2019.12.17 in /opt/conda/lib/python3.7/site-packages (from transformers==4.0.1) (2020.11.13)\r\n",
      "Requirement already satisfied: tqdm>=4.27 in /opt/conda/lib/python3.7/site-packages (from transformers==4.0.1) (4.55.1)\r\n",
      "Requirement already satisfied: numpy in /opt/conda/lib/python3.7/site-packages (from transformers==4.0.1) (1.19.5)\r\n",
      "Requirement already satisfied: packaging in /opt/conda/lib/python3.7/site-packages (from transformers==4.0.1) (20.8)\r\n",
      "Requirement already satisfied: sacremoses in /opt/conda/lib/python3.7/site-packages (from transformers==4.0.1) (0.0.43)\r\n",
      "Requirement already satisfied: filelock in /opt/conda/lib/python3.7/site-packages (from transformers==4.0.1) (3.0.12)\r\n",
      "Requirement already satisfied: tokenizers==0.9.4 in /opt/conda/lib/python3.7/site-packages (from transformers==4.0.1) (0.9.4)\r\n",
      "Requirement already satisfied: pyparsing>=2.0.2 in /opt/conda/lib/python3.7/site-packages (from packaging->transformers==4.0.1) (2.4.7)\r\n",
      "Requirement already satisfied: chardet<5,>=3.0.2 in /opt/conda/lib/python3.7/site-packages (from requests->transformers==4.0.1) (3.0.4)\r\n",
      "Requirement already satisfied: certifi>=2017.4.17 in /opt/conda/lib/python3.7/site-packages (from requests->transformers==4.0.1) (2020.12.5)\r\n",
      "Requirement already satisfied: idna<3,>=2.5 in /opt/conda/lib/python3.7/site-packages (from requests->transformers==4.0.1) (2.10)\r\n",
      "Requirement already satisfied: urllib3<1.27,>=1.21.1 in /opt/conda/lib/python3.7/site-packages (from requests->transformers==4.0.1) (1.26.2)\r\n",
      "Requirement already satisfied: click in /opt/conda/lib/python3.7/site-packages (from sacremoses->transformers==4.0.1) (7.1.2)\r\n",
      "Requirement already satisfied: six in /opt/conda/lib/python3.7/site-packages (from sacremoses->transformers==4.0.1) (1.15.0)\r\n",
      "Requirement already satisfied: joblib in /opt/conda/lib/python3.7/site-packages (from sacremoses->transformers==4.0.1) (1.0.0)\r\n",
      "\u001b[33mWARNING: You are using pip version 21.0; however, version 21.0.1 is available.\r\n",
      "You should consider upgrading via the '/opt/conda/bin/python3.7 -m pip install --upgrade pip' command.\u001b[0m\r\n",
      "Collecting nlpaug\r\n",
      "  Downloading nlpaug-1.1.2-py3-none-any.whl (387 kB)\r\n",
      "\u001b[K     |████████████████████████████████| 387 kB 3.0 MB/s \r\n",
      "\u001b[?25hInstalling collected packages: nlpaug\r\n",
      "Successfully installed nlpaug-1.1.2\r\n",
      "\u001b[33mWARNING: You are using pip version 21.0; however, version 21.0.1 is available.\r\n",
      "You should consider upgrading via the '/opt/conda/bin/python3.7 -m pip install --upgrade pip' command.\u001b[0m\r\n"
     ]
    }
   ],
   "source": [
    "!pip install transformers==4.0.1\n",
    "!pip install nlpaug"
   ]
  },
  {
   "cell_type": "code",
   "execution_count": 2,
   "metadata": {
    "execution": {
     "iopub.execute_input": "2021-02-01T10:56:54.156712Z",
     "iopub.status.busy": "2021-02-01T10:56:54.155354Z",
     "iopub.status.idle": "2021-02-01T10:57:06.580541Z",
     "shell.execute_reply": "2021-02-01T10:57:06.579910Z"
    },
    "papermill": {
     "duration": 12.467303,
     "end_time": "2021-02-01T10:57:06.580688",
     "exception": false,
     "start_time": "2021-02-01T10:56:54.113385",
     "status": "completed"
    },
    "tags": []
   },
   "outputs": [],
   "source": [
    "import time\n",
    "import datetime\n",
    "\n",
    "import re\n",
    "import pandas as pd\n",
    "import numpy as np\n",
    "from sklearn.model_selection import KFold\n",
    "\n",
    "from tqdm import tqdm\n",
    "import time\n",
    "import random\n",
    "\n",
    "import nlpaug.augmenter.char as nac\n",
    "\n",
    "import torch\n",
    "import torch.nn as nn\n",
    "import torch.nn.functional as F\n",
    "from transformers import AutoModel, AutoTokenizer, AutoModelForCausalLM, AutoModelForSeq2SeqLM, \\\n",
    "                         AutoConfig, EncoderDecoderModel\n",
    "\n",
    "from typing import Optional\n",
    "\n",
    "from transformers import AdamW, get_linear_schedule_with_warmup\n",
    "\n",
    "from transformers.configuration_utils import PretrainedConfig\n",
    "from transformers.file_utils import add_start_docstrings, add_start_docstrings_to_model_forward, replace_return_docstrings\n",
    "from transformers.modeling_outputs import Seq2SeqLMOutput\n",
    "from transformers.modeling_utils import PreTrainedModel\n",
    "from transformers.utils import logging\n",
    "from transformers.models.encoder_decoder.configuration_encoder_decoder import EncoderDecoderConfig\n",
    "from transformers.models.auto.modeling_auto import AutoModel, AutoModelForCausalLM, AutoConfig"
   ]
  },
  {
   "cell_type": "code",
   "execution_count": 3,
   "metadata": {
    "execution": {
     "iopub.execute_input": "2021-02-01T10:57:06.662984Z",
     "iopub.status.busy": "2021-02-01T10:57:06.661220Z",
     "iopub.status.idle": "2021-02-01T10:57:06.665083Z",
     "shell.execute_reply": "2021-02-01T10:57:06.665560Z"
    },
    "papermill": {
     "duration": 0.047779,
     "end_time": "2021-02-01T10:57:06.665719",
     "exception": false,
     "start_time": "2021-02-01T10:57:06.617940",
     "status": "completed"
    },
    "tags": []
   },
   "outputs": [],
   "source": [
    "seed_val = 66\n",
    "MIN_LEN = 20\n",
    "MAX_LEN = 100\n",
    "batch_size = 12\n",
    "EPOCHS = 30\n",
    "early_stopping_rounds = 5\n",
    "lr = 5e-5\n",
    "\n",
    "encoder_path = 'bert-base-uncased'\n",
    "decoder_path = 'claudelkros/bert-base-french' #'bert-base-german-cased'\n",
    "\n",
    "teacher_forcing=True\n",
    "\n",
    "aug = nac.OcrAug()"
   ]
  },
  {
   "cell_type": "code",
   "execution_count": 4,
   "metadata": {
    "execution": {
     "iopub.execute_input": "2021-02-01T10:57:06.742873Z",
     "iopub.status.busy": "2021-02-01T10:57:06.741980Z",
     "iopub.status.idle": "2021-02-01T10:57:06.746344Z",
     "shell.execute_reply": "2021-02-01T10:57:06.745850Z"
    },
    "papermill": {
     "duration": 0.045585,
     "end_time": "2021-02-01T10:57:06.746485",
     "exception": false,
     "start_time": "2021-02-01T10:57:06.700900",
     "status": "completed"
    },
    "tags": []
   },
   "outputs": [],
   "source": [
    "def format_time(elapsed):\n",
    "    '''\n",
    "    Takes a time in seconds and returns a string hh:mm:ss\n",
    "    '''\n",
    "    # Round to the nearest second.\n",
    "    elapsed_rounded = int(round((elapsed)))\n",
    "    \n",
    "    # Format as hh:mm:ss\n",
    "    return str(datetime.timedelta(seconds=elapsed_rounded))"
   ]
  },
  {
   "cell_type": "code",
   "execution_count": 5,
   "metadata": {
    "execution": {
     "iopub.execute_input": "2021-02-01T10:57:06.823120Z",
     "iopub.status.busy": "2021-02-01T10:57:06.822344Z",
     "iopub.status.idle": "2021-02-01T10:57:06.826591Z",
     "shell.execute_reply": "2021-02-01T10:57:06.825918Z"
    },
    "papermill": {
     "duration": 0.043797,
     "end_time": "2021-02-01T10:57:06.826731",
     "exception": false,
     "start_time": "2021-02-01T10:57:06.782934",
     "status": "completed"
    },
    "tags": []
   },
   "outputs": [],
   "source": [
    "torch.cuda.empty_cache()"
   ]
  },
  {
   "cell_type": "code",
   "execution_count": 6,
   "metadata": {
    "execution": {
     "iopub.execute_input": "2021-02-01T10:57:06.900764Z",
     "iopub.status.busy": "2021-02-01T10:57:06.899183Z",
     "iopub.status.idle": "2021-02-01T10:57:06.901480Z",
     "shell.execute_reply": "2021-02-01T10:57:06.901951Z"
    },
    "papermill": {
     "duration": 0.040765,
     "end_time": "2021-02-01T10:57:06.902110",
     "exception": false,
     "start_time": "2021-02-01T10:57:06.861345",
     "status": "completed"
    },
    "tags": []
   },
   "outputs": [],
   "source": [
    "# !cat ../input/denoising/NMT-data/commoncrawl.fr-en.en | wc -l\n",
    "# !cat ../input/denoising/NMT-data/commoncrawl.fr-en.fr | wc -l\n"
   ]
  },
  {
   "cell_type": "code",
   "execution_count": 7,
   "metadata": {
    "execution": {
     "iopub.execute_input": "2021-02-01T10:57:06.975590Z",
     "iopub.status.busy": "2021-02-01T10:57:06.974989Z",
     "iopub.status.idle": "2021-02-01T10:57:07.270922Z",
     "shell.execute_reply": "2021-02-01T10:57:07.270376Z"
    },
    "papermill": {
     "duration": 0.334638,
     "end_time": "2021-02-01T10:57:07.271089",
     "exception": false,
     "start_time": "2021-02-01T10:57:06.936451",
     "status": "completed"
    },
    "tags": []
   },
   "outputs": [
    {
     "name": "stdout",
     "output_type": "stream",
     "text": [
      "/kaggle/input/nmt-eng-french/NMT_denoisedData.csv\n"
     ]
    }
   ],
   "source": [
    "import pandas as pd\n",
    "import os\n",
    "for dirname, _, filenames in os.walk('/kaggle/input'):\n",
    "    for filename in filenames:\n",
    "        print(os.path.join(dirname, filename))\n",
    "        nmt_data =  pd.read_csv(os.path.join(dirname, filename))"
   ]
  },
  {
   "cell_type": "code",
   "execution_count": 8,
   "metadata": {
    "execution": {
     "iopub.execute_input": "2021-02-01T10:57:07.367729Z",
     "iopub.status.busy": "2021-02-01T10:57:07.365163Z",
     "iopub.status.idle": "2021-02-01T10:57:07.370130Z",
     "shell.execute_reply": "2021-02-01T10:57:07.369579Z"
    },
    "papermill": {
     "duration": 0.046405,
     "end_time": "2021-02-01T10:57:07.370291",
     "exception": false,
     "start_time": "2021-02-01T10:57:07.323886",
     "status": "completed"
    },
    "tags": []
   },
   "outputs": [
    {
     "name": "stdout",
     "output_type": "stream",
     "text": [
      "Index(['Unnamed: 0', 'original', 'solution', 'char_augumented',\n",
      "       'keyborad_augumented', 'random_augumented', 'substitute_augumented',\n",
      "       'swap_augumented', 'delete_augumented', 'spell_augumented'],\n",
      "      dtype='object')\n",
      "(10000, 10) \n",
      "\n"
     ]
    }
   ],
   "source": [
    "print(nmt_data.columns)\n",
    "print(nmt_data.shape,'\\n')"
   ]
  },
  {
   "cell_type": "code",
   "execution_count": 9,
   "metadata": {
    "execution": {
     "iopub.execute_input": "2021-02-01T10:57:07.456149Z",
     "iopub.status.busy": "2021-02-01T10:57:07.455454Z",
     "iopub.status.idle": "2021-02-01T10:57:07.458906Z",
     "shell.execute_reply": "2021-02-01T10:57:07.458407Z"
    },
    "papermill": {
     "duration": 0.051458,
     "end_time": "2021-02-01T10:57:07.459043",
     "exception": false,
     "start_time": "2021-02-01T10:57:07.407585",
     "status": "completed"
    },
    "tags": []
   },
   "outputs": [],
   "source": [
    "train  = nmt_data[['delete_augumented','solution']]"
   ]
  },
  {
   "cell_type": "code",
   "execution_count": 10,
   "metadata": {
    "execution": {
     "iopub.execute_input": "2021-02-01T10:57:07.536997Z",
     "iopub.status.busy": "2021-02-01T10:57:07.536435Z",
     "iopub.status.idle": "2021-02-01T10:57:07.542157Z",
     "shell.execute_reply": "2021-02-01T10:57:07.542578Z"
    },
    "papermill": {
     "duration": 0.048151,
     "end_time": "2021-02-01T10:57:07.542722",
     "exception": false,
     "start_time": "2021-02-01T10:57:07.494571",
     "status": "completed"
    },
    "tags": []
   },
   "outputs": [
    {
     "data": {
      "text/plain": [
       "Index(['delete_augumented', 'solution'], dtype='object')"
      ]
     },
     "execution_count": 10,
     "metadata": {},
     "output_type": "execute_result"
    }
   ],
   "source": [
    "train.columns"
   ]
  },
  {
   "cell_type": "code",
   "execution_count": 11,
   "metadata": {
    "execution": {
     "iopub.execute_input": "2021-02-01T10:57:07.626432Z",
     "iopub.status.busy": "2021-02-01T10:57:07.625716Z",
     "iopub.status.idle": "2021-02-01T10:57:07.634344Z",
     "shell.execute_reply": "2021-02-01T10:57:07.634817Z"
    },
    "papermill": {
     "duration": 0.056117,
     "end_time": "2021-02-01T10:57:07.634956",
     "exception": false,
     "start_time": "2021-02-01T10:57:07.578839",
     "status": "completed"
    },
    "tags": []
   },
   "outputs": [
    {
     "data": {
      "text/html": [
       "<div>\n",
       "<style scoped>\n",
       "    .dataframe tbody tr th:only-of-type {\n",
       "        vertical-align: middle;\n",
       "    }\n",
       "\n",
       "    .dataframe tbody tr th {\n",
       "        vertical-align: top;\n",
       "    }\n",
       "\n",
       "    .dataframe thead th {\n",
       "        text-align: right;\n",
       "    }\n",
       "</style>\n",
       "<table border=\"1\" class=\"dataframe\">\n",
       "  <thead>\n",
       "    <tr style=\"text-align: right;\">\n",
       "      <th></th>\n",
       "      <th>delete_augumented</th>\n",
       "      <th>solution</th>\n",
       "    </tr>\n",
       "  </thead>\n",
       "  <tbody>\n",
       "    <tr>\n",
       "      <th>0</th>\n",
       "      <td>* - Main gods are maked with red colr.</td>\n",
       "      <td>* - les marchandises principales sont souligne...</td>\n",
       "    </tr>\n",
       "    <tr>\n",
       "      <th>1</th>\n",
       "      <td>* - Man srviss are marked ith red color.</td>\n",
       "      <td>* - les services principales sont soulignes pa...</td>\n",
       "    </tr>\n",
       "    <tr>\n",
       "      <th>2</th>\n",
       "      <td>ervies of laguae translation of the. ..</td>\n",
       "      <td>Services de traduction de la documentation...\\n</td>\n",
       "    </tr>\n",
       "    <tr>\n",
       "      <th>3</th>\n",
       "      <td>An announmet must be commercial charter.</td>\n",
       "      <td>Les messages doivent porter le caractère d’aff...</td>\n",
       "    </tr>\n",
       "    <tr>\n",
       "      <th>4</th>\n",
       "      <td>Good and serics avanceme throg the P. O. Box s...</td>\n",
       "      <td>L’avance de ses marchandises et de ses service...</td>\n",
       "    </tr>\n",
       "    <tr>\n",
       "      <th>...</th>\n",
       "      <td>...</td>\n",
       "      <td>...</td>\n",
       "    </tr>\n",
       "    <tr>\n",
       "      <th>9994</th>\n",
       "      <td>2: Mari (5 Ich ), why not let other kno?</td>\n",
       "      <td>2: Mario (5 Inch)? Dites ce que vous en pensez!\\n</td>\n",
       "    </tr>\n",
       "    <tr>\n",
       "      <th>9995</th>\n",
       "      <td>Write a rview for New Super Mari Bros.</td>\n",
       "      <td>Faites part de votre opinion concernant New Su...</td>\n",
       "    </tr>\n",
       "    <tr>\n",
       "      <th>9996</th>\n",
       "      <td>the price for New Supe Mario Bos.</td>\n",
       "      <td>Le prix de New Super Mario Bros.\\n</td>\n",
       "    </tr>\n",
       "    <tr>\n",
       "      <th>9997</th>\n",
       "      <td>there are new imaes or links availab for New S...</td>\n",
       "      <td>De nouvelles images ou de nouveaux liens seron...</td>\n",
       "    </tr>\n",
       "    <tr>\n",
       "      <th>9998</th>\n",
       "      <td>products are adde in Tys - Plush Dolls.</td>\n",
       "      <td>Un nouvel article sera disponible dans Toys - ...</td>\n",
       "    </tr>\n",
       "  </tbody>\n",
       "</table>\n",
       "<p>9999 rows × 2 columns</p>\n",
       "</div>"
      ],
      "text/plain": [
       "                                      delete_augumented  \\\n",
       "0                * - Main gods are maked with red colr.   \n",
       "1              * - Man srviss are marked ith red color.   \n",
       "2               ervies of laguae translation of the. ..   \n",
       "3              An announmet must be commercial charter.   \n",
       "4     Good and serics avanceme throg the P. O. Box s...   \n",
       "...                                                 ...   \n",
       "9994           2: Mari (5 Ich ), why not let other kno?   \n",
       "9995             Write a rview for New Super Mari Bros.   \n",
       "9996                  the price for New Supe Mario Bos.   \n",
       "9997  there are new imaes or links availab for New S...   \n",
       "9998            products are adde in Tys - Plush Dolls.   \n",
       "\n",
       "                                               solution  \n",
       "0     * - les marchandises principales sont souligne...  \n",
       "1     * - les services principales sont soulignes pa...  \n",
       "2       Services de traduction de la documentation...\\n  \n",
       "3     Les messages doivent porter le caractère d’aff...  \n",
       "4     L’avance de ses marchandises et de ses service...  \n",
       "...                                                 ...  \n",
       "9994  2: Mario (5 Inch)? Dites ce que vous en pensez!\\n  \n",
       "9995  Faites part de votre opinion concernant New Su...  \n",
       "9996                 Le prix de New Super Mario Bros.\\n  \n",
       "9997  De nouvelles images ou de nouveaux liens seron...  \n",
       "9998  Un nouvel article sera disponible dans Toys - ...  \n",
       "\n",
       "[9999 rows x 2 columns]"
      ]
     },
     "execution_count": 11,
     "metadata": {},
     "output_type": "execute_result"
    }
   ],
   "source": [
    "train.head(-1)"
   ]
  },
  {
   "cell_type": "code",
   "execution_count": 12,
   "metadata": {
    "execution": {
     "iopub.execute_input": "2021-02-01T10:57:07.716804Z",
     "iopub.status.busy": "2021-02-01T10:57:07.715043Z",
     "iopub.status.idle": "2021-02-01T10:57:07.717461Z",
     "shell.execute_reply": "2021-02-01T10:57:07.717903Z"
    },
    "papermill": {
     "duration": 0.045612,
     "end_time": "2021-02-01T10:57:07.718066",
     "exception": false,
     "start_time": "2021-02-01T10:57:07.672454",
     "status": "completed"
    },
    "tags": []
   },
   "outputs": [],
   "source": [
    "train = train.rename(columns={\"solution\": \"solution\", \"delete_augumented\": \"original\"}, errors=\"raise\")"
   ]
  },
  {
   "cell_type": "code",
   "execution_count": 13,
   "metadata": {
    "execution": {
     "iopub.execute_input": "2021-02-01T10:57:07.798454Z",
     "iopub.status.busy": "2021-02-01T10:57:07.797606Z",
     "iopub.status.idle": "2021-02-01T10:57:07.801566Z",
     "shell.execute_reply": "2021-02-01T10:57:07.801065Z"
    },
    "papermill": {
     "duration": 0.045886,
     "end_time": "2021-02-01T10:57:07.801684",
     "exception": false,
     "start_time": "2021-02-01T10:57:07.755798",
     "status": "completed"
    },
    "tags": []
   },
   "outputs": [
    {
     "data": {
      "text/plain": [
       "Index(['original', 'solution'], dtype='object')"
      ]
     },
     "execution_count": 13,
     "metadata": {},
     "output_type": "execute_result"
    }
   ],
   "source": [
    "train.columns"
   ]
  },
  {
   "cell_type": "code",
   "execution_count": 14,
   "metadata": {
    "execution": {
     "iopub.execute_input": "2021-02-01T10:57:07.885040Z",
     "iopub.status.busy": "2021-02-01T10:57:07.884172Z",
     "iopub.status.idle": "2021-02-01T10:57:07.887333Z",
     "shell.execute_reply": "2021-02-01T10:57:07.886809Z"
    },
    "papermill": {
     "duration": 0.046763,
     "end_time": "2021-02-01T10:57:07.887485",
     "exception": false,
     "start_time": "2021-02-01T10:57:07.840722",
     "status": "completed"
    },
    "tags": []
   },
   "outputs": [],
   "source": [
    "# train_input = open('../input/denoising/NMT-data/commoncrawl.fr-en.en', 'r').readlines()\n",
    "# train_output = open('../input/denoising/NMT-data/commoncrawl.fr-en.fr', 'r').readlines()\n",
    "# train = pd.DataFrame()\n",
    "# train['original'] = train_input\n",
    "# train['solution'] = train_output\n",
    "# train = train.iloc[:10000]\n",
    "# train.original = train.original.apply(lambda x: aug.augment(x, n=1))"
   ]
  },
  {
   "cell_type": "code",
   "execution_count": 15,
   "metadata": {
    "execution": {
     "iopub.execute_input": "2021-02-01T10:57:07.972337Z",
     "iopub.status.busy": "2021-02-01T10:57:07.971500Z",
     "iopub.status.idle": "2021-02-01T10:57:07.974621Z",
     "shell.execute_reply": "2021-02-01T10:57:07.973982Z"
    },
    "papermill": {
     "duration": 0.046566,
     "end_time": "2021-02-01T10:57:07.974744",
     "exception": false,
     "start_time": "2021-02-01T10:57:07.928178",
     "status": "completed"
    },
    "tags": []
   },
   "outputs": [],
   "source": [
    "#train = pd.read_csv('../input/denoising/en_de.csv',sep='\\t')"
   ]
  },
  {
   "cell_type": "code",
   "execution_count": 16,
   "metadata": {
    "execution": {
     "iopub.execute_input": "2021-02-01T10:57:08.062386Z",
     "iopub.status.busy": "2021-02-01T10:57:08.061402Z",
     "iopub.status.idle": "2021-02-01T10:57:08.065046Z",
     "shell.execute_reply": "2021-02-01T10:57:08.065478Z"
    },
    "papermill": {
     "duration": 0.051265,
     "end_time": "2021-02-01T10:57:08.065634",
     "exception": false,
     "start_time": "2021-02-01T10:57:08.014369",
     "status": "completed"
    },
    "tags": []
   },
   "outputs": [
    {
     "data": {
      "text/html": [
       "<div>\n",
       "<style scoped>\n",
       "    .dataframe tbody tr th:only-of-type {\n",
       "        vertical-align: middle;\n",
       "    }\n",
       "\n",
       "    .dataframe tbody tr th {\n",
       "        vertical-align: top;\n",
       "    }\n",
       "\n",
       "    .dataframe thead th {\n",
       "        text-align: right;\n",
       "    }\n",
       "</style>\n",
       "<table border=\"1\" class=\"dataframe\">\n",
       "  <thead>\n",
       "    <tr style=\"text-align: right;\">\n",
       "      <th></th>\n",
       "      <th>original</th>\n",
       "      <th>solution</th>\n",
       "    </tr>\n",
       "  </thead>\n",
       "  <tbody>\n",
       "    <tr>\n",
       "      <th>0</th>\n",
       "      <td>* - Main gods are maked with red colr.</td>\n",
       "      <td>* - les marchandises principales sont souligne...</td>\n",
       "    </tr>\n",
       "    <tr>\n",
       "      <th>1</th>\n",
       "      <td>* - Man srviss are marked ith red color.</td>\n",
       "      <td>* - les services principales sont soulignes pa...</td>\n",
       "    </tr>\n",
       "    <tr>\n",
       "      <th>2</th>\n",
       "      <td>ervies of laguae translation of the. ..</td>\n",
       "      <td>Services de traduction de la documentation...\\n</td>\n",
       "    </tr>\n",
       "    <tr>\n",
       "      <th>3</th>\n",
       "      <td>An announmet must be commercial charter.</td>\n",
       "      <td>Les messages doivent porter le caractère d’aff...</td>\n",
       "    </tr>\n",
       "    <tr>\n",
       "      <th>4</th>\n",
       "      <td>Good and serics avanceme throg the P. O. Box s...</td>\n",
       "      <td>L’avance de ses marchandises et de ses service...</td>\n",
       "    </tr>\n",
       "  </tbody>\n",
       "</table>\n",
       "</div>"
      ],
      "text/plain": [
       "                                            original  \\\n",
       "0             * - Main gods are maked with red colr.   \n",
       "1           * - Man srviss are marked ith red color.   \n",
       "2            ervies of laguae translation of the. ..   \n",
       "3           An announmet must be commercial charter.   \n",
       "4  Good and serics avanceme throg the P. O. Box s...   \n",
       "\n",
       "                                            solution  \n",
       "0  * - les marchandises principales sont souligne...  \n",
       "1  * - les services principales sont soulignes pa...  \n",
       "2    Services de traduction de la documentation...\\n  \n",
       "3  Les messages doivent porter le caractère d’aff...  \n",
       "4  L’avance de ses marchandises et de ses service...  "
      ]
     },
     "execution_count": 16,
     "metadata": {},
     "output_type": "execute_result"
    }
   ],
   "source": [
    "train.head()"
   ]
  },
  {
   "cell_type": "code",
   "execution_count": 17,
   "metadata": {
    "execution": {
     "iopub.execute_input": "2021-02-01T10:57:08.147770Z",
     "iopub.status.busy": "2021-02-01T10:57:08.146902Z",
     "iopub.status.idle": "2021-02-01T10:57:10.804939Z",
     "shell.execute_reply": "2021-02-01T10:57:10.804421Z"
    },
    "papermill": {
     "duration": 2.70103,
     "end_time": "2021-02-01T10:57:10.805110",
     "exception": false,
     "start_time": "2021-02-01T10:57:08.104080",
     "status": "completed"
    },
    "tags": []
   },
   "outputs": [
    {
     "data": {
      "application/vnd.jupyter.widget-view+json": {
       "model_id": "b4fea5b63f1f4659903a4fb07a34fead",
       "version_major": 2,
       "version_minor": 0
      },
      "text/plain": [
       "Downloading:   0%|          | 0.00/433 [00:00<?, ?B/s]"
      ]
     },
     "metadata": {},
     "output_type": "display_data"
    },
    {
     "data": {
      "application/vnd.jupyter.widget-view+json": {
       "model_id": "26559724f9b3452bacdfc06163fe938a",
       "version_major": 2,
       "version_minor": 0
      },
      "text/plain": [
       "Downloading:   0%|          | 0.00/232k [00:00<?, ?B/s]"
      ]
     },
     "metadata": {},
     "output_type": "display_data"
    },
    {
     "data": {
      "application/vnd.jupyter.widget-view+json": {
       "model_id": "4789b97fd1c84c208cca1056ee3267ca",
       "version_major": 2,
       "version_minor": 0
      },
      "text/plain": [
       "Downloading:   0%|          | 0.00/466k [00:00<?, ?B/s]"
      ]
     },
     "metadata": {},
     "output_type": "display_data"
    },
    {
     "data": {
      "application/vnd.jupyter.widget-view+json": {
       "model_id": "cf39d1611bd34cf3aea1d815ac90d212",
       "version_major": 2,
       "version_minor": 0
      },
      "text/plain": [
       "Downloading:   0%|          | 0.00/313 [00:00<?, ?B/s]"
      ]
     },
     "metadata": {},
     "output_type": "display_data"
    },
    {
     "data": {
      "application/vnd.jupyter.widget-view+json": {
       "model_id": "88d6000486fe47c6b5e6a81928062ca2",
       "version_major": 2,
       "version_minor": 0
      },
      "text/plain": [
       "Downloading:   0%|          | 0.00/232k [00:00<?, ?B/s]"
      ]
     },
     "metadata": {},
     "output_type": "display_data"
    }
   ],
   "source": [
    "encoder_tokenizer = AutoTokenizer.from_pretrained(encoder_path)\n",
    "decoder_tokenizer = AutoTokenizer.from_pretrained(decoder_path)"
   ]
  },
  {
   "cell_type": "code",
   "execution_count": 18,
   "metadata": {
    "execution": {
     "iopub.execute_input": "2021-02-01T10:57:10.895761Z",
     "iopub.status.busy": "2021-02-01T10:57:10.895129Z",
     "iopub.status.idle": "2021-02-01T10:57:12.658807Z",
     "shell.execute_reply": "2021-02-01T10:57:12.657603Z"
    },
    "papermill": {
     "duration": 1.812145,
     "end_time": "2021-02-01T10:57:12.658969",
     "exception": false,
     "start_time": "2021-02-01T10:57:10.846824",
     "status": "completed"
    },
    "tags": []
   },
   "outputs": [
    {
     "name": "stderr",
     "output_type": "stream",
     "text": [
      "Truncation was not explicitly activated but `max_length` is provided a specific value, please use `truncation=True` to explicitly truncate examples to max length. Defaulting to 'longest_first' truncation strategy. If you encode pairs of sequences (GLUE-style) with the tokenizer you can select this strategy more precisely by providing a specific strategy to `truncation`.\n"
     ]
    }
   ],
   "source": [
    "train['text_len'] = train.original.apply(lambda x: len(encoder_tokenizer.encode(x, max_length=512, add_special_tokens=True)))"
   ]
  },
  {
   "cell_type": "code",
   "execution_count": 19,
   "metadata": {
    "execution": {
     "iopub.execute_input": "2021-02-01T10:57:12.747485Z",
     "iopub.status.busy": "2021-02-01T10:57:12.746755Z",
     "iopub.status.idle": "2021-02-01T10:57:12.756090Z",
     "shell.execute_reply": "2021-02-01T10:57:12.755613Z"
    },
    "papermill": {
     "duration": 0.055906,
     "end_time": "2021-02-01T10:57:12.756224",
     "exception": false,
     "start_time": "2021-02-01T10:57:12.700318",
     "status": "completed"
    },
    "tags": []
   },
   "outputs": [
    {
     "data": {
      "text/plain": [
       "count    10000.000000\n",
       "mean        35.847400\n",
       "std         18.567951\n",
       "min          8.000000\n",
       "25%         22.000000\n",
       "50%         32.000000\n",
       "75%         46.000000\n",
       "max        215.000000\n",
       "Name: text_len, dtype: float64"
      ]
     },
     "execution_count": 19,
     "metadata": {},
     "output_type": "execute_result"
    }
   ],
   "source": [
    "train.text_len.describe()"
   ]
  },
  {
   "cell_type": "code",
   "execution_count": 20,
   "metadata": {
    "execution": {
     "iopub.execute_input": "2021-02-01T10:57:12.843216Z",
     "iopub.status.busy": "2021-02-01T10:57:12.842483Z",
     "iopub.status.idle": "2021-02-01T10:57:12.845912Z",
     "shell.execute_reply": "2021-02-01T10:57:12.845411Z"
    },
    "papermill": {
     "duration": 0.048379,
     "end_time": "2021-02-01T10:57:12.846043",
     "exception": false,
     "start_time": "2021-02-01T10:57:12.797664",
     "status": "completed"
    },
    "tags": []
   },
   "outputs": [],
   "source": [
    "kf = KFold(n_splits=5)\n",
    "\n",
    "for train_index, val_index in kf.split(train):\n",
    "    break"
   ]
  },
  {
   "cell_type": "code",
   "execution_count": 21,
   "metadata": {
    "execution": {
     "iopub.execute_input": "2021-02-01T10:57:12.938257Z",
     "iopub.status.busy": "2021-02-01T10:57:12.937379Z",
     "iopub.status.idle": "2021-02-01T10:57:12.942222Z",
     "shell.execute_reply": "2021-02-01T10:57:12.941536Z"
    },
    "papermill": {
     "duration": 0.05245,
     "end_time": "2021-02-01T10:57:12.942375",
     "exception": false,
     "start_time": "2021-02-01T10:57:12.889925",
     "status": "completed"
    },
    "tags": []
   },
   "outputs": [],
   "source": [
    "val = train.iloc[val_index]\n",
    "train = train.iloc[train_index]"
   ]
  },
  {
   "cell_type": "code",
   "execution_count": 22,
   "metadata": {
    "execution": {
     "iopub.execute_input": "2021-02-01T10:57:13.040144Z",
     "iopub.status.busy": "2021-02-01T10:57:13.039331Z",
     "iopub.status.idle": "2021-02-01T10:57:18.123845Z",
     "shell.execute_reply": "2021-02-01T10:57:18.123365Z"
    },
    "papermill": {
     "duration": 5.138235,
     "end_time": "2021-02-01T10:57:18.123981",
     "exception": false,
     "start_time": "2021-02-01T10:57:12.985746",
     "status": "completed"
    },
    "tags": []
   },
   "outputs": [
    {
     "name": "stderr",
     "output_type": "stream",
     "text": [
      "100%|██████████| 8000/8000 [00:01<00:00, 4220.37it/s]\n",
      "100%|██████████| 8000/8000 [00:01<00:00, 4310.13it/s]\n",
      "100%|██████████| 2000/2000 [00:00<00:00, 4873.67it/s]\n",
      "100%|██████████| 2000/2000 [00:00<00:00, 4311.34it/s]\n"
     ]
    }
   ],
   "source": [
    "trainX = torch.Tensor(np.asarray([encoder_tokenizer.encode(i, max_length=MAX_LEN, truncation=True, padding='max_length', add_special_tokens=True) \\\n",
    "                                  for i in tqdm(train.original.values)]))\n",
    "trainy = torch.Tensor(np.asarray([decoder_tokenizer.encode(i, max_length=MAX_LEN, truncation=True, padding='max_length', add_special_tokens=True) \\\n",
    "                                  for i in tqdm(train.solution.values)]))\n",
    "\n",
    "valX = torch.Tensor(np.asarray([encoder_tokenizer.encode(i, max_length=MAX_LEN, truncation=True, padding='max_length', add_special_tokens=True) \\\n",
    "                                for i in tqdm(val.original.values)]))\n",
    "valy = torch.Tensor(np.asarray([decoder_tokenizer.encode(i, max_length=MAX_LEN, truncation=True, padding='max_length', add_special_tokens=True) \\\n",
    "                                for i in tqdm(val.solution.values)]))\n"
   ]
  },
  {
   "cell_type": "code",
   "execution_count": 23,
   "metadata": {
    "execution": {
     "iopub.execute_input": "2021-02-01T10:57:18.251050Z",
     "iopub.status.busy": "2021-02-01T10:57:18.250188Z",
     "iopub.status.idle": "2021-02-01T10:57:18.254383Z",
     "shell.execute_reply": "2021-02-01T10:57:18.253875Z"
    },
    "papermill": {
     "duration": 0.071583,
     "end_time": "2021-02-01T10:57:18.254521",
     "exception": false,
     "start_time": "2021-02-01T10:57:18.182938",
     "status": "completed"
    },
    "tags": []
   },
   "outputs": [
    {
     "data": {
      "text/plain": [
       "(torch.Size([8000, 100]),\n",
       " torch.Size([8000, 100]),\n",
       " torch.Size([2000, 100]),\n",
       " torch.Size([2000, 100]))"
      ]
     },
     "execution_count": 23,
     "metadata": {},
     "output_type": "execute_result"
    }
   ],
   "source": [
    "trainX.shape, trainy.shape, valX.shape, valy.shape"
   ]
  },
  {
   "cell_type": "code",
   "execution_count": 24,
   "metadata": {
    "execution": {
     "iopub.execute_input": "2021-02-01T10:57:18.384162Z",
     "iopub.status.busy": "2021-02-01T10:57:18.383217Z",
     "iopub.status.idle": "2021-02-01T10:57:18.395204Z",
     "shell.execute_reply": "2021-02-01T10:57:18.395669Z"
    },
    "papermill": {
     "duration": 0.080413,
     "end_time": "2021-02-01T10:57:18.395828",
     "exception": false,
     "start_time": "2021-02-01T10:57:18.315415",
     "status": "completed"
    },
    "tags": []
   },
   "outputs": [
    {
     "name": "stderr",
     "output_type": "stream",
     "text": [
      "/opt/conda/lib/python3.7/site-packages/ipykernel_launcher.py:1: UserWarning: To copy construct from a tensor, it is recommended to use sourceTensor.clone().detach() or sourceTensor.clone().detach().requires_grad_(True), rather than torch.tensor(sourceTensor).\n",
      "  \"\"\"Entry point for launching an IPython kernel.\n",
      "/opt/conda/lib/python3.7/site-packages/ipykernel_launcher.py:2: UserWarning: To copy construct from a tensor, it is recommended to use sourceTensor.clone().detach() or sourceTensor.clone().detach().requires_grad_(True), rather than torch.tensor(sourceTensor).\n",
      "  \n",
      "/opt/conda/lib/python3.7/site-packages/ipykernel_launcher.py:3: UserWarning: To copy construct from a tensor, it is recommended to use sourceTensor.clone().detach() or sourceTensor.clone().detach().requires_grad_(True), rather than torch.tensor(sourceTensor).\n",
      "  This is separate from the ipykernel package so we can avoid doing imports until\n",
      "/opt/conda/lib/python3.7/site-packages/ipykernel_launcher.py:4: UserWarning: To copy construct from a tensor, it is recommended to use sourceTensor.clone().detach() or sourceTensor.clone().detach().requires_grad_(True), rather than torch.tensor(sourceTensor).\n",
      "  after removing the cwd from sys.path.\n"
     ]
    }
   ],
   "source": [
    "trainX = torch.tensor(trainX, dtype=torch.long)\n",
    "trainy = torch.tensor(trainy, dtype=torch.long)\n",
    "valX = torch.tensor(valX, dtype=torch.long)\n",
    "valy = torch.tensor(valy, dtype=torch.long)\n"
   ]
  },
  {
   "cell_type": "code",
   "execution_count": 25,
   "metadata": {
    "execution": {
     "iopub.execute_input": "2021-02-01T10:57:18.520252Z",
     "iopub.status.busy": "2021-02-01T10:57:18.519637Z",
     "iopub.status.idle": "2021-02-01T10:57:51.114203Z",
     "shell.execute_reply": "2021-02-01T10:57:51.113395Z"
    },
    "papermill": {
     "duration": 32.659449,
     "end_time": "2021-02-01T10:57:51.114385",
     "exception": false,
     "start_time": "2021-02-01T10:57:18.454936",
     "status": "completed"
    },
    "tags": []
   },
   "outputs": [
    {
     "data": {
      "application/vnd.jupyter.widget-view+json": {
       "model_id": "d175729d520144dca7ff723246b7a2d9",
       "version_major": 2,
       "version_minor": 0
      },
      "text/plain": [
       "Downloading:   0%|          | 0.00/440M [00:00<?, ?B/s]"
      ]
     },
     "metadata": {},
     "output_type": "display_data"
    },
    {
     "data": {
      "application/vnd.jupyter.widget-view+json": {
       "model_id": "901d6982b2254f0a9cc017a7d518a762",
       "version_major": 2,
       "version_minor": 0
      },
      "text/plain": [
       "Downloading:   0%|          | 0.00/441M [00:00<?, ?B/s]"
      ]
     },
     "metadata": {},
     "output_type": "display_data"
    },
    {
     "name": "stderr",
     "output_type": "stream",
     "text": [
      "Some weights of the model checkpoint at claudelkros/bert-base-french were not used when initializing BertLMHeadModel: ['cls.seq_relationship.weight', 'cls.seq_relationship.bias']\n",
      "- This IS expected if you are initializing BertLMHeadModel from the checkpoint of a model trained on another task or with another architecture (e.g. initializing a BertForSequenceClassification model from a BertForPreTraining model).\n",
      "- This IS NOT expected if you are initializing BertLMHeadModel from the checkpoint of a model that you expect to be exactly identical (initializing a BertForSequenceClassification model from a BertForSequenceClassification model).\n",
      "Some weights of BertLMHeadModel were not initialized from the model checkpoint at claudelkros/bert-base-french and are newly initialized: ['bert.encoder.layer.0.crossattention.self.query.weight', 'bert.encoder.layer.0.crossattention.self.query.bias', 'bert.encoder.layer.0.crossattention.self.key.weight', 'bert.encoder.layer.0.crossattention.self.key.bias', 'bert.encoder.layer.0.crossattention.self.value.weight', 'bert.encoder.layer.0.crossattention.self.value.bias', 'bert.encoder.layer.0.crossattention.output.dense.weight', 'bert.encoder.layer.0.crossattention.output.dense.bias', 'bert.encoder.layer.0.crossattention.output.LayerNorm.weight', 'bert.encoder.layer.0.crossattention.output.LayerNorm.bias', 'bert.encoder.layer.1.crossattention.self.query.weight', 'bert.encoder.layer.1.crossattention.self.query.bias', 'bert.encoder.layer.1.crossattention.self.key.weight', 'bert.encoder.layer.1.crossattention.self.key.bias', 'bert.encoder.layer.1.crossattention.self.value.weight', 'bert.encoder.layer.1.crossattention.self.value.bias', 'bert.encoder.layer.1.crossattention.output.dense.weight', 'bert.encoder.layer.1.crossattention.output.dense.bias', 'bert.encoder.layer.1.crossattention.output.LayerNorm.weight', 'bert.encoder.layer.1.crossattention.output.LayerNorm.bias', 'bert.encoder.layer.2.crossattention.self.query.weight', 'bert.encoder.layer.2.crossattention.self.query.bias', 'bert.encoder.layer.2.crossattention.self.key.weight', 'bert.encoder.layer.2.crossattention.self.key.bias', 'bert.encoder.layer.2.crossattention.self.value.weight', 'bert.encoder.layer.2.crossattention.self.value.bias', 'bert.encoder.layer.2.crossattention.output.dense.weight', 'bert.encoder.layer.2.crossattention.output.dense.bias', 'bert.encoder.layer.2.crossattention.output.LayerNorm.weight', 'bert.encoder.layer.2.crossattention.output.LayerNorm.bias', 'bert.encoder.layer.3.crossattention.self.query.weight', 'bert.encoder.layer.3.crossattention.self.query.bias', 'bert.encoder.layer.3.crossattention.self.key.weight', 'bert.encoder.layer.3.crossattention.self.key.bias', 'bert.encoder.layer.3.crossattention.self.value.weight', 'bert.encoder.layer.3.crossattention.self.value.bias', 'bert.encoder.layer.3.crossattention.output.dense.weight', 'bert.encoder.layer.3.crossattention.output.dense.bias', 'bert.encoder.layer.3.crossattention.output.LayerNorm.weight', 'bert.encoder.layer.3.crossattention.output.LayerNorm.bias', 'bert.encoder.layer.4.crossattention.self.query.weight', 'bert.encoder.layer.4.crossattention.self.query.bias', 'bert.encoder.layer.4.crossattention.self.key.weight', 'bert.encoder.layer.4.crossattention.self.key.bias', 'bert.encoder.layer.4.crossattention.self.value.weight', 'bert.encoder.layer.4.crossattention.self.value.bias', 'bert.encoder.layer.4.crossattention.output.dense.weight', 'bert.encoder.layer.4.crossattention.output.dense.bias', 'bert.encoder.layer.4.crossattention.output.LayerNorm.weight', 'bert.encoder.layer.4.crossattention.output.LayerNorm.bias', 'bert.encoder.layer.5.crossattention.self.query.weight', 'bert.encoder.layer.5.crossattention.self.query.bias', 'bert.encoder.layer.5.crossattention.self.key.weight', 'bert.encoder.layer.5.crossattention.self.key.bias', 'bert.encoder.layer.5.crossattention.self.value.weight', 'bert.encoder.layer.5.crossattention.self.value.bias', 'bert.encoder.layer.5.crossattention.output.dense.weight', 'bert.encoder.layer.5.crossattention.output.dense.bias', 'bert.encoder.layer.5.crossattention.output.LayerNorm.weight', 'bert.encoder.layer.5.crossattention.output.LayerNorm.bias', 'bert.encoder.layer.6.crossattention.self.query.weight', 'bert.encoder.layer.6.crossattention.self.query.bias', 'bert.encoder.layer.6.crossattention.self.key.weight', 'bert.encoder.layer.6.crossattention.self.key.bias', 'bert.encoder.layer.6.crossattention.self.value.weight', 'bert.encoder.layer.6.crossattention.self.value.bias', 'bert.encoder.layer.6.crossattention.output.dense.weight', 'bert.encoder.layer.6.crossattention.output.dense.bias', 'bert.encoder.layer.6.crossattention.output.LayerNorm.weight', 'bert.encoder.layer.6.crossattention.output.LayerNorm.bias', 'bert.encoder.layer.7.crossattention.self.query.weight', 'bert.encoder.layer.7.crossattention.self.query.bias', 'bert.encoder.layer.7.crossattention.self.key.weight', 'bert.encoder.layer.7.crossattention.self.key.bias', 'bert.encoder.layer.7.crossattention.self.value.weight', 'bert.encoder.layer.7.crossattention.self.value.bias', 'bert.encoder.layer.7.crossattention.output.dense.weight', 'bert.encoder.layer.7.crossattention.output.dense.bias', 'bert.encoder.layer.7.crossattention.output.LayerNorm.weight', 'bert.encoder.layer.7.crossattention.output.LayerNorm.bias', 'bert.encoder.layer.8.crossattention.self.query.weight', 'bert.encoder.layer.8.crossattention.self.query.bias', 'bert.encoder.layer.8.crossattention.self.key.weight', 'bert.encoder.layer.8.crossattention.self.key.bias', 'bert.encoder.layer.8.crossattention.self.value.weight', 'bert.encoder.layer.8.crossattention.self.value.bias', 'bert.encoder.layer.8.crossattention.output.dense.weight', 'bert.encoder.layer.8.crossattention.output.dense.bias', 'bert.encoder.layer.8.crossattention.output.LayerNorm.weight', 'bert.encoder.layer.8.crossattention.output.LayerNorm.bias', 'bert.encoder.layer.9.crossattention.self.query.weight', 'bert.encoder.layer.9.crossattention.self.query.bias', 'bert.encoder.layer.9.crossattention.self.key.weight', 'bert.encoder.layer.9.crossattention.self.key.bias', 'bert.encoder.layer.9.crossattention.self.value.weight', 'bert.encoder.layer.9.crossattention.self.value.bias', 'bert.encoder.layer.9.crossattention.output.dense.weight', 'bert.encoder.layer.9.crossattention.output.dense.bias', 'bert.encoder.layer.9.crossattention.output.LayerNorm.weight', 'bert.encoder.layer.9.crossattention.output.LayerNorm.bias', 'bert.encoder.layer.10.crossattention.self.query.weight', 'bert.encoder.layer.10.crossattention.self.query.bias', 'bert.encoder.layer.10.crossattention.self.key.weight', 'bert.encoder.layer.10.crossattention.self.key.bias', 'bert.encoder.layer.10.crossattention.self.value.weight', 'bert.encoder.layer.10.crossattention.self.value.bias', 'bert.encoder.layer.10.crossattention.output.dense.weight', 'bert.encoder.layer.10.crossattention.output.dense.bias', 'bert.encoder.layer.10.crossattention.output.LayerNorm.weight', 'bert.encoder.layer.10.crossattention.output.LayerNorm.bias', 'bert.encoder.layer.11.crossattention.self.query.weight', 'bert.encoder.layer.11.crossattention.self.query.bias', 'bert.encoder.layer.11.crossattention.self.key.weight', 'bert.encoder.layer.11.crossattention.self.key.bias', 'bert.encoder.layer.11.crossattention.self.value.weight', 'bert.encoder.layer.11.crossattention.self.value.bias', 'bert.encoder.layer.11.crossattention.output.dense.weight', 'bert.encoder.layer.11.crossattention.output.dense.bias', 'bert.encoder.layer.11.crossattention.output.LayerNorm.weight', 'bert.encoder.layer.11.crossattention.output.LayerNorm.bias']\n",
      "You should probably TRAIN this model on a down-stream task to be able to use it for predictions and inference.\n"
     ]
    }
   ],
   "source": [
    "model = EncoderDecoderModel.from_encoder_decoder_pretrained(encoder_path,decoder_path)"
   ]
  },
  {
   "cell_type": "code",
   "execution_count": 26,
   "metadata": {
    "execution": {
     "iopub.execute_input": "2021-02-01T10:57:51.313133Z",
     "iopub.status.busy": "2021-02-01T10:57:51.312160Z",
     "iopub.status.idle": "2021-02-01T10:57:51.316316Z",
     "shell.execute_reply": "2021-02-01T10:57:51.317051Z"
    },
    "papermill": {
     "duration": 0.107926,
     "end_time": "2021-02-01T10:57:51.317291",
     "exception": false,
     "start_time": "2021-02-01T10:57:51.209365",
     "status": "completed"
    },
    "tags": []
   },
   "outputs": [],
   "source": [
    "model.config.encoder.max_length = MAX_LEN\n",
    "model.config.decoder.max_length = MAX_LEN\n",
    "\n",
    "model.config.encoder.min_length = MIN_LEN\n",
    "model.config.decoder.min_length = MIN_LEN"
   ]
  },
  {
   "cell_type": "code",
   "execution_count": 27,
   "metadata": {
    "execution": {
     "iopub.execute_input": "2021-02-01T10:57:51.502977Z",
     "iopub.status.busy": "2021-02-01T10:57:51.502141Z",
     "iopub.status.idle": "2021-02-01T10:57:51.505573Z",
     "shell.execute_reply": "2021-02-01T10:57:51.506137Z"
    },
    "papermill": {
     "duration": 0.093063,
     "end_time": "2021-02-01T10:57:51.506321",
     "exception": false,
     "start_time": "2021-02-01T10:57:51.413258",
     "status": "completed"
    },
    "tags": []
   },
   "outputs": [
    {
     "name": "stdout",
     "output_type": "stream",
     "text": [
      "Train and val loader length 667 and 167\n"
     ]
    }
   ],
   "source": [
    "train_data_loader = torch.utils.data.DataLoader(\n",
    "    torch.utils.data.TensorDataset(trainX, trainy), batch_size=batch_size)\n",
    "\n",
    "val_data_loader = torch.utils.data.DataLoader(\n",
    "    torch.utils.data.TensorDataset(valX, valy), batch_size=batch_size)\n",
    "\n",
    "print (\"Train and val loader length {} and {}\".format(len(train_data_loader), len(val_data_loader)))"
   ]
  },
  {
   "cell_type": "code",
   "execution_count": 28,
   "metadata": {
    "execution": {
     "iopub.execute_input": "2021-02-01T10:57:51.660157Z",
     "iopub.status.busy": "2021-02-01T10:57:51.659243Z",
     "iopub.status.idle": "2021-02-01T10:57:59.369983Z",
     "shell.execute_reply": "2021-02-01T10:57:59.369449Z"
    },
    "papermill": {
     "duration": 7.795074,
     "end_time": "2021-02-01T10:57:59.370149",
     "exception": false,
     "start_time": "2021-02-01T10:57:51.575075",
     "status": "completed"
    },
    "tags": []
   },
   "outputs": [
    {
     "name": "stdout",
     "output_type": "stream",
     "text": [
      "Modeling\n",
      "Device: cuda\n"
     ]
    }
   ],
   "source": [
    "print (\"Modeling\")\n",
    "device = torch.device(\"cuda\" if torch.cuda.is_available() else \"cpu\")\n",
    "print (\"Device: {}\".format(device))\n",
    "\n",
    "model = model.to(device)\n",
    "\n",
    "params = list(model.named_parameters())\n",
    "\n",
    "optimizer = AdamW(model.parameters(),\n",
    "                  lr = lr, # args.learning_rate\n",
    "                  eps = 1e-8 # args.adam_epsilon  - default is 1e-8.\n",
    "                )\n",
    "\n",
    "# Total number of training steps is [number of batches] x [number of epochs]. \n",
    "# (Note that this is not the same as the number of training samples).\n",
    "total_steps = len(train_data_loader) * EPOCHS\n",
    "\n",
    "# Create the learning rate scheduler.\n",
    "scheduler = get_linear_schedule_with_warmup(optimizer, \n",
    "                                            num_warmup_steps = 0, # Default value in run_glue.py\n",
    "                                            num_training_steps = total_steps)"
   ]
  },
  {
   "cell_type": "code",
   "execution_count": 29,
   "metadata": {
    "execution": {
     "iopub.execute_input": "2021-02-01T10:57:59.537424Z",
     "iopub.status.busy": "2021-02-01T10:57:59.536550Z",
     "iopub.status.idle": "2021-02-01T11:59:53.429961Z",
     "shell.execute_reply": "2021-02-01T11:59:53.430687Z"
    },
    "papermill": {
     "duration": 3713.997877,
     "end_time": "2021-02-01T11:59:53.430951",
     "exception": false,
     "start_time": "2021-02-01T10:57:59.433074",
     "status": "completed"
    },
    "tags": []
   },
   "outputs": [
    {
     "name": "stdout",
     "output_type": "stream",
     "text": [
      "\n",
      "======== Epoch 1 / 30 ========\n",
      "Training...\n",
      "  Batch    60  of    667.    Elapsed: 0:00:27.  Loss: 4.767064094543457\n",
      "  Batch   120  of    667.    Elapsed: 0:00:53.  Loss: 2.6770272254943848\n",
      "  Batch   180  of    667.    Elapsed: 0:01:20.  Loss: 1.9633405208587646\n",
      "  Batch   240  of    667.    Elapsed: 0:01:46.  Loss: 2.256546974182129\n",
      "  Batch   300  of    667.    Elapsed: 0:02:12.  Loss: 1.7267345190048218\n",
      "  Batch   360  of    667.    Elapsed: 0:02:38.  Loss: 1.9710339307785034\n",
      "  Batch   420  of    667.    Elapsed: 0:03:05.  Loss: 1.3134269714355469\n",
      "  Batch   480  of    667.    Elapsed: 0:03:31.  Loss: 1.7911916971206665\n",
      "  Batch   540  of    667.    Elapsed: 0:03:57.  Loss: 1.3366572856903076\n",
      "  Batch   600  of    667.    Elapsed: 0:04:24.  Loss: 1.5542354583740234\n",
      "  Batch   660  of    667.    Elapsed: 0:04:50.  Loss: 1.682282567024231\n",
      "\n",
      "  Average training loss: 2.45\n",
      "  Training epcoh took: 0:04:53\n",
      "\n",
      "Running Validation...\n",
      "  Validation Loss: 2.38\n",
      "  Validation took: 0:00:41\n",
      "\n",
      "======== Epoch 2 / 30 ========\n",
      "Training...\n",
      "  Batch    60  of    667.    Elapsed: 0:00:26.  Loss: 3.6640751361846924\n",
      "  Batch   120  of    667.    Elapsed: 0:00:52.  Loss: 1.6196799278259277\n",
      "  Batch   180  of    667.    Elapsed: 0:01:19.  Loss: 1.1359894275665283\n",
      "  Batch   240  of    667.    Elapsed: 0:01:45.  Loss: 1.827502965927124\n",
      "  Batch   300  of    667.    Elapsed: 0:02:11.  Loss: 1.4071990251541138\n",
      "  Batch   360  of    667.    Elapsed: 0:02:37.  Loss: 1.704175353050232\n",
      "  Batch   420  of    667.    Elapsed: 0:03:04.  Loss: 1.0229612588882446\n",
      "  Batch   480  of    667.    Elapsed: 0:03:30.  Loss: 1.4800208806991577\n",
      "  Batch   540  of    667.    Elapsed: 0:03:57.  Loss: 1.0805292129516602\n",
      "  Batch   600  of    667.    Elapsed: 0:04:23.  Loss: 1.3633975982666016\n",
      "  Batch   660  of    667.    Elapsed: 0:04:50.  Loss: 1.5263633728027344\n",
      "\n",
      "  Average training loss: 1.83\n",
      "  Training epcoh took: 0:04:53\n",
      "\n",
      "Running Validation...\n",
      "  Validation Loss: 2.19\n",
      "  Validation took: 0:00:42\n",
      "\n",
      "======== Epoch 3 / 30 ========\n",
      "Training...\n",
      "  Batch    60  of    667.    Elapsed: 0:00:27.  Loss: 3.406797170639038\n",
      "  Batch   120  of    667.    Elapsed: 0:00:53.  Loss: 1.2469801902770996\n",
      "  Batch   180  of    667.    Elapsed: 0:01:19.  Loss: 0.8753843903541565\n",
      "  Batch   240  of    667.    Elapsed: 0:01:45.  Loss: 1.6526472568511963\n",
      "  Batch   300  of    667.    Elapsed: 0:02:11.  Loss: 1.2475672960281372\n",
      "  Batch   360  of    667.    Elapsed: 0:02:38.  Loss: 1.553019404411316\n",
      "  Batch   420  of    667.    Elapsed: 0:03:04.  Loss: 0.8817833065986633\n",
      "  Batch   480  of    667.    Elapsed: 0:03:30.  Loss: 1.322084665298462\n",
      "  Batch   540  of    667.    Elapsed: 0:03:57.  Loss: 0.9320369362831116\n",
      "  Batch   600  of    667.    Elapsed: 0:04:23.  Loss: 1.2279599905014038\n",
      "  Batch   660  of    667.    Elapsed: 0:04:50.  Loss: 1.4060128927230835\n",
      "\n",
      "  Average training loss: 1.63\n",
      "  Training epcoh took: 0:04:53\n",
      "\n",
      "Running Validation...\n",
      "  Validation Loss: 2.11\n",
      "  Validation took: 0:00:42\n",
      "\n",
      "======== Epoch 4 / 30 ========\n",
      "Training...\n",
      "  Batch    60  of    667.    Elapsed: 0:00:27.  Loss: 3.1789419651031494\n",
      "  Batch   120  of    667.    Elapsed: 0:00:53.  Loss: 1.0105096101760864\n",
      "  Batch   180  of    667.    Elapsed: 0:01:19.  Loss: 0.7555271983146667\n",
      "  Batch   240  of    667.    Elapsed: 0:01:46.  Loss: 1.5373320579528809\n",
      "  Batch   300  of    667.    Elapsed: 0:02:12.  Loss: 1.1208776235580444\n",
      "  Batch   360  of    667.    Elapsed: 0:02:38.  Loss: 1.4521819353103638\n",
      "  Batch   420  of    667.    Elapsed: 0:03:05.  Loss: 0.752690315246582\n",
      "  Batch   480  of    667.    Elapsed: 0:03:31.  Loss: 1.1965327262878418\n",
      "  Batch   540  of    667.    Elapsed: 0:03:57.  Loss: 0.8028638362884521\n",
      "  Batch   600  of    667.    Elapsed: 0:04:24.  Loss: 1.106000542640686\n",
      "  Batch   660  of    667.    Elapsed: 0:04:50.  Loss: 1.2739232778549194\n",
      "\n",
      "  Average training loss: 1.47\n",
      "  Training epcoh took: 0:04:53\n",
      "\n",
      "Running Validation...\n",
      "  Validation Loss: 2.06\n",
      "  Validation took: 0:00:41\n",
      "\n",
      "======== Epoch 5 / 30 ========\n",
      "Training...\n",
      "  Batch    60  of    667.    Elapsed: 0:00:26.  Loss: 2.9540553092956543\n",
      "  Batch   120  of    667.    Elapsed: 0:00:53.  Loss: 0.8610078692436218\n",
      "  Batch   180  of    667.    Elapsed: 0:01:19.  Loss: 0.64932781457901\n",
      "  Batch   240  of    667.    Elapsed: 0:01:45.  Loss: 1.4053086042404175\n",
      "  Batch   300  of    667.    Elapsed: 0:02:11.  Loss: 1.0167325735092163\n",
      "  Batch   360  of    667.    Elapsed: 0:02:38.  Loss: 1.3315178155899048\n",
      "  Batch   420  of    667.    Elapsed: 0:03:04.  Loss: 0.651702880859375\n",
      "  Batch   480  of    667.    Elapsed: 0:03:30.  Loss: 1.0690299272537231\n",
      "  Batch   540  of    667.    Elapsed: 0:03:57.  Loss: 0.6869232654571533\n",
      "  Batch   600  of    667.    Elapsed: 0:04:23.  Loss: 0.997471272945404\n",
      "  Batch   660  of    667.    Elapsed: 0:04:50.  Loss: 1.1584291458129883\n",
      "\n",
      "  Average training loss: 1.35\n",
      "  Training epcoh took: 0:04:52\n",
      "\n",
      "Running Validation...\n",
      "  Validation Loss: 2.04\n",
      "  Validation took: 0:00:41\n",
      "\n",
      "======== Epoch 6 / 30 ========\n",
      "Training...\n",
      "  Batch    60  of    667.    Elapsed: 0:00:27.  Loss: 2.747302532196045\n",
      "  Batch   120  of    667.    Elapsed: 0:00:53.  Loss: 0.7526085376739502\n",
      "  Batch   180  of    667.    Elapsed: 0:01:19.  Loss: 0.572547435760498\n",
      "  Batch   240  of    667.    Elapsed: 0:01:45.  Loss: 1.3255854845046997\n",
      "  Batch   300  of    667.    Elapsed: 0:02:11.  Loss: 0.9111878871917725\n",
      "  Batch   360  of    667.    Elapsed: 0:02:37.  Loss: 1.2203716039657593\n",
      "  Batch   420  of    667.    Elapsed: 0:03:04.  Loss: 0.5556400418281555\n",
      "  Batch   480  of    667.    Elapsed: 0:03:30.  Loss: 0.9781768321990967\n",
      "  Batch   540  of    667.    Elapsed: 0:03:56.  Loss: 0.6064172387123108\n",
      "  Batch   600  of    667.    Elapsed: 0:04:22.  Loss: 0.8921694755554199\n",
      "  Batch   660  of    667.    Elapsed: 0:04:49.  Loss: 1.0648369789123535\n",
      "\n",
      "  Average training loss: 1.24\n",
      "  Training epcoh took: 0:04:52\n",
      "\n",
      "Running Validation...\n",
      "  Validation Loss: 2.03\n",
      "  Validation took: 0:00:41\n",
      "\n",
      "======== Epoch 7 / 30 ========\n",
      "Training...\n",
      "  Batch    60  of    667.    Elapsed: 0:00:26.  Loss: 2.5792531967163086\n",
      "  Batch   120  of    667.    Elapsed: 0:00:53.  Loss: 0.640960693359375\n",
      "  Batch   180  of    667.    Elapsed: 0:01:19.  Loss: 0.5179902911186218\n",
      "  Batch   240  of    667.    Elapsed: 0:01:45.  Loss: 1.2254940271377563\n",
      "  Batch   300  of    667.    Elapsed: 0:02:12.  Loss: 0.8327791094779968\n",
      "  Batch   360  of    667.    Elapsed: 0:02:38.  Loss: 1.1352781057357788\n",
      "  Batch   420  of    667.    Elapsed: 0:03:04.  Loss: 0.4729416072368622\n",
      "  Batch   480  of    667.    Elapsed: 0:03:30.  Loss: 0.8960832357406616\n",
      "  Batch   540  of    667.    Elapsed: 0:03:57.  Loss: 0.5232281684875488\n",
      "  Batch   600  of    667.    Elapsed: 0:04:24.  Loss: 0.8030274510383606\n",
      "  Batch   660  of    667.    Elapsed: 0:04:50.  Loss: 0.9748106598854065\n",
      "\n",
      "  Average training loss: 1.14\n",
      "  Training epcoh took: 0:04:53\n",
      "\n",
      "Running Validation...\n",
      "  Validation Loss: 2.04\n",
      "  Validation took: 0:00:42\n",
      "\n",
      "======== Epoch 8 / 30 ========\n",
      "Training...\n",
      "  Batch    60  of    667.    Elapsed: 0:00:27.  Loss: 2.403012752532959\n",
      "  Batch   120  of    667.    Elapsed: 0:00:53.  Loss: 0.5671477317810059\n",
      "  Batch   180  of    667.    Elapsed: 0:01:20.  Loss: 0.45111992955207825\n",
      "  Batch   240  of    667.    Elapsed: 0:01:46.  Loss: 1.1321346759796143\n",
      "  Batch   300  of    667.    Elapsed: 0:02:13.  Loss: 0.7393515706062317\n",
      "  Batch   360  of    667.    Elapsed: 0:02:40.  Loss: 1.0412834882736206\n",
      "  Batch   420  of    667.    Elapsed: 0:03:06.  Loss: 0.4094962179660797\n",
      "  Batch   480  of    667.    Elapsed: 0:03:33.  Loss: 0.8049500584602356\n",
      "  Batch   540  of    667.    Elapsed: 0:04:00.  Loss: 0.441466361284256\n",
      "  Batch   600  of    667.    Elapsed: 0:04:27.  Loss: 0.7147490382194519\n",
      "  Batch   660  of    667.    Elapsed: 0:04:53.  Loss: 0.8865718245506287\n",
      "\n",
      "  Average training loss: 1.04\n",
      "  Training epcoh took: 0:04:56\n",
      "\n",
      "Running Validation...\n",
      "  Validation Loss: 2.05\n",
      "  Validation took: 0:00:42\n",
      "\n",
      "======== Epoch 9 / 30 ========\n",
      "Training...\n",
      "  Batch    60  of    667.    Elapsed: 0:00:27.  Loss: 2.223376512527466\n",
      "  Batch   120  of    667.    Elapsed: 0:00:54.  Loss: 0.49174463748931885\n",
      "  Batch   180  of    667.    Elapsed: 0:01:20.  Loss: 0.41020655632019043\n",
      "  Batch   240  of    667.    Elapsed: 0:01:47.  Loss: 1.0478631258010864\n",
      "  Batch   300  of    667.    Elapsed: 0:02:14.  Loss: 0.6592485308647156\n",
      "  Batch   360  of    667.    Elapsed: 0:02:42.  Loss: 0.9350519180297852\n",
      "  Batch   420  of    667.    Elapsed: 0:03:09.  Loss: 0.3325696885585785\n",
      "  Batch   480  of    667.    Elapsed: 0:03:36.  Loss: 0.706174910068512\n",
      "  Batch   540  of    667.    Elapsed: 0:04:02.  Loss: 0.3730013370513916\n",
      "  Batch   600  of    667.    Elapsed: 0:04:29.  Loss: 0.6416807174682617\n",
      "  Batch   660  of    667.    Elapsed: 0:04:56.  Loss: 0.7942509055137634\n",
      "\n",
      "  Average training loss: 0.95\n",
      "  Training epcoh took: 0:04:59\n",
      "\n",
      "Running Validation...\n",
      "  Validation Loss: 2.07\n",
      "  Validation took: 0:00:42\n",
      "\n",
      "======== Epoch 10 / 30 ========\n",
      "Training...\n",
      "  Batch    60  of    667.    Elapsed: 0:00:27.  Loss: 2.047353506088257\n",
      "  Batch   120  of    667.    Elapsed: 0:00:54.  Loss: 0.4378442168235779\n",
      "  Batch   180  of    667.    Elapsed: 0:01:21.  Loss: 0.35546624660491943\n",
      "  Batch   240  of    667.    Elapsed: 0:01:47.  Loss: 0.9651658535003662\n",
      "  Batch   300  of    667.    Elapsed: 0:02:14.  Loss: 0.5623760223388672\n",
      "  Batch   360  of    667.    Elapsed: 0:02:41.  Loss: 0.8462752103805542\n",
      "  Batch   420  of    667.    Elapsed: 0:03:08.  Loss: 0.27958783507347107\n",
      "  Batch   480  of    667.    Elapsed: 0:03:36.  Loss: 0.6348859667778015\n",
      "  Batch   540  of    667.    Elapsed: 0:04:03.  Loss: 0.3096781075000763\n",
      "  Batch   600  of    667.    Elapsed: 0:04:30.  Loss: 0.5728006362915039\n",
      "  Batch   660  of    667.    Elapsed: 0:04:57.  Loss: 0.7168835401535034\n",
      "\n",
      "  Average training loss: 0.87\n",
      "  Training epcoh took: 0:05:00\n",
      "\n",
      "Running Validation...\n",
      "  Validation Loss: 2.10\n",
      "  Validation took: 0:00:43\n",
      "\n",
      "======== Epoch 11 / 30 ========\n",
      "Training...\n",
      "  Batch    60  of    667.    Elapsed: 0:00:27.  Loss: 1.9109057188034058\n",
      "  Batch   120  of    667.    Elapsed: 0:00:54.  Loss: 0.37067604064941406\n",
      "  Batch   180  of    667.    Elapsed: 0:01:21.  Loss: 0.2977721393108368\n",
      "  Batch   240  of    667.    Elapsed: 0:01:47.  Loss: 0.870039701461792\n",
      "  Batch   300  of    667.    Elapsed: 0:02:14.  Loss: 0.49883148074150085\n",
      "  Batch   360  of    667.    Elapsed: 0:02:41.  Loss: 0.748236358165741\n",
      "  Batch   420  of    667.    Elapsed: 0:03:08.  Loss: 0.23667645454406738\n",
      "  Batch   480  of    667.    Elapsed: 0:03:35.  Loss: 0.561636745929718\n",
      "  Batch   540  of    667.    Elapsed: 0:04:01.  Loss: 0.259319931268692\n",
      "  Batch   600  of    667.    Elapsed: 0:04:28.  Loss: 0.49277323484420776\n",
      "  Batch   660  of    667.    Elapsed: 0:04:55.  Loss: 0.6399742960929871\n",
      "\n",
      "  Average training loss: 0.79\n",
      "  Training epcoh took: 0:04:58\n",
      "\n",
      "Running Validation...\n",
      "  Validation Loss: 2.13\n",
      "  Validation took: 0:00:42\n",
      "Early stopping!!\n",
      "\n",
      "Training complete!\n",
      "Total training took 1:01:54 (h:mm:ss)\n"
     ]
    }
   ],
   "source": [
    "random.seed(seed_val)\n",
    "np.random.seed(seed_val)\n",
    "torch.manual_seed(seed_val)\n",
    "torch.cuda.manual_seed_all(seed_val)\n",
    "torch.cuda.empty_cache()\n",
    "\n",
    "# We'll store a number of quantities such as training and validation loss, \n",
    "# validation accuracy, and timings.\n",
    "training_stats = []\n",
    "\n",
    "# Measure the total training time for the whole run.\n",
    "total_t0 = time.time()\n",
    "\n",
    "bad_epochs = 0\n",
    "best_val_logits = 0\n",
    "\n",
    "# For each epoch...\n",
    "for epoch_i in range(0, EPOCHS):\n",
    "    \n",
    "    if bad_epochs < early_stopping_rounds:\n",
    "        # ========================================\n",
    "        #               Training\n",
    "        # ========================================\n",
    "\n",
    "        # Perform one full pass over the training set.\n",
    "\n",
    "        print(\"\")\n",
    "        print('======== Epoch {:} / {:} ========'.format(epoch_i + 1, EPOCHS))\n",
    "        print('Training...')\n",
    "\n",
    "        # Measure how long the training epoch takes.\n",
    "        t0 = time.time()\n",
    "\n",
    "        # Reset the total loss for this epoch.\n",
    "        total_train_loss = 0\n",
    "\n",
    "        # Put the model into training mode. Don't be mislead--the call to \n",
    "        # `train` just changes the *mode*, it doesn't *perform* the training.\n",
    "        # `dropout` and `batchnorm` layers behave differently during training\n",
    "        # vs. test (source: https://stackoverflow.com/questions/51433378/what-does-model-train-do-in-pytorch)\n",
    "        model.train()\n",
    "\n",
    "        # For each batch of training data...\n",
    "        for step, batch in enumerate(train_data_loader):\n",
    "\n",
    "            # Progress update every 40 batches.\n",
    "            if step % 60 == 0 and not step == 0:\n",
    "                # Calculate elapsed time in minutes.\n",
    "                elapsed = format_time(time.time() - t0)\n",
    "\n",
    "                # Report progress.\n",
    "                print('  Batch {:>5,}  of  {:>5,}.    Elapsed: {:}.  Loss: {}'.format(step, len(train_data_loader), elapsed, loss.item()))\n",
    "\n",
    "            # Unpack this training batch from our dataloader. \n",
    "            #\n",
    "            # As we unpack the batch, we'll also copy each tensor to the GPU using the \n",
    "            # `to` method.\n",
    "            #\n",
    "            # `batch` contains three pytorch tensors:\n",
    "            #   [0]: input ids \n",
    "            #   [1]: attention masks\n",
    "            #   [2]: labels \n",
    "            input_ids = batch[0].to(device)\n",
    "            output_ids = batch[1].to(device)\n",
    "\n",
    "            # Always clear any previously calculated gradients before performing a\n",
    "            # backward pass. PyTorch doesn't do this automatically because \n",
    "            # accumulating the gradients is \"convenient while training RNNs\". \n",
    "            # (source: https://stackoverflow.com/questions/48001598/why-do-we-need-to-call-zero-grad-in-pytorch)\n",
    "            model.zero_grad()        \n",
    "\n",
    "            # Perform a forward pass (evaluate the model on this training batch).\n",
    "            # The documentation for this `model` function is here: \n",
    "            # https://huggingface.co/transformers/v2.2.0/model_doc/bert.html#transformers.BertForSequenceClassification\n",
    "            # It returns different numbers of parameters depending on what arguments\n",
    "            # are given and what flags are set. For our usage here, it returns\n",
    "            # the loss (because we provided labels) and the \"logits\"--the model\n",
    "            # outputs prior to activation.\n",
    "            if teacher_forcing:\n",
    "                outputs = model(input_ids=input_ids, decoder_input_ids=output_ids, labels=output_ids, return_dict=True)\n",
    "            else:\n",
    "                outputs = model(input_ids=input_ids, decoder_input_ids=input_ids, labels=output_ids, return_dict=True)\n",
    "                \n",
    "            loss, logits = outputs.loss, outputs.logits\n",
    "\n",
    "            # Accumulate the training loss over all of the batches so that we can\n",
    "            # calculate the average loss at the end. `loss` is a Tensor containing a\n",
    "            # single value; the `.item()` function just returns the Python value \n",
    "            # from the tensor.\n",
    "            total_train_loss += loss.item()\n",
    "\n",
    "            # Perform a backward pass to calculate the gradients.\n",
    "            loss.backward()\n",
    "\n",
    "            # Clip the norm of the gradients to 1.0.\n",
    "            # This is to help prevent the \"exploding gradients\" problem.\n",
    "            torch.nn.utils.clip_grad_norm_(model.parameters(), 1.0)\n",
    "\n",
    "            # Update parameters and take a step using the computed gradient.\n",
    "            # The optimizer dictates the \"update rule\"--how the parameters are\n",
    "            # modified based on their gradients, the learning rate, etc.\n",
    "            optimizer.step()\n",
    "\n",
    "            # Update the learning rate.\n",
    "            scheduler.step()\n",
    "\n",
    "        # Calculate the average loss over all of the batches.\n",
    "        avg_train_loss = total_train_loss / len(train_data_loader)            \n",
    "\n",
    "        # Measure how long this epoch took.\n",
    "        training_time = format_time(time.time() - t0)\n",
    "\n",
    "        print(\"\")\n",
    "        print(\"  Average training loss: {0:.2f}\".format(avg_train_loss))\n",
    "        print(\"  Training epcoh took: {:}\".format(training_time))\n",
    "\n",
    "        # ========================================\n",
    "        #               Validation\n",
    "        # ========================================\n",
    "        # After the completion of each training epoch, measure our performance on\n",
    "        # our validation set.\n",
    "\n",
    "        print(\"\")\n",
    "        print(\"Running Validation...\")\n",
    "\n",
    "        t0 = time.time()\n",
    "\n",
    "        # Put the model in evaluation mode--the dropout layers behave differently\n",
    "        # during evaluation.\n",
    "        model.eval()\n",
    "\n",
    "        # Tracking variables \n",
    "        total_eval_loss = 0\n",
    "        nb_eval_steps = 0\n",
    "\n",
    "        all_val_logits = []\n",
    "        \n",
    "        # Evaluate data for one epoch\n",
    "        for batch in val_data_loader:\n",
    "\n",
    "            # Unpack this training batch from our dataloader. \n",
    "            #\n",
    "            # As we unpack the batch, we'll also copy each tensor to the GPU using \n",
    "            # the `to` method.\n",
    "            #\n",
    "            # `batch` contains three pytorch tensors:\n",
    "            #   [0]: input ids \n",
    "            #   [1]: attention masks\n",
    "            #   [2]: labels \n",
    "            input_ids = batch[0].to(device)\n",
    "            output_ids = batch[1].to(device)\n",
    "\n",
    "            # Tell pytorch not to bother with constructing the compute graph during\n",
    "            # the forward pass, since this is only needed for backprop (training).\n",
    "            with torch.no_grad():        \n",
    "\n",
    "                # Forward pass, calculate logit predictions.\n",
    "                # token_type_ids is the same as the \"segment ids\", which \n",
    "                # differentiates sentence 1 and 2 in 2-sentence tasks.\n",
    "                # Get the \"logits\" output by the model. The \"logits\" are the output\n",
    "                # values prior to applying an activation function like the softmax.\n",
    "                if teacher_forcing:\n",
    "                    outputs = model(input_ids=input_ids, decoder_input_ids=output_ids, labels=output_ids, return_dict=True)\n",
    "                else:\n",
    "                    outputs = model(input_ids=input_ids, decoder_input_ids=input_ids, labels=output_ids, return_dict=True)\n",
    "                \n",
    "                loss, logits = outputs.loss, outputs.logits\n",
    "\n",
    "\n",
    "            # Accumulate the validation loss.\n",
    "            total_eval_loss += loss.item()\n",
    "\n",
    "            # Move logits and labels to CPU\n",
    "            logits = logits.detach().cpu().numpy()\n",
    "\n",
    "            all_val_logits.extend(logits.argmax(-1))\n",
    "            \n",
    "        # Calculate the average loss over all of the batches.\n",
    "        avg_val_loss = total_eval_loss / len(val_data_loader)\n",
    "\n",
    "        # Measure how long the validation run took.\n",
    "        validation_time = format_time(time.time() - t0)\n",
    "\n",
    "        print(\"  Validation Loss: {0:.2f}\".format(avg_val_loss))\n",
    "        print(\"  Validation took: {:}\".format(validation_time))\n",
    "\n",
    "        if epoch_i >= 1:\n",
    "            if avg_val_loss < training_stats[-1]['Valid. Loss']:\n",
    "                #model.save_pretrained('Bert2Bert_denoise')\n",
    "                torch.save(model.state_dict(), 'gated_Bert2Bert_denoise.bin')\n",
    "                bad_epochs = 0\n",
    "                best_val_logits = all_val_logits.copy()\n",
    "            else:\n",
    "                bad_epochs += 1\n",
    "\n",
    "        # Record all statistics from this epoch.\n",
    "        training_stats.append(\n",
    "            {\n",
    "                'epoch': epoch_i + 1,\n",
    "                'Training Loss': avg_train_loss,\n",
    "                'Valid. Loss': avg_val_loss,\n",
    "                'Training Time': training_time,\n",
    "                'Validation Time': validation_time\n",
    "            }\n",
    "        )\n",
    "    \n",
    "    else:\n",
    "        print (\"Early stopping!!\")\n",
    "        break\n",
    "\n",
    "print(\"\")\n",
    "print(\"Training complete!\")\n",
    "\n",
    "print(\"Total training took {:} (h:mm:ss)\".format(format_time(time.time()-total_t0)))"
   ]
  },
  {
   "cell_type": "code",
   "execution_count": 30,
   "metadata": {
    "execution": {
     "iopub.execute_input": "2021-02-01T11:59:53.662040Z",
     "iopub.status.busy": "2021-02-01T11:59:53.661311Z",
     "iopub.status.idle": "2021-02-01T11:59:53.663800Z",
     "shell.execute_reply": "2021-02-01T11:59:53.664453Z"
    },
    "papermill": {
     "duration": 0.118536,
     "end_time": "2021-02-01T11:59:53.664606",
     "exception": false,
     "start_time": "2021-02-01T11:59:53.546070",
     "status": "completed"
    },
    "tags": []
   },
   "outputs": [],
   "source": [
    "#model.load_state_dict(torch.load('BERT_denoise.bin'))"
   ]
  },
  {
   "cell_type": "code",
   "execution_count": 31,
   "metadata": {
    "execution": {
     "iopub.execute_input": "2021-02-01T11:59:53.895866Z",
     "iopub.status.busy": "2021-02-01T11:59:53.895091Z",
     "iopub.status.idle": "2021-02-01T11:59:53.897680Z",
     "shell.execute_reply": "2021-02-01T11:59:53.898151Z"
    },
    "papermill": {
     "duration": 0.121781,
     "end_time": "2021-02-01T11:59:53.898299",
     "exception": false,
     "start_time": "2021-02-01T11:59:53.776518",
     "status": "completed"
    },
    "tags": []
   },
   "outputs": [],
   "source": [
    "with open('training_stats.txt','w') as f:\n",
    "    for l in training_stats:\n",
    "        f.write(str(l))\n",
    "        f.write('\\n')"
   ]
  },
  {
   "cell_type": "code",
   "execution_count": 32,
   "metadata": {
    "execution": {
     "iopub.execute_input": "2021-02-01T11:59:54.135050Z",
     "iopub.status.busy": "2021-02-01T11:59:54.134192Z",
     "iopub.status.idle": "2021-02-01T11:59:54.178464Z",
     "shell.execute_reply": "2021-02-01T11:59:54.177849Z"
    },
    "papermill": {
     "duration": 0.165274,
     "end_time": "2021-02-01T11:59:54.178614",
     "exception": false,
     "start_time": "2021-02-01T11:59:54.013340",
     "status": "completed"
    },
    "tags": []
   },
   "outputs": [],
   "source": [
    "for batch in val_data_loader:\n",
    "    input_ids = batch[0].to(device)\n",
    "    output_ids = batch[1].to(device)\n",
    "    break\n",
    "\n",
    "with torch.no_grad():        \n",
    "    outputs = model(input_ids=input_ids, decoder_input_ids=input_ids, labels=output_ids, return_dict=True)\n",
    "    loss, logits = outputs.loss, outputs.logits"
   ]
  },
  {
   "cell_type": "code",
   "execution_count": 33,
   "metadata": {
    "execution": {
     "iopub.execute_input": "2021-02-01T11:59:54.415476Z",
     "iopub.status.busy": "2021-02-01T11:59:54.414429Z",
     "iopub.status.idle": "2021-02-01T11:59:54.564095Z",
     "shell.execute_reply": "2021-02-01T11:59:54.563521Z"
    },
    "papermill": {
     "duration": 0.270859,
     "end_time": "2021-02-01T11:59:54.564252",
     "exception": false,
     "start_time": "2021-02-01T11:59:54.293393",
     "status": "completed"
    },
    "tags": []
   },
   "outputs": [],
   "source": [
    "original_texts = [decoder_tokenizer.decode(i) for i in output_ids.detach().cpu().numpy()]\n",
    "predicted_texts = [decoder_tokenizer.decode(i) for i in logits.detach().cpu().numpy().argmax(axis=-1)]"
   ]
  },
  {
   "cell_type": "code",
   "execution_count": 34,
   "metadata": {
    "execution": {
     "iopub.execute_input": "2021-02-01T11:59:54.797057Z",
     "iopub.status.busy": "2021-02-01T11:59:54.796139Z",
     "iopub.status.idle": "2021-02-01T11:59:54.801699Z",
     "shell.execute_reply": "2021-02-01T11:59:54.800958Z"
    },
    "papermill": {
     "duration": 0.124444,
     "end_time": "2021-02-01T11:59:54.801862",
     "exception": false,
     "start_time": "2021-02-01T11:59:54.677418",
     "status": "completed"
    },
    "tags": []
   },
   "outputs": [
    {
     "name": "stdout",
     "output_type": "stream",
     "text": [
      "original text  [CLS] * - les marchandises principales sont soulignes par la couleur rouge. [SEP] [PAD] [PAD] [PAD] [PAD] [PAD] [PAD] [PAD] [PAD] [PAD] [PAD] [PAD] [PAD] [PAD] [PAD] [PAD] [PAD] [PAD] [PAD] [PAD] [PAD] [PAD] [PAD] [PAD] [PAD] [PAD] [PAD] [PAD] [PAD] [PAD] [PAD] [PAD] [PAD] [PAD] [PAD] [PAD] [PAD] [PAD] [PAD] [PAD] [PAD] [PAD] [PAD] [PAD] [PAD] [PAD] [PAD] [PAD] [PAD] [PAD] [PAD] [PAD] [PAD] [PAD] [PAD] [PAD] [PAD] [PAD] [PAD] [PAD] [PAD] [PAD] [PAD] [PAD] [PAD] [PAD] [PAD] [PAD] [PAD] [PAD] [PAD] [PAD] [PAD] [PAD] [PAD] [PAD] [PAD] [PAD] [PAD]\n",
      "predicted text  les les futen de spacious a on auitom les [SEP] [PAD] [PAD] [PAD] [PAD] [PAD] [PAD] [PAD] [PAD] [PAD] [PAD] [PAD] [PAD] [PAD] [PAD] [PAD] [PAD] [PAD] [PAD] [PAD] [PAD] [PAD] [PAD] [PAD] [PAD] [PAD] [PAD] [PAD] [PAD] [PAD] [PAD] [PAD] [PAD] [PAD] [PAD] [PAD] [PAD] [PAD] [PAD] [PAD] [PAD] [PAD] [PAD] [PAD] [PAD] [PAD] [PAD] [PAD] [PAD] [PAD] [PAD] [PAD] [PAD] [PAD] [PAD] [PAD] [PAD] [PAD] [PAD] [PAD] [PAD] [PAD] [PAD] [PAD] [PAD] [PAD] [PAD] [PAD] [PAD] [PAD] [PAD] [PAD] [PAD] [PAD] [PAD] [PAD] [PAD] [PAD] [PAD] [PAD] [PAD] [PAD] [PAD] [PAD] [PAD] [PAD] [PAD] [PAD]\n"
     ]
    }
   ],
   "source": [
    "print (\"original text \", original_texts[0])\n",
    "print (\"predicted text \", predicted_texts[0])"
   ]
  },
  {
   "cell_type": "code",
   "execution_count": 35,
   "metadata": {
    "execution": {
     "iopub.execute_input": "2021-02-01T11:59:55.078936Z",
     "iopub.status.busy": "2021-02-01T11:59:55.073714Z",
     "iopub.status.idle": "2021-02-01T11:59:55.175265Z",
     "shell.execute_reply": "2021-02-01T11:59:55.174731Z"
    },
    "papermill": {
     "duration": 0.257906,
     "end_time": "2021-02-01T11:59:55.175401",
     "exception": false,
     "start_time": "2021-02-01T11:59:54.917495",
     "status": "completed"
    },
    "tags": []
   },
   "outputs": [],
   "source": [
    "predicted_texts = []\n",
    "\n",
    "for i in best_val_logits:\n",
    "    text = decoder_tokenizer.decode(i).split()\n",
    "    text = [k for k in text if k not in ['[CLS]','[SEP]','[PAD]']]\n",
    "    predicted_texts.append(\" \".join(text).strip())"
   ]
  },
  {
   "cell_type": "code",
   "execution_count": 36,
   "metadata": {
    "execution": {
     "iopub.execute_input": "2021-02-01T11:59:55.412109Z",
     "iopub.status.busy": "2021-02-01T11:59:55.411196Z",
     "iopub.status.idle": "2021-02-01T11:59:55.414149Z",
     "shell.execute_reply": "2021-02-01T11:59:55.413500Z"
    },
    "papermill": {
     "duration": 0.122772,
     "end_time": "2021-02-01T11:59:55.414280",
     "exception": false,
     "start_time": "2021-02-01T11:59:55.291508",
     "status": "completed"
    },
    "tags": []
   },
   "outputs": [],
   "source": [
    "val['predicted_text'] = predicted_texts"
   ]
  },
  {
   "cell_type": "code",
   "execution_count": 37,
   "metadata": {
    "execution": {
     "iopub.execute_input": "2021-02-01T11:59:55.649774Z",
     "iopub.status.busy": "2021-02-01T11:59:55.649107Z",
     "iopub.status.idle": "2021-02-01T11:59:56.219708Z",
     "shell.execute_reply": "2021-02-01T11:59:56.220749Z"
    },
    "papermill": {
     "duration": 0.689054,
     "end_time": "2021-02-01T11:59:56.221006",
     "exception": false,
     "start_time": "2021-02-01T11:59:55.531952",
     "status": "completed"
    },
    "tags": []
   },
   "outputs": [],
   "source": [
    "import numpy as np\n",
    "import  nltk.translate.bleu_score as bleu"
   ]
  },
  {
   "cell_type": "code",
   "execution_count": 38,
   "metadata": {
    "execution": {
     "iopub.execute_input": "2021-02-01T11:59:56.558653Z",
     "iopub.status.busy": "2021-02-01T11:59:56.557671Z",
     "iopub.status.idle": "2021-02-01T11:59:56.571568Z",
     "shell.execute_reply": "2021-02-01T11:59:56.571068Z"
    },
    "papermill": {
     "duration": 0.190097,
     "end_time": "2021-02-01T11:59:56.571705",
     "exception": false,
     "start_time": "2021-02-01T11:59:56.381608",
     "status": "completed"
    },
    "tags": []
   },
   "outputs": [],
   "source": [
    "def WRR(text1,text2):\n",
    "    a = set(text1.lower().split())\n",
    "    b = set(text2.lower().split())\n",
    "    \n",
    "    if (len(a) == 0) and (len(b) == 0):\n",
    "        return .5\n",
    "    \n",
    "    c = a.intersection(b)\n",
    "    return float(len(c))/(len(a) + len(b) - len(c))\n",
    "\n",
    "def levenshtein(seq1, seq2):\n",
    "    seq1 = seq1.lower()\n",
    "    seq2 = seq2.lower()\n",
    "    \n",
    "    size_x = len(seq1) + 1\n",
    "    size_y = len(seq2) + 1\n",
    "    matrix = np.zeros ((size_x, size_y))\n",
    "    for x in range(size_x):\n",
    "        matrix [x, 0] = x\n",
    "    for y in range(size_y):\n",
    "        matrix [0, y] = y\n",
    "\n",
    "    for x in range(1, size_x):\n",
    "        for y in range(1, size_y):\n",
    "            if seq1[x-1] == seq2[y-1]:\n",
    "                matrix [x,y] = min(\n",
    "                    matrix[x-1, y] + 1,\n",
    "                    matrix[x-1, y-1],\n",
    "                    matrix[x, y-1] + 1\n",
    "                )\n",
    "            else:\n",
    "                matrix [x,y] = min(\n",
    "                    matrix[x-1,y] + 1,\n",
    "                    matrix[x-1,y-1] + 1,\n",
    "                    matrix[x,y-1] + 1\n",
    "                )\n",
    "    #print (matrix)\n",
    "    return (matrix[size_x - 1, size_y - 1])\n",
    "\n",
    "def CRR(text1, text2):\n",
    "    try:\n",
    "        return 1 - float(levenshtein(text1,text2))/max(len(text1),len(text2))\n",
    "    except:\n",
    "        return 0\n",
    "\n",
    "def bleu_score(text1,text2):\n",
    "    return bleu.sentence_bleu([text1.lower().split()],text2.lower().split())"
   ]
  },
  {
   "cell_type": "code",
   "execution_count": 39,
   "metadata": {
    "execution": {
     "iopub.execute_input": "2021-02-01T11:59:56.805519Z",
     "iopub.status.busy": "2021-02-01T11:59:56.804675Z",
     "iopub.status.idle": "2021-02-01T11:59:57.198358Z",
     "shell.execute_reply": "2021-02-01T11:59:57.197719Z"
    },
    "papermill": {
     "duration": 0.512263,
     "end_time": "2021-02-01T11:59:57.198518",
     "exception": false,
     "start_time": "2021-02-01T11:59:56.686255",
     "status": "completed"
    },
    "tags": []
   },
   "outputs": [],
   "source": [
    "val['text_len'] = val.original.apply(lambda x: len(encoder_tokenizer.encode(x, max_length=512, add_special_tokens=True)))\n",
    "val = val[val.text_len < MAX_LEN].reset_index(drop=True)"
   ]
  },
  {
   "cell_type": "code",
   "execution_count": 40,
   "metadata": {
    "execution": {
     "iopub.execute_input": "2021-02-01T11:59:57.436160Z",
     "iopub.status.busy": "2021-02-01T11:59:57.435575Z",
     "iopub.status.idle": "2021-02-01T11:59:58.077910Z",
     "shell.execute_reply": "2021-02-01T11:59:58.077404Z"
    },
    "papermill": {
     "duration": 0.761281,
     "end_time": "2021-02-01T11:59:58.078069",
     "exception": false,
     "start_time": "2021-02-01T11:59:57.316788",
     "status": "completed"
    },
    "tags": []
   },
   "outputs": [
    {
     "name": "stderr",
     "output_type": "stream",
     "text": [
      "/opt/conda/lib/python3.7/site-packages/nltk/translate/bleu_score.py:490: UserWarning: \n",
      "Corpus/Sentence contains 0 counts of 2-gram overlaps.\n",
      "BLEU scores might be undesirable; use SmoothingFunction().\n",
      "  warnings.warn(_msg)\n",
      "/opt/conda/lib/python3.7/site-packages/nltk/translate/bleu_score.py:490: UserWarning: \n",
      "Corpus/Sentence contains 0 counts of 3-gram overlaps.\n",
      "BLEU scores might be undesirable; use SmoothingFunction().\n",
      "  warnings.warn(_msg)\n",
      "/opt/conda/lib/python3.7/site-packages/nltk/translate/bleu_score.py:490: UserWarning: \n",
      "Corpus/Sentence contains 0 counts of 4-gram overlaps.\n",
      "BLEU scores might be undesirable; use SmoothingFunction().\n",
      "  warnings.warn(_msg)\n"
     ]
    }
   ],
   "source": [
    "val['BLEU'] = val.apply(lambda x: bleu_score(x.predicted_text, x.solution), axis=1)"
   ]
  },
  {
   "cell_type": "code",
   "execution_count": 41,
   "metadata": {
    "execution": {
     "iopub.execute_input": "2021-02-01T11:59:58.327924Z",
     "iopub.status.busy": "2021-02-01T11:59:58.326956Z",
     "iopub.status.idle": "2021-02-01T11:59:58.335355Z",
     "shell.execute_reply": "2021-02-01T11:59:58.334692Z"
    },
    "papermill": {
     "duration": 0.13769,
     "end_time": "2021-02-01T11:59:58.335512",
     "exception": false,
     "start_time": "2021-02-01T11:59:58.197822",
     "status": "completed"
    },
    "tags": []
   },
   "outputs": [
    {
     "data": {
      "text/plain": [
       "count    1994.000000\n",
       "mean        0.449842\n",
       "std         0.212884\n",
       "min         0.000000\n",
       "25%         0.347853\n",
       "50%         0.526640\n",
       "75%         0.598379\n",
       "max         0.795271\n",
       "Name: BLEU, dtype: float64"
      ]
     },
     "execution_count": 41,
     "metadata": {},
     "output_type": "execute_result"
    }
   ],
   "source": [
    "val.BLEU.describe()"
   ]
  },
  {
   "cell_type": "code",
   "execution_count": 42,
   "metadata": {
    "execution": {
     "iopub.execute_input": "2021-02-01T11:59:58.612674Z",
     "iopub.status.busy": "2021-02-01T11:59:58.611947Z",
     "iopub.status.idle": "2021-02-01T11:59:58.773766Z",
     "shell.execute_reply": "2021-02-01T11:59:58.773167Z"
    },
    "papermill": {
     "duration": 0.304338,
     "end_time": "2021-02-01T11:59:58.773932",
     "exception": false,
     "start_time": "2021-02-01T11:59:58.469594",
     "status": "completed"
    },
    "tags": []
   },
   "outputs": [],
   "source": [
    "val.to_csv('nmt_outputs_french_delete_augumented.csv',index=False)"
   ]
  }
 ],
 "metadata": {
  "kernelspec": {
   "display_name": "Python 3",
   "language": "python",
   "name": "python3"
  },
  "language_info": {
   "codemirror_mode": {
    "name": "ipython",
    "version": 3
   },
   "file_extension": ".py",
   "mimetype": "text/x-python",
   "name": "python",
   "nbconvert_exporter": "python",
   "pygments_lexer": "ipython3",
   "version": "3.6.10"
  },
  "papermill": {
   "default_parameters": {},
   "duration": 3809.934576,
   "end_time": "2021-02-01T12:00:02.106162",
   "environment_variables": {},
   "exception": null,
   "input_path": "__notebook__.ipynb",
   "output_path": "__notebook__.ipynb",
   "parameters": {},
   "start_time": "2021-02-01T10:56:32.171586",
   "version": "2.2.2"
  },
  "widgets": {
   "application/vnd.jupyter.widget-state+json": {
    "state": {
     "0ac628c44282461c9a54ec818d6f1515": {
      "model_module": "@jupyter-widgets/controls",
      "model_module_version": "1.5.0",
      "model_name": "DescriptionStyleModel",
      "state": {
       "_model_module": "@jupyter-widgets/controls",
       "_model_module_version": "1.5.0",
       "_model_name": "DescriptionStyleModel",
       "_view_count": null,
       "_view_module": "@jupyter-widgets/base",
       "_view_module_version": "1.2.0",
       "_view_name": "StyleView",
       "description_width": ""
      }
     },
     "14f5421976674a3a9ec702a1e2c61360": {
      "model_module": "@jupyter-widgets/controls",
      "model_module_version": "1.5.0",
      "model_name": "DescriptionStyleModel",
      "state": {
       "_model_module": "@jupyter-widgets/controls",
       "_model_module_version": "1.5.0",
       "_model_name": "DescriptionStyleModel",
       "_view_count": null,
       "_view_module": "@jupyter-widgets/base",
       "_view_module_version": "1.2.0",
       "_view_name": "StyleView",
       "description_width": ""
      }
     },
     "15ae0c0464df4247afd4e83dd3aceaf1": {
      "model_module": "@jupyter-widgets/base",
      "model_module_version": "1.2.0",
      "model_name": "LayoutModel",
      "state": {
       "_model_module": "@jupyter-widgets/base",
       "_model_module_version": "1.2.0",
       "_model_name": "LayoutModel",
       "_view_count": null,
       "_view_module": "@jupyter-widgets/base",
       "_view_module_version": "1.2.0",
       "_view_name": "LayoutView",
       "align_content": null,
       "align_items": null,
       "align_self": null,
       "border": null,
       "bottom": null,
       "display": null,
       "flex": null,
       "flex_flow": null,
       "grid_area": null,
       "grid_auto_columns": null,
       "grid_auto_flow": null,
       "grid_auto_rows": null,
       "grid_column": null,
       "grid_gap": null,
       "grid_row": null,
       "grid_template_areas": null,
       "grid_template_columns": null,
       "grid_template_rows": null,
       "height": null,
       "justify_content": null,
       "justify_items": null,
       "left": null,
       "margin": null,
       "max_height": null,
       "max_width": null,
       "min_height": null,
       "min_width": null,
       "object_fit": null,
       "object_position": null,
       "order": null,
       "overflow": null,
       "overflow_x": null,
       "overflow_y": null,
       "padding": null,
       "right": null,
       "top": null,
       "visibility": null,
       "width": null
      }
     },
     "1b5e57a54c7d4f3782ad6f1e2b96aa5d": {
      "model_module": "@jupyter-widgets/base",
      "model_module_version": "1.2.0",
      "model_name": "LayoutModel",
      "state": {
       "_model_module": "@jupyter-widgets/base",
       "_model_module_version": "1.2.0",
       "_model_name": "LayoutModel",
       "_view_count": null,
       "_view_module": "@jupyter-widgets/base",
       "_view_module_version": "1.2.0",
       "_view_name": "LayoutView",
       "align_content": null,
       "align_items": null,
       "align_self": null,
       "border": null,
       "bottom": null,
       "display": null,
       "flex": null,
       "flex_flow": null,
       "grid_area": null,
       "grid_auto_columns": null,
       "grid_auto_flow": null,
       "grid_auto_rows": null,
       "grid_column": null,
       "grid_gap": null,
       "grid_row": null,
       "grid_template_areas": null,
       "grid_template_columns": null,
       "grid_template_rows": null,
       "height": null,
       "justify_content": null,
       "justify_items": null,
       "left": null,
       "margin": null,
       "max_height": null,
       "max_width": null,
       "min_height": null,
       "min_width": null,
       "object_fit": null,
       "object_position": null,
       "order": null,
       "overflow": null,
       "overflow_x": null,
       "overflow_y": null,
       "padding": null,
       "right": null,
       "top": null,
       "visibility": null,
       "width": null
      }
     },
     "1b8d44910f5b4fca92db0a37a26744db": {
      "model_module": "@jupyter-widgets/base",
      "model_module_version": "1.2.0",
      "model_name": "LayoutModel",
      "state": {
       "_model_module": "@jupyter-widgets/base",
       "_model_module_version": "1.2.0",
       "_model_name": "LayoutModel",
       "_view_count": null,
       "_view_module": "@jupyter-widgets/base",
       "_view_module_version": "1.2.0",
       "_view_name": "LayoutView",
       "align_content": null,
       "align_items": null,
       "align_self": null,
       "border": null,
       "bottom": null,
       "display": null,
       "flex": null,
       "flex_flow": null,
       "grid_area": null,
       "grid_auto_columns": null,
       "grid_auto_flow": null,
       "grid_auto_rows": null,
       "grid_column": null,
       "grid_gap": null,
       "grid_row": null,
       "grid_template_areas": null,
       "grid_template_columns": null,
       "grid_template_rows": null,
       "height": null,
       "justify_content": null,
       "justify_items": null,
       "left": null,
       "margin": null,
       "max_height": null,
       "max_width": null,
       "min_height": null,
       "min_width": null,
       "object_fit": null,
       "object_position": null,
       "order": null,
       "overflow": null,
       "overflow_x": null,
       "overflow_y": null,
       "padding": null,
       "right": null,
       "top": null,
       "visibility": null,
       "width": null
      }
     },
     "1f5405d12f1e4e80b20b9d98d7c64fa2": {
      "model_module": "@jupyter-widgets/controls",
      "model_module_version": "1.5.0",
      "model_name": "HTMLModel",
      "state": {
       "_dom_classes": [],
       "_model_module": "@jupyter-widgets/controls",
       "_model_module_version": "1.5.0",
       "_model_name": "HTMLModel",
       "_view_count": null,
       "_view_module": "@jupyter-widgets/controls",
       "_view_module_version": "1.5.0",
       "_view_name": "HTMLView",
       "description": "",
       "description_tooltip": null,
       "layout": "IPY_MODEL_55013813b11741cea53588f72a6243af",
       "placeholder": "​",
       "style": "IPY_MODEL_25cecffbb0ca431589b694f4c90c1319",
       "value": "Downloading: 100%"
      }
     },
     "1f80460556534fff9910f0eec9f5650c": {
      "model_module": "@jupyter-widgets/controls",
      "model_module_version": "1.5.0",
      "model_name": "HTMLModel",
      "state": {
       "_dom_classes": [],
       "_model_module": "@jupyter-widgets/controls",
       "_model_module_version": "1.5.0",
       "_model_name": "HTMLModel",
       "_view_count": null,
       "_view_module": "@jupyter-widgets/controls",
       "_view_module_version": "1.5.0",
       "_view_name": "HTMLView",
       "description": "",
       "description_tooltip": null,
       "layout": "IPY_MODEL_b60dcd8cf3aa4144af7c0ceaa2e8986b",
       "placeholder": "​",
       "style": "IPY_MODEL_42b42dd61d6f42b18d3de62a751dc24f",
       "value": " 433/433 [00:00&lt;00:00, 13.9kB/s]"
      }
     },
     "20ea717c3d534f1c9b3d3d4b62a7bdf3": {
      "model_module": "@jupyter-widgets/base",
      "model_module_version": "1.2.0",
      "model_name": "LayoutModel",
      "state": {
       "_model_module": "@jupyter-widgets/base",
       "_model_module_version": "1.2.0",
       "_model_name": "LayoutModel",
       "_view_count": null,
       "_view_module": "@jupyter-widgets/base",
       "_view_module_version": "1.2.0",
       "_view_name": "LayoutView",
       "align_content": null,
       "align_items": null,
       "align_self": null,
       "border": null,
       "bottom": null,
       "display": null,
       "flex": null,
       "flex_flow": null,
       "grid_area": null,
       "grid_auto_columns": null,
       "grid_auto_flow": null,
       "grid_auto_rows": null,
       "grid_column": null,
       "grid_gap": null,
       "grid_row": null,
       "grid_template_areas": null,
       "grid_template_columns": null,
       "grid_template_rows": null,
       "height": null,
       "justify_content": null,
       "justify_items": null,
       "left": null,
       "margin": null,
       "max_height": null,
       "max_width": null,
       "min_height": null,
       "min_width": null,
       "object_fit": null,
       "object_position": null,
       "order": null,
       "overflow": null,
       "overflow_x": null,
       "overflow_y": null,
       "padding": null,
       "right": null,
       "top": null,
       "visibility": null,
       "width": null
      }
     },
     "231ec84e46464e2a8ccbe69084127b93": {
      "model_module": "@jupyter-widgets/base",
      "model_module_version": "1.2.0",
      "model_name": "LayoutModel",
      "state": {
       "_model_module": "@jupyter-widgets/base",
       "_model_module_version": "1.2.0",
       "_model_name": "LayoutModel",
       "_view_count": null,
       "_view_module": "@jupyter-widgets/base",
       "_view_module_version": "1.2.0",
       "_view_name": "LayoutView",
       "align_content": null,
       "align_items": null,
       "align_self": null,
       "border": null,
       "bottom": null,
       "display": null,
       "flex": null,
       "flex_flow": null,
       "grid_area": null,
       "grid_auto_columns": null,
       "grid_auto_flow": null,
       "grid_auto_rows": null,
       "grid_column": null,
       "grid_gap": null,
       "grid_row": null,
       "grid_template_areas": null,
       "grid_template_columns": null,
       "grid_template_rows": null,
       "height": null,
       "justify_content": null,
       "justify_items": null,
       "left": null,
       "margin": null,
       "max_height": null,
       "max_width": null,
       "min_height": null,
       "min_width": null,
       "object_fit": null,
       "object_position": null,
       "order": null,
       "overflow": null,
       "overflow_x": null,
       "overflow_y": null,
       "padding": null,
       "right": null,
       "top": null,
       "visibility": null,
       "width": null
      }
     },
     "2412eb28a3c840c2832b94100b12448c": {
      "model_module": "@jupyter-widgets/base",
      "model_module_version": "1.2.0",
      "model_name": "LayoutModel",
      "state": {
       "_model_module": "@jupyter-widgets/base",
       "_model_module_version": "1.2.0",
       "_model_name": "LayoutModel",
       "_view_count": null,
       "_view_module": "@jupyter-widgets/base",
       "_view_module_version": "1.2.0",
       "_view_name": "LayoutView",
       "align_content": null,
       "align_items": null,
       "align_self": null,
       "border": null,
       "bottom": null,
       "display": null,
       "flex": null,
       "flex_flow": null,
       "grid_area": null,
       "grid_auto_columns": null,
       "grid_auto_flow": null,
       "grid_auto_rows": null,
       "grid_column": null,
       "grid_gap": null,
       "grid_row": null,
       "grid_template_areas": null,
       "grid_template_columns": null,
       "grid_template_rows": null,
       "height": null,
       "justify_content": null,
       "justify_items": null,
       "left": null,
       "margin": null,
       "max_height": null,
       "max_width": null,
       "min_height": null,
       "min_width": null,
       "object_fit": null,
       "object_position": null,
       "order": null,
       "overflow": null,
       "overflow_x": null,
       "overflow_y": null,
       "padding": null,
       "right": null,
       "top": null,
       "visibility": null,
       "width": null
      }
     },
     "25cecffbb0ca431589b694f4c90c1319": {
      "model_module": "@jupyter-widgets/controls",
      "model_module_version": "1.5.0",
      "model_name": "DescriptionStyleModel",
      "state": {
       "_model_module": "@jupyter-widgets/controls",
       "_model_module_version": "1.5.0",
       "_model_name": "DescriptionStyleModel",
       "_view_count": null,
       "_view_module": "@jupyter-widgets/base",
       "_view_module_version": "1.2.0",
       "_view_name": "StyleView",
       "description_width": ""
      }
     },
     "26559724f9b3452bacdfc06163fe938a": {
      "model_module": "@jupyter-widgets/controls",
      "model_module_version": "1.5.0",
      "model_name": "HBoxModel",
      "state": {
       "_dom_classes": [],
       "_model_module": "@jupyter-widgets/controls",
       "_model_module_version": "1.5.0",
       "_model_name": "HBoxModel",
       "_view_count": null,
       "_view_module": "@jupyter-widgets/controls",
       "_view_module_version": "1.5.0",
       "_view_name": "HBoxView",
       "box_style": "",
       "children": [
        "IPY_MODEL_8a0c365bcdf5475580c4a4cbc71aabe5",
        "IPY_MODEL_8b9e29302f2f4fa79a29146744347698",
        "IPY_MODEL_f3cb01f3cd704e29bc892caba20a52e2"
       ],
       "layout": "IPY_MODEL_f9c80d38b17e4d1e86589263d8268586"
      }
     },
     "275f28c7ba424203b452871e1a245912": {
      "model_module": "@jupyter-widgets/base",
      "model_module_version": "1.2.0",
      "model_name": "LayoutModel",
      "state": {
       "_model_module": "@jupyter-widgets/base",
       "_model_module_version": "1.2.0",
       "_model_name": "LayoutModel",
       "_view_count": null,
       "_view_module": "@jupyter-widgets/base",
       "_view_module_version": "1.2.0",
       "_view_name": "LayoutView",
       "align_content": null,
       "align_items": null,
       "align_self": null,
       "border": null,
       "bottom": null,
       "display": null,
       "flex": null,
       "flex_flow": null,
       "grid_area": null,
       "grid_auto_columns": null,
       "grid_auto_flow": null,
       "grid_auto_rows": null,
       "grid_column": null,
       "grid_gap": null,
       "grid_row": null,
       "grid_template_areas": null,
       "grid_template_columns": null,
       "grid_template_rows": null,
       "height": null,
       "justify_content": null,
       "justify_items": null,
       "left": null,
       "margin": null,
       "max_height": null,
       "max_width": null,
       "min_height": null,
       "min_width": null,
       "object_fit": null,
       "object_position": null,
       "order": null,
       "overflow": null,
       "overflow_x": null,
       "overflow_y": null,
       "padding": null,
       "right": null,
       "top": null,
       "visibility": null,
       "width": null
      }
     },
     "2a04432e1bcf4d559cb604619c77144a": {
      "model_module": "@jupyter-widgets/controls",
      "model_module_version": "1.5.0",
      "model_name": "DescriptionStyleModel",
      "state": {
       "_model_module": "@jupyter-widgets/controls",
       "_model_module_version": "1.5.0",
       "_model_name": "DescriptionStyleModel",
       "_view_count": null,
       "_view_module": "@jupyter-widgets/base",
       "_view_module_version": "1.2.0",
       "_view_name": "StyleView",
       "description_width": ""
      }
     },
     "2f5f302e3fa3479ab550591e97d1a50e": {
      "model_module": "@jupyter-widgets/controls",
      "model_module_version": "1.5.0",
      "model_name": "HTMLModel",
      "state": {
       "_dom_classes": [],
       "_model_module": "@jupyter-widgets/controls",
       "_model_module_version": "1.5.0",
       "_model_name": "HTMLModel",
       "_view_count": null,
       "_view_module": "@jupyter-widgets/controls",
       "_view_module_version": "1.5.0",
       "_view_name": "HTMLView",
       "description": "",
       "description_tooltip": null,
       "layout": "IPY_MODEL_f845b24703b94874b4de2ba9547e1441",
       "placeholder": "​",
       "style": "IPY_MODEL_67a327736a2140df8af6ce4c3f98e443",
       "value": "Downloading: 100%"
      }
     },
     "3235729a0a41475d813de44893d39bc9": {
      "model_module": "@jupyter-widgets/base",
      "model_module_version": "1.2.0",
      "model_name": "LayoutModel",
      "state": {
       "_model_module": "@jupyter-widgets/base",
       "_model_module_version": "1.2.0",
       "_model_name": "LayoutModel",
       "_view_count": null,
       "_view_module": "@jupyter-widgets/base",
       "_view_module_version": "1.2.0",
       "_view_name": "LayoutView",
       "align_content": null,
       "align_items": null,
       "align_self": null,
       "border": null,
       "bottom": null,
       "display": null,
       "flex": null,
       "flex_flow": null,
       "grid_area": null,
       "grid_auto_columns": null,
       "grid_auto_flow": null,
       "grid_auto_rows": null,
       "grid_column": null,
       "grid_gap": null,
       "grid_row": null,
       "grid_template_areas": null,
       "grid_template_columns": null,
       "grid_template_rows": null,
       "height": null,
       "justify_content": null,
       "justify_items": null,
       "left": null,
       "margin": null,
       "max_height": null,
       "max_width": null,
       "min_height": null,
       "min_width": null,
       "object_fit": null,
       "object_position": null,
       "order": null,
       "overflow": null,
       "overflow_x": null,
       "overflow_y": null,
       "padding": null,
       "right": null,
       "top": null,
       "visibility": null,
       "width": null
      }
     },
     "3415413827ed459fa060488322dd2f13": {
      "model_module": "@jupyter-widgets/base",
      "model_module_version": "1.2.0",
      "model_name": "LayoutModel",
      "state": {
       "_model_module": "@jupyter-widgets/base",
       "_model_module_version": "1.2.0",
       "_model_name": "LayoutModel",
       "_view_count": null,
       "_view_module": "@jupyter-widgets/base",
       "_view_module_version": "1.2.0",
       "_view_name": "LayoutView",
       "align_content": null,
       "align_items": null,
       "align_self": null,
       "border": null,
       "bottom": null,
       "display": null,
       "flex": null,
       "flex_flow": null,
       "grid_area": null,
       "grid_auto_columns": null,
       "grid_auto_flow": null,
       "grid_auto_rows": null,
       "grid_column": null,
       "grid_gap": null,
       "grid_row": null,
       "grid_template_areas": null,
       "grid_template_columns": null,
       "grid_template_rows": null,
       "height": null,
       "justify_content": null,
       "justify_items": null,
       "left": null,
       "margin": null,
       "max_height": null,
       "max_width": null,
       "min_height": null,
       "min_width": null,
       "object_fit": null,
       "object_position": null,
       "order": null,
       "overflow": null,
       "overflow_x": null,
       "overflow_y": null,
       "padding": null,
       "right": null,
       "top": null,
       "visibility": null,
       "width": null
      }
     },
     "3a66e43f32ab4e1a935673c5c670059b": {
      "model_module": "@jupyter-widgets/base",
      "model_module_version": "1.2.0",
      "model_name": "LayoutModel",
      "state": {
       "_model_module": "@jupyter-widgets/base",
       "_model_module_version": "1.2.0",
       "_model_name": "LayoutModel",
       "_view_count": null,
       "_view_module": "@jupyter-widgets/base",
       "_view_module_version": "1.2.0",
       "_view_name": "LayoutView",
       "align_content": null,
       "align_items": null,
       "align_self": null,
       "border": null,
       "bottom": null,
       "display": null,
       "flex": null,
       "flex_flow": null,
       "grid_area": null,
       "grid_auto_columns": null,
       "grid_auto_flow": null,
       "grid_auto_rows": null,
       "grid_column": null,
       "grid_gap": null,
       "grid_row": null,
       "grid_template_areas": null,
       "grid_template_columns": null,
       "grid_template_rows": null,
       "height": null,
       "justify_content": null,
       "justify_items": null,
       "left": null,
       "margin": null,
       "max_height": null,
       "max_width": null,
       "min_height": null,
       "min_width": null,
       "object_fit": null,
       "object_position": null,
       "order": null,
       "overflow": null,
       "overflow_x": null,
       "overflow_y": null,
       "padding": null,
       "right": null,
       "top": null,
       "visibility": null,
       "width": null
      }
     },
     "42b42dd61d6f42b18d3de62a751dc24f": {
      "model_module": "@jupyter-widgets/controls",
      "model_module_version": "1.5.0",
      "model_name": "DescriptionStyleModel",
      "state": {
       "_model_module": "@jupyter-widgets/controls",
       "_model_module_version": "1.5.0",
       "_model_name": "DescriptionStyleModel",
       "_view_count": null,
       "_view_module": "@jupyter-widgets/base",
       "_view_module_version": "1.2.0",
       "_view_name": "StyleView",
       "description_width": ""
      }
     },
     "4789b97fd1c84c208cca1056ee3267ca": {
      "model_module": "@jupyter-widgets/controls",
      "model_module_version": "1.5.0",
      "model_name": "HBoxModel",
      "state": {
       "_dom_classes": [],
       "_model_module": "@jupyter-widgets/controls",
       "_model_module_version": "1.5.0",
       "_model_name": "HBoxModel",
       "_view_count": null,
       "_view_module": "@jupyter-widgets/controls",
       "_view_module_version": "1.5.0",
       "_view_name": "HBoxView",
       "box_style": "",
       "children": [
        "IPY_MODEL_f8366bbf84394bbea82ee4ea7ed470cf",
        "IPY_MODEL_5fdb45920e894886890f5722ac4fb3a3",
        "IPY_MODEL_9ff4494b3e6f4b979a3d26a001cce99f"
       ],
       "layout": "IPY_MODEL_3235729a0a41475d813de44893d39bc9"
      }
     },
     "55013813b11741cea53588f72a6243af": {
      "model_module": "@jupyter-widgets/base",
      "model_module_version": "1.2.0",
      "model_name": "LayoutModel",
      "state": {
       "_model_module": "@jupyter-widgets/base",
       "_model_module_version": "1.2.0",
       "_model_name": "LayoutModel",
       "_view_count": null,
       "_view_module": "@jupyter-widgets/base",
       "_view_module_version": "1.2.0",
       "_view_name": "LayoutView",
       "align_content": null,
       "align_items": null,
       "align_self": null,
       "border": null,
       "bottom": null,
       "display": null,
       "flex": null,
       "flex_flow": null,
       "grid_area": null,
       "grid_auto_columns": null,
       "grid_auto_flow": null,
       "grid_auto_rows": null,
       "grid_column": null,
       "grid_gap": null,
       "grid_row": null,
       "grid_template_areas": null,
       "grid_template_columns": null,
       "grid_template_rows": null,
       "height": null,
       "justify_content": null,
       "justify_items": null,
       "left": null,
       "margin": null,
       "max_height": null,
       "max_width": null,
       "min_height": null,
       "min_width": null,
       "object_fit": null,
       "object_position": null,
       "order": null,
       "overflow": null,
       "overflow_x": null,
       "overflow_y": null,
       "padding": null,
       "right": null,
       "top": null,
       "visibility": null,
       "width": null
      }
     },
     "590cb8e309e84a5389fb34b8d5dd0d17": {
      "model_module": "@jupyter-widgets/controls",
      "model_module_version": "1.5.0",
      "model_name": "DescriptionStyleModel",
      "state": {
       "_model_module": "@jupyter-widgets/controls",
       "_model_module_version": "1.5.0",
       "_model_name": "DescriptionStyleModel",
       "_view_count": null,
       "_view_module": "@jupyter-widgets/base",
       "_view_module_version": "1.2.0",
       "_view_name": "StyleView",
       "description_width": ""
      }
     },
     "593c4d74ad3a4e17bc0cf16334c11c0d": {
      "model_module": "@jupyter-widgets/controls",
      "model_module_version": "1.5.0",
      "model_name": "ProgressStyleModel",
      "state": {
       "_model_module": "@jupyter-widgets/controls",
       "_model_module_version": "1.5.0",
       "_model_name": "ProgressStyleModel",
       "_view_count": null,
       "_view_module": "@jupyter-widgets/base",
       "_view_module_version": "1.2.0",
       "_view_name": "StyleView",
       "bar_color": null,
       "description_width": ""
      }
     },
     "5d65986372c14374b700f985ceb1c81b": {
      "model_module": "@jupyter-widgets/controls",
      "model_module_version": "1.5.0",
      "model_name": "DescriptionStyleModel",
      "state": {
       "_model_module": "@jupyter-widgets/controls",
       "_model_module_version": "1.5.0",
       "_model_name": "DescriptionStyleModel",
       "_view_count": null,
       "_view_module": "@jupyter-widgets/base",
       "_view_module_version": "1.2.0",
       "_view_name": "StyleView",
       "description_width": ""
      }
     },
     "5ee71f08960e42539def70bf288403d3": {
      "model_module": "@jupyter-widgets/controls",
      "model_module_version": "1.5.0",
      "model_name": "HTMLModel",
      "state": {
       "_dom_classes": [],
       "_model_module": "@jupyter-widgets/controls",
       "_model_module_version": "1.5.0",
       "_model_name": "HTMLModel",
       "_view_count": null,
       "_view_module": "@jupyter-widgets/controls",
       "_view_module_version": "1.5.0",
       "_view_name": "HTMLView",
       "description": "",
       "description_tooltip": null,
       "layout": "IPY_MODEL_f6b39dfea3e3451f9bc52bb216fea8da",
       "placeholder": "​",
       "style": "IPY_MODEL_8410677007744f96ba7ea37012096c8a",
       "value": "Downloading: 100%"
      }
     },
     "5fdb45920e894886890f5722ac4fb3a3": {
      "model_module": "@jupyter-widgets/controls",
      "model_module_version": "1.5.0",
      "model_name": "FloatProgressModel",
      "state": {
       "_dom_classes": [],
       "_model_module": "@jupyter-widgets/controls",
       "_model_module_version": "1.5.0",
       "_model_name": "FloatProgressModel",
       "_view_count": null,
       "_view_module": "@jupyter-widgets/controls",
       "_view_module_version": "1.5.0",
       "_view_name": "ProgressView",
       "bar_style": "success",
       "description": "",
       "description_tooltip": null,
       "layout": "IPY_MODEL_1b8d44910f5b4fca92db0a37a26744db",
       "max": 466062,
       "min": 0,
       "orientation": "horizontal",
       "style": "IPY_MODEL_ff1badc41eb84e83bf87af6ca779b5ac",
       "value": 466062
      }
     },
     "6088d7cb7a7545b19e3fbe57b8453524": {
      "model_module": "@jupyter-widgets/controls",
      "model_module_version": "1.5.0",
      "model_name": "DescriptionStyleModel",
      "state": {
       "_model_module": "@jupyter-widgets/controls",
       "_model_module_version": "1.5.0",
       "_model_name": "DescriptionStyleModel",
       "_view_count": null,
       "_view_module": "@jupyter-widgets/base",
       "_view_module_version": "1.2.0",
       "_view_name": "StyleView",
       "description_width": ""
      }
     },
     "6216c4915c364906812d1f6990167bc8": {
      "model_module": "@jupyter-widgets/controls",
      "model_module_version": "1.5.0",
      "model_name": "FloatProgressModel",
      "state": {
       "_dom_classes": [],
       "_model_module": "@jupyter-widgets/controls",
       "_model_module_version": "1.5.0",
       "_model_name": "FloatProgressModel",
       "_view_count": null,
       "_view_module": "@jupyter-widgets/controls",
       "_view_module_version": "1.5.0",
       "_view_name": "ProgressView",
       "bar_style": "success",
       "description": "",
       "description_tooltip": null,
       "layout": "IPY_MODEL_275f28c7ba424203b452871e1a245912",
       "max": 231508,
       "min": 0,
       "orientation": "horizontal",
       "style": "IPY_MODEL_593c4d74ad3a4e17bc0cf16334c11c0d",
       "value": 231508
      }
     },
     "625fd8bbb9804705824848166a28c75b": {
      "model_module": "@jupyter-widgets/controls",
      "model_module_version": "1.5.0",
      "model_name": "FloatProgressModel",
      "state": {
       "_dom_classes": [],
       "_model_module": "@jupyter-widgets/controls",
       "_model_module_version": "1.5.0",
       "_model_name": "FloatProgressModel",
       "_view_count": null,
       "_view_module": "@jupyter-widgets/controls",
       "_view_module_version": "1.5.0",
       "_view_name": "ProgressView",
       "bar_style": "success",
       "description": "",
       "description_tooltip": null,
       "layout": "IPY_MODEL_93205a5dd436465181d1e23a4bf8f9f6",
       "max": 440512299,
       "min": 0,
       "orientation": "horizontal",
       "style": "IPY_MODEL_9d2ad950ec0b4ebbbbe6d19ac2c60ba8",
       "value": 440512299
      }
     },
     "638e4d42fa8f46f9bbf95ce128a0adcd": {
      "model_module": "@jupyter-widgets/controls",
      "model_module_version": "1.5.0",
      "model_name": "FloatProgressModel",
      "state": {
       "_dom_classes": [],
       "_model_module": "@jupyter-widgets/controls",
       "_model_module_version": "1.5.0",
       "_model_name": "FloatProgressModel",
       "_view_count": null,
       "_view_module": "@jupyter-widgets/controls",
       "_view_module_version": "1.5.0",
       "_view_name": "ProgressView",
       "bar_style": "success",
       "description": "",
       "description_tooltip": null,
       "layout": "IPY_MODEL_2412eb28a3c840c2832b94100b12448c",
       "max": 433,
       "min": 0,
       "orientation": "horizontal",
       "style": "IPY_MODEL_c2b02a13c5a040cba5c81effbe20077d",
       "value": 433
      }
     },
     "67a327736a2140df8af6ce4c3f98e443": {
      "model_module": "@jupyter-widgets/controls",
      "model_module_version": "1.5.0",
      "model_name": "DescriptionStyleModel",
      "state": {
       "_model_module": "@jupyter-widgets/controls",
       "_model_module_version": "1.5.0",
       "_model_name": "DescriptionStyleModel",
       "_view_count": null,
       "_view_module": "@jupyter-widgets/base",
       "_view_module_version": "1.2.0",
       "_view_name": "StyleView",
       "description_width": ""
      }
     },
     "69e25bbc4e0c4e6ebdf067035f08041c": {
      "model_module": "@jupyter-widgets/controls",
      "model_module_version": "1.5.0",
      "model_name": "HTMLModel",
      "state": {
       "_dom_classes": [],
       "_model_module": "@jupyter-widgets/controls",
       "_model_module_version": "1.5.0",
       "_model_name": "HTMLModel",
       "_view_count": null,
       "_view_module": "@jupyter-widgets/controls",
       "_view_module_version": "1.5.0",
       "_view_name": "HTMLView",
       "description": "",
       "description_tooltip": null,
       "layout": "IPY_MODEL_1b5e57a54c7d4f3782ad6f1e2b96aa5d",
       "placeholder": "​",
       "style": "IPY_MODEL_2a04432e1bcf4d559cb604619c77144a",
       "value": " 232k/232k [00:00&lt;00:00, 1.36MB/s]"
      }
     },
     "6b1516687a8a45a1b65e09500ed2d62b": {
      "model_module": "@jupyter-widgets/controls",
      "model_module_version": "1.5.0",
      "model_name": "ProgressStyleModel",
      "state": {
       "_model_module": "@jupyter-widgets/controls",
       "_model_module_version": "1.5.0",
       "_model_name": "ProgressStyleModel",
       "_view_count": null,
       "_view_module": "@jupyter-widgets/base",
       "_view_module_version": "1.2.0",
       "_view_name": "StyleView",
       "bar_color": null,
       "description_width": ""
      }
     },
     "76164872e8604ae2bf8ead8f299e71ad": {
      "model_module": "@jupyter-widgets/base",
      "model_module_version": "1.2.0",
      "model_name": "LayoutModel",
      "state": {
       "_model_module": "@jupyter-widgets/base",
       "_model_module_version": "1.2.0",
       "_model_name": "LayoutModel",
       "_view_count": null,
       "_view_module": "@jupyter-widgets/base",
       "_view_module_version": "1.2.0",
       "_view_name": "LayoutView",
       "align_content": null,
       "align_items": null,
       "align_self": null,
       "border": null,
       "bottom": null,
       "display": null,
       "flex": null,
       "flex_flow": null,
       "grid_area": null,
       "grid_auto_columns": null,
       "grid_auto_flow": null,
       "grid_auto_rows": null,
       "grid_column": null,
       "grid_gap": null,
       "grid_row": null,
       "grid_template_areas": null,
       "grid_template_columns": null,
       "grid_template_rows": null,
       "height": null,
       "justify_content": null,
       "justify_items": null,
       "left": null,
       "margin": null,
       "max_height": null,
       "max_width": null,
       "min_height": null,
       "min_width": null,
       "object_fit": null,
       "object_position": null,
       "order": null,
       "overflow": null,
       "overflow_x": null,
       "overflow_y": null,
       "padding": null,
       "right": null,
       "top": null,
       "visibility": null,
       "width": null
      }
     },
     "78e994824945425bb9618401ba93d88a": {
      "model_module": "@jupyter-widgets/controls",
      "model_module_version": "1.5.0",
      "model_name": "DescriptionStyleModel",
      "state": {
       "_model_module": "@jupyter-widgets/controls",
       "_model_module_version": "1.5.0",
       "_model_name": "DescriptionStyleModel",
       "_view_count": null,
       "_view_module": "@jupyter-widgets/base",
       "_view_module_version": "1.2.0",
       "_view_name": "StyleView",
       "description_width": ""
      }
     },
     "815145e767744743abf918752b7b9b8a": {
      "model_module": "@jupyter-widgets/base",
      "model_module_version": "1.2.0",
      "model_name": "LayoutModel",
      "state": {
       "_model_module": "@jupyter-widgets/base",
       "_model_module_version": "1.2.0",
       "_model_name": "LayoutModel",
       "_view_count": null,
       "_view_module": "@jupyter-widgets/base",
       "_view_module_version": "1.2.0",
       "_view_name": "LayoutView",
       "align_content": null,
       "align_items": null,
       "align_self": null,
       "border": null,
       "bottom": null,
       "display": null,
       "flex": null,
       "flex_flow": null,
       "grid_area": null,
       "grid_auto_columns": null,
       "grid_auto_flow": null,
       "grid_auto_rows": null,
       "grid_column": null,
       "grid_gap": null,
       "grid_row": null,
       "grid_template_areas": null,
       "grid_template_columns": null,
       "grid_template_rows": null,
       "height": null,
       "justify_content": null,
       "justify_items": null,
       "left": null,
       "margin": null,
       "max_height": null,
       "max_width": null,
       "min_height": null,
       "min_width": null,
       "object_fit": null,
       "object_position": null,
       "order": null,
       "overflow": null,
       "overflow_x": null,
       "overflow_y": null,
       "padding": null,
       "right": null,
       "top": null,
       "visibility": null,
       "width": null
      }
     },
     "8410677007744f96ba7ea37012096c8a": {
      "model_module": "@jupyter-widgets/controls",
      "model_module_version": "1.5.0",
      "model_name": "DescriptionStyleModel",
      "state": {
       "_model_module": "@jupyter-widgets/controls",
       "_model_module_version": "1.5.0",
       "_model_name": "DescriptionStyleModel",
       "_view_count": null,
       "_view_module": "@jupyter-widgets/base",
       "_view_module_version": "1.2.0",
       "_view_name": "StyleView",
       "description_width": ""
      }
     },
     "88d6000486fe47c6b5e6a81928062ca2": {
      "model_module": "@jupyter-widgets/controls",
      "model_module_version": "1.5.0",
      "model_name": "HBoxModel",
      "state": {
       "_dom_classes": [],
       "_model_module": "@jupyter-widgets/controls",
       "_model_module_version": "1.5.0",
       "_model_name": "HBoxModel",
       "_view_count": null,
       "_view_module": "@jupyter-widgets/controls",
       "_view_module_version": "1.5.0",
       "_view_name": "HBoxView",
       "box_style": "",
       "children": [
        "IPY_MODEL_2f5f302e3fa3479ab550591e97d1a50e",
        "IPY_MODEL_6216c4915c364906812d1f6990167bc8",
        "IPY_MODEL_69e25bbc4e0c4e6ebdf067035f08041c"
       ],
       "layout": "IPY_MODEL_815145e767744743abf918752b7b9b8a"
      }
     },
     "8a0c365bcdf5475580c4a4cbc71aabe5": {
      "model_module": "@jupyter-widgets/controls",
      "model_module_version": "1.5.0",
      "model_name": "HTMLModel",
      "state": {
       "_dom_classes": [],
       "_model_module": "@jupyter-widgets/controls",
       "_model_module_version": "1.5.0",
       "_model_name": "HTMLModel",
       "_view_count": null,
       "_view_module": "@jupyter-widgets/controls",
       "_view_module_version": "1.5.0",
       "_view_name": "HTMLView",
       "description": "",
       "description_tooltip": null,
       "layout": "IPY_MODEL_9cb4f14153874e5c80e6a1ea4ce50270",
       "placeholder": "​",
       "style": "IPY_MODEL_0ac628c44282461c9a54ec818d6f1515",
       "value": "Downloading: 100%"
      }
     },
     "8b4612f8f0f148a28b781e1a749189cd": {
      "model_module": "@jupyter-widgets/controls",
      "model_module_version": "1.5.0",
      "model_name": "ProgressStyleModel",
      "state": {
       "_model_module": "@jupyter-widgets/controls",
       "_model_module_version": "1.5.0",
       "_model_name": "ProgressStyleModel",
       "_view_count": null,
       "_view_module": "@jupyter-widgets/base",
       "_view_module_version": "1.2.0",
       "_view_name": "StyleView",
       "bar_color": null,
       "description_width": ""
      }
     },
     "8b9e29302f2f4fa79a29146744347698": {
      "model_module": "@jupyter-widgets/controls",
      "model_module_version": "1.5.0",
      "model_name": "FloatProgressModel",
      "state": {
       "_dom_classes": [],
       "_model_module": "@jupyter-widgets/controls",
       "_model_module_version": "1.5.0",
       "_model_name": "FloatProgressModel",
       "_view_count": null,
       "_view_module": "@jupyter-widgets/controls",
       "_view_module_version": "1.5.0",
       "_view_name": "ProgressView",
       "bar_style": "success",
       "description": "",
       "description_tooltip": null,
       "layout": "IPY_MODEL_76164872e8604ae2bf8ead8f299e71ad",
       "max": 231508,
       "min": 0,
       "orientation": "horizontal",
       "style": "IPY_MODEL_8b4612f8f0f148a28b781e1a749189cd",
       "value": 231508
      }
     },
     "901d6982b2254f0a9cc017a7d518a762": {
      "model_module": "@jupyter-widgets/controls",
      "model_module_version": "1.5.0",
      "model_name": "HBoxModel",
      "state": {
       "_dom_classes": [],
       "_model_module": "@jupyter-widgets/controls",
       "_model_module_version": "1.5.0",
       "_model_name": "HBoxModel",
       "_view_count": null,
       "_view_module": "@jupyter-widgets/controls",
       "_view_module_version": "1.5.0",
       "_view_name": "HBoxView",
       "box_style": "",
       "children": [
        "IPY_MODEL_1f5405d12f1e4e80b20b9d98d7c64fa2",
        "IPY_MODEL_625fd8bbb9804705824848166a28c75b",
        "IPY_MODEL_fe828b2163f147b4827fe8a47330c5d0"
       ],
       "layout": "IPY_MODEL_ba7bcf8957584f31b88043f2424188d0"
      }
     },
     "90cb7eb811634dbf864d6baadcedca12": {
      "model_module": "@jupyter-widgets/base",
      "model_module_version": "1.2.0",
      "model_name": "LayoutModel",
      "state": {
       "_model_module": "@jupyter-widgets/base",
       "_model_module_version": "1.2.0",
       "_model_name": "LayoutModel",
       "_view_count": null,
       "_view_module": "@jupyter-widgets/base",
       "_view_module_version": "1.2.0",
       "_view_name": "LayoutView",
       "align_content": null,
       "align_items": null,
       "align_self": null,
       "border": null,
       "bottom": null,
       "display": null,
       "flex": null,
       "flex_flow": null,
       "grid_area": null,
       "grid_auto_columns": null,
       "grid_auto_flow": null,
       "grid_auto_rows": null,
       "grid_column": null,
       "grid_gap": null,
       "grid_row": null,
       "grid_template_areas": null,
       "grid_template_columns": null,
       "grid_template_rows": null,
       "height": null,
       "justify_content": null,
       "justify_items": null,
       "left": null,
       "margin": null,
       "max_height": null,
       "max_width": null,
       "min_height": null,
       "min_width": null,
       "object_fit": null,
       "object_position": null,
       "order": null,
       "overflow": null,
       "overflow_x": null,
       "overflow_y": null,
       "padding": null,
       "right": null,
       "top": null,
       "visibility": null,
       "width": null
      }
     },
     "923060d9d1244d22ba0be9493acc2589": {
      "model_module": "@jupyter-widgets/base",
      "model_module_version": "1.2.0",
      "model_name": "LayoutModel",
      "state": {
       "_model_module": "@jupyter-widgets/base",
       "_model_module_version": "1.2.0",
       "_model_name": "LayoutModel",
       "_view_count": null,
       "_view_module": "@jupyter-widgets/base",
       "_view_module_version": "1.2.0",
       "_view_name": "LayoutView",
       "align_content": null,
       "align_items": null,
       "align_self": null,
       "border": null,
       "bottom": null,
       "display": null,
       "flex": null,
       "flex_flow": null,
       "grid_area": null,
       "grid_auto_columns": null,
       "grid_auto_flow": null,
       "grid_auto_rows": null,
       "grid_column": null,
       "grid_gap": null,
       "grid_row": null,
       "grid_template_areas": null,
       "grid_template_columns": null,
       "grid_template_rows": null,
       "height": null,
       "justify_content": null,
       "justify_items": null,
       "left": null,
       "margin": null,
       "max_height": null,
       "max_width": null,
       "min_height": null,
       "min_width": null,
       "object_fit": null,
       "object_position": null,
       "order": null,
       "overflow": null,
       "overflow_x": null,
       "overflow_y": null,
       "padding": null,
       "right": null,
       "top": null,
       "visibility": null,
       "width": null
      }
     },
     "93205a5dd436465181d1e23a4bf8f9f6": {
      "model_module": "@jupyter-widgets/base",
      "model_module_version": "1.2.0",
      "model_name": "LayoutModel",
      "state": {
       "_model_module": "@jupyter-widgets/base",
       "_model_module_version": "1.2.0",
       "_model_name": "LayoutModel",
       "_view_count": null,
       "_view_module": "@jupyter-widgets/base",
       "_view_module_version": "1.2.0",
       "_view_name": "LayoutView",
       "align_content": null,
       "align_items": null,
       "align_self": null,
       "border": null,
       "bottom": null,
       "display": null,
       "flex": null,
       "flex_flow": null,
       "grid_area": null,
       "grid_auto_columns": null,
       "grid_auto_flow": null,
       "grid_auto_rows": null,
       "grid_column": null,
       "grid_gap": null,
       "grid_row": null,
       "grid_template_areas": null,
       "grid_template_columns": null,
       "grid_template_rows": null,
       "height": null,
       "justify_content": null,
       "justify_items": null,
       "left": null,
       "margin": null,
       "max_height": null,
       "max_width": null,
       "min_height": null,
       "min_width": null,
       "object_fit": null,
       "object_position": null,
       "order": null,
       "overflow": null,
       "overflow_x": null,
       "overflow_y": null,
       "padding": null,
       "right": null,
       "top": null,
       "visibility": null,
       "width": null
      }
     },
     "953960ddfff24662bf679722aa8ee0a4": {
      "model_module": "@jupyter-widgets/controls",
      "model_module_version": "1.5.0",
      "model_name": "HTMLModel",
      "state": {
       "_dom_classes": [],
       "_model_module": "@jupyter-widgets/controls",
       "_model_module_version": "1.5.0",
       "_model_name": "HTMLModel",
       "_view_count": null,
       "_view_module": "@jupyter-widgets/controls",
       "_view_module_version": "1.5.0",
       "_view_name": "HTMLView",
       "description": "",
       "description_tooltip": null,
       "layout": "IPY_MODEL_3415413827ed459fa060488322dd2f13",
       "placeholder": "​",
       "style": "IPY_MODEL_d8ab269264a04929a6b7d9924b03844c",
       "value": "Downloading: 100%"
      }
     },
     "96fde67efc5d465280a604ee004e317f": {
      "model_module": "@jupyter-widgets/controls",
      "model_module_version": "1.5.0",
      "model_name": "FloatProgressModel",
      "state": {
       "_dom_classes": [],
       "_model_module": "@jupyter-widgets/controls",
       "_model_module_version": "1.5.0",
       "_model_name": "FloatProgressModel",
       "_view_count": null,
       "_view_module": "@jupyter-widgets/controls",
       "_view_module_version": "1.5.0",
       "_view_name": "ProgressView",
       "bar_style": "success",
       "description": "",
       "description_tooltip": null,
       "layout": "IPY_MODEL_ddcdb19171e34af09583bcf9f5102c65",
       "max": 313,
       "min": 0,
       "orientation": "horizontal",
       "style": "IPY_MODEL_6b1516687a8a45a1b65e09500ed2d62b",
       "value": 313
      }
     },
     "9cb4f14153874e5c80e6a1ea4ce50270": {
      "model_module": "@jupyter-widgets/base",
      "model_module_version": "1.2.0",
      "model_name": "LayoutModel",
      "state": {
       "_model_module": "@jupyter-widgets/base",
       "_model_module_version": "1.2.0",
       "_model_name": "LayoutModel",
       "_view_count": null,
       "_view_module": "@jupyter-widgets/base",
       "_view_module_version": "1.2.0",
       "_view_name": "LayoutView",
       "align_content": null,
       "align_items": null,
       "align_self": null,
       "border": null,
       "bottom": null,
       "display": null,
       "flex": null,
       "flex_flow": null,
       "grid_area": null,
       "grid_auto_columns": null,
       "grid_auto_flow": null,
       "grid_auto_rows": null,
       "grid_column": null,
       "grid_gap": null,
       "grid_row": null,
       "grid_template_areas": null,
       "grid_template_columns": null,
       "grid_template_rows": null,
       "height": null,
       "justify_content": null,
       "justify_items": null,
       "left": null,
       "margin": null,
       "max_height": null,
       "max_width": null,
       "min_height": null,
       "min_width": null,
       "object_fit": null,
       "object_position": null,
       "order": null,
       "overflow": null,
       "overflow_x": null,
       "overflow_y": null,
       "padding": null,
       "right": null,
       "top": null,
       "visibility": null,
       "width": null
      }
     },
     "9d2ad950ec0b4ebbbbe6d19ac2c60ba8": {
      "model_module": "@jupyter-widgets/controls",
      "model_module_version": "1.5.0",
      "model_name": "ProgressStyleModel",
      "state": {
       "_model_module": "@jupyter-widgets/controls",
       "_model_module_version": "1.5.0",
       "_model_name": "ProgressStyleModel",
       "_view_count": null,
       "_view_module": "@jupyter-widgets/base",
       "_view_module_version": "1.2.0",
       "_view_name": "StyleView",
       "bar_color": null,
       "description_width": ""
      }
     },
     "9ff4494b3e6f4b979a3d26a001cce99f": {
      "model_module": "@jupyter-widgets/controls",
      "model_module_version": "1.5.0",
      "model_name": "HTMLModel",
      "state": {
       "_dom_classes": [],
       "_model_module": "@jupyter-widgets/controls",
       "_model_module_version": "1.5.0",
       "_model_name": "HTMLModel",
       "_view_count": null,
       "_view_module": "@jupyter-widgets/controls",
       "_view_module_version": "1.5.0",
       "_view_name": "HTMLView",
       "description": "",
       "description_tooltip": null,
       "layout": "IPY_MODEL_ce325f0142b04cfa9f01cf2ab62540b6",
       "placeholder": "​",
       "style": "IPY_MODEL_5d65986372c14374b700f985ceb1c81b",
       "value": " 466k/466k [00:00&lt;00:00, 659kB/s]"
      }
     },
     "a626d4dcb02c43a9bcc40b27a0e6e53b": {
      "model_module": "@jupyter-widgets/controls",
      "model_module_version": "1.5.0",
      "model_name": "ProgressStyleModel",
      "state": {
       "_model_module": "@jupyter-widgets/controls",
       "_model_module_version": "1.5.0",
       "_model_name": "ProgressStyleModel",
       "_view_count": null,
       "_view_module": "@jupyter-widgets/base",
       "_view_module_version": "1.2.0",
       "_view_name": "StyleView",
       "bar_color": null,
       "description_width": ""
      }
     },
     "b4fea5b63f1f4659903a4fb07a34fead": {
      "model_module": "@jupyter-widgets/controls",
      "model_module_version": "1.5.0",
      "model_name": "HBoxModel",
      "state": {
       "_dom_classes": [],
       "_model_module": "@jupyter-widgets/controls",
       "_model_module_version": "1.5.0",
       "_model_name": "HBoxModel",
       "_view_count": null,
       "_view_module": "@jupyter-widgets/controls",
       "_view_module_version": "1.5.0",
       "_view_name": "HBoxView",
       "box_style": "",
       "children": [
        "IPY_MODEL_5ee71f08960e42539def70bf288403d3",
        "IPY_MODEL_638e4d42fa8f46f9bbf95ce128a0adcd",
        "IPY_MODEL_1f80460556534fff9910f0eec9f5650c"
       ],
       "layout": "IPY_MODEL_c803337ba145443f91ce3f74da963656"
      }
     },
     "b60dcd8cf3aa4144af7c0ceaa2e8986b": {
      "model_module": "@jupyter-widgets/base",
      "model_module_version": "1.2.0",
      "model_name": "LayoutModel",
      "state": {
       "_model_module": "@jupyter-widgets/base",
       "_model_module_version": "1.2.0",
       "_model_name": "LayoutModel",
       "_view_count": null,
       "_view_module": "@jupyter-widgets/base",
       "_view_module_version": "1.2.0",
       "_view_name": "LayoutView",
       "align_content": null,
       "align_items": null,
       "align_self": null,
       "border": null,
       "bottom": null,
       "display": null,
       "flex": null,
       "flex_flow": null,
       "grid_area": null,
       "grid_auto_columns": null,
       "grid_auto_flow": null,
       "grid_auto_rows": null,
       "grid_column": null,
       "grid_gap": null,
       "grid_row": null,
       "grid_template_areas": null,
       "grid_template_columns": null,
       "grid_template_rows": null,
       "height": null,
       "justify_content": null,
       "justify_items": null,
       "left": null,
       "margin": null,
       "max_height": null,
       "max_width": null,
       "min_height": null,
       "min_width": null,
       "object_fit": null,
       "object_position": null,
       "order": null,
       "overflow": null,
       "overflow_x": null,
       "overflow_y": null,
       "padding": null,
       "right": null,
       "top": null,
       "visibility": null,
       "width": null
      }
     },
     "ba7bcf8957584f31b88043f2424188d0": {
      "model_module": "@jupyter-widgets/base",
      "model_module_version": "1.2.0",
      "model_name": "LayoutModel",
      "state": {
       "_model_module": "@jupyter-widgets/base",
       "_model_module_version": "1.2.0",
       "_model_name": "LayoutModel",
       "_view_count": null,
       "_view_module": "@jupyter-widgets/base",
       "_view_module_version": "1.2.0",
       "_view_name": "LayoutView",
       "align_content": null,
       "align_items": null,
       "align_self": null,
       "border": null,
       "bottom": null,
       "display": null,
       "flex": null,
       "flex_flow": null,
       "grid_area": null,
       "grid_auto_columns": null,
       "grid_auto_flow": null,
       "grid_auto_rows": null,
       "grid_column": null,
       "grid_gap": null,
       "grid_row": null,
       "grid_template_areas": null,
       "grid_template_columns": null,
       "grid_template_rows": null,
       "height": null,
       "justify_content": null,
       "justify_items": null,
       "left": null,
       "margin": null,
       "max_height": null,
       "max_width": null,
       "min_height": null,
       "min_width": null,
       "object_fit": null,
       "object_position": null,
       "order": null,
       "overflow": null,
       "overflow_x": null,
       "overflow_y": null,
       "padding": null,
       "right": null,
       "top": null,
       "visibility": null,
       "width": null
      }
     },
     "c0f9a0c80d1c427484515855b53d72ba": {
      "model_module": "@jupyter-widgets/controls",
      "model_module_version": "1.5.0",
      "model_name": "HTMLModel",
      "state": {
       "_dom_classes": [],
       "_model_module": "@jupyter-widgets/controls",
       "_model_module_version": "1.5.0",
       "_model_name": "HTMLModel",
       "_view_count": null,
       "_view_module": "@jupyter-widgets/controls",
       "_view_module_version": "1.5.0",
       "_view_name": "HTMLView",
       "description": "",
       "description_tooltip": null,
       "layout": "IPY_MODEL_90cb7eb811634dbf864d6baadcedca12",
       "placeholder": "​",
       "style": "IPY_MODEL_c2d87044fe424a5083468d21c46a1178",
       "value": " 440M/440M [00:11&lt;00:00, 38.1MB/s]"
      }
     },
     "c2b02a13c5a040cba5c81effbe20077d": {
      "model_module": "@jupyter-widgets/controls",
      "model_module_version": "1.5.0",
      "model_name": "ProgressStyleModel",
      "state": {
       "_model_module": "@jupyter-widgets/controls",
       "_model_module_version": "1.5.0",
       "_model_name": "ProgressStyleModel",
       "_view_count": null,
       "_view_module": "@jupyter-widgets/base",
       "_view_module_version": "1.2.0",
       "_view_name": "StyleView",
       "bar_color": null,
       "description_width": ""
      }
     },
     "c2d87044fe424a5083468d21c46a1178": {
      "model_module": "@jupyter-widgets/controls",
      "model_module_version": "1.5.0",
      "model_name": "DescriptionStyleModel",
      "state": {
       "_model_module": "@jupyter-widgets/controls",
       "_model_module_version": "1.5.0",
       "_model_name": "DescriptionStyleModel",
       "_view_count": null,
       "_view_module": "@jupyter-widgets/base",
       "_view_module_version": "1.2.0",
       "_view_name": "StyleView",
       "description_width": ""
      }
     },
     "c3d7993ca8e14350b1303a958e3d7a96": {
      "model_module": "@jupyter-widgets/base",
      "model_module_version": "1.2.0",
      "model_name": "LayoutModel",
      "state": {
       "_model_module": "@jupyter-widgets/base",
       "_model_module_version": "1.2.0",
       "_model_name": "LayoutModel",
       "_view_count": null,
       "_view_module": "@jupyter-widgets/base",
       "_view_module_version": "1.2.0",
       "_view_name": "LayoutView",
       "align_content": null,
       "align_items": null,
       "align_self": null,
       "border": null,
       "bottom": null,
       "display": null,
       "flex": null,
       "flex_flow": null,
       "grid_area": null,
       "grid_auto_columns": null,
       "grid_auto_flow": null,
       "grid_auto_rows": null,
       "grid_column": null,
       "grid_gap": null,
       "grid_row": null,
       "grid_template_areas": null,
       "grid_template_columns": null,
       "grid_template_rows": null,
       "height": null,
       "justify_content": null,
       "justify_items": null,
       "left": null,
       "margin": null,
       "max_height": null,
       "max_width": null,
       "min_height": null,
       "min_width": null,
       "object_fit": null,
       "object_position": null,
       "order": null,
       "overflow": null,
       "overflow_x": null,
       "overflow_y": null,
       "padding": null,
       "right": null,
       "top": null,
       "visibility": null,
       "width": null
      }
     },
     "c79c7941cea441df8f50e42cb6c49360": {
      "model_module": "@jupyter-widgets/controls",
      "model_module_version": "1.5.0",
      "model_name": "HTMLModel",
      "state": {
       "_dom_classes": [],
       "_model_module": "@jupyter-widgets/controls",
       "_model_module_version": "1.5.0",
       "_model_name": "HTMLModel",
       "_view_count": null,
       "_view_module": "@jupyter-widgets/controls",
       "_view_module_version": "1.5.0",
       "_view_name": "HTMLView",
       "description": "",
       "description_tooltip": null,
       "layout": "IPY_MODEL_d47bd5e67dd048f0b79ae3fa16ec720f",
       "placeholder": "​",
       "style": "IPY_MODEL_6088d7cb7a7545b19e3fbe57b8453524",
       "value": " 313/313 [00:00&lt;00:00, 8.48kB/s]"
      }
     },
     "c803337ba145443f91ce3f74da963656": {
      "model_module": "@jupyter-widgets/base",
      "model_module_version": "1.2.0",
      "model_name": "LayoutModel",
      "state": {
       "_model_module": "@jupyter-widgets/base",
       "_model_module_version": "1.2.0",
       "_model_name": "LayoutModel",
       "_view_count": null,
       "_view_module": "@jupyter-widgets/base",
       "_view_module_version": "1.2.0",
       "_view_name": "LayoutView",
       "align_content": null,
       "align_items": null,
       "align_self": null,
       "border": null,
       "bottom": null,
       "display": null,
       "flex": null,
       "flex_flow": null,
       "grid_area": null,
       "grid_auto_columns": null,
       "grid_auto_flow": null,
       "grid_auto_rows": null,
       "grid_column": null,
       "grid_gap": null,
       "grid_row": null,
       "grid_template_areas": null,
       "grid_template_columns": null,
       "grid_template_rows": null,
       "height": null,
       "justify_content": null,
       "justify_items": null,
       "left": null,
       "margin": null,
       "max_height": null,
       "max_width": null,
       "min_height": null,
       "min_width": null,
       "object_fit": null,
       "object_position": null,
       "order": null,
       "overflow": null,
       "overflow_x": null,
       "overflow_y": null,
       "padding": null,
       "right": null,
       "top": null,
       "visibility": null,
       "width": null
      }
     },
     "cc682d441d0f4155a58b781759c357d7": {
      "model_module": "@jupyter-widgets/controls",
      "model_module_version": "1.5.0",
      "model_name": "FloatProgressModel",
      "state": {
       "_dom_classes": [],
       "_model_module": "@jupyter-widgets/controls",
       "_model_module_version": "1.5.0",
       "_model_name": "FloatProgressModel",
       "_view_count": null,
       "_view_module": "@jupyter-widgets/controls",
       "_view_module_version": "1.5.0",
       "_view_name": "ProgressView",
       "bar_style": "success",
       "description": "",
       "description_tooltip": null,
       "layout": "IPY_MODEL_231ec84e46464e2a8ccbe69084127b93",
       "max": 440473133,
       "min": 0,
       "orientation": "horizontal",
       "style": "IPY_MODEL_a626d4dcb02c43a9bcc40b27a0e6e53b",
       "value": 440473133
      }
     },
     "ce325f0142b04cfa9f01cf2ab62540b6": {
      "model_module": "@jupyter-widgets/base",
      "model_module_version": "1.2.0",
      "model_name": "LayoutModel",
      "state": {
       "_model_module": "@jupyter-widgets/base",
       "_model_module_version": "1.2.0",
       "_model_name": "LayoutModel",
       "_view_count": null,
       "_view_module": "@jupyter-widgets/base",
       "_view_module_version": "1.2.0",
       "_view_name": "LayoutView",
       "align_content": null,
       "align_items": null,
       "align_self": null,
       "border": null,
       "bottom": null,
       "display": null,
       "flex": null,
       "flex_flow": null,
       "grid_area": null,
       "grid_auto_columns": null,
       "grid_auto_flow": null,
       "grid_auto_rows": null,
       "grid_column": null,
       "grid_gap": null,
       "grid_row": null,
       "grid_template_areas": null,
       "grid_template_columns": null,
       "grid_template_rows": null,
       "height": null,
       "justify_content": null,
       "justify_items": null,
       "left": null,
       "margin": null,
       "max_height": null,
       "max_width": null,
       "min_height": null,
       "min_width": null,
       "object_fit": null,
       "object_position": null,
       "order": null,
       "overflow": null,
       "overflow_x": null,
       "overflow_y": null,
       "padding": null,
       "right": null,
       "top": null,
       "visibility": null,
       "width": null
      }
     },
     "cf39d1611bd34cf3aea1d815ac90d212": {
      "model_module": "@jupyter-widgets/controls",
      "model_module_version": "1.5.0",
      "model_name": "HBoxModel",
      "state": {
       "_dom_classes": [],
       "_model_module": "@jupyter-widgets/controls",
       "_model_module_version": "1.5.0",
       "_model_name": "HBoxModel",
       "_view_count": null,
       "_view_module": "@jupyter-widgets/controls",
       "_view_module_version": "1.5.0",
       "_view_name": "HBoxView",
       "box_style": "",
       "children": [
        "IPY_MODEL_953960ddfff24662bf679722aa8ee0a4",
        "IPY_MODEL_96fde67efc5d465280a604ee004e317f",
        "IPY_MODEL_c79c7941cea441df8f50e42cb6c49360"
       ],
       "layout": "IPY_MODEL_e2b4d39fbabd440f9905807e1a92254b"
      }
     },
     "d175729d520144dca7ff723246b7a2d9": {
      "model_module": "@jupyter-widgets/controls",
      "model_module_version": "1.5.0",
      "model_name": "HBoxModel",
      "state": {
       "_dom_classes": [],
       "_model_module": "@jupyter-widgets/controls",
       "_model_module_version": "1.5.0",
       "_model_name": "HBoxModel",
       "_view_count": null,
       "_view_module": "@jupyter-widgets/controls",
       "_view_module_version": "1.5.0",
       "_view_name": "HBoxView",
       "box_style": "",
       "children": [
        "IPY_MODEL_f924ede40f5346a19b3b9c0406ffc391",
        "IPY_MODEL_cc682d441d0f4155a58b781759c357d7",
        "IPY_MODEL_c0f9a0c80d1c427484515855b53d72ba"
       ],
       "layout": "IPY_MODEL_c3d7993ca8e14350b1303a958e3d7a96"
      }
     },
     "d47bd5e67dd048f0b79ae3fa16ec720f": {
      "model_module": "@jupyter-widgets/base",
      "model_module_version": "1.2.0",
      "model_name": "LayoutModel",
      "state": {
       "_model_module": "@jupyter-widgets/base",
       "_model_module_version": "1.2.0",
       "_model_name": "LayoutModel",
       "_view_count": null,
       "_view_module": "@jupyter-widgets/base",
       "_view_module_version": "1.2.0",
       "_view_name": "LayoutView",
       "align_content": null,
       "align_items": null,
       "align_self": null,
       "border": null,
       "bottom": null,
       "display": null,
       "flex": null,
       "flex_flow": null,
       "grid_area": null,
       "grid_auto_columns": null,
       "grid_auto_flow": null,
       "grid_auto_rows": null,
       "grid_column": null,
       "grid_gap": null,
       "grid_row": null,
       "grid_template_areas": null,
       "grid_template_columns": null,
       "grid_template_rows": null,
       "height": null,
       "justify_content": null,
       "justify_items": null,
       "left": null,
       "margin": null,
       "max_height": null,
       "max_width": null,
       "min_height": null,
       "min_width": null,
       "object_fit": null,
       "object_position": null,
       "order": null,
       "overflow": null,
       "overflow_x": null,
       "overflow_y": null,
       "padding": null,
       "right": null,
       "top": null,
       "visibility": null,
       "width": null
      }
     },
     "d8ab269264a04929a6b7d9924b03844c": {
      "model_module": "@jupyter-widgets/controls",
      "model_module_version": "1.5.0",
      "model_name": "DescriptionStyleModel",
      "state": {
       "_model_module": "@jupyter-widgets/controls",
       "_model_module_version": "1.5.0",
       "_model_name": "DescriptionStyleModel",
       "_view_count": null,
       "_view_module": "@jupyter-widgets/base",
       "_view_module_version": "1.2.0",
       "_view_name": "StyleView",
       "description_width": ""
      }
     },
     "ddcdb19171e34af09583bcf9f5102c65": {
      "model_module": "@jupyter-widgets/base",
      "model_module_version": "1.2.0",
      "model_name": "LayoutModel",
      "state": {
       "_model_module": "@jupyter-widgets/base",
       "_model_module_version": "1.2.0",
       "_model_name": "LayoutModel",
       "_view_count": null,
       "_view_module": "@jupyter-widgets/base",
       "_view_module_version": "1.2.0",
       "_view_name": "LayoutView",
       "align_content": null,
       "align_items": null,
       "align_self": null,
       "border": null,
       "bottom": null,
       "display": null,
       "flex": null,
       "flex_flow": null,
       "grid_area": null,
       "grid_auto_columns": null,
       "grid_auto_flow": null,
       "grid_auto_rows": null,
       "grid_column": null,
       "grid_gap": null,
       "grid_row": null,
       "grid_template_areas": null,
       "grid_template_columns": null,
       "grid_template_rows": null,
       "height": null,
       "justify_content": null,
       "justify_items": null,
       "left": null,
       "margin": null,
       "max_height": null,
       "max_width": null,
       "min_height": null,
       "min_width": null,
       "object_fit": null,
       "object_position": null,
       "order": null,
       "overflow": null,
       "overflow_x": null,
       "overflow_y": null,
       "padding": null,
       "right": null,
       "top": null,
       "visibility": null,
       "width": null
      }
     },
     "e2b4d39fbabd440f9905807e1a92254b": {
      "model_module": "@jupyter-widgets/base",
      "model_module_version": "1.2.0",
      "model_name": "LayoutModel",
      "state": {
       "_model_module": "@jupyter-widgets/base",
       "_model_module_version": "1.2.0",
       "_model_name": "LayoutModel",
       "_view_count": null,
       "_view_module": "@jupyter-widgets/base",
       "_view_module_version": "1.2.0",
       "_view_name": "LayoutView",
       "align_content": null,
       "align_items": null,
       "align_self": null,
       "border": null,
       "bottom": null,
       "display": null,
       "flex": null,
       "flex_flow": null,
       "grid_area": null,
       "grid_auto_columns": null,
       "grid_auto_flow": null,
       "grid_auto_rows": null,
       "grid_column": null,
       "grid_gap": null,
       "grid_row": null,
       "grid_template_areas": null,
       "grid_template_columns": null,
       "grid_template_rows": null,
       "height": null,
       "justify_content": null,
       "justify_items": null,
       "left": null,
       "margin": null,
       "max_height": null,
       "max_width": null,
       "min_height": null,
       "min_width": null,
       "object_fit": null,
       "object_position": null,
       "order": null,
       "overflow": null,
       "overflow_x": null,
       "overflow_y": null,
       "padding": null,
       "right": null,
       "top": null,
       "visibility": null,
       "width": null
      }
     },
     "f3cb01f3cd704e29bc892caba20a52e2": {
      "model_module": "@jupyter-widgets/controls",
      "model_module_version": "1.5.0",
      "model_name": "HTMLModel",
      "state": {
       "_dom_classes": [],
       "_model_module": "@jupyter-widgets/controls",
       "_model_module_version": "1.5.0",
       "_model_name": "HTMLModel",
       "_view_count": null,
       "_view_module": "@jupyter-widgets/controls",
       "_view_module_version": "1.5.0",
       "_view_name": "HTMLView",
       "description": "",
       "description_tooltip": null,
       "layout": "IPY_MODEL_923060d9d1244d22ba0be9493acc2589",
       "placeholder": "​",
       "style": "IPY_MODEL_14f5421976674a3a9ec702a1e2c61360",
       "value": " 232k/232k [00:00&lt;00:00, 612kB/s]"
      }
     },
     "f6b39dfea3e3451f9bc52bb216fea8da": {
      "model_module": "@jupyter-widgets/base",
      "model_module_version": "1.2.0",
      "model_name": "LayoutModel",
      "state": {
       "_model_module": "@jupyter-widgets/base",
       "_model_module_version": "1.2.0",
       "_model_name": "LayoutModel",
       "_view_count": null,
       "_view_module": "@jupyter-widgets/base",
       "_view_module_version": "1.2.0",
       "_view_name": "LayoutView",
       "align_content": null,
       "align_items": null,
       "align_self": null,
       "border": null,
       "bottom": null,
       "display": null,
       "flex": null,
       "flex_flow": null,
       "grid_area": null,
       "grid_auto_columns": null,
       "grid_auto_flow": null,
       "grid_auto_rows": null,
       "grid_column": null,
       "grid_gap": null,
       "grid_row": null,
       "grid_template_areas": null,
       "grid_template_columns": null,
       "grid_template_rows": null,
       "height": null,
       "justify_content": null,
       "justify_items": null,
       "left": null,
       "margin": null,
       "max_height": null,
       "max_width": null,
       "min_height": null,
       "min_width": null,
       "object_fit": null,
       "object_position": null,
       "order": null,
       "overflow": null,
       "overflow_x": null,
       "overflow_y": null,
       "padding": null,
       "right": null,
       "top": null,
       "visibility": null,
       "width": null
      }
     },
     "f8366bbf84394bbea82ee4ea7ed470cf": {
      "model_module": "@jupyter-widgets/controls",
      "model_module_version": "1.5.0",
      "model_name": "HTMLModel",
      "state": {
       "_dom_classes": [],
       "_model_module": "@jupyter-widgets/controls",
       "_model_module_version": "1.5.0",
       "_model_name": "HTMLModel",
       "_view_count": null,
       "_view_module": "@jupyter-widgets/controls",
       "_view_module_version": "1.5.0",
       "_view_name": "HTMLView",
       "description": "",
       "description_tooltip": null,
       "layout": "IPY_MODEL_20ea717c3d534f1c9b3d3d4b62a7bdf3",
       "placeholder": "​",
       "style": "IPY_MODEL_590cb8e309e84a5389fb34b8d5dd0d17",
       "value": "Downloading: 100%"
      }
     },
     "f845b24703b94874b4de2ba9547e1441": {
      "model_module": "@jupyter-widgets/base",
      "model_module_version": "1.2.0",
      "model_name": "LayoutModel",
      "state": {
       "_model_module": "@jupyter-widgets/base",
       "_model_module_version": "1.2.0",
       "_model_name": "LayoutModel",
       "_view_count": null,
       "_view_module": "@jupyter-widgets/base",
       "_view_module_version": "1.2.0",
       "_view_name": "LayoutView",
       "align_content": null,
       "align_items": null,
       "align_self": null,
       "border": null,
       "bottom": null,
       "display": null,
       "flex": null,
       "flex_flow": null,
       "grid_area": null,
       "grid_auto_columns": null,
       "grid_auto_flow": null,
       "grid_auto_rows": null,
       "grid_column": null,
       "grid_gap": null,
       "grid_row": null,
       "grid_template_areas": null,
       "grid_template_columns": null,
       "grid_template_rows": null,
       "height": null,
       "justify_content": null,
       "justify_items": null,
       "left": null,
       "margin": null,
       "max_height": null,
       "max_width": null,
       "min_height": null,
       "min_width": null,
       "object_fit": null,
       "object_position": null,
       "order": null,
       "overflow": null,
       "overflow_x": null,
       "overflow_y": null,
       "padding": null,
       "right": null,
       "top": null,
       "visibility": null,
       "width": null
      }
     },
     "f924ede40f5346a19b3b9c0406ffc391": {
      "model_module": "@jupyter-widgets/controls",
      "model_module_version": "1.5.0",
      "model_name": "HTMLModel",
      "state": {
       "_dom_classes": [],
       "_model_module": "@jupyter-widgets/controls",
       "_model_module_version": "1.5.0",
       "_model_name": "HTMLModel",
       "_view_count": null,
       "_view_module": "@jupyter-widgets/controls",
       "_view_module_version": "1.5.0",
       "_view_name": "HTMLView",
       "description": "",
       "description_tooltip": null,
       "layout": "IPY_MODEL_15ae0c0464df4247afd4e83dd3aceaf1",
       "placeholder": "​",
       "style": "IPY_MODEL_fa019a3239a244d1948d237974009300",
       "value": "Downloading: 100%"
      }
     },
     "f9c80d38b17e4d1e86589263d8268586": {
      "model_module": "@jupyter-widgets/base",
      "model_module_version": "1.2.0",
      "model_name": "LayoutModel",
      "state": {
       "_model_module": "@jupyter-widgets/base",
       "_model_module_version": "1.2.0",
       "_model_name": "LayoutModel",
       "_view_count": null,
       "_view_module": "@jupyter-widgets/base",
       "_view_module_version": "1.2.0",
       "_view_name": "LayoutView",
       "align_content": null,
       "align_items": null,
       "align_self": null,
       "border": null,
       "bottom": null,
       "display": null,
       "flex": null,
       "flex_flow": null,
       "grid_area": null,
       "grid_auto_columns": null,
       "grid_auto_flow": null,
       "grid_auto_rows": null,
       "grid_column": null,
       "grid_gap": null,
       "grid_row": null,
       "grid_template_areas": null,
       "grid_template_columns": null,
       "grid_template_rows": null,
       "height": null,
       "justify_content": null,
       "justify_items": null,
       "left": null,
       "margin": null,
       "max_height": null,
       "max_width": null,
       "min_height": null,
       "min_width": null,
       "object_fit": null,
       "object_position": null,
       "order": null,
       "overflow": null,
       "overflow_x": null,
       "overflow_y": null,
       "padding": null,
       "right": null,
       "top": null,
       "visibility": null,
       "width": null
      }
     },
     "fa019a3239a244d1948d237974009300": {
      "model_module": "@jupyter-widgets/controls",
      "model_module_version": "1.5.0",
      "model_name": "DescriptionStyleModel",
      "state": {
       "_model_module": "@jupyter-widgets/controls",
       "_model_module_version": "1.5.0",
       "_model_name": "DescriptionStyleModel",
       "_view_count": null,
       "_view_module": "@jupyter-widgets/base",
       "_view_module_version": "1.2.0",
       "_view_name": "StyleView",
       "description_width": ""
      }
     },
     "fe828b2163f147b4827fe8a47330c5d0": {
      "model_module": "@jupyter-widgets/controls",
      "model_module_version": "1.5.0",
      "model_name": "HTMLModel",
      "state": {
       "_dom_classes": [],
       "_model_module": "@jupyter-widgets/controls",
       "_model_module_version": "1.5.0",
       "_model_name": "HTMLModel",
       "_view_count": null,
       "_view_module": "@jupyter-widgets/controls",
       "_view_module_version": "1.5.0",
       "_view_name": "HTMLView",
       "description": "",
       "description_tooltip": null,
       "layout": "IPY_MODEL_3a66e43f32ab4e1a935673c5c670059b",
       "placeholder": "​",
       "style": "IPY_MODEL_78e994824945425bb9618401ba93d88a",
       "value": " 441M/441M [00:11&lt;00:00, 39.8MB/s]"
      }
     },
     "ff1badc41eb84e83bf87af6ca779b5ac": {
      "model_module": "@jupyter-widgets/controls",
      "model_module_version": "1.5.0",
      "model_name": "ProgressStyleModel",
      "state": {
       "_model_module": "@jupyter-widgets/controls",
       "_model_module_version": "1.5.0",
       "_model_name": "ProgressStyleModel",
       "_view_count": null,
       "_view_module": "@jupyter-widgets/base",
       "_view_module_version": "1.2.0",
       "_view_name": "StyleView",
       "bar_color": null,
       "description_width": ""
      }
     }
    },
    "version_major": 2,
    "version_minor": 0
   }
  }
 },
 "nbformat": 4,
 "nbformat_minor": 4
}
